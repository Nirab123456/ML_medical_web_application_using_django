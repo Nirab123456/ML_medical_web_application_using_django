{
 "cells": [
  {
   "cell_type": "code",
   "execution_count": 15,
   "metadata": {},
   "outputs": [
    {
     "name": "stdout",
     "output_type": "stream",
     "text": [
      "warning: Cannot merge binary files: tryagain/nirab/__pycache__/forms.cpython-38.pyc (HEAD vs. 230bea0b5d22158309d287cb302f6bb9a4c7187c)\n",
      "Auto-merging tryagain/nirab/__pycache__/forms.cpython-38.pyc\n",
      "CONFLICT (content): Merge conflict in tryagain/nirab/__pycache__/forms.cpython-38.pyc\n",
      "warning: Cannot merge binary files: tryagain/nirab/__pycache__/urls.cpython-38.pyc (HEAD vs. 230bea0b5d22158309d287cb302f6bb9a4c7187c)\n",
      "Auto-merging tryagain/nirab/__pycache__/urls.cpython-38.pyc\n",
      "CONFLICT (content): Merge conflict in tryagain/nirab/__pycache__/urls.cpython-38.pyc\n",
      "warning: Cannot merge binary files: tryagain/nirab/__pycache__/views.cpython-38.pyc (HEAD vs. 230bea0b5d22158309d287cb302f6bb9a4c7187c)\n",
      "Auto-merging tryagain/nirab/__pycache__/views.cpython-38.pyc\n",
      "CONFLICT (content): Merge conflict in tryagain/nirab/__pycache__/views.cpython-38.pyc\n",
      "Automatic merge failed; fix conflicts and then commit the result.\n"
     ]
    },
    {
     "name": "stderr",
     "output_type": "stream",
     "text": [
      "From https://github.com/Nirab123456/learn_django\n",
      " * branch            Banglaocr  -> FETCH_HEAD\n",
      "   30e47a4..230bea0  Banglaocr  -> origin/Banglaocr\n"
     ]
    }
   ],
   "source": [
    "!git pull origin Banglaocr\n",
    "\n"
   ]
  },
  {
   "cell_type": "code",
   "execution_count": 7,
   "metadata": {},
   "outputs": [
    {
     "name": "stderr",
     "output_type": "stream",
     "text": [
      "warning: in the working copy of 'git.ipynb', LF will be replaced by CRLF the next time Git touches it\n",
      "warning: in the working copy of 'tryagain/nirab/templates/add_or_update_record.html', LF will be replaced by CRLF the next time Git touches it\n",
      "warning: in the working copy of 'tryagain/about_me/css/pricing_tables.css', LF will be replaced by CRLF the next time Git touches it\n",
      "warning: in the working copy of 'tryagain/nirab/BACK_UP/add_or_update_record copy.html', LF will be replaced by CRLF the next time Git touches it\n"
     ]
    },
    {
     "name": "stdout",
     "output_type": "stream",
     "text": [
      "[rifatul_islam_V1 8b3d4fa] working with APPS( changed apps.html to base_ocr.html,have changed bangla_ocr.py and eng_ocr.py according to the new base_ocr.html)\n",
      " 31 files changed, 1194 insertions(+), 52 deletions(-)\n",
      " create mode 100644 tryagain/about_me/css/pricing_tables.css\n",
      " create mode 100644 tryagain/media/04b4531c-1d76-4291-bda6-7c302f1c3338.txt\n",
      " create mode 100644 tryagain/media/0a17814a-e3ea-477e-bb21-fc2c3f887655.txt\n",
      " create mode 100644 tryagain/media/0ace3a29-4589-48e3-b30f-574e11988c62.txt\n",
      " create mode 100644 tryagain/media/0d46da16-5e71-4e06-949c-479d3b8dc948.txt\n",
      " create mode 100644 tryagain/media/0faa394e-e660-4bdb-9324-367b4853a504.txt\n",
      " create mode 100644 tryagain/media/2f56b6f7-1576-4b3f-bccb-5a24d8df8953.txt\n",
      " create mode 100644 tryagain/media/3b600810-ebc8-42a0-86a0-42a5a0791d6c.txt\n",
      " create mode 100644 tryagain/media/3e87ccd2-ba52-4faa-bc1c-5de90bc079c4.txt\n",
      " create mode 100644 tryagain/media/4c26242b-5a4f-418e-a6d2-727ae7a92ebe.txt\n",
      " create mode 100644 tryagain/media/58a71a25-14d6-44b9-ae9e-78bc8a7a59d0.txt\n",
      " create mode 100644 tryagain/media/635f6c5c-cc7c-4c05-9213-d58b5606b6aa.txt\n",
      " create mode 100644 tryagain/media/df8eb057-1a4d-437d-afba-ac5f7fad5b10.txt\n",
      " create mode 100644 tryagain/media/f9efe183-a97e-40e5-a71a-829f41d2801a.txt\n",
      " delete mode 100644 tryagain/media/images/ENG_IMAGE.jpg\n",
      " create mode 100644 tryagain/media/images/bangla_8AwaTeN.jpg\n",
      " create mode 100644 tryagain/nirab/BACK_UP/add_or_update_record copy.html\n",
      " create mode 100644 tryagain/nirab/BACK_UP/bangla_ocr.py\n",
      " create mode 100644 tryagain/nirab/BACK_UP/eng_ocr.py\n",
      " create mode 100644 tryagain/nirab/templates/base_ocr.html\n"
     ]
    },
    {
     "name": "stderr",
     "output_type": "stream",
     "text": [
      "To https://github.com/Nirab123456/learn_django.git\n",
      "   75bf657..8b3d4fa  rifatul_islam_V1 -> rifatul_islam_V1\n"
     ]
    }
   ],
   "source": [
    "!git add .\n",
    "!git commit -m \"working with APPS( changed apps.html to base_ocr.html,have changed bangla_ocr.py and eng_ocr.py according to the new base_ocr.html)\"\n",
    "!git push origin rifatul_islam_V1"
   ]
  },
  {
   "cell_type": "code",
   "execution_count": 16,
   "metadata": {},
   "outputs": [
    {
     "name": "stdout",
     "output_type": "stream",
     "text": [
      "On branch Banglaocr\n",
      "You have unmerged paths.\n",
      "  (fix conflicts and run \"git commit\")\n",
      "  (use \"git merge --abort\" to abort the merge)\n",
      "\n",
      "Changes to be committed:\n",
      "\tmodified:   git.ipynb\n",
      "\tnew file:   tryagain/media/053647d1-a547-4a3a-b4db-cea164157661.txt\n",
      "\tnew file:   tryagain/media/05811f1b-ff9b-41a7-b52c-5b1fb4dabff7.txt\n",
      "\tnew file:   tryagain/media/0cbbecc7-70db-475d-bed5-6b8d2649374c.txt\n",
      "\tnew file:   tryagain/media/164e6dac-7329-410c-a37d-ae2be828c735.txt\n",
      "\tnew file:   tryagain/media/1830f24e-76da-4b46-8558-077063287f04.txt\n",
      "\tnew file:   tryagain/media/2694f93c-baa1-4ddf-a2e7-bf1a9080e5bc.txt\n",
      "\tnew file:   tryagain/media/341fa3a9-cae1-43a6-9aa5-5e344bab2c5f.txt\n",
      "\tnew file:   tryagain/media/47bfa35c-3404-4d39-8008-182f61ad9ff0.txt\n",
      "\tnew file:   tryagain/media/525a835b-3ed8-4c99-84d9-5274c56b3fa2.txt\n",
      "\tnew file:   tryagain/media/55a012c6-7c00-4fbe-8aff-7dba39ae9615.txt\n",
      "\tnew file:   tryagain/media/715f4ee0-5c6c-4523-b237-8a886998bd0c.txt\n",
      "\tnew file:   tryagain/media/78bcd794-2628-48fb-8a4d-854e6494c6d1.txt\n",
      "\tnew file:   tryagain/media/7b039dae-7464-4bf2-b2ea-d37caf20d0b9.txt\n",
      "\tnew file:   tryagain/media/c5957ef6-554b-4149-a74d-d97382caf0a3.txt\n",
      "\tnew file:   tryagain/media/dd01525c-248f-4355-bbab-dcc6121ba7a9.txt\n",
      "\tnew file:   tryagain/media/images/bangla.jpg\n",
      "\tnew file:   tryagain/nirab/__pycache__/bangla_ocr.cpython-38.pyc\n",
      "\tnew file:   tryagain/nirab/bangla_ocr.ipynb\n",
      "\tnew file:   tryagain/nirab/bangla_ocr.py\n",
      "\tmodified:   tryagain/nirab/forms.py\n",
      "\tnew file:   tryagain/nirab/templates/bangla_ocr.html\n",
      "\tnew file:   tryagain/nirab/templates/bangla_ocr_result.html\n",
      "\tmodified:   tryagain/nirab/templates/navbar.html\n",
      "\tmodified:   tryagain/nirab/templates/user_profile.html\n",
      "\tmodified:   tryagain/nirab/urls.py\n",
      "\tmodified:   tryagain/nirab/views.py\n",
      "\n",
      "Unmerged paths:\n",
      "  (use \"git add <file>...\" to mark resolution)\n",
      "\tboth modified:   tryagain/nirab/__pycache__/forms.cpython-38.pyc\n",
      "\tboth modified:   tryagain/nirab/__pycache__/urls.cpython-38.pyc\n",
      "\tboth modified:   tryagain/nirab/__pycache__/views.cpython-38.pyc\n",
      "\n",
      "Changes not staged for commit:\n",
      "  (use \"git add <file>...\" to update what will be committed)\n",
      "  (use \"git restore <file>...\" to discard changes in working directory)\n",
      "\tmodified:   tryagain/nirab/__pycache__/bangla_ocr.cpython-38.pyc\n",
      "\n"
     ]
    }
   ],
   "source": [
    "!git status"
   ]
  },
  {
   "cell_type": "code",
   "execution_count": 12,
   "metadata": {},
   "outputs": [],
   "source": [
    "!git add .\n"
   ]
  },
  {
   "cell_type": "code",
   "execution_count": 13,
   "metadata": {},
   "outputs": [
    {
     "name": "stdout",
     "output_type": "stream",
     "text": [
      "On branch Banglaocr\n",
      "nothing to commit, working tree clean\n"
     ]
    }
   ],
   "source": [
    "!git commit -m \"now remaining image count is working\""
   ]
  },
  {
   "cell_type": "code",
   "execution_count": 14,
   "metadata": {},
   "outputs": [
    {
     "name": "stderr",
     "output_type": "stream",
     "text": [
      "To https://github.com/Nirab123456/learn_django.git\n",
      " ! [rejected]        Banglaocr -> Banglaocr (fetch first)\n",
      "error: failed to push some refs to 'https://github.com/Nirab123456/learn_django.git'\n",
      "hint: Updates were rejected because the remote contains work that you do\n",
      "hint: not have locally. This is usually caused by another repository pushing\n",
      "hint: to the same ref. You may want to first integrate the remote changes\n",
      "hint: (e.g., 'git pull ...') before pushing again.\n",
      "hint: See the 'Note about fast-forwards' in 'git push --help' for details.\n"
     ]
    }
   ],
   "source": [
    "\n",
    "!git push origin Banglaocr"
   ]
  },
  {
   "cell_type": "code",
   "execution_count": 3,
   "metadata": {},
   "outputs": [
    {
     "name": "stderr",
     "output_type": "stream",
     "text": [
      "Switched to a new branch 'rifatul_islam_V1'\n"
     ]
    }
   ],
   "source": [
    "!git checkout -b rifatul_islam_V1"
   ]
  },
  {
   "cell_type": "code",
   "execution_count": 1,
   "metadata": {},
   "outputs": [
    {
     "name": "stderr",
     "output_type": "stream",
     "text": [
      "error: pathspec 'Banglaocr_with_bootstrap5' did not match any file(s) known to git\n"
     ]
    }
   ],
   "source": [
    "!git checkout Banglaocr_with_bootstrap5\n"
   ]
  },
  {
   "cell_type": "code",
   "execution_count": 8,
   "metadata": {},
   "outputs": [
    {
     "name": "stderr",
     "output_type": "stream",
     "text": [
      "remote: \n",
      "remote: Create a pull request for 'secondary' on GitHub by visiting:        \n",
      "remote:      https://github.com/Nirab123456/learn_django/pull/new/secondary        \n",
      "remote: \n",
      "To https://github.com/Nirab123456/learn_django.git\n",
      " * [new branch]      secondary -> secondary\n"
     ]
    }
   ],
   "source": [
    "!git push origin secondary\n"
   ]
  },
  {
   "cell_type": "code",
   "execution_count": 11,
   "metadata": {},
   "outputs": [
    {
     "name": "stdout",
     "output_type": "stream",
     "text": [
      "On branch Banglaocr\n",
      "nothing to commit, working tree clean\n"
     ]
    }
   ],
   "source": [
    "!git status"
   ]
  }
 ],
 "metadata": {
  "kernelspec": {
   "display_name": "tf",
   "language": "python",
   "name": "python3"
  },
  "language_info": {
   "codemirror_mode": {
    "name": "ipython",
    "version": 3
   },
   "file_extension": ".py",
   "mimetype": "text/x-python",
   "name": "python",
   "nbconvert_exporter": "python",
   "pygments_lexer": "ipython3",
   "version": "3.8.16"
  },
  "orig_nbformat": 4
 },
 "nbformat": 4,
 "nbformat_minor": 2
}
