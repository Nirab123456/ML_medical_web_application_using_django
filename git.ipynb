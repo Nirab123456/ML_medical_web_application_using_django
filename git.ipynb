{
 "cells": [
  {
   "cell_type": "code",
   "execution_count": null,
   "metadata": {},
   "outputs": [],
   "source": [
    "!git pull origin Banglaocr\n",
    "\n"
   ]
  },
  {
   "cell_type": "code",
   "execution_count": 2,
   "metadata": {},
   "outputs": [
    {
     "name": "stderr",
     "output_type": "stream",
     "text": [
      "Switched to a new branch 'rifatul_islam_v5_refresh'\n"
     ]
    }
   ],
   "source": [
    "!git checkout -b rifatul_islam_v5_refresh"
   ]
  },
  {
   "cell_type": "code",
   "execution_count": 5,
   "metadata": {},
   "outputs": [
    {
     "name": "stderr",
     "output_type": "stream",
     "text": [
      "warning: in the working copy of 'git.ipynb', LF will be replaced by CRLF the next time Git touches it\n",
      "warning: in the working copy of 'tryagain/nirab/templates/trial.html', LF will be replaced by CRLF the next time Git touches it\n"
     ]
    },
    {
     "name": "stdout",
     "output_type": "stream",
     "text": [
      "[rifatul_islam_v5_refresh aaf2d5d] almost fixed the trial page == healtcare page= cvd pred and bmi calc\n",
      " 24 files changed, 12467 insertions(+), 245 deletions(-)\n",
      " create mode 100644 tryagain/main_template/bmi/child_lookup.json\n",
      " create mode 100644 tryagain/main_template/bmi/config.json\n",
      " create mode 100644 tryagain/main_template/bmi/css/bmi-desktop.css\n",
      " create mode 100644 tryagain/main_template/bmi/css/bmi-shared.css\n",
      " create mode 100644 tryagain/main_template/bmi/data.json\n",
      " create mode 100644 tryagain/main_template/bmi/images/alert_sml.png\n",
      " create mode 100644 tryagain/main_template/bmi/images/input_bg.png\n",
      " create mode 100644 tryagain/main_template/bmi/images/plus.png\n",
      " create mode 100644 tryagain/main_template/bmi/images/pointer.png\n",
      " create mode 100644 tryagain/main_template/bmi/images/slider_adult_1.png\n",
      " create mode 100644 tryagain/main_template/bmi/images/slider_child.png\n",
      " create mode 100644 tryagain/main_template/bmi/js/app.main.min.js\n",
      " create mode 100644 tryagain/main_template/bmi/js/inline_launcher.js\n",
      " create mode 100644 tryagain/main_template/bmi/templates/index copy.html\n",
      " create mode 100644 tryagain/main_template/bmi/templates/index.html\n",
      " create mode 100644 tryagain/main_template/bmi/vendor/jquery-3.2.1.min.js\n",
      " create mode 100644 tryagain/main_template/css/heart_bit.css\n",
      " create mode 100644 tryagain/nirab/templates/C_V_D_prediction copy.html\n",
      " create mode 100644 tryagain/nirab/templates/heart_beat.html\n"
     ]
    },
    {
     "name": "stderr",
     "output_type": "stream",
     "text": [
      "remote: \n",
      "remote: GitHub found 25 vulnerabilities on Nirab123456/learn_django's default branch (6 critical, 13 high, 5 moderate, 1 low). To find out more, visit:        \n",
      "remote:      https://github.com/Nirab123456/learn_django/security/dependabot        \n",
      "remote: \n",
      "To https://github.com/Nirab123456/learn_django.git\n",
      "   037d223..aaf2d5d  rifatul_islam_v5_refresh -> rifatul_islam_v5_refresh\n"
     ]
    }
   ],
   "source": [
    "!git add .\n",
    "!git commit -m \"almost fixed the trial page == healtcare page= cvd pred and bmi calc \"\n",
    "!git push origin rifatul_islam_v5_refresh"
   ]
  },
  {
   "cell_type": "code",
   "execution_count": null,
   "metadata": {},
   "outputs": [],
   "source": [
    "!git status"
   ]
  },
  {
   "cell_type": "code",
   "execution_count": null,
   "metadata": {},
   "outputs": [],
   "source": [
    "!git add .\n"
   ]
  },
  {
   "cell_type": "code",
   "execution_count": null,
   "metadata": {},
   "outputs": [],
   "source": [
    "!git commit -m \" \""
   ]
  },
  {
   "cell_type": "code",
   "execution_count": null,
   "metadata": {},
   "outputs": [],
   "source": [
    "\n",
    "!git push origin Banglaocr"
   ]
  },
  {
   "cell_type": "code",
   "execution_count": 7,
   "metadata": {},
   "outputs": [
    {
     "name": "stderr",
     "output_type": "stream",
     "text": [
      "Switched to a new branch 'rifatul_islam_v5_change_theme'\n"
     ]
    }
   ],
   "source": []
  },
  {
   "cell_type": "code",
   "execution_count": null,
   "metadata": {},
   "outputs": [],
   "source": [
    "!git checkout Banglaocr_with_bootstrap5\n"
   ]
  },
  {
   "cell_type": "code",
   "execution_count": null,
   "metadata": {},
   "outputs": [],
   "source": [
    "!git push origin secondary\n"
   ]
  },
  {
   "cell_type": "code",
   "execution_count": null,
   "metadata": {},
   "outputs": [],
   "source": [
    "!git status"
   ]
  }
 ],
 "metadata": {
  "kernelspec": {
   "display_name": "tf",
   "language": "python",
   "name": "python3"
  },
  "language_info": {
   "codemirror_mode": {
    "name": "ipython",
    "version": 3
   },
   "file_extension": ".py",
   "mimetype": "text/x-python",
   "name": "python",
   "nbconvert_exporter": "python",
   "pygments_lexer": "ipython3",
   "version": "3.8.16"
  },
  "orig_nbformat": 4
 },
 "nbformat": 4,
 "nbformat_minor": 2
}
