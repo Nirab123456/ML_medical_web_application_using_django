{
 "cells": [
  {
   "cell_type": "code",
   "execution_count": null,
   "metadata": {},
   "outputs": [],
   "source": [
    "!git pull origin Banglaocr\n",
    "\n"
   ]
  },
  {
   "cell_type": "code",
   "execution_count": 1,
   "metadata": {},
   "outputs": [
    {
     "name": "stderr",
     "output_type": "stream",
     "text": [
      "warning: in the working copy of 'git.ipynb', LF will be replaced by CRLF the next time Git touches it\n"
     ]
    },
    {
     "name": "stdout",
     "output_type": "stream",
     "text": [
      "[rifatul_islam_v5_change_theme 0357ac0] EBG and Bangla OCR working perfectly now  will work with  handwritten text functionality\n",
      " 21 files changed, 612 insertions(+), 65 deletions(-)\n",
      " create mode 100644 tryagain/main_template/images/topics/english_ocr_result_1.jpg\n",
      " create mode 100644 tryagain/media/05a12ab3-a50e-4c81-aa5e-84cb6eaa98b2.txt\n",
      " create mode 100644 tryagain/media/0ad3c14e-7540-4dfa-bfbe-00ff4f61af18.txt\n",
      " create mode 100644 tryagain/media/0c80c812-4834-4bd3-ac15-c0fa82516d38.txt\n",
      " create mode 100644 tryagain/media/14e96ad2-5213-4004-85bf-fbac0f12fa03.txt\n",
      " create mode 100644 tryagain/media/3cc645bc-0157-461a-81e7-6dcad457fa18.txt\n",
      " create mode 100644 tryagain/media/4b4b6edf-5f9b-4dd2-85f2-2595006f09eb.txt\n",
      " create mode 100644 tryagain/media/7881613a-7fda-49b4-a49a-9052e616e7a8.txt\n",
      " create mode 100644 tryagain/media/7a83d5ec-21a4-44bb-bd1f-0e2bbeb42bbd.txt\n",
      " create mode 100644 tryagain/media/83933d96-e236-40a6-86b8-88e605ebf2e0.txt\n",
      " create mode 100644 tryagain/media/a02a981b-0bea-4849-b6e6-3cd12cf698e0.txt\n",
      " create mode 100644 tryagain/media/bf5013d3-538c-445c-a2a1-ad0d5b4383a8.txt\n",
      " create mode 100644 tryagain/media/dad62333-24d7-47a4-b40e-5155929d8892.txt\n",
      " create mode 100644 tryagain/media/e2bd3e04-ea2b-4ef7-ae2f-02c3591678d7.txt\n",
      " create mode 100644 tryagain/media/e8549f46-7c31-4748-80a4-24e098d42d89.txt\n",
      " create mode 100644 tryagain/media/ed2d1081-6f06-470f-badf-b41490ebfdef.txt\n",
      " create mode 100644 tryagain/media/f68a5f07-4873-464f-a9c9-f6b476069a40.txt\n",
      " create mode 100644 tryagain/media/images/f5c23396-5e1c-4046-ade8-9856b3c6605c-1.png\n",
      " delete mode 100644 tryagain/media/images/full_handwritten_demo.png\n"
     ]
    },
    {
     "name": "stderr",
     "output_type": "stream",
     "text": [
      "remote: \n",
      "remote: GitHub found 25 vulnerabilities on Nirab123456/learn_django's default branch (6 critical, 13 high, 5 moderate, 1 low). To find out more, visit:        \n",
      "remote:      https://github.com/Nirab123456/learn_django/security/dependabot        \n",
      "remote: \n",
      "To https://github.com/Nirab123456/learn_django.git\n",
      "   f9aacc6..0357ac0  rifatul_islam_v5_change_theme -> rifatul_islam_v5_change_theme\n"
     ]
    }
   ],
   "source": [
    "!git add .\n",
    "!git commit -m \"EBG and Bangla OCR working perfectly now  will work with  handwritten text functionality\"\n",
    "!git push origin rifatul_islam_v5_change_theme"
   ]
  },
  {
   "cell_type": "code",
   "execution_count": null,
   "metadata": {},
   "outputs": [],
   "source": [
    "!git status"
   ]
  },
  {
   "cell_type": "code",
   "execution_count": null,
   "metadata": {},
   "outputs": [],
   "source": [
    "!git add .\n"
   ]
  },
  {
   "cell_type": "code",
   "execution_count": null,
   "metadata": {},
   "outputs": [],
   "source": [
    "!git commit -m \" \""
   ]
  },
  {
   "cell_type": "code",
   "execution_count": null,
   "metadata": {},
   "outputs": [],
   "source": [
    "\n",
    "!git push origin Banglaocr"
   ]
  },
  {
   "cell_type": "code",
   "execution_count": 7,
   "metadata": {},
   "outputs": [
    {
     "name": "stderr",
     "output_type": "stream",
     "text": [
      "Switched to a new branch 'rifatul_islam_v5_change_theme'\n"
     ]
    }
   ],
   "source": [
    "!git checkout -b rifatul_islam_v5_change_theme"
   ]
  },
  {
   "cell_type": "code",
   "execution_count": null,
   "metadata": {},
   "outputs": [],
   "source": [
    "!git checkout Banglaocr_with_bootstrap5\n"
   ]
  },
  {
   "cell_type": "code",
   "execution_count": null,
   "metadata": {},
   "outputs": [],
   "source": [
    "!git push origin secondary\n"
   ]
  },
  {
   "cell_type": "code",
   "execution_count": null,
   "metadata": {},
   "outputs": [],
   "source": [
    "!git status"
   ]
  }
 ],
 "metadata": {
  "kernelspec": {
   "display_name": "tf",
   "language": "python",
   "name": "python3"
  },
  "language_info": {
   "codemirror_mode": {
    "name": "ipython",
    "version": 3
   },
   "file_extension": ".py",
   "mimetype": "text/x-python",
   "name": "python",
   "nbconvert_exporter": "python",
   "pygments_lexer": "ipython3",
   "version": "3.8.16"
  },
  "orig_nbformat": 4
 },
 "nbformat": 4,
 "nbformat_minor": 2
}
