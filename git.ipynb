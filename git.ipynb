{
 "cells": [
  {
   "cell_type": "code",
   "execution_count": 15,
   "metadata": {},
   "outputs": [
    {
     "name": "stdout",
     "output_type": "stream",
     "text": [
      "warning: Cannot merge binary files: tryagain/nirab/__pycache__/forms.cpython-38.pyc (HEAD vs. 230bea0b5d22158309d287cb302f6bb9a4c7187c)\n",
      "Auto-merging tryagain/nirab/__pycache__/forms.cpython-38.pyc\n",
      "CONFLICT (content): Merge conflict in tryagain/nirab/__pycache__/forms.cpython-38.pyc\n",
      "warning: Cannot merge binary files: tryagain/nirab/__pycache__/urls.cpython-38.pyc (HEAD vs. 230bea0b5d22158309d287cb302f6bb9a4c7187c)\n",
      "Auto-merging tryagain/nirab/__pycache__/urls.cpython-38.pyc\n",
      "CONFLICT (content): Merge conflict in tryagain/nirab/__pycache__/urls.cpython-38.pyc\n",
      "warning: Cannot merge binary files: tryagain/nirab/__pycache__/views.cpython-38.pyc (HEAD vs. 230bea0b5d22158309d287cb302f6bb9a4c7187c)\n",
      "Auto-merging tryagain/nirab/__pycache__/views.cpython-38.pyc\n",
      "CONFLICT (content): Merge conflict in tryagain/nirab/__pycache__/views.cpython-38.pyc\n",
      "Automatic merge failed; fix conflicts and then commit the result.\n"
     ]
    },
    {
     "name": "stderr",
     "output_type": "stream",
     "text": [
      "From https://github.com/Nirab123456/learn_django\n",
      " * branch            Banglaocr  -> FETCH_HEAD\n",
      "   30e47a4..230bea0  Banglaocr  -> origin/Banglaocr\n"
     ]
    }
   ],
   "source": [
    "!git pull origin Banglaocr\n",
    "\n"
   ]
  },
  {
   "cell_type": "code",
   "execution_count": 4,
   "metadata": {},
   "outputs": [
    {
     "name": "stderr",
     "output_type": "stream",
     "text": [
      "warning: in the working copy of 'git.ipynb', LF will be replaced by CRLF the next time Git touches it\n"
     ]
    },
    {
     "name": "stdout",
     "output_type": "stream",
     "text": [
      "[Banglaocr_V2 5c630b6] fixed the HandwrittenImageGenerator in (git repo: https://github.com/Nirab123456/img_to_hand_writting.git)\n",
      " 85 files changed, 759 insertions(+), 11 deletions(-)\n",
      " create mode 100644 tryagain/media/9681d641-f05c-4a0c-887c-7ae7a39dcc19.txt\n",
      " create mode 100644 tryagain/media/b3b29c52-a19b-4816-84ee-7bd51744e73b.txt\n",
      " create mode 100644 tryagain/media/b60d9d06-d884-4f45-8fd2-17c973e53dc7.txt\n",
      " create mode 100644 tryagain/media/images/Screenshot_2023-06-26_133039.png\n",
      " delete mode 100644 tryagain/media/images/bangla_RlMdKzY.jpg\n",
      " create mode 100644 tryagain/nirab/ENG_HANDWRITTEN.py\n",
      " create mode 100644 tryagain/nirab/myfont/0.png\n",
      " create mode 100644 tryagain/nirab/myfont/1.png\n",
      " create mode 100644 tryagain/nirab/myfont/2.png\n",
      " create mode 100644 tryagain/nirab/myfont/3.png\n",
      " create mode 100644 tryagain/nirab/myfont/4.png\n",
      " create mode 100644 tryagain/nirab/myfont/5.png\n",
      " create mode 100644 tryagain/nirab/myfont/6.png\n",
      " create mode 100644 tryagain/nirab/myfont/7.png\n",
      " create mode 100644 tryagain/nirab/myfont/8.png\n",
      " create mode 100644 tryagain/nirab/myfont/9.png\n",
      " create mode 100644 tryagain/nirab/myfont/a.png\n",
      " create mode 100644 tryagain/nirab/myfont/aupper.png\n",
      " create mode 100644 tryagain/nirab/myfont/b.png\n",
      " create mode 100644 tryagain/nirab/myfont/bg.png\n",
      " create mode 100644 tryagain/nirab/myfont/braketcl.png\n",
      " create mode 100644 tryagain/nirab/myfont/braketop.png\n",
      " create mode 100644 tryagain/nirab/myfont/bupper.png\n",
      " create mode 100644 tryagain/nirab/myfont/c.png\n",
      " create mode 100644 tryagain/nirab/myfont/comma.png\n",
      " create mode 100644 tryagain/nirab/myfont/cupper.png\n",
      " create mode 100644 tryagain/nirab/myfont/d.png\n",
      " create mode 100644 tryagain/nirab/myfont/dupper.png\n",
      " create mode 100644 tryagain/nirab/myfont/e.png\n",
      " create mode 100644 tryagain/nirab/myfont/eupper.png\n",
      " create mode 100644 tryagain/nirab/myfont/exclamation.png\n",
      " create mode 100644 tryagain/nirab/myfont/f.png\n",
      " create mode 100644 tryagain/nirab/myfont/fullstop.png\n",
      " create mode 100644 tryagain/nirab/myfont/fupper.png\n",
      " create mode 100644 tryagain/nirab/myfont/g.png\n",
      " create mode 100644 tryagain/nirab/myfont/gupper.png\n",
      " create mode 100644 tryagain/nirab/myfont/h.png\n",
      " create mode 100644 tryagain/nirab/myfont/hiphen.png\n",
      " create mode 100644 tryagain/nirab/myfont/hupper.png\n",
      " create mode 100644 tryagain/nirab/myfont/i.png\n",
      " create mode 100644 tryagain/nirab/myfont/iupper.png\n",
      " create mode 100644 tryagain/nirab/myfont/j.png\n",
      " create mode 100644 tryagain/nirab/myfont/jupper.png\n",
      " create mode 100644 tryagain/nirab/myfont/k.png\n",
      " create mode 100644 tryagain/nirab/myfont/kupper.png\n",
      " create mode 100644 tryagain/nirab/myfont/l.png\n",
      " create mode 100644 tryagain/nirab/myfont/lupper.png\n",
      " create mode 100644 tryagain/nirab/myfont/m.png\n",
      " create mode 100644 tryagain/nirab/myfont/mupper.png\n",
      " create mode 100644 tryagain/nirab/myfont/n.png\n",
      " create mode 100644 tryagain/nirab/myfont/nupper.png\n",
      " create mode 100644 tryagain/nirab/myfont/o.png\n",
      " create mode 100644 tryagain/nirab/myfont/oupper.png\n",
      " create mode 100644 tryagain/nirab/myfont/p.png\n",
      " create mode 100644 tryagain/nirab/myfont/pupper.png\n",
      " create mode 100644 tryagain/nirab/myfont/q.png\n",
      " create mode 100644 tryagain/nirab/myfont/question.png\n",
      " create mode 100644 tryagain/nirab/myfont/qupper.png\n",
      " create mode 100644 tryagain/nirab/myfont/r.png\n",
      " create mode 100644 tryagain/nirab/myfont/rupper.png\n",
      " create mode 100644 tryagain/nirab/myfont/s.png\n",
      " create mode 100644 tryagain/nirab/myfont/space.png\n",
      " create mode 100644 tryagain/nirab/myfont/supper.png\n",
      " create mode 100644 tryagain/nirab/myfont/t.png\n",
      " create mode 100644 tryagain/nirab/myfont/tupper.png\n",
      " create mode 100644 tryagain/nirab/myfont/u.png\n",
      " create mode 100644 tryagain/nirab/myfont/uupper.png\n",
      " create mode 100644 tryagain/nirab/myfont/v.png\n",
      " create mode 100644 tryagain/nirab/myfont/vupper.png\n",
      " create mode 100644 tryagain/nirab/myfont/w.png\n",
      " create mode 100644 tryagain/nirab/myfont/wupper.png\n",
      " create mode 100644 tryagain/nirab/myfont/x.png\n",
      " create mode 100644 tryagain/nirab/myfont/xupper.png\n",
      " create mode 100644 tryagain/nirab/myfont/y.png\n",
      " create mode 100644 tryagain/nirab/myfont/yupper.png\n",
      " create mode 100644 tryagain/nirab/myfont/z.png\n",
      " create mode 100644 tryagain/nirab/myfont/zupper.png\n",
      " create mode 100644 tryagain/nirab/templates/ENG_OCR_HANDWRITTEN.html\n"
     ]
    },
    {
     "name": "stderr",
     "output_type": "stream",
     "text": [
      "To https://github.com/Nirab123456/learn_django.git\n",
      "   253dccc..5c630b6  Banglaocr_V2 -> Banglaocr_V2\n"
     ]
    }
   ],
   "source": [
    "!git add .\n",
    "!git commit -m \"fixed the HandwrittenImageGenerator in (git repo: https://github.com/Nirab123456/img_to_hand_writting.git)\"\n",
    "!git push origin Banglaocr_V2"
   ]
  },
  {
   "cell_type": "code",
   "execution_count": 16,
   "metadata": {},
   "outputs": [
    {
     "name": "stdout",
     "output_type": "stream",
     "text": [
      "On branch Banglaocr\n",
      "You have unmerged paths.\n",
      "  (fix conflicts and run \"git commit\")\n",
      "  (use \"git merge --abort\" to abort the merge)\n",
      "\n",
      "Changes to be committed:\n",
      "\tmodified:   git.ipynb\n",
      "\tnew file:   tryagain/media/053647d1-a547-4a3a-b4db-cea164157661.txt\n",
      "\tnew file:   tryagain/media/05811f1b-ff9b-41a7-b52c-5b1fb4dabff7.txt\n",
      "\tnew file:   tryagain/media/0cbbecc7-70db-475d-bed5-6b8d2649374c.txt\n",
      "\tnew file:   tryagain/media/164e6dac-7329-410c-a37d-ae2be828c735.txt\n",
      "\tnew file:   tryagain/media/1830f24e-76da-4b46-8558-077063287f04.txt\n",
      "\tnew file:   tryagain/media/2694f93c-baa1-4ddf-a2e7-bf1a9080e5bc.txt\n",
      "\tnew file:   tryagain/media/341fa3a9-cae1-43a6-9aa5-5e344bab2c5f.txt\n",
      "\tnew file:   tryagain/media/47bfa35c-3404-4d39-8008-182f61ad9ff0.txt\n",
      "\tnew file:   tryagain/media/525a835b-3ed8-4c99-84d9-5274c56b3fa2.txt\n",
      "\tnew file:   tryagain/media/55a012c6-7c00-4fbe-8aff-7dba39ae9615.txt\n",
      "\tnew file:   tryagain/media/715f4ee0-5c6c-4523-b237-8a886998bd0c.txt\n",
      "\tnew file:   tryagain/media/78bcd794-2628-48fb-8a4d-854e6494c6d1.txt\n",
      "\tnew file:   tryagain/media/7b039dae-7464-4bf2-b2ea-d37caf20d0b9.txt\n",
      "\tnew file:   tryagain/media/c5957ef6-554b-4149-a74d-d97382caf0a3.txt\n",
      "\tnew file:   tryagain/media/dd01525c-248f-4355-bbab-dcc6121ba7a9.txt\n",
      "\tnew file:   tryagain/media/images/bangla.jpg\n",
      "\tnew file:   tryagain/nirab/__pycache__/bangla_ocr.cpython-38.pyc\n",
      "\tnew file:   tryagain/nirab/bangla_ocr.ipynb\n",
      "\tnew file:   tryagain/nirab/bangla_ocr.py\n",
      "\tmodified:   tryagain/nirab/forms.py\n",
      "\tnew file:   tryagain/nirab/templates/bangla_ocr.html\n",
      "\tnew file:   tryagain/nirab/templates/bangla_ocr_result.html\n",
      "\tmodified:   tryagain/nirab/templates/navbar.html\n",
      "\tmodified:   tryagain/nirab/templates/user_profile.html\n",
      "\tmodified:   tryagain/nirab/urls.py\n",
      "\tmodified:   tryagain/nirab/views.py\n",
      "\n",
      "Unmerged paths:\n",
      "  (use \"git add <file>...\" to mark resolution)\n",
      "\tboth modified:   tryagain/nirab/__pycache__/forms.cpython-38.pyc\n",
      "\tboth modified:   tryagain/nirab/__pycache__/urls.cpython-38.pyc\n",
      "\tboth modified:   tryagain/nirab/__pycache__/views.cpython-38.pyc\n",
      "\n",
      "Changes not staged for commit:\n",
      "  (use \"git add <file>...\" to update what will be committed)\n",
      "  (use \"git restore <file>...\" to discard changes in working directory)\n",
      "\tmodified:   tryagain/nirab/__pycache__/bangla_ocr.cpython-38.pyc\n",
      "\n"
     ]
    }
   ],
   "source": [
    "!git status"
   ]
  },
  {
   "cell_type": "code",
   "execution_count": 12,
   "metadata": {},
   "outputs": [],
   "source": [
    "!git add .\n"
   ]
  },
  {
   "cell_type": "code",
   "execution_count": 13,
   "metadata": {},
   "outputs": [
    {
     "name": "stdout",
     "output_type": "stream",
     "text": [
      "On branch Banglaocr\n",
      "nothing to commit, working tree clean\n"
     ]
    }
   ],
   "source": [
    "!git commit -m \"new commit on bangla ocr\""
   ]
  },
  {
   "cell_type": "code",
   "execution_count": 14,
   "metadata": {},
   "outputs": [
    {
     "name": "stderr",
     "output_type": "stream",
     "text": [
      "To https://github.com/Nirab123456/learn_django.git\n",
      " ! [rejected]        Banglaocr -> Banglaocr (fetch first)\n",
      "error: failed to push some refs to 'https://github.com/Nirab123456/learn_django.git'\n",
      "hint: Updates were rejected because the remote contains work that you do\n",
      "hint: not have locally. This is usually caused by another repository pushing\n",
      "hint: to the same ref. You may want to first integrate the remote changes\n",
      "hint: (e.g., 'git pull ...') before pushing again.\n",
      "hint: See the 'Note about fast-forwards' in 'git push --help' for details.\n"
     ]
    }
   ],
   "source": [
    "\n",
    "!git push origin Banglaocr"
   ]
  },
  {
   "cell_type": "code",
   "execution_count": 2,
   "metadata": {},
   "outputs": [
    {
     "name": "stderr",
     "output_type": "stream",
     "text": [
      "Switched to a new branch 'Banglaocr_V2'\n"
     ]
    }
   ],
   "source": [
    "!git checkout -b Banglaocr_V2"
   ]
  },
  {
   "cell_type": "code",
   "execution_count": 1,
   "metadata": {},
   "outputs": [
    {
     "name": "stderr",
     "output_type": "stream",
     "text": [
      "error: pathspec 'Banglaocr_with_bootstrap5' did not match any file(s) known to git\n"
     ]
    }
   ],
   "source": [
    "!git checkout Banglaocr_with_bootstrap5\n"
   ]
  },
  {
   "cell_type": "code",
   "execution_count": 8,
   "metadata": {},
   "outputs": [
    {
     "name": "stderr",
     "output_type": "stream",
     "text": [
      "remote: \n",
      "remote: Create a pull request for 'secondary' on GitHub by visiting:        \n",
      "remote:      https://github.com/Nirab123456/learn_django/pull/new/secondary        \n",
      "remote: \n",
      "To https://github.com/Nirab123456/learn_django.git\n",
      " * [new branch]      secondary -> secondary\n"
     ]
    }
   ],
   "source": [
    "!git push origin secondary\n"
   ]
  },
  {
   "cell_type": "code",
   "execution_count": 11,
   "metadata": {},
   "outputs": [
    {
     "name": "stdout",
     "output_type": "stream",
     "text": [
      "On branch Banglaocr\n",
      "nothing to commit, working tree clean\n"
     ]
    }
   ],
   "source": [
    "!git status"
   ]
  }
 ],
 "metadata": {
  "kernelspec": {
   "display_name": "tf",
   "language": "python",
   "name": "python3"
  },
  "language_info": {
   "codemirror_mode": {
    "name": "ipython",
    "version": 3
   },
   "file_extension": ".py",
   "mimetype": "text/x-python",
   "name": "python",
   "nbconvert_exporter": "python",
   "pygments_lexer": "ipython3",
   "version": "3.8.16"
  },
  "orig_nbformat": 4
 },
 "nbformat": 4,
 "nbformat_minor": 2
}
