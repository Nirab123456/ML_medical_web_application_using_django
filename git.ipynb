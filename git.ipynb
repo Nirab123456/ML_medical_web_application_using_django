{
 "cells": [
  {
   "cell_type": "code",
   "execution_count": 1,
   "metadata": {},
   "outputs": [
    {
     "name": "stderr",
     "output_type": "stream",
     "text": [
      "warning: in the working copy of 'git.ipynb', LF will be replaced by CRLF the next time Git touches it\n"
     ]
    },
    {
     "name": "stdout",
     "output_type": "stream",
     "text": [
      "[main 3b1c277] new project nirab started\n",
      " 30 files changed, 306 insertions(+), 11 deletions(-)\n",
      " create mode 100644 danjo_new/social/manage.py\n",
      " create mode 100644 danjo_new/social/nirab/__init__.py\n",
      " create mode 100644 danjo_new/social/nirab/__pycache__/__init__.cpython-38.pyc\n",
      " create mode 100644 danjo_new/social/nirab/__pycache__/admin.cpython-38.pyc\n",
      " create mode 100644 danjo_new/social/nirab/__pycache__/apps.cpython-38.pyc\n",
      " create mode 100644 danjo_new/social/nirab/__pycache__/models.cpython-38.pyc\n",
      " create mode 100644 danjo_new/social/nirab/__pycache__/urls.cpython-38.pyc\n",
      " create mode 100644 danjo_new/social/nirab/__pycache__/views.cpython-38.pyc\n",
      " create mode 100644 danjo_new/social/nirab/admin.py\n",
      " create mode 100644 danjo_new/social/nirab/apps.py\n",
      " create mode 100644 danjo_new/social/nirab/migrations/__init__.py\n",
      " create mode 100644 danjo_new/social/nirab/migrations/__pycache__/__init__.cpython-38.pyc\n",
      " create mode 100644 danjo_new/social/nirab/models.py\n",
      " create mode 100644 danjo_new/social/nirab/templates/base.html\n",
      " create mode 100644 danjo_new/social/nirab/templates/home.html\n",
      " create mode 100644 danjo_new/social/nirab/templates/navnar.html\n",
      " create mode 100644 danjo_new/social/nirab/tests.py\n",
      " create mode 100644 danjo_new/social/nirab/urls.py\n",
      " create mode 100644 danjo_new/social/nirab/views.py\n",
      " create mode 100644 danjo_new/social/social/__init__.py\n",
      " create mode 100644 danjo_new/social/social/__pycache__/__init__.cpython-38.pyc\n",
      " create mode 100644 danjo_new/social/social/__pycache__/settings.cpython-38.pyc\n",
      " create mode 100644 danjo_new/social/social/__pycache__/urls.cpython-38.pyc\n",
      " create mode 100644 danjo_new/social/social/__pycache__/wsgi.cpython-38.pyc\n",
      " create mode 100644 danjo_new/social/social/asgi.py\n",
      " create mode 100644 danjo_new/social/social/mydb.py\n",
      " create mode 100644 danjo_new/social/social/settings.py\n",
      " create mode 100644 danjo_new/social/social/urls.py\n",
      " create mode 100644 danjo_new/social/social/wsgi.py\n"
     ]
    },
    {
     "name": "stderr",
     "output_type": "stream",
     "text": [
      "To https://github.com/Nirab123456/learn_django.git\n",
      "   ce02b2b..3b1c277  main -> main\n"
     ]
    }
   ],
   "source": [
    "!git add .\n",
    "!git commit -m \"new project nirab started \"\n",
    "!git push "
   ]
  }
 ],
 "metadata": {
  "kernelspec": {
   "display_name": "tf",
   "language": "python",
   "name": "python3"
  },
  "language_info": {
   "codemirror_mode": {
    "name": "ipython",
    "version": 3
   },
   "file_extension": ".py",
   "mimetype": "text/x-python",
   "name": "python",
   "nbconvert_exporter": "python",
   "pygments_lexer": "ipython3",
   "version": "3.8.16"
  },
  "orig_nbformat": 4
 },
 "nbformat": 4,
 "nbformat_minor": 2
}
