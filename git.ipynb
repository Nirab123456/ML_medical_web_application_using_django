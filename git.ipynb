{
 "cells": [
  {
   "cell_type": "code",
   "execution_count": null,
   "metadata": {},
   "outputs": [],
   "source": [
    "!git pull origin Banglaocr\n",
    "\n"
   ]
  },
  {
   "cell_type": "code",
   "execution_count": 2,
   "metadata": {},
   "outputs": [
    {
     "name": "stderr",
     "output_type": "stream",
     "text": [
      "Switched to a new branch 'rifatul_islam_v5_refresh'\n"
     ]
    }
   ],
   "source": [
    "!git checkout -b rifatul_islam_v5_refresh"
   ]
  },
  {
   "cell_type": "code",
   "execution_count": 3,
   "metadata": {},
   "outputs": [
    {
     "name": "stderr",
     "output_type": "stream",
     "text": [
      "warning: in the working copy of 'git.ipynb', LF will be replaced by CRLF the next time Git touches it\n",
      "warning: in the working copy of 'tryagain/nirab/templates/hire_me.html', LF will be replaced by CRLF the next time Git touches it\n",
      "warning: in the working copy of 'tryagain/nirab/templates/projects.html', LF will be replaced by CRLF the next time Git touches it\n"
     ]
    },
    {
     "name": "stdout",
     "output_type": "stream",
     "text": [
      "[rifatul_islam_v5_refresh ec0d76c] fixed hand base ocr pages all functionality got late due to any()\n",
      " 33 files changed, 180 insertions(+), 2360 deletions(-)\n",
      " create mode 100644 tryagain/media/494b11539dc4419d892650f6badc1a2f.pdf\n",
      " create mode 100644 tryagain/media/494b11539dc4419d892650f6badc1a2f.txt\n",
      " create mode 100644 tryagain/media/a0972e87518942ae8d0e5d330f738596.pdf\n",
      " create mode 100644 tryagain/media/a0972e87518942ae8d0e5d330f738596.txt\n",
      " create mode 100644 tryagain/media/d63aafab2e5548ca80a67405bcf99e3d.pdf\n",
      " create mode 100644 tryagain/media/d63aafab2e5548ca80a67405bcf99e3d.txt\n",
      " create mode 100644 tryagain/media/ef5ef12c-e760-46e7-8440-984f82b613fe.txt\n",
      " create mode 100644 tryagain/media/images/IMG_1405.png\n",
      " delete mode 100644 tryagain/media/images/eng_sample.png\n",
      " delete mode 100644 tryagain/nirab/templates/C_V_D_prediction_copy.html\n",
      " delete mode 100644 tryagain/nirab/templates/C_V_D_prediction_copy_2.html\n",
      " delete mode 100644 tryagain/nirab/templates/apps.html\n",
      " rename tryagain/nirab/templates/{ => backup}/base_ocr copy.html (100%)\n",
      " delete mode 100644 tryagain/nirab/templates/base_apps_NAV.html\n",
      " delete mode 100644 tryagain/nirab/templates/base_nav.html\n",
      " delete mode 100644 tryagain/nirab/templates/home.html\n",
      " delete mode 100644 tryagain/nirab/templates/medicine_chatbot_copy.html\n",
      " delete mode 100644 tryagain/nirab/templates/search_med_details_main copy 2.html\n",
      " delete mode 100644 tryagain/nirab/templates/search_results_main copy.html\n",
      " delete mode 100644 tryagain/nirab/templates/search_results_scrap_1.html\n"
     ]
    },
    {
     "name": "stderr",
     "output_type": "stream",
     "text": [
      "remote: \n",
      "remote: Create a pull request for 'rifatul_islam_v5_refresh' on GitHub by visiting:        \n",
      "remote:      https://github.com/Nirab123456/learn_django/pull/new/rifatul_islam_v5_refresh        \n",
      "remote: \n",
      "remote: GitHub found 25 vulnerabilities on Nirab123456/learn_django's default branch (6 critical, 13 high, 5 moderate, 1 low). To find out more, visit:        \n",
      "remote:      https://github.com/Nirab123456/learn_django/security/dependabot        \n",
      "remote: \n",
      "To https://github.com/Nirab123456/learn_django.git\n",
      " * [new branch]      rifatul_islam_v5_refresh -> rifatul_islam_v5_refresh\n"
     ]
    }
   ],
   "source": [
    "!git add .\n",
    "!git commit -m \"fixed hand base ocr pages all functionality got late due to any()\"\n",
    "!git push origin rifatul_islam_v5_refresh"
   ]
  },
  {
   "cell_type": "code",
   "execution_count": null,
   "metadata": {},
   "outputs": [],
   "source": [
    "!git status"
   ]
  },
  {
   "cell_type": "code",
   "execution_count": null,
   "metadata": {},
   "outputs": [],
   "source": [
    "!git add .\n"
   ]
  },
  {
   "cell_type": "code",
   "execution_count": null,
   "metadata": {},
   "outputs": [],
   "source": [
    "!git commit -m \" \""
   ]
  },
  {
   "cell_type": "code",
   "execution_count": null,
   "metadata": {},
   "outputs": [],
   "source": [
    "\n",
    "!git push origin Banglaocr"
   ]
  },
  {
   "cell_type": "code",
   "execution_count": 7,
   "metadata": {},
   "outputs": [
    {
     "name": "stderr",
     "output_type": "stream",
     "text": [
      "Switched to a new branch 'rifatul_islam_v5_change_theme'\n"
     ]
    }
   ],
   "source": []
  },
  {
   "cell_type": "code",
   "execution_count": null,
   "metadata": {},
   "outputs": [],
   "source": [
    "!git checkout Banglaocr_with_bootstrap5\n"
   ]
  },
  {
   "cell_type": "code",
   "execution_count": null,
   "metadata": {},
   "outputs": [],
   "source": [
    "!git push origin secondary\n"
   ]
  },
  {
   "cell_type": "code",
   "execution_count": null,
   "metadata": {},
   "outputs": [],
   "source": [
    "!git status"
   ]
  }
 ],
 "metadata": {
  "kernelspec": {
   "display_name": "tf",
   "language": "python",
   "name": "python3"
  },
  "language_info": {
   "codemirror_mode": {
    "name": "ipython",
    "version": 3
   },
   "file_extension": ".py",
   "mimetype": "text/x-python",
   "name": "python",
   "nbconvert_exporter": "python",
   "pygments_lexer": "ipython3",
   "version": "3.8.16"
  },
  "orig_nbformat": 4
 },
 "nbformat": 4,
 "nbformat_minor": 2
}
