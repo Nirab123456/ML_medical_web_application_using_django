{
 "cells": [
  {
   "cell_type": "code",
   "execution_count": null,
   "metadata": {},
   "outputs": [],
   "source": [
    "!git pull origin Banglaocr\n",
    "\n"
   ]
  },
  {
   "cell_type": "code",
   "execution_count": 1,
   "metadata": {},
   "outputs": [
    {
     "name": "stderr",
     "output_type": "stream",
     "text": [
      "warning: in the working copy of 'git.ipynb', LF will be replaced by CRLF the next time Git touches it\n",
      "warning: in the working copy of 'tryagain/MAIN_CSV_DATA/new_data.ipynb', LF will be replaced by CRLF the next time Git touches it\n",
      "warning: in the working copy of 'tryagain/MAIN_CSV_DATA/combine_results.ipynb', LF will be replaced by CRLF the next time Git touches it\n",
      "warning: in the working copy of 'tryagain/MAIN_CSV_DATA/custom.ipynb', LF will be replaced by CRLF the next time Git touches it\n",
      "warning: in the working copy of 'tryagain/MAIN_CSV_DATA/custom/custom_1.sdf', LF will be replaced by CRLF the next time Git touches it\n",
      "warning: in the working copy of 'tryagain/MAIN_CSV_DATA/custom/custom_code/raw.ipynb', LF will be replaced by CRLF the next time Git touches it\n",
      "warning: in the working copy of 'tryagain/MAIN_CSV_DATA/custom/custom_code/raw_2.ipynb', LF will be replaced by CRLF the next time Git touches it\n"
     ]
    },
    {
     "name": "stdout",
     "output_type": "stream",
     "text": [
      "[rifatul_islam_v2 075b8cc] 2 days of work backend data preparation (bete compleated now will impliment on server)\n",
      " 49 files changed, 2242485 insertions(+), 16 deletions(-)\n",
      " create mode 100644 tryagain/MAIN_CSV_DATA/combine_results.ipynb\n",
      " rename tryagain/MAIN_CSV_DATA/current_main_data(changeable)/{selected_questions.csv.csv => selected_questions.csv} (100%)\n",
      " create mode 100644 tryagain/MAIN_CSV_DATA/custom.ipynb\n",
      " create mode 100644 tryagain/MAIN_CSV_DATA/custom/combined_custom/final_result_1.csv\n",
      " create mode 100644 tryagain/MAIN_CSV_DATA/custom/combined_custom/final_result_2.csv\n",
      " create mode 100644 tryagain/MAIN_CSV_DATA/custom/combined_custom/final_result_3.csv\n",
      " create mode 100644 tryagain/MAIN_CSV_DATA/custom/combined_custom/final_result_4.csv\n",
      " create mode 100644 tryagain/MAIN_CSV_DATA/custom/combined_custom/final_result_5.csv\n",
      " create mode 100644 tryagain/MAIN_CSV_DATA/custom/combined_custom/final_result_6.csv\n",
      " create mode 100644 tryagain/MAIN_CSV_DATA/custom/combined_custom/final_result_8.csv\n",
      " create mode 100644 tryagain/MAIN_CSV_DATA/custom/combined_custom/final_result_9.csv\n",
      " create mode 100644 tryagain/MAIN_CSV_DATA/custom/combined_results.csv\n",
      " create mode 100644 tryagain/MAIN_CSV_DATA/custom/common_1.csv\n",
      " create mode 100644 tryagain/MAIN_CSV_DATA/custom/common_2.csv\n",
      " create mode 100644 tryagain/MAIN_CSV_DATA/custom/custom_1.sdf\n",
      " create mode 100644 tryagain/MAIN_CSV_DATA/custom/custom_3.csv\n",
      " create mode 100644 tryagain/MAIN_CSV_DATA/custom/custom_code/raw.ipynb\n",
      " create mode 100644 tryagain/MAIN_CSV_DATA/custom/custom_code/raw_2.ipynb\n",
      " create mode 100644 tryagain/MAIN_CSV_DATA/custom/custom_code/value_counts_series.json\n",
      " create mode 100644 tryagain/MAIN_CSV_DATA/custom/custom_maping.txt\n",
      " create mode 100644 tryagain/MAIN_CSV_DATA/custom/custom_old_to_new.csv\n",
      " create mode 100644 tryagain/MAIN_CSV_DATA/custom/custom_old_to_new_2.csv\n",
      " create mode 100644 tryagain/MAIN_CSV_DATA/custom/filtered_combined_results.csv\n",
      " create mode 100644 tryagain/MAIN_CSV_DATA/custom/final_1.csv\n",
      " create mode 100644 tryagain/MAIN_CSV_DATA/custom/final_2.csv\n",
      " create mode 100644 tryagain/MAIN_CSV_DATA/custom/final_3.csv\n",
      " create mode 100644 tryagain/MAIN_CSV_DATA/custom/final_result_8.csv\n",
      " create mode 100644 tryagain/MAIN_CSV_DATA/django_new_drug_clas_beta.csv\n",
      " create mode 100644 tryagain/MAIN_CSV_DATA/django_presciption_class_1.csv\n",
      " create mode 100644 tryagain/MAIN_CSV_DATA/raw_file/Drug.csv\n",
      " create mode 100644 tryagain/MAIN_CSV_DATA/raw_file/Drug_clean.csv\n",
      " create mode 100644 tryagain/MAIN_CSV_DATA/raw_file/P1-01-TTD_target_download.txt\n",
      " create mode 100644 tryagain/MAIN_CSV_DATA/raw_file/P1-02-TTD_drug_download (1).txt\n",
      " create mode 100644 tryagain/MAIN_CSV_DATA/raw_file/P1-02-TTD_drug_download.txt\n",
      " create mode 100644 tryagain/MAIN_CSV_DATA/raw_file/P1-03-TTD_crossmatching.txt\n",
      " create mode 100644 tryagain/MAIN_CSV_DATA/raw_file/P1-05-Drug_disease.txt\n",
      " create mode 100644 tryagain/MAIN_CSV_DATA/raw_file/P1-06-Target_disease.txt\n",
      " create mode 100644 tryagain/MAIN_CSV_DATA/raw_file/P1-07-Drug-TargetMapping.xlsx\n",
      " create mode 100644 tryagain/MAIN_CSV_DATA/raw_file/P1-08-Biomarker_disease.txt\n",
      " create mode 100644 tryagain/MAIN_CSV_DATA/raw_file/drugsComTest_raw.csv\n",
      " create mode 100644 tryagain/MAIN_CSV_DATA/raw_file/drugsComTrain_raw.csv\n",
      " create mode 100644 tryagain/MAIN_CSV_DATA/unique_cases_list.txt\n",
      " create mode 100644 tryagain/MAIN_CSV_DATA/unique_cases_list_2.txt\n",
      " create mode 100644 tryagain/MAIN_CSV_DATA/unique_cases_list_3.txt\n",
      " create mode 100644 tryagain/MAIN_CSV_DATA/unique_generic_name_list.txt\n",
      " create mode 100644 tryagain/MAIN_CSV_DATA/unique_head_list_3.txt\n"
     ]
    },
    {
     "name": "stderr",
     "output_type": "stream",
     "text": [
      "remote: warning: See https://gh.io/lfs for more information.        \n",
      "remote: warning: File tryagain/MAIN_CSV_DATA/raw_file/drugsComTrain_raw.csv is 79.15 MB; this is larger than GitHub's recommended maximum file size of 50.00 MB        \n",
      "remote: warning: GH001: Large files detected. You may want to try Git Large File Storage - https://git-lfs.github.com.        \n",
      "remote: \n",
      "remote: GitHub found 25 vulnerabilities on Nirab123456/learn_django's default branch (6 critical, 13 high, 5 moderate, 1 low). To find out more, visit:        \n",
      "remote:      https://github.com/Nirab123456/learn_django/security/dependabot        \n",
      "remote: \n",
      "To https://github.com/Nirab123456/learn_django.git\n",
      "   8cb035a..075b8cc  rifatul_islam_v2 -> rifatul_islam_v2\n"
     ]
    }
   ],
   "source": [
    "!git add .\n",
    "!git commit -m \"2 days of work backend data preparation (bete compleated now will impliment on server)\"\n",
    "!git push origin rifatul_islam_v2"
   ]
  },
  {
   "cell_type": "code",
   "execution_count": null,
   "metadata": {},
   "outputs": [],
   "source": [
    "!git status"
   ]
  },
  {
   "cell_type": "code",
   "execution_count": null,
   "metadata": {},
   "outputs": [],
   "source": [
    "!git add .\n"
   ]
  },
  {
   "cell_type": "code",
   "execution_count": null,
   "metadata": {},
   "outputs": [],
   "source": [
    "!git commit -m \" \""
   ]
  },
  {
   "cell_type": "code",
   "execution_count": null,
   "metadata": {},
   "outputs": [],
   "source": [
    "\n",
    "!git push origin Banglaocr"
   ]
  },
  {
   "cell_type": "code",
   "execution_count": 1,
   "metadata": {},
   "outputs": [
    {
     "name": "stderr",
     "output_type": "stream",
     "text": [
      "Switched to a new branch 'rifatul_islam_v2'\n"
     ]
    }
   ],
   "source": [
    "!git checkout -b rifatul_islam_v2"
   ]
  },
  {
   "cell_type": "code",
   "execution_count": null,
   "metadata": {},
   "outputs": [],
   "source": [
    "!git checkout Banglaocr_with_bootstrap5\n"
   ]
  },
  {
   "cell_type": "code",
   "execution_count": null,
   "metadata": {},
   "outputs": [],
   "source": [
    "!git push origin secondary\n"
   ]
  },
  {
   "cell_type": "code",
   "execution_count": null,
   "metadata": {},
   "outputs": [],
   "source": [
    "!git status"
   ]
  }
 ],
 "metadata": {
  "kernelspec": {
   "display_name": "tf",
   "language": "python",
   "name": "python3"
  },
  "language_info": {
   "codemirror_mode": {
    "name": "ipython",
    "version": 3
   },
   "file_extension": ".py",
   "mimetype": "text/x-python",
   "name": "python",
   "nbconvert_exporter": "python",
   "pygments_lexer": "ipython3",
   "version": "3.8.16"
  },
  "orig_nbformat": 4
 },
 "nbformat": 4,
 "nbformat_minor": 2
}
