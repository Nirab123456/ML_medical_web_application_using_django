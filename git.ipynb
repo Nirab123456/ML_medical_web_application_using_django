{
 "cells": [
  {
   "cell_type": "code",
   "execution_count": null,
   "metadata": {},
   "outputs": [],
   "source": [
    "!git pull origin Banglaocr\n",
    "\n"
   ]
  },
  {
   "cell_type": "code",
   "execution_count": 1,
   "metadata": {},
   "outputs": [
    {
     "name": "stderr",
     "output_type": "stream",
     "text": [
      "warning: in the working copy of 'git.ipynb', LF will be replaced by CRLF the next time Git touches it\n"
     ]
    },
    {
     "name": "stdout",
     "output_type": "stream",
     "text": [
      "[rifatul_islam_v5_change_theme 1960155] demo handwrittensection working like a cherm\n",
      " 47 files changed, 1467 insertions(+), 54 deletions(-)\n",
      " create mode 100644 tryagain/main_template/images/f5c23396-5e1c-4046-ade8-9856b3c6605c-1.png\n",
      " create mode 100644 tryagain/main_template/images/f5c23396-5e1c-4046-ade8-9856b3c6605c-2.png\n",
      " create mode 100644 tryagain/main_template/images/topics/backup/hw_result_1.png\n",
      " create mode 100644 tryagain/main_template/images/topics/backup/hw_result_2.png\n",
      " create mode 100644 tryagain/main_template/images/topics/backup/hw_result_3.png\n",
      " create mode 100644 tryagain/main_template/images/topics/backup/hw_result_4.png\n",
      " create mode 100644 tryagain/main_template/images/topics/full_handwritten_demo.png\n",
      " create mode 100644 tryagain/main_template/images/topics/handwriten_result_demo.pdf\n",
      " create mode 100644 tryagain/main_template/images/topics/hw1.png\n",
      " create mode 100644 tryagain/main_template/images/topics/hw2.png\n",
      " create mode 100644 tryagain/main_template/images/topics/hw3.png\n",
      " create mode 100644 tryagain/main_template/images/topics/result_1.png\n",
      " create mode 100644 tryagain/main_template/images/topics/result_2.png\n",
      " create mode 100644 tryagain/main_template/images/topics/result_3.png\n",
      " create mode 100644 tryagain/main_template/images/topics/result_4.png\n",
      " create mode 100644 tryagain/media/0e89fb1c-f395-4bf2-9e70-695b880d7b6f.pdf\n",
      " create mode 100644 tryagain/media/0e89fb1c-f395-4bf2-9e70-695b880d7b6f.txt\n",
      " create mode 100644 tryagain/media/271eca4c-fbcd-4345-a044-f83e2f4823d3.txt\n",
      " create mode 100644 tryagain/media/27698507-79fb-4be4-a3a3-5059fa83c34d.txt\n",
      " create mode 100644 tryagain/media/338670ca-cbba-4020-8041-975fc0e7310a.pdf\n",
      " create mode 100644 tryagain/media/338670ca-cbba-4020-8041-975fc0e7310a.txt\n",
      " create mode 100644 tryagain/media/688ff13e-8404-4b10-ab1d-e08f815cf09d.pdf\n",
      " create mode 100644 tryagain/media/688ff13e-8404-4b10-ab1d-e08f815cf09d.txt\n",
      " create mode 100644 tryagain/media/78738135-4748-4bd5-8840-af4fffe64b9b.txt\n",
      " create mode 100644 tryagain/media/962c92e2-00b5-42be-89f4-a3f944d66fb6.pdf\n",
      " create mode 100644 tryagain/media/962c92e2-00b5-42be-89f4-a3f944d66fb6.txt\n",
      " create mode 100644 tryagain/media/a751516d-5c0b-4cc9-b896-fc55b879dd50.pdf\n",
      " create mode 100644 tryagain/media/a751516d-5c0b-4cc9-b896-fc55b879dd50.txt\n",
      " create mode 100644 tryagain/media/c903d447-0db4-47fc-a837-0c3116cb0209.pdf\n",
      " create mode 100644 tryagain/media/c903d447-0db4-47fc-a837-0c3116cb0209.txt\n",
      " create mode 100644 tryagain/media/cbfa514f-9415-453d-9733-4db399f390e8.pdf\n",
      " create mode 100644 tryagain/media/cbfa514f-9415-453d-9733-4db399f390e8.txt\n",
      " create mode 100644 tryagain/media/e9668df0-1935-4d5a-bd7c-99d5d5980170.pdf\n",
      " create mode 100644 tryagain/media/e9668df0-1935-4d5a-bd7c-99d5d5980170.txt\n",
      " create mode 100644 tryagain/media/f5c23396-5e1c-4046-ade8-9856b3c6605c.pdf\n",
      " create mode 100644 tryagain/media/f5c23396-5e1c-4046-ade8-9856b3c6605c.txt\n",
      " delete mode 100644 tryagain/media/images/eng_sample.png\n",
      " create mode 100644 tryagain/media/images/full_handwritten_demo.png\n",
      " create mode 100644 tryagain/nirab/templates/backup/hw1.png\n",
      " create mode 100644 tryagain/nirab/templates/backup/hw2.png\n",
      " create mode 100644 tryagain/nirab/templates/backup/hw3.png\n",
      " create mode 100644 tryagain/nirab/templates/backup/image_scroll.html\n",
      " create mode 100644 tryagain/nirab/templates/image_scroll_demo_1.html\n",
      " create mode 100644 tryagain/nirab/templates/image_scroll_demo_1_result.html\n",
      " create mode 100644 tryagain/nirab/templates/index_new copy.html\n"
     ]
    },
    {
     "name": "stderr",
     "output_type": "stream",
     "text": [
      "remote: \n",
      "remote: GitHub found 25 vulnerabilities on Nirab123456/learn_django's default branch (6 critical, 13 high, 5 moderate, 1 low). To find out more, visit:        \n",
      "remote:      https://github.com/Nirab123456/learn_django/security/dependabot        \n",
      "remote: \n",
      "To https://github.com/Nirab123456/learn_django.git\n",
      "   7514716..1960155  rifatul_islam_v5_change_theme -> rifatul_islam_v5_change_theme\n"
     ]
    }
   ],
   "source": [
    "!git add .\n",
    "!git commit -m \"demo handwrittensection working like a cherm\"\n",
    "!git push origin rifatul_islam_v5_change_theme"
   ]
  },
  {
   "cell_type": "code",
   "execution_count": null,
   "metadata": {},
   "outputs": [],
   "source": [
    "!git status"
   ]
  },
  {
   "cell_type": "code",
   "execution_count": null,
   "metadata": {},
   "outputs": [],
   "source": [
    "!git add .\n"
   ]
  },
  {
   "cell_type": "code",
   "execution_count": null,
   "metadata": {},
   "outputs": [],
   "source": [
    "!git commit -m \" \""
   ]
  },
  {
   "cell_type": "code",
   "execution_count": null,
   "metadata": {},
   "outputs": [],
   "source": [
    "\n",
    "!git push origin Banglaocr"
   ]
  },
  {
   "cell_type": "code",
   "execution_count": 7,
   "metadata": {},
   "outputs": [
    {
     "name": "stderr",
     "output_type": "stream",
     "text": [
      "Switched to a new branch 'rifatul_islam_v5_change_theme'\n"
     ]
    }
   ],
   "source": [
    "!git checkout -b rifatul_islam_v5_change_theme"
   ]
  },
  {
   "cell_type": "code",
   "execution_count": null,
   "metadata": {},
   "outputs": [],
   "source": [
    "!git checkout Banglaocr_with_bootstrap5\n"
   ]
  },
  {
   "cell_type": "code",
   "execution_count": null,
   "metadata": {},
   "outputs": [],
   "source": [
    "!git push origin secondary\n"
   ]
  },
  {
   "cell_type": "code",
   "execution_count": null,
   "metadata": {},
   "outputs": [],
   "source": [
    "!git status"
   ]
  }
 ],
 "metadata": {
  "kernelspec": {
   "display_name": "tf",
   "language": "python",
   "name": "python3"
  },
  "language_info": {
   "codemirror_mode": {
    "name": "ipython",
    "version": 3
   },
   "file_extension": ".py",
   "mimetype": "text/x-python",
   "name": "python",
   "nbconvert_exporter": "python",
   "pygments_lexer": "ipython3",
   "version": "3.8.16"
  },
  "orig_nbformat": 4
 },
 "nbformat": 4,
 "nbformat_minor": 2
}
