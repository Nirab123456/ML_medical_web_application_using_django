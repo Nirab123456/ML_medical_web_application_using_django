{
 "cells": [
  {
   "cell_type": "code",
   "execution_count": null,
   "metadata": {},
   "outputs": [],
   "source": [
    "!git pull origin Banglaocr\n",
    "\n"
   ]
  },
  {
   "cell_type": "code",
   "execution_count": 2,
   "metadata": {},
   "outputs": [
    {
     "name": "stderr",
     "output_type": "stream",
     "text": [
      "Switched to a new branch 'rifatul_islam_v5_refresh'\n"
     ]
    }
   ],
   "source": [
    "!git checkout -b rifatul_islam_v5_refresh"
   ]
  },
  {
   "cell_type": "code",
   "execution_count": 4,
   "metadata": {},
   "outputs": [
    {
     "name": "stderr",
     "output_type": "stream",
     "text": [
      "warning: in the working copy of 'git.ipynb', LF will be replaced by CRLF the next time Git touches it\n"
     ]
    },
    {
     "name": "stdout",
     "output_type": "stream",
     "text": [
      "[rifatul_islam_v5_refresh b5e4951] phenomonia prediction preperly impliminted on website\n",
      " 50 files changed, 57 insertions(+), 58 deletions(-)\n",
      " create mode 100644 tryagain/media/images/phenomonia_prediction/IM-0010-0001.jpeg\n",
      " create mode 100644 tryagain/media/images/phenomonia_prediction/IM-0010-0001_KjGMcCu.jpeg\n",
      " create mode 100644 tryagain/media/images/phenomonia_prediction/IM-0011-0001-0001.jpeg\n",
      " create mode 100644 tryagain/media/images/phenomonia_prediction/IM-0011-0001-0001_JQ3n7Iv.jpeg\n",
      " create mode 100644 tryagain/media/images/phenomonia_prediction/IM-0011-0001-0001_mHz5goa.jpeg\n",
      " create mode 100644 tryagain/media/images/phenomonia_prediction/IM-0011-0001-0002.jpeg\n",
      " create mode 100644 tryagain/media/images/phenomonia_prediction/IM-0017-0001.jpeg\n",
      " create mode 100644 tryagain/media/images/phenomonia_prediction/IM-0050-0001.jpeg\n",
      " create mode 100644 tryagain/media/images/phenomonia_prediction/IM-0061-0001.jpeg\n",
      " create mode 100644 tryagain/media/images/phenomonia_prediction/IM-0081-0001.jpeg\n",
      " create mode 100644 tryagain/media/images/phenomonia_prediction/IM-0081-0001_31yyPPb.jpeg\n",
      " create mode 100644 tryagain/media/images/phenomonia_prediction/IM-0091-0001.jpeg\n",
      " create mode 100644 tryagain/media/images/phenomonia_prediction/person19_virus_50.jpeg\n",
      " create mode 100644 tryagain/media/images/phenomonia_prediction/person19_virus_50_0jvHNCx.jpeg\n",
      " create mode 100644 tryagain/media/images/phenomonia_prediction/person19_virus_50_qO3uU7c.jpeg\n",
      " create mode 100644 tryagain/media/images/phenomonia_prediction/person19_virus_50_qof9oUH.jpeg\n",
      " create mode 100644 tryagain/media/images/phenomonia_prediction/person19_virus_50_sVLGZJj.jpeg\n",
      " create mode 100644 tryagain/media/images/phenomonia_prediction/person3_virus_15_6278jLa.jpeg\n",
      " create mode 100644 tryagain/media/images/phenomonia_prediction/person3_virus_15_Tq7Q3BK.jpeg\n",
      " create mode 100644 tryagain/media/images/phenomonia_prediction/person3_virus_16_0whwyWy.jpeg\n",
      " create mode 100644 tryagain/media/images/phenomonia_prediction/person3_virus_16_718GFbd.jpeg\n",
      " create mode 100644 tryagain/media/images/phenomonia_prediction/person3_virus_16_BUPZtCg.jpeg\n",
      " create mode 100644 tryagain/media/images/phenomonia_prediction/person3_virus_16_ES3Vmsk.jpeg\n",
      " create mode 100644 tryagain/media/images/phenomonia_prediction/person3_virus_16_HdK14t4.jpeg\n",
      " create mode 100644 tryagain/media/images/phenomonia_prediction/person3_virus_16_MmAoBj7.jpeg\n",
      " create mode 100644 tryagain/media/images/phenomonia_prediction/person3_virus_16_PEUomHC.jpeg\n",
      " create mode 100644 tryagain/media/images/phenomonia_prediction/person3_virus_16_SjXjoDf.jpeg\n",
      " create mode 100644 tryagain/media/images/phenomonia_prediction/person3_virus_16_UJ7LcFu.jpeg\n",
      " create mode 100644 tryagain/media/images/phenomonia_prediction/person3_virus_16_WnyLZoT.jpeg\n",
      " create mode 100644 tryagain/media/images/phenomonia_prediction/person3_virus_16_Y2CkU20.jpeg\n",
      " create mode 100644 tryagain/media/images/phenomonia_prediction/person3_virus_16_YLM3khO.jpeg\n",
      " create mode 100644 tryagain/media/images/phenomonia_prediction/person3_virus_16_b6IsG81.jpeg\n",
      " create mode 100644 tryagain/media/images/phenomonia_prediction/person3_virus_16_c2LAKHq.jpeg\n",
      " create mode 100644 tryagain/media/images/phenomonia_prediction/person3_virus_16_emmIr85.jpeg\n",
      " create mode 100644 tryagain/media/images/phenomonia_prediction/person3_virus_16_eoqIIqv.jpeg\n",
      " create mode 100644 tryagain/media/images/phenomonia_prediction/person3_virus_16_hhs7Aus.jpeg\n",
      " create mode 100644 tryagain/media/images/phenomonia_prediction/person3_virus_16_k6zwj3g.jpeg\n",
      " create mode 100644 tryagain/media/images/phenomonia_prediction/person3_virus_16_mTsCmzw.jpeg\n",
      " create mode 100644 tryagain/media/images/phenomonia_prediction/person3_virus_16_neF9jxJ.jpeg\n",
      " create mode 100644 tryagain/media/images/phenomonia_prediction/person3_virus_16_onO9Mzx.jpeg\n",
      " create mode 100644 tryagain/media/images/phenomonia_prediction/person3_virus_16_u4fXmc2.jpeg\n",
      " create mode 100644 tryagain/media/images/phenomonia_prediction/person3_virus_16_xuXA6YO.jpeg\n",
      " create mode 100644 tryagain/media/images/phenomonia_prediction/person3_virus_16_yFgRo7a.jpeg\n"
     ]
    },
    {
     "name": "stderr",
     "output_type": "stream",
     "text": [
      "remote: \n",
      "remote: GitHub found 25 vulnerabilities on Nirab123456/learn_django's default branch (6 critical, 13 high, 5 moderate, 1 low). To find out more, visit:        \n",
      "remote:      https://github.com/Nirab123456/learn_django/security/dependabot        \n",
      "remote: \n",
      "To https://github.com/Nirab123456/learn_django.git\n",
      "   e0b0a93..b5e4951  rifatul_islam_v5_refresh -> rifatul_islam_v5_refresh\n"
     ]
    }
   ],
   "source": [
    "!git add .\n",
    "!git commit -m \"phenomonia prediction preperly impliminted on website\"\n",
    "!git push origin rifatul_islam_v5_refresh"
   ]
  },
  {
   "cell_type": "code",
   "execution_count": null,
   "metadata": {},
   "outputs": [],
   "source": [
    "!git status"
   ]
  },
  {
   "cell_type": "code",
   "execution_count": null,
   "metadata": {},
   "outputs": [],
   "source": [
    "!git add .\n"
   ]
  },
  {
   "cell_type": "code",
   "execution_count": null,
   "metadata": {},
   "outputs": [],
   "source": [
    "!git commit -m \" \""
   ]
  },
  {
   "cell_type": "code",
   "execution_count": null,
   "metadata": {},
   "outputs": [],
   "source": [
    "\n",
    "!git push origin Banglaocr"
   ]
  },
  {
   "cell_type": "code",
   "execution_count": null,
   "metadata": {},
   "outputs": [],
   "source": [
    "!git checkout Banglaocr_with_bootstrap5\n"
   ]
  },
  {
   "cell_type": "code",
   "execution_count": null,
   "metadata": {},
   "outputs": [],
   "source": [
    "!git push origin secondary\n"
   ]
  },
  {
   "cell_type": "code",
   "execution_count": null,
   "metadata": {},
   "outputs": [],
   "source": [
    "!git status"
   ]
  }
 ],
 "metadata": {
  "kernelspec": {
   "display_name": "tf",
   "language": "python",
   "name": "python3"
  },
  "language_info": {
   "codemirror_mode": {
    "name": "ipython",
    "version": 3
   },
   "file_extension": ".py",
   "mimetype": "text/x-python",
   "name": "python",
   "nbconvert_exporter": "python",
   "pygments_lexer": "ipython3",
   "version": "3.8.16"
  },
  "orig_nbformat": 4
 },
 "nbformat": 4,
 "nbformat_minor": 2
}
