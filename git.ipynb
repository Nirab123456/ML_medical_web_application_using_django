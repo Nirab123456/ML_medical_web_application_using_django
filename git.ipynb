{
 "cells": [
  {
   "cell_type": "code",
   "execution_count": 2,
   "metadata": {},
   "outputs": [
    {
     "name": "stdout",
     "output_type": "stream",
     "text": [
      "[main 97ecb6d] basic user login and registration logout\n",
      " 13 files changed, 112 insertions(+), 5 deletions(-)\n",
      " create mode 100644 dcrm/dcrm/__pycache__/urls.cpython-310.pyc\n",
      " create mode 100644 dcrm/website/__pycache__/__init__.cpython-310.pyc\n",
      " create mode 100644 dcrm/website/__pycache__/apps.cpython-310.pyc\n",
      " create mode 100644 dcrm/website/__pycache__/forms.cpython-38.pyc\n",
      " create mode 100644 dcrm/website/forms.py\n",
      " create mode 100644 dcrm/website/templates/register.html\n"
     ]
    },
    {
     "name": "stderr",
     "output_type": "stream",
     "text": [
      "To https://github.com/Nirab123456/learn_django.git\n",
      "   8985a63..97ecb6d  main -> main\n"
     ]
    }
   ],
   "source": [
    "!git add .\n",
    "!git commit -m \"basic user login and registration logout\"\n",
    "!git push "
   ]
  }
 ],
 "metadata": {
  "kernelspec": {
   "display_name": "tf",
   "language": "python",
   "name": "python3"
  },
  "language_info": {
   "codemirror_mode": {
    "name": "ipython",
    "version": 3
   },
   "file_extension": ".py",
   "mimetype": "text/x-python",
   "name": "python",
   "nbconvert_exporter": "python",
   "pygments_lexer": "ipython3",
   "version": "3.8.16"
  },
  "orig_nbformat": 4
 },
 "nbformat": 4,
 "nbformat_minor": 2
}
