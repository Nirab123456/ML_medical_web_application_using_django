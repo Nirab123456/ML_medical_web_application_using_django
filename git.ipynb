{
 "cells": [
  {
   "cell_type": "code",
   "execution_count": null,
   "metadata": {},
   "outputs": [],
   "source": [
    "!git pull origin Banglaocr\n",
    "\n"
   ]
  },
  {
   "cell_type": "code",
   "execution_count": 2,
   "metadata": {},
   "outputs": [
    {
     "name": "stderr",
     "output_type": "stream",
     "text": [
      "warning: in the working copy of 'git.ipynb', LF will be replaced by CRLF the next time Git touches it\n",
      "warning: in the working copy of 'tryagain/.idea/inspectionProfiles/profiles_settings.xml', LF will be replaced by CRLF the next time Git touches it\n",
      "warning: in the working copy of 'tryagain/about_me/bootstrap/css/bootstrap.min.css', LF will be replaced by CRLF the next time Git touches it\n",
      "warning: in the working copy of 'tryagain/about_me/css/pikaday.min.css', LF will be replaced by CRLF the next time Git touches it\n",
      "warning: in the working copy of 'tryagain/about_me/css/pricing_tables.css', LF will be replaced by CRLF the next time Git touches it\n",
      "warning: in the working copy of 'tryagain/about_me/fonts/ionicons.min.css', LF will be replaced by CRLF the next time Git touches it\n",
      "warning: in the working copy of 'tryagain/about_me/fonts/ionicons.svg', LF will be replaced by CRLF the next time Git touches it\n",
      "warning: in the working copy of 'tryagain/nirab/templates/add_or_update_record.html', LF will be replaced by CRLF the next time Git touches it\n",
      "warning: in the working copy of 'tryagain/nirab/templates/base_apps_NAV.html', LF will be replaced by CRLF the next time Git touches it\n",
      "warning: in the working copy of 'tryagain/nirab/templates/base_dash_NAV.html', LF will be replaced by CRLF the next time Git touches it\n",
      "warning: in the working copy of 'tryagain/nirab/templates/change_password.html', LF will be replaced by CRLF the next time Git touches it\n",
      "warning: in the working copy of 'tryagain/nirab/templates/hire_me.html', LF will be replaced by CRLF the next time Git touches it\n",
      "warning: in the working copy of 'tryagain/nirab/templates/medication.html', LF will be replaced by CRLF the next time Git touches it\n",
      "warning: in the working copy of 'tryagain/nirab/templates/projects.html', LF will be replaced by CRLF the next time Git touches it\n",
      "warning: in the working copy of 'tryagain/nirab/templates/social_media_Page.html', LF will be replaced by CRLF the next time Git touches it\n"
     ]
    },
    {
     "name": "stdout",
     "output_type": "stream",
     "text": [
      "[rifatul_islam_v2 2fdd20f] 1st commit it is the cleand version of v1 branch from 160th commit\n",
      " 129 files changed, 21 insertions(+), 972102 deletions(-)\n",
      " delete mode 100644 medicine_recomandation_data/cleaned_data.csv\n",
      " delete mode 100644 medicine_recomandation_data/dosage form.csv\n",
      " delete mode 100644 medicine_recomandation_data/drug class.csv\n",
      " delete mode 100644 medicine_recomandation_data/full_fixed.csv\n",
      " delete mode 100644 medicine_recomandation_data/generic.csv\n",
      " delete mode 100644 medicine_recomandation_data/indication.csv\n",
      " delete mode 100644 medicine_recomandation_data/manufacturer.csv\n",
      " delete mode 100644 medicine_recomandation_data/med_recomendation.ipynb\n",
      " delete mode 100644 medicine_recomandation_data/medicine.csv\n",
      " delete mode 100644 tryagain/DATA_FIXING/bipgpt.ipynb\n",
      " delete mode 100644 tryagain/DATA_FIXING/clean_contradiction.ipynb\n",
      " delete mode 100644 tryagain/DATA_FIXING/clean_drug_class.ipynb\n",
      " delete mode 100644 tryagain/DATA_FIXING/clean_side_effect.ipynb\n",
      " delete mode 100644 tryagain/DATA_FIXING/data_reclean.ipynb\n",
      " delete mode 100644 tryagain/DATA_FIXING/hugging_face_LC.ipynb\n",
      " delete mode 100644 tryagain/DATA_FIXING/huggingface_data_preprocess.ipynb\n",
      " delete mode 100644 tryagain/DATA_FIXING/main_data/final_drug_class_results.csv\n",
      " delete mode 100644 tryagain/DATA_FIXING/main_data/new_contradictions_df.csv\n",
      " delete mode 100644 tryagain/DATA_FIXING/main_data/para.txt\n",
      " delete mode 100644 tryagain/DATA_FIXING/main_data/side_effects.csv\n",
      " delete mode 100644 tryagain/DATA_FIXING/new_data/all_generic_name_list.txt\n",
      " delete mode 100644 tryagain/DATA_FIXING/new_data/cleaned_generic_df_main_1.csv\n",
      " delete mode 100644 tryagain/DATA_FIXING/new_data/cleaned_generic_df_main_2.csv\n",
      " delete mode 100644 tryagain/DATA_FIXING/new_data/contraindication_result.csv\n",
      " delete mode 100644 tryagain/DATA_FIXING/new_data/djang_base_contradiction_1.csv\n",
      " delete mode 100644 tryagain/DATA_FIXING/new_data/djang_main_contradiction_1.csv\n",
      " delete mode 100644 tryagain/DATA_FIXING/new_data/specific_side_effect_SS_DD_M.csv\n",
      " delete mode 100644 tryagain/DATA_FIXING/new_data/specific_side_effect_SS_DD_M_2.csv\n",
      " delete mode 100644 tryagain/DATA_FIXING/new_main_data/contraindication.csv\n",
      " delete mode 100644 tryagain/DATA_FIXING/new_main_data/drug_class.csv\n",
      " delete mode 100644 tryagain/DATA_FIXING/previous/classify_side_effect.ipynb\n",
      " delete mode 100644 tryagain/DATA_FIXING/previous/cleaned_generic_df_main.csv\n",
      " delete mode 100644 tryagain/DATA_FIXING/previous/cleaned_generic_df_with_results.csv\n",
      " delete mode 100644 tryagain/DATA_FIXING/previous/data copy.ipynb\n",
      " delete mode 100644 tryagain/DATA_FIXING/previous/data.ipynb\n",
      " delete mode 100644 tryagain/DATA_FIXING/previous/django.csv\n",
      " delete mode 100644 tryagain/DATA_FIXING/previous/django_with_results.csv\n",
      " delete mode 100644 tryagain/DATA_FIXING/previous/final_drug_class_results.csv\n",
      " delete mode 100644 tryagain/DATA_FIXING/previous/langchain_context.ipynb\n",
      " delete mode 100644 tryagain/DATA_FIXING/previous/nirab.txt\n",
      " delete mode 100644 tryagain/DATA_FIXING/previous/previous_data_check.ipynb\n",
      " delete mode 100644 tryagain/DATA_FIXING/previous/side_effects.csv\n",
      " delete mode 100644 tryagain/DATA_FIXING/previous/side_effects_excel.xlsx\n",
      " delete mode 100644 tryagain/DATA_FIXING/previous/side_effects_with_results.csv\n",
      " delete mode 100644 tryagain/DATA_FIXING/t_q_a.ipynb\n",
      " rename tryagain/{DATA_FIXING/main_data => MAIN_CSV_DATA}/cleaned_generic_df_main.csv (100%)\n",
      " rename tryagain/{DATA_FIXING/new_data => MAIN_CSV_DATA}/contraindication.csv (100%)\n",
      " rename tryagain/{DATA_FIXING/main_data => MAIN_CSV_DATA}/django.csv (100%)\n",
      " rename tryagain/{DATA_FIXING/new_data => MAIN_CSV_DATA}/drug_class.csv (100%)\n",
      " rename tryagain/{DATA_FIXING/new_main_data => MAIN_CSV_DATA}/side_effects.csv (100%)\n",
      " delete mode 100644 tryagain/cleaned_generic_df_main.csv\n",
      " delete mode 100644 tryagain/contraindication.csv\n",
      " delete mode 100644 tryagain/django.csv\n",
      " delete mode 100644 tryagain/drug_class.csv\n",
      " delete mode 100644 tryagain/medicine_recomandation_data/BACKUP/django_med_analysis.csv\n",
      " delete mode 100644 tryagain/medicine_recomandation_data/BACKUP/django_medicine_data_1.csv\n",
      " delete mode 100644 tryagain/medicine_recomandation_data/cleaned_data.csv\n",
      " delete mode 100644 tryagain/medicine_recomandation_data/data_cleaning.ipynb\n",
      " delete mode 100644 tryagain/medicine_recomandation_data/django_med_analysis.csv\n",
      " delete mode 100644 tryagain/medicine_recomandation_data/dosage form.csv\n",
      " delete mode 100644 tryagain/medicine_recomandation_data/drug_class.csv\n",
      " delete mode 100644 tryagain/medicine_recomandation_data/full_cleaned_django.csv\n",
      " delete mode 100644 tryagain/medicine_recomandation_data/full_fixed.csv\n",
      " delete mode 100644 tryagain/medicine_recomandation_data/full_med_recomendation_try.ipynb\n",
      " delete mode 100644 tryagain/medicine_recomandation_data/generic.csv\n",
      " delete mode 100644 tryagain/medicine_recomandation_data/indiation_and_reaction/cleaned_generic_df.csv\n",
      " delete mode 100644 tryagain/medicine_recomandation_data/indiation_and_reaction/cleaned_generic_df_2.csv\n",
      " delete mode 100644 tryagain/medicine_recomandation_data/indiation_and_reaction/cleaned_generic_df_main.csv\n",
      " delete mode 100644 tryagain/medicine_recomandation_data/indiation_and_reaction/dosage form.csv\n",
      " delete mode 100644 tryagain/medicine_recomandation_data/indiation_and_reaction/drug class.csv\n",
      " delete mode 100644 tryagain/medicine_recomandation_data/indiation_and_reaction/full_cleaned_django.csv\n",
      " delete mode 100644 tryagain/medicine_recomandation_data/indiation_and_reaction/generic.csv\n",
      " delete mode 100644 tryagain/medicine_recomandation_data/indiation_and_reaction/indication.csv\n",
      " delete mode 100644 tryagain/medicine_recomandation_data/indiation_and_reaction/inidication.ipynb\n",
      " delete mode 100644 tryagain/medicine_recomandation_data/indiation_and_reaction/manufacturer.csv\n",
      " delete mode 100644 tryagain/medicine_recomandation_data/indiation_and_reaction/medicine.csv\n",
      " delete mode 100644 tryagain/medicine_recomandation_data/indiation_and_reaction/new_generic.csv\n",
      " delete mode 100644 tryagain/medicine_recomandation_data/indiation_and_reaction/new_generic_2.csv\n",
      " delete mode 100644 tryagain/medicine_recomandation_data/indiation_and_reaction/unique_indection_list.txt\n",
      " delete mode 100644 tryagain/medicine_recomandation_data/indication.csv\n",
      " delete mode 100644 tryagain/medicine_recomandation_data/main/full_cleaned_django.csv\n",
      " delete mode 100644 tryagain/medicine_recomandation_data/manufacturer.csv\n",
      " delete mode 100644 tryagain/medicine_recomandation_data/med_recomendation.ipynb\n",
      " delete mode 100644 tryagain/nirab/BACK_UP/ENG_OCR_HANDWRITTEN.html\n",
      " delete mode 100644 tryagain/nirab/BACK_UP/OCR.html\n",
      " delete mode 100644 tryagain/nirab/BACK_UP/add_image.html\n",
      " delete mode 100644 tryagain/nirab/BACK_UP/add_or_update_record copy.html\n",
      " delete mode 100644 tryagain/nirab/BACK_UP/add_or_update_record.html\n",
      " delete mode 100644 tryagain/nirab/BACK_UP/apps.html\n",
      " delete mode 100644 tryagain/nirab/BACK_UP/bangla_ocr.py\n",
      " delete mode 100644 tryagain/nirab/BACK_UP/base_ocr.html\n",
      " delete mode 100644 tryagain/nirab/BACK_UP/dashboard.html\n",
      " delete mode 100644 tryagain/nirab/BACK_UP/django.csv\n",
      " delete mode 100644 tryagain/nirab/BACK_UP/eng_ocr.py\n",
      " delete mode 100644 tryagain/nirab/BACK_UP/full_cleaned_django.csv\n",
      " delete mode 100644 tryagain/nirab/BACK_UP/full_cleaned_django_2.csv\n",
      " delete mode 100644 tryagain/nirab/BACK_UP/medication.html\n",
      " delete mode 100644 tryagain/nirab/BACK_UP/medicine_chatbot.html\n",
      " delete mode 100644 tryagain/nirab/BACK_UP/nirab.csv\n",
      " delete mode 100644 tryagain/nirab/BACK_UP/presciption_classification.html\n",
      " delete mode 100644 tryagain/nirab/BACK_UP/presciption_classification.py\n",
      " delete mode 100644 tryagain/nirab/BACK_UP/profile copy.html\n",
      " delete mode 100644 tryagain/nirab/BACK_UP/profile.html\n",
      " delete mode 100644 tryagain/nirab/BACK_UP/profile_picture.html\n",
      " delete mode 100644 tryagain/nirab/BACK_UP/social_media_Page.html\n",
      " delete mode 100644 tryagain/nirab/hugging_face.ipynb\n",
      " delete mode 100644 tryagain/nirab/madication_chat copy.py\n",
      " delete mode 100644 tryagain/nirab/med_recomendation.ipynb\n",
      " delete mode 100644 tryagain/nirab/presciption_classification copy.py\n",
      " delete mode 100644 tryagain/nirab/templates/medication copy.html\n",
      " delete mode 100644 tryagain/nirab/templates/medicine_chatbot copy.html\n",
      " delete mode 100644 tryagain/nirab/templates/medicine_chatbot_copy.html\n",
      " delete mode 100644 tryagain/nirab/templates/medicine_details copy.html\n",
      " delete mode 100644 tryagain/nirab/templates/presciption_classification copy.html\n",
      " delete mode 100644 tryagain/nirab/templates/presciption_classification_copy.html\n",
      " delete mode 100644 tryagain/presciption_classification/cleaned_generic_df_main.csv\n",
      " delete mode 100644 tryagain/presciption_classification/django_drug_class_results.csv\n",
      " delete mode 100644 tryagain/presciption_classification/django_side_effects_.7_indications.txt\n",
      " delete mode 100644 tryagain/presciption_classification/drug_class_results.csv\n",
      " delete mode 100644 tryagain/presciption_classification/drug_class_results.ipynb\n",
      " delete mode 100644 tryagain/presciption_classification/final_django_side_effects_.7_results.csv\n",
      " delete mode 100644 tryagain/presciption_classification/final_drug_class_results.csv\n",
      " delete mode 100644 tryagain/presciption_classification/presciption.ipynb\n",
      " delete mode 100644 tryagain/presciption_classification/side_effects.csv\n",
      " delete mode 100644 tryagain/presciption_classification/side_effects.ipynb\n",
      " delete mode 100644 tryagain/presciption_classification/side_effects_.7_.csv\n",
      " delete mode 100644 tryagain/presciption_classification/side_effects_with_GN(70)_.csv\n",
      " delete mode 100644 tryagain/side_effects.csv\n"
     ]
    },
    {
     "name": "stderr",
     "output_type": "stream",
     "text": [
      "remote: \n",
      "remote: Create a pull request for 'rifatul_islam_v2' on GitHub by visiting:        \n",
      "remote:      https://github.com/Nirab123456/learn_django/pull/new/rifatul_islam_v2        \n",
      "remote: \n",
      "remote: GitHub found 25 vulnerabilities on Nirab123456/learn_django's default branch (6 critical, 13 high, 5 moderate, 1 low). To find out more, visit:        \n",
      "remote:      https://github.com/Nirab123456/learn_django/security/dependabot        \n",
      "remote: \n",
      "To https://github.com/Nirab123456/learn_django.git\n",
      " * [new branch]      rifatul_islam_v2 -> rifatul_islam_v2\n"
     ]
    }
   ],
   "source": [
    "!git add .\n",
    "!git commit -m \"1st commit it is the cleand version of v1 branch from 160th commit\"\n",
    "!git push origin rifatul_islam_v2"
   ]
  },
  {
   "cell_type": "code",
   "execution_count": null,
   "metadata": {},
   "outputs": [],
   "source": [
    "!git status"
   ]
  },
  {
   "cell_type": "code",
   "execution_count": null,
   "metadata": {},
   "outputs": [],
   "source": [
    "!git add .\n"
   ]
  },
  {
   "cell_type": "code",
   "execution_count": null,
   "metadata": {},
   "outputs": [],
   "source": [
    "!git commit -m \" \""
   ]
  },
  {
   "cell_type": "code",
   "execution_count": null,
   "metadata": {},
   "outputs": [],
   "source": [
    "\n",
    "!git push origin Banglaocr"
   ]
  },
  {
   "cell_type": "code",
   "execution_count": 1,
   "metadata": {},
   "outputs": [
    {
     "name": "stderr",
     "output_type": "stream",
     "text": [
      "Switched to a new branch 'rifatul_islam_v2'\n"
     ]
    }
   ],
   "source": [
    "!git checkout -b rifatul_islam_v2"
   ]
  },
  {
   "cell_type": "code",
   "execution_count": null,
   "metadata": {},
   "outputs": [],
   "source": [
    "!git checkout Banglaocr_with_bootstrap5\n"
   ]
  },
  {
   "cell_type": "code",
   "execution_count": null,
   "metadata": {},
   "outputs": [],
   "source": [
    "!git push origin secondary\n"
   ]
  },
  {
   "cell_type": "code",
   "execution_count": null,
   "metadata": {},
   "outputs": [],
   "source": [
    "!git status"
   ]
  }
 ],
 "metadata": {
  "kernelspec": {
   "display_name": "tf",
   "language": "python",
   "name": "python3"
  },
  "language_info": {
   "codemirror_mode": {
    "name": "ipython",
    "version": 3
   },
   "file_extension": ".py",
   "mimetype": "text/x-python",
   "name": "python",
   "nbconvert_exporter": "python",
   "pygments_lexer": "ipython3",
   "version": "3.8.16"
  },
  "orig_nbformat": 4
 },
 "nbformat": 4,
 "nbformat_minor": 2
}
