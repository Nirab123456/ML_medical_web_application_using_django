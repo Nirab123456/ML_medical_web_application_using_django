{
 "cells": [
  {
   "cell_type": "code",
   "execution_count": null,
   "metadata": {},
   "outputs": [],
   "source": [
    "!git pull origin Banglaocr\n",
    "\n"
   ]
  },
  {
   "cell_type": "code",
   "execution_count": 1,
   "metadata": {},
   "outputs": [
    {
     "name": "stderr",
     "output_type": "stream",
     "text": [
      "warning: in the working copy of 'git.ipynb', LF will be replaced by CRLF the next time Git touches it\n",
      "warning: in the working copy of 'tryagain/nirab/templates/search.html', LF will be replaced by CRLF the next time Git touches it\n",
      "warning: in the working copy of 'tryagain/nirab/templates/search_copy.html', LF will be replaced by CRLF the next time Git touches it\n",
      "warning: in the working copy of 'tryagain/nirab/templates/search_results.html', LF will be replaced by CRLF the next time Git touches it\n",
      "warning: in the working copy of 'studio/assets/bootstrap/css/bootstrap.min.css', LF will be replaced by CRLF the next time Git touches it\n",
      "warning: in the working copy of 'studio/assets/bootstrap/js/bootstrap.min.js', LF will be replaced by CRLF the next time Git touches it\n",
      "warning: in the working copy of 'studio/assets/css/FontAwesome.css', LF will be replaced by CRLF the next time Git touches it\n",
      "warning: in the working copy of 'studio/assets/css/Material-Design-Iconic-Font.css', LF will be replaced by CRLF the next time Git touches it\n",
      "warning: in the working copy of 'studio/assets/css/css/main.css', LF will be replaced by CRLF the next time Git touches it\n",
      "warning: in the working copy of 'studio/assets/css/vendor/datepicker/daterangepicker.css', LF will be replaced by CRLF the next time Git touches it\n",
      "warning: in the working copy of 'studio/assets/css/vendor/font-awesome-4.7/css/font-awesome.min.css', LF will be replaced by CRLF the next time Git touches it\n",
      "warning: in the working copy of 'studio/assets/css/vendor/mdi-font/css/material-design-iconic-font.min.css', LF will be replaced by CRLF the next time Git touches it\n",
      "warning: in the working copy of 'studio/assets/css/vendor/select2/select2.min.css', LF will be replaced by CRLF the next time Git touches it\n",
      "warning: in the working copy of 'studio/assets/fonts/fa-brands-400.svg', LF will be replaced by CRLF the next time Git touches it\n",
      "warning: in the working copy of 'studio/assets/fonts/fa-regular-400.svg', LF will be replaced by CRLF the next time Git touches it\n",
      "warning: in the working copy of 'studio/assets/fonts/fa-solid-900.svg', LF will be replaced by CRLF the next time Git touches it\n",
      "warning: in the working copy of 'studio/assets/fonts/fontawesome-all.min.css', LF will be replaced by CRLF the next time Git touches it\n",
      "warning: in the working copy of 'studio/assets/js/vendor/bootstrap-wizard/bootstrap.min.js', LF will be replaced by CRLF the next time Git touches it\n",
      "warning: in the working copy of 'studio/assets/js/vendor/bootstrap-wizard/jquery.bootstrap.wizard.min.js', LF will be replaced by CRLF the next time Git touches it\n",
      "warning: in the working copy of 'studio/assets/js/vendor/datepicker/daterangepicker.js', LF will be replaced by CRLF the next time Git touches it\n",
      "warning: in the working copy of 'studio/assets/js/vendor/datepicker/moment.min.js', LF will be replaced by CRLF the next time Git touches it\n",
      "warning: in the working copy of 'studio/assets/js/vendor/jquery-validate/jquery.validate.min.js', LF will be replaced by CRLF the next time Git touches it\n",
      "warning: in the working copy of 'studio/index-1.html', LF will be replaced by CRLF the next time Git touches it\n",
      "warning: in the working copy of 'studio/index.html', LF will be replaced by CRLF the next time Git touches it\n",
      "warning: in the working copy of 'studio/untitled.html', LF will be replaced by CRLF the next time Git touches it\n",
      "warning: in the working copy of 'tryagain/nirab/templates/tryagain.html', LF will be replaced by CRLF the next time Git touches it\n"
     ]
    },
    {
     "name": "stdout",
     "output_type": "stream",
     "text": [
      "[rifatul_islam_v3 53ad0ec] slightly improved scarch box\n",
      " 63 files changed, 34994 insertions(+), 37 deletions(-)\n",
      " create mode 100644 studio/assets/bootstrap/css/bootstrap.min.css\n",
      " create mode 100644 studio/assets/bootstrap/js/bootstrap.min.js\n",
      " create mode 100644 studio/assets/css/FontAwesome.css\n",
      " create mode 100644 studio/assets/css/Material-Design-Iconic-Font.css\n",
      " create mode 100644 studio/assets/css/css/main.css\n",
      " create mode 100644 studio/assets/css/vendor/datepicker/daterangepicker.css\n",
      " create mode 100644 studio/assets/css/vendor/font-awesome-4.7/css/font-awesome.min.css\n",
      " create mode 100644 studio/assets/css/vendor/mdi-font/css/material-design-iconic-font.min.css\n",
      " create mode 100644 studio/assets/css/vendor/select2/select2.min.css\n",
      " create mode 100644 studio/assets/fonts/Material-Design-Iconic-Font.ttf\n",
      " create mode 100644 studio/assets/fonts/Material-Design-Iconic-Font.woff\n",
      " create mode 100644 studio/assets/fonts/Material-Design-Iconic-Font.woff2\n",
      " create mode 100644 studio/assets/fonts/fa-brands-400.eot\n",
      " create mode 100644 studio/assets/fonts/fa-brands-400.svg\n",
      " create mode 100644 studio/assets/fonts/fa-brands-400.ttf\n",
      " create mode 100644 studio/assets/fonts/fa-brands-400.woff\n",
      " create mode 100644 studio/assets/fonts/fa-brands-400.woff2\n",
      " create mode 100644 studio/assets/fonts/fa-regular-400.eot\n",
      " create mode 100644 studio/assets/fonts/fa-regular-400.svg\n",
      " create mode 100644 studio/assets/fonts/fa-regular-400.ttf\n",
      " create mode 100644 studio/assets/fonts/fa-regular-400.woff\n",
      " create mode 100644 studio/assets/fonts/fa-regular-400.woff2\n",
      " create mode 100644 studio/assets/fonts/fa-solid-900.eot\n",
      " create mode 100644 studio/assets/fonts/fa-solid-900.svg\n",
      " create mode 100644 studio/assets/fonts/fa-solid-900.ttf\n",
      " create mode 100644 studio/assets/fonts/fa-solid-900.woff\n",
      " create mode 100644 studio/assets/fonts/fa-solid-900.woff2\n",
      " create mode 100644 studio/assets/fonts/fontawesome-all.min.css\n",
      " create mode 100644 studio/assets/fonts/fontawesome-webfont.eot\n",
      " create mode 100644 studio/assets/fonts/fontawesome-webfont.svg\n",
      " create mode 100644 studio/assets/fonts/fontawesome-webfont.ttf\n",
      " create mode 100644 studio/assets/fonts/fontawesome-webfont.woff\n",
      " create mode 100644 studio/assets/fonts/fontawesome-webfont.woff2\n",
      " create mode 100644 studio/assets/img/bg-img-01.jpg\n",
      " create mode 100644 studio/assets/js/js/global.js\n",
      " create mode 100644 studio/assets/js/vendor/bootstrap-wizard/bootstrap.min.js\n",
      " create mode 100644 studio/assets/js/vendor/bootstrap-wizard/jquery.bootstrap.wizard.min.js\n",
      " create mode 100644 studio/assets/js/vendor/datepicker/daterangepicker.js\n",
      " create mode 100644 studio/assets/js/vendor/datepicker/moment.min.js\n",
      " create mode 100644 studio/assets/js/vendor/jquery-validate/jquery.validate.min.js\n",
      " create mode 100644 studio/assets/js/vendor/jquery/jquery.min.js\n",
      " create mode 100644 studio/assets/js/vendor/select2/select2.min.js\n",
      " create mode 100644 studio/index-1.html\n",
      " create mode 100644 studio/index.html\n",
      " create mode 100644 studio/untitled.html\n",
      " create mode 100644 tryagain/about_me/css/material-design-iconic-font.css\n",
      " create mode 100644 tryagain/about_me/css/material-design-iconic-font.min.css\n",
      " create mode 100644 tryagain/about_me/font_new/FontAwesome.otf\n",
      " create mode 100644 tryagain/about_me/font_new/Material-Design-Iconic-Font.eot\n",
      " create mode 100644 tryagain/about_me/font_new/Material-Design-Iconic-Font.svg\n",
      " create mode 100644 tryagain/about_me/font_new/Material-Design-Iconic-Font.ttf\n",
      " create mode 100644 tryagain/about_me/font_new/Material-Design-Iconic-Font.woff\n",
      " create mode 100644 tryagain/about_me/font_new/Material-Design-Iconic-Font.woff2\n",
      " create mode 100644 tryagain/about_me/font_new/fontawesome-webfont.eot\n",
      " create mode 100644 tryagain/about_me/font_new/fontawesome-webfont.svg\n",
      " create mode 100644 tryagain/about_me/font_new/fontawesome-webfont.ttf\n",
      " create mode 100644 tryagain/about_me/font_new/fontawesome-webfont.woff\n",
      " create mode 100644 tryagain/about_me/font_new/fontawesome-webfont.woff2\n",
      " create mode 100644 tryagain/nirab/templates/tryagain.html\n"
     ]
    },
    {
     "name": "stderr",
     "output_type": "stream",
     "text": [
      "remote: \n",
      "remote: GitHub found 25 vulnerabilities on Nirab123456/learn_django's default branch (6 critical, 13 high, 5 moderate, 1 low). To find out more, visit:        \n",
      "remote:      https://github.com/Nirab123456/learn_django/security/dependabot        \n",
      "remote: \n",
      "To https://github.com/Nirab123456/learn_django.git\n",
      "   5a6c010..53ad0ec  rifatul_islam_v3 -> rifatul_islam_v3\n"
     ]
    }
   ],
   "source": [
    "!git add .\n",
    "!git commit -m \"slightly improved scarch box\"\n",
    "!git push origin rifatul_islam_v3"
   ]
  },
  {
   "cell_type": "code",
   "execution_count": null,
   "metadata": {},
   "outputs": [],
   "source": [
    "!git status"
   ]
  },
  {
   "cell_type": "code",
   "execution_count": null,
   "metadata": {},
   "outputs": [],
   "source": [
    "!git add .\n"
   ]
  },
  {
   "cell_type": "code",
   "execution_count": null,
   "metadata": {},
   "outputs": [],
   "source": [
    "!git commit -m \" \""
   ]
  },
  {
   "cell_type": "code",
   "execution_count": null,
   "metadata": {},
   "outputs": [],
   "source": [
    "\n",
    "!git push origin Banglaocr"
   ]
  },
  {
   "cell_type": "code",
   "execution_count": 1,
   "metadata": {},
   "outputs": [
    {
     "name": "stderr",
     "output_type": "stream",
     "text": [
      "Switched to a new branch 'rifatul_islam_v3'\n"
     ]
    }
   ],
   "source": [
    "!git checkout -b rifatul_islam_v3"
   ]
  },
  {
   "cell_type": "code",
   "execution_count": null,
   "metadata": {},
   "outputs": [],
   "source": [
    "!git checkout Banglaocr_with_bootstrap5\n"
   ]
  },
  {
   "cell_type": "code",
   "execution_count": null,
   "metadata": {},
   "outputs": [],
   "source": [
    "!git push origin secondary\n"
   ]
  },
  {
   "cell_type": "code",
   "execution_count": null,
   "metadata": {},
   "outputs": [],
   "source": [
    "!git status"
   ]
  }
 ],
 "metadata": {
  "kernelspec": {
   "display_name": "tf",
   "language": "python",
   "name": "python3"
  },
  "language_info": {
   "codemirror_mode": {
    "name": "ipython",
    "version": 3
   },
   "file_extension": ".py",
   "mimetype": "text/x-python",
   "name": "python",
   "nbconvert_exporter": "python",
   "pygments_lexer": "ipython3",
   "version": "3.8.16"
  },
  "orig_nbformat": 4
 },
 "nbformat": 4,
 "nbformat_minor": 2
}
