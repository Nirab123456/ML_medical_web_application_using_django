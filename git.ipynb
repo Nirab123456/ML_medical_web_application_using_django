{
 "cells": [
  {
   "cell_type": "code",
   "execution_count": 1,
   "metadata": {},
   "outputs": [
    {
     "name": "stderr",
     "output_type": "stream",
     "text": [
      "warning: in the working copy of 'git.ipynb', LF will be replaced by CRLF the next time Git touches it\n"
     ]
    },
    {
     "name": "stdout",
     "output_type": "stream",
     "text": [
      "[main ade40fa] try again IN GOOD SHAPE\n",
      " 25 files changed, 373 insertions(+), 54 deletions(-)\n",
      " create mode 100644 tryagain/Rifat/__pycache__/__init__.cpython-310.pyc\n",
      " create mode 100644 tryagain/Rifat/__pycache__/settings.cpython-310.pyc\n",
      " create mode 100644 tryagain/nirab/__pycache__/__init__.cpython-310.pyc\n",
      " create mode 100644 tryagain/nirab/__pycache__/apps.cpython-310.pyc\n",
      " create mode 100644 tryagain/nirab/__pycache__/forms.cpython-38.pyc\n",
      " create mode 100644 tryagain/nirab/forms.py\n",
      " create mode 100644 tryagain/nirab/migrations/0001_initial.py\n",
      " create mode 100644 tryagain/nirab/migrations/__pycache__/0001_initial.cpython-38.pyc\n",
      " create mode 100644 tryagain/nirab/templates/login.html\n",
      " create mode 100644 tryagain/nirab/templates/real.html\n",
      " create mode 100644 tryagain/nirab/templates/record.html\n",
      " create mode 100644 tryagain/nirab/templates/records.html\n",
      " create mode 100644 tryagain/nirab/templates/register.html\n"
     ]
    },
    {
     "name": "stderr",
     "output_type": "stream",
     "text": [
      "To https://github.com/Nirab123456/learn_django.git\n",
      "   9f86099..ade40fa  main -> main\n"
     ]
    }
   ],
   "source": [
    "!git add .\n",
    "!git commit -m \"try again IN GOOD SHAPE\"\n",
    "!git push "
   ]
  }
 ],
 "metadata": {
  "kernelspec": {
   "display_name": "tf",
   "language": "python",
   "name": "python3"
  },
  "language_info": {
   "codemirror_mode": {
    "name": "ipython",
    "version": 3
   },
   "file_extension": ".py",
   "mimetype": "text/x-python",
   "name": "python",
   "nbconvert_exporter": "python",
   "pygments_lexer": "ipython3",
   "version": "3.8.16"
  },
  "orig_nbformat": 4
 },
 "nbformat": 4,
 "nbformat_minor": 2
}
