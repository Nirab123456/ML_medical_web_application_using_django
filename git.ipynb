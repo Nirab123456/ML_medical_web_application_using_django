{
 "cells": [
  {
   "cell_type": "code",
   "execution_count": 2,
   "metadata": {},
   "outputs": [
    {
     "name": "stderr",
     "output_type": "stream",
     "text": [
      "warning: in the working copy of 'git.ipynb', LF will be replaced by CRLF the next time Git touches it\n"
     ]
    },
    {
     "name": "stdout",
     "output_type": "stream",
     "text": [
      "[Banglaocr 30e47a4] started working on ocr(currently working on image upload and update(ishu in update))\n",
      " 32 files changed, 173 insertions(+), 25 deletions(-)\n",
      " create mode 100644 tryagain/media/images/1.png\n",
      " create mode 100644 tryagain/media/images/1_2u9nMym.png\n",
      " create mode 100644 tryagain/media/images/1_81YZXnC.png\n",
      " create mode 100644 tryagain/media/images/1_B5QYKOK.png\n",
      " create mode 100644 tryagain/media/images/1_EltXpJS.png\n",
      " create mode 100644 tryagain/media/images/1_QXxfP5W.png\n",
      " create mode 100644 tryagain/media/images/1_gD8L1Ur.png\n",
      " create mode 100644 tryagain/media/images/Untitled-22.jpg\n",
      " create mode 100644 tryagain/media/images/Untitled-26.jpg\n",
      " create mode 100644 tryagain/media/images/download.jpg\n",
      " create mode 100644 tryagain/nirab/migrations/0005_recordimage.py\n",
      " create mode 100644 tryagain/nirab/migrations/0006_remove_recordimage_created_at_and_more.py\n",
      " create mode 100644 tryagain/nirab/migrations/__pycache__/0005_recordimage.cpython-38.pyc\n",
      " create mode 100644 tryagain/nirab/migrations/__pycache__/0006_remove_recordimage_created_at_and_more.cpython-38.pyc\n",
      " create mode 100644 tryagain/nirab/templates/add_image.html\n"
     ]
    },
    {
     "name": "stderr",
     "output_type": "stream",
     "text": [
      "remote: \n",
      "remote: Create a pull request for 'Banglaocr' on GitHub by visiting:        \n",
      "remote:      https://github.com/Nirab123456/learn_django/pull/new/Banglaocr        \n",
      "remote: \n",
      "To https://github.com/Nirab123456/learn_django.git\n",
      " * [new branch]      Banglaocr -> Banglaocr\n"
     ]
    }
   ],
   "source": [
    "!git add .\n",
    "!git commit -m \"started working on ocr(currently working on image upload and update(ishu in update))\"\n",
    "!git push origin Banglaocr"
   ]
  },
  {
   "cell_type": "code",
   "execution_count": 1,
   "metadata": {},
   "outputs": [
    {
     "name": "stderr",
     "output_type": "stream",
     "text": [
      "Switched to a new branch 'Banglaocr'\n"
     ]
    }
   ],
   "source": [
    "!git checkout -b Banglaocr"
   ]
  },
  {
   "cell_type": "code",
   "execution_count": 6,
   "metadata": {},
   "outputs": [
    {
     "name": "stderr",
     "output_type": "stream",
     "text": [
      "Already on 'third'\n"
     ]
    }
   ],
   "source": [
    "!git checkout third\n"
   ]
  },
  {
   "cell_type": "code",
   "execution_count": 8,
   "metadata": {},
   "outputs": [
    {
     "name": "stderr",
     "output_type": "stream",
     "text": [
      "remote: \n",
      "remote: Create a pull request for 'secondary' on GitHub by visiting:        \n",
      "remote:      https://github.com/Nirab123456/learn_django/pull/new/secondary        \n",
      "remote: \n",
      "To https://github.com/Nirab123456/learn_django.git\n",
      " * [new branch]      secondary -> secondary\n"
     ]
    }
   ],
   "source": [
    "!git push origin secondary\n"
   ]
  },
  {
   "cell_type": "code",
   "execution_count": 3,
   "metadata": {},
   "outputs": [
    {
     "name": "stdout",
     "output_type": "stream",
     "text": [
      "On branch secondary\n",
      "nothing to commit, working tree clean\n"
     ]
    }
   ],
   "source": [
    "!git status"
   ]
  }
 ],
 "metadata": {
  "kernelspec": {
   "display_name": "tf",
   "language": "python",
   "name": "python3"
  },
  "language_info": {
   "codemirror_mode": {
    "name": "ipython",
    "version": 3
   },
   "file_extension": ".py",
   "mimetype": "text/x-python",
   "name": "python",
   "nbconvert_exporter": "python",
   "pygments_lexer": "ipython3",
   "version": "3.8.16"
  },
  "orig_nbformat": 4
 },
 "nbformat": 4,
 "nbformat_minor": 2
}
