{
 "cells": [
  {
   "cell_type": "code",
   "execution_count": null,
   "metadata": {},
   "outputs": [],
   "source": [
    "!git pull origin Banglaocr\n",
    "\n"
   ]
  },
  {
   "cell_type": "code",
   "execution_count": 1,
   "metadata": {},
   "outputs": [
    {
     "name": "stderr",
     "output_type": "stream",
     "text": [
      "warning: in the working copy of 'cardio_vascular/intro_cvd_torch.ipynb', LF will be replaced by CRLF the next time Git touches it\n",
      "warning: in the working copy of 'git.ipynb', LF will be replaced by CRLF the next time Git touches it\n"
     ]
    },
    {
     "name": "stdout",
     "output_type": "stream",
     "text": [
      "[rifatul_islam_v5 1f253ea] bmi calculator imported in website working like a cherm\n",
      " 23 files changed, 11394 insertions(+), 56 deletions(-)\n",
      " create mode 100644 tryagain/about_me/bmi/child_lookup.json\n",
      " create mode 100644 tryagain/about_me/bmi/config.json\n",
      " create mode 100644 tryagain/about_me/bmi/css/bmi-desktop.css\n",
      " create mode 100644 tryagain/about_me/bmi/css/bmi-shared.css\n",
      " create mode 100644 tryagain/about_me/bmi/data.json\n",
      " create mode 100644 tryagain/about_me/bmi/images/alert_sml.png\n",
      " create mode 100644 tryagain/about_me/bmi/images/input_bg.png\n",
      " create mode 100644 tryagain/about_me/bmi/images/plus.png\n",
      " create mode 100644 tryagain/about_me/bmi/images/pointer.png\n",
      " create mode 100644 tryagain/about_me/bmi/images/slider_adult_1.png\n",
      " create mode 100644 tryagain/about_me/bmi/js/app.main.min.js\n",
      " create mode 100644 tryagain/about_me/bmi/js/inline_launcher.js\n",
      " create mode 100644 tryagain/about_me/bmi/templates/index copy.html\n",
      " create mode 100644 tryagain/about_me/bmi/templates/index.html\n",
      " create mode 100644 tryagain/about_me/bmi/vendor/jquery-3.2.1.min.js\n",
      " create mode 100644 tryagain/nirab/templates/main_bmi_calculator.html\n"
     ]
    },
    {
     "name": "stderr",
     "output_type": "stream",
     "text": [
      "remote: \n",
      "remote: GitHub found 25 vulnerabilities on Nirab123456/learn_django's default branch (6 critical, 13 high, 5 moderate, 1 low). To find out more, visit:        \n",
      "remote:      https://github.com/Nirab123456/learn_django/security/dependabot        \n",
      "remote: \n",
      "To https://github.com/Nirab123456/learn_django.git\n",
      "   91d5ec7..1f253ea  rifatul_islam_v5 -> rifatul_islam_v5\n"
     ]
    }
   ],
   "source": [
    "!git add .\n",
    "!git commit -m \"bmi calculator imported in website working like a cherm\"\n",
    "!git push origin rifatul_islam_v5"
   ]
  },
  {
   "cell_type": "code",
   "execution_count": null,
   "metadata": {},
   "outputs": [],
   "source": [
    "!git status"
   ]
  },
  {
   "cell_type": "code",
   "execution_count": null,
   "metadata": {},
   "outputs": [],
   "source": [
    "!git add .\n"
   ]
  },
  {
   "cell_type": "code",
   "execution_count": null,
   "metadata": {},
   "outputs": [],
   "source": [
    "!git commit -m \" \""
   ]
  },
  {
   "cell_type": "code",
   "execution_count": null,
   "metadata": {},
   "outputs": [],
   "source": [
    "\n",
    "!git push origin Banglaocr"
   ]
  },
  {
   "cell_type": "code",
   "execution_count": 7,
   "metadata": {},
   "outputs": [
    {
     "name": "stderr",
     "output_type": "stream",
     "text": [
      "Switched to a new branch 'rifatul_islam_v5'\n"
     ]
    }
   ],
   "source": [
    "!git checkout -b rifatul_islam_v5"
   ]
  },
  {
   "cell_type": "code",
   "execution_count": null,
   "metadata": {},
   "outputs": [],
   "source": [
    "!git checkout Banglaocr_with_bootstrap5\n"
   ]
  },
  {
   "cell_type": "code",
   "execution_count": null,
   "metadata": {},
   "outputs": [],
   "source": [
    "!git push origin secondary\n"
   ]
  },
  {
   "cell_type": "code",
   "execution_count": null,
   "metadata": {},
   "outputs": [],
   "source": [
    "!git status"
   ]
  }
 ],
 "metadata": {
  "kernelspec": {
   "display_name": "tf",
   "language": "python",
   "name": "python3"
  },
  "language_info": {
   "codemirror_mode": {
    "name": "ipython",
    "version": 3
   },
   "file_extension": ".py",
   "mimetype": "text/x-python",
   "name": "python",
   "nbconvert_exporter": "python",
   "pygments_lexer": "ipython3",
   "version": "3.8.16"
  },
  "orig_nbformat": 4
 },
 "nbformat": 4,
 "nbformat_minor": 2
}
