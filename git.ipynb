{
 "cells": [
  {
   "cell_type": "code",
   "execution_count": null,
   "metadata": {},
   "outputs": [],
   "source": [
    "!git pull origin Banglaocr\n",
    "\n"
   ]
  },
  {
   "cell_type": "code",
   "execution_count": 1,
   "metadata": {},
   "outputs": [
    {
     "name": "stderr",
     "output_type": "stream",
     "text": [
      "warning: in the working copy of 'git.ipynb', LF will be replaced by CRLF the next time Git touches it\n"
     ]
    },
    {
     "name": "stdout",
     "output_type": "stream",
     "text": [
      "[rifatul_islam_v5_change_theme b8b7f9a] fixed hand base ocr pages all functionality got late due to any()\n",
      " 130 files changed, 277 insertions(+), 32 deletions(-)\n",
      " create mode 100644 tryagain/00860f513104430684357b2022a0fde5.txt\n",
      " create mode 100644 tryagain/00860f513104430684357b2022a0fde5.txt_outt.png\n",
      " create mode 100644 tryagain/0b672be0a388490bb62c83d2bfbd23f2.pdf\n",
      " create mode 100644 tryagain/0b86be1b8dcb41bf9fc9c847353bc852.txt\n",
      " create mode 100644 tryagain/0b86be1b8dcb41bf9fc9c847353bc852.txt_outt.png\n",
      " create mode 100644 tryagain/11280504b03747a3bbb65fbe56f0196e.txt\n",
      " create mode 100644 tryagain/11280504b03747a3bbb65fbe56f0196e.txt_outt.png\n",
      " create mode 100644 tryagain/12cc2d24c5f6450c8ae4f2ab38774dc5.txt\n",
      " create mode 100644 tryagain/12cc2d24c5f6450c8ae4f2ab38774dc5.txt_outt.png\n",
      " create mode 100644 tryagain/13cbe183cf1f4950b8228fecab82fcd5.txt\n",
      " create mode 100644 tryagain/1468109b778643f1b0dcc29b92ab7951.txt\n",
      " create mode 100644 tryagain/1468109b778643f1b0dcc29b92ab7951.txt_outt.png\n",
      " create mode 100644 tryagain/1bd23331552848c19f2561848ad76f54.txt\n",
      " create mode 100644 tryagain/1bd23331552848c19f2561848ad76f54.txt_outt.png\n",
      " create mode 100644 tryagain/1d2865101ce04e629d2930b5cb808177.txt\n",
      " create mode 100644 tryagain/1f74a7aacc984e668684f444ee66f78e.txt\n",
      " create mode 100644 tryagain/1f74a7aacc984e668684f444ee66f78e.txt_outt.png\n",
      " create mode 100644 tryagain/24622f6e71734f579af43ebed8db9f82.txt\n",
      " create mode 100644 tryagain/24622f6e71734f579af43ebed8db9f82.txt_outt.png\n",
      " create mode 100644 tryagain/2b5d1afeeeca4cc0959c987e74678cf3.pdf\n",
      " create mode 100644 tryagain/2f1aef30cfe247dca9db896bd83c3bfb.txt\n",
      " create mode 100644 tryagain/2f1aef30cfe247dca9db896bd83c3bfb.txt_outt.png\n",
      " create mode 100644 tryagain/300bfe985b5846139651193fa358f08d.pdf\n",
      " create mode 100644 tryagain/300bfe985b5846139651193fa358f08d.txt\n",
      " create mode 100644 tryagain/3027d4b6ce07401bb93c2cdb4cbb9ad8.txt\n",
      " create mode 100644 tryagain/3027d4b6ce07401bb93c2cdb4cbb9ad8.txt_outt.png\n",
      " create mode 100644 tryagain/3295287286b94ca2aead7f65a3fc0733.txt\n",
      " create mode 100644 tryagain/3295287286b94ca2aead7f65a3fc0733.txt_outt.png\n",
      " create mode 100644 tryagain/32b9a550403e44ccb385510fd916509e.txt\n",
      " create mode 100644 tryagain/3dbb38996f5d44648ebc6cfc4e42c143.txt\n",
      " create mode 100644 tryagain/459b9d073b2c4a84baf30ae5bf0afe2e.pdf\n",
      " create mode 100644 tryagain/459b9d073b2c4a84baf30ae5bf0afe2e.txt\n",
      " create mode 100644 tryagain/4c78cd1352b94bd0abddde6f006f9619.pdf\n",
      " create mode 100644 tryagain/52f73560549a4d66aa62f67e4229d0a6.pdf\n",
      " create mode 100644 tryagain/5635a61225da42179dc45015ebaee004.txt\n",
      " create mode 100644 tryagain/5635a61225da42179dc45015ebaee004.txt_outt.png\n",
      " create mode 100644 tryagain/5a76fa1f6b09407593fb2dd42c4ff904.txt\n",
      " create mode 100644 tryagain/5d1af6ffaa304b9e9c16b378c2a5b34c.txt\n",
      " create mode 100644 tryagain/5d1af6ffaa304b9e9c16b378c2a5b34c.txt_outt.png\n",
      " create mode 100644 tryagain/6216570b224e4f1fac441e07b77ecbe6.txt\n",
      " create mode 100644 tryagain/63a25bc31acb47658466d35438f7caca.txt\n",
      " create mode 100644 tryagain/63a25bc31acb47658466d35438f7caca.txt_outt.png\n",
      " create mode 100644 tryagain/6415eb5fcfb245eb836fcb9ab3dfe4bf.txt\n",
      " create mode 100644 tryagain/6415eb5fcfb245eb836fcb9ab3dfe4bf.txt_outt.png\n",
      " create mode 100644 tryagain/70cde9b1038b4bcf949c9c136e2c4e40.pdf\n",
      " create mode 100644 tryagain/83d84cc60ba844328d78460b4ac0493e.txt\n",
      " create mode 100644 tryagain/844a0ea5554a47bb974da5abe265d832.txt\n",
      " create mode 100644 tryagain/844a0ea5554a47bb974da5abe265d832.txt_outt.png\n",
      " create mode 100644 tryagain/8d11097c99054e0ca4e2d1282e965e8f.txt\n",
      " create mode 100644 tryagain/8d11097c99054e0ca4e2d1282e965e8f.txt_outt.png\n",
      " create mode 100644 tryagain/91066301358544958a0046f40af773e1.txt\n",
      " create mode 100644 tryagain/91066301358544958a0046f40af773e1.txt_outt.png\n",
      " create mode 100644 tryagain/97d2f88425bf43d38c3e20f855a35057.txt\n",
      " create mode 100644 tryagain/97d2f88425bf43d38c3e20f855a35057.txt_outt.png\n",
      " create mode 100644 tryagain/9907ae99cf354f66bbf7742024e07b84.pdf\n",
      " create mode 100644 tryagain/991c4bde00df4682ae3fe890c8447044.txt\n",
      " create mode 100644 tryagain/9925568a0531488b92392cea1c928b51.txt\n",
      " create mode 100644 tryagain/9925568a0531488b92392cea1c928b51.txt_outt.png\n",
      " create mode 100644 tryagain/9c82bddf119348d1a16d0cc685a1358e.txt\n",
      " create mode 100644 tryagain/9d450db3447343619ceb7041a05de55e.txt\n",
      " create mode 100644 tryagain/9d450db3447343619ceb7041a05de55e.txt_outt.png\n",
      " create mode 100644 tryagain/a06ded04f468499aa5cdf72be765e3b6.txt\n",
      " create mode 100644 tryagain/a06ded04f468499aa5cdf72be765e3b6.txt_outt.png\n",
      " create mode 100644 tryagain/b747c6cb88f547c19dd71a886aaee038.txt\n",
      " create mode 100644 tryagain/c145318b734a410a86a499bcd0108dfb.txt\n",
      " create mode 100644 tryagain/c3c89ca61897417eaf4e3385645c8f42.txt\n",
      " create mode 100644 tryagain/cb4aed8170214ef384100cbab318c36e.txt\n",
      " create mode 100644 tryagain/cb4aed8170214ef384100cbab318c36e.txt_outt.png\n",
      " create mode 100644 tryagain/d2da67f035d144e29c22ebfe57d78bb7.txt\n",
      " create mode 100644 tryagain/e9e04ba5fe594509b2b964f8fdac61a3.txt\n",
      " create mode 100644 tryagain/e9e04ba5fe594509b2b964f8fdac61a3.txt_outt.png\n",
      " create mode 100644 tryagain/eca8f0c2a50642629b8be052d4eee61e.txt\n",
      " create mode 100644 tryagain/f24c98cb76e1481aa6de3333b68adcfd.txt\n",
      " create mode 100644 tryagain/f2c54c5f660c4cdeb468c09fea18e8dc.txt\n",
      " create mode 100644 tryagain/f2c54c5f660c4cdeb468c09fea18e8dc.txt_outt.png\n",
      " create mode 100644 tryagain/f9418ef20c294617a29bace1e01a3012.txt\n",
      " create mode 100644 tryagain/fa5132ba800e4d9e93388f778b94cd5c.txt\n",
      " create mode 100644 tryagain/fa5132ba800e4d9e93388f778b94cd5c.txt_outt.png\n",
      " create mode 100644 tryagain/ffa245eae6d34ff394b55d328a923f28.txt\n",
      " create mode 100644 tryagain/ffa245eae6d34ff394b55d328a923f28.txt_outt.png\n",
      " create mode 100644 tryagain/media/15eda7931b1d4f2b9b1d330945f230b3.txt\n",
      " create mode 100644 tryagain/media/284142ff42af48109f9d576dd725a888.txt\n",
      " create mode 100644 tryagain/media/2bb82c819afe44d1a6feb97529909d56.txt\n",
      " create mode 100644 tryagain/media/57bb667f73fe478ea404c552b552126d.txt\n",
      " create mode 100644 tryagain/media/5d94c20d054d4343add05e363baa7aa9.txt\n",
      " create mode 100644 tryagain/media/5fceebfe317a400b97e1716ccc806034.txt\n",
      " create mode 100644 tryagain/media/651d6a4832a34908a0c8f3704c885c00.txt\n",
      " create mode 100644 tryagain/media/66a0417fabef42c6a6f5b0309d312a91.txt\n",
      " create mode 100644 tryagain/media/6fe9e70aac1546c6bb9cd0ee8d56ebde.txt\n",
      " create mode 100644 tryagain/media/71a77f3e848141d8b3e2a890a2083f0c.txt\n",
      " create mode 100644 tryagain/media/77a2c23bbaec47b88039b13478da80eb.txt\n",
      " create mode 100644 tryagain/media/79c16363ecf24b54ac400ed894db6a36.txt\n",
      " create mode 100644 tryagain/media/84f9f688bae6462887ac28e4a2679fbb.txt\n",
      " create mode 100644 tryagain/media/899d627aa8774d00bf6a51306a62ef3d.txt\n",
      " create mode 100644 tryagain/media/8dc370c7998c4ee19f7deaff3d4406e6.txt\n",
      " create mode 100644 tryagain/media/8e1ea3a2-3a63-42b4-b617-43b50a3c234e.pdf\n",
      " create mode 100644 tryagain/media/8e1ea3a2-3a63-42b4-b617-43b50a3c234e.txt\n",
      " create mode 100644 tryagain/media/9064c45da1034380bc6eeafd313ae1ba.pdf\n",
      " create mode 100644 tryagain/media/9064c45da1034380bc6eeafd313ae1ba.txt\n",
      " create mode 100644 tryagain/media/ad61cbc008794722bb5de8c987a0360f.txt\n",
      " create mode 100644 tryagain/media/af7ab83a139144b385558c9415510faf.txt\n",
      " create mode 100644 tryagain/media/b160319dc05a48a391265efb3bcdd7d8.txt\n",
      " create mode 100644 tryagain/media/b206b9d66399455b8dad5e3f07ff224a.pdf\n",
      " create mode 100644 tryagain/media/b206b9d66399455b8dad5e3f07ff224a.txt\n",
      " create mode 100644 tryagain/media/b7718d76cd6442c8ba30699c39df1bf0.pdf\n",
      " create mode 100644 tryagain/media/b7718d76cd6442c8ba30699c39df1bf0.txt\n",
      " create mode 100644 tryagain/media/b81c059b30a14a4981ae7e9f9c63c511.txt\n",
      " create mode 100644 tryagain/media/ba5948a077374e3eb019b34a7c4f8d9b.pdf\n",
      " create mode 100644 tryagain/media/ba5948a077374e3eb019b34a7c4f8d9b.txt\n",
      " create mode 100644 tryagain/media/bd566850033a4fa1bc51b5bdab4aca83.pdf\n",
      " create mode 100644 tryagain/media/bd566850033a4fa1bc51b5bdab4aca83.txt\n",
      " create mode 100644 tryagain/media/d481fdf328a742199ced2ea7e6403b22.txt\n",
      " create mode 100644 tryagain/media/d4efb81e80044733973ef11ddc74c7d9.pdf\n",
      " create mode 100644 tryagain/media/d4efb81e80044733973ef11ddc74c7d9.txt\n",
      " create mode 100644 tryagain/nirab/migrations/0045_handwritten_text_model_delete_post.py\n",
      " create mode 100644 tryagain/nirab/migrations/0046_alter_handwritten_text_model_text_handwritten.py\n",
      " create mode 100644 tryagain/nirab/migrations/__pycache__/0045_handwritten_text_model_delete_post.cpython-38.pyc\n",
      " create mode 100644 tryagain/nirab/migrations/__pycache__/0046_alter_handwritten_text_model_text_handwritten.cpython-38.pyc\n"
     ]
    },
    {
     "name": "stderr",
     "output_type": "stream",
     "text": [
      "remote: \n",
      "remote: GitHub found 25 vulnerabilities on Nirab123456/learn_django's default branch (6 critical, 13 high, 5 moderate, 1 low). To find out more, visit:        \n",
      "remote:      https://github.com/Nirab123456/learn_django/security/dependabot        \n",
      "remote: \n",
      "To https://github.com/Nirab123456/learn_django.git\n",
      "   2e3b813..b8b7f9a  rifatul_islam_v5_change_theme -> rifatul_islam_v5_change_theme\n"
     ]
    }
   ],
   "source": [
    "!git add .\n",
    "!git commit -m \"fixed hand base ocr pages all functionality got late due to any()\"\n",
    "!git push origin rifatul_islam_v6"
   ]
  },
  {
   "cell_type": "code",
   "execution_count": null,
   "metadata": {},
   "outputs": [],
   "source": [
    "!git status"
   ]
  },
  {
   "cell_type": "code",
   "execution_count": null,
   "metadata": {},
   "outputs": [],
   "source": [
    "!git add .\n"
   ]
  },
  {
   "cell_type": "code",
   "execution_count": null,
   "metadata": {},
   "outputs": [],
   "source": [
    "!git commit -m \" \""
   ]
  },
  {
   "cell_type": "code",
   "execution_count": null,
   "metadata": {},
   "outputs": [],
   "source": [
    "\n",
    "!git push origin Banglaocr"
   ]
  },
  {
   "cell_type": "code",
   "execution_count": 7,
   "metadata": {},
   "outputs": [
    {
     "name": "stderr",
     "output_type": "stream",
     "text": [
      "Switched to a new branch 'rifatul_islam_v5_change_theme'\n"
     ]
    }
   ],
   "source": [
    "!git checkout -b rifatul_islam_v5_change_theme"
   ]
  },
  {
   "cell_type": "code",
   "execution_count": null,
   "metadata": {},
   "outputs": [],
   "source": [
    "!git checkout Banglaocr_with_bootstrap5\n"
   ]
  },
  {
   "cell_type": "code",
   "execution_count": null,
   "metadata": {},
   "outputs": [],
   "source": [
    "!git push origin secondary\n"
   ]
  },
  {
   "cell_type": "code",
   "execution_count": null,
   "metadata": {},
   "outputs": [],
   "source": [
    "!git status"
   ]
  }
 ],
 "metadata": {
  "kernelspec": {
   "display_name": "tf",
   "language": "python",
   "name": "python3"
  },
  "language_info": {
   "codemirror_mode": {
    "name": "ipython",
    "version": 3
   },
   "file_extension": ".py",
   "mimetype": "text/x-python",
   "name": "python",
   "nbconvert_exporter": "python",
   "pygments_lexer": "ipython3",
   "version": "3.8.16"
  },
  "orig_nbformat": 4
 },
 "nbformat": 4,
 "nbformat_minor": 2
}
