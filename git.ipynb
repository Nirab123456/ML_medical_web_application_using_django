{
 "cells": [
  {
   "cell_type": "code",
   "execution_count": null,
   "metadata": {},
   "outputs": [],
   "source": [
    "!git pull origin Banglaocr\n",
    "\n"
   ]
  },
  {
   "cell_type": "code",
   "execution_count": 1,
   "metadata": {},
   "outputs": [
    {
     "name": "stderr",
     "output_type": "stream",
     "text": [
      "warning: in the working copy of 'cardio_vascular/intro_cvd_torch.ipynb', LF will be replaced by CRLF the next time Git touches it\n",
      "warning: in the working copy of 'git.ipynb', LF will be replaced by CRLF the next time Git touches it\n",
      "warning: in the working copy of 'tryagain/nirab/scrap.ipynb', LF will be replaced by CRLF the next time Git touches it\n",
      "warning: in the working copy of 'cardio_vascular/data_stracture_check.ipynb', LF will be replaced by CRLF the next time Git touches it\n",
      "warning: in the working copy of 'tryagain/about_me/CVD/css/main.css', LF will be replaced by CRLF the next time Git touches it\n",
      "warning: in the working copy of 'tryagain/about_me/CVD/vendor/datepicker/daterangepicker.css', LF will be replaced by CRLF the next time Git touches it\n",
      "warning: in the working copy of 'tryagain/about_me/CVD/vendor/datepicker/daterangepicker.js', LF will be replaced by CRLF the next time Git touches it\n",
      "warning: in the working copy of 'tryagain/about_me/CVD/vendor/datepicker/moment.min.js', LF will be replaced by CRLF the next time Git touches it\n",
      "warning: in the working copy of 'tryagain/about_me/CVD/vendor/select2/select2.min.css', LF will be replaced by CRLF the next time Git touches it\n"
     ]
    },
    {
     "name": "stdout",
     "output_type": "stream",
     "text": [
      "[rifatul_islam_v5 b285cc0] basic cvd page almost done a primary working model is lready ready\n",
      " 79 files changed, 26205 insertions(+), 36681 deletions(-)\n",
      " create mode 100644 cardio_vascular/data_stracture_check.ipynb\n",
      " create mode 100644 cardio_vascular/model_epoch1.pt\n",
      " create mode 100644 cardio_vascular/model_epoch18.pt\n",
      " create mode 100644 cardio_vascular/model_epoch2.pt\n",
      " create mode 100644 cardio_vascular/model_epoch3.pt\n",
      " create mode 100644 cardio_vascular/model_epoch4.pt\n",
      " create mode 100644 cardio_vascular/model_epoch5.pt\n",
      " create mode 100644 cardio_vascular/model_epoch6.pt\n",
      " create mode 100644 cardio_vascular/runs/Aug12_00-07-11_rifat/events.out.tfevents.1691777231.rifat.17860.7\n",
      " create mode 100644 cardio_vascular/runs/Aug12_09-43-04_rifat/events.out.tfevents.1691811784.rifat.17860.8\n",
      " create mode 100644 tryagain/about_me/CVD/css/main.css\n",
      " create mode 100644 tryagain/about_me/CVD/js/global.js\n",
      " create mode 100644 tryagain/about_me/CVD/vendor/datepicker/daterangepicker.css\n",
      " create mode 100644 tryagain/about_me/CVD/vendor/datepicker/daterangepicker.js\n",
      " create mode 100644 tryagain/about_me/CVD/vendor/datepicker/moment.min.js\n",
      " create mode 100644 tryagain/about_me/CVD/vendor/font-awesome-4.7/HELP-US-OUT.txt\n",
      " create mode 100644 tryagain/about_me/CVD/vendor/font-awesome-4.7/css/font-awesome.css\n",
      " create mode 100644 tryagain/about_me/CVD/vendor/font-awesome-4.7/css/font-awesome.min.css\n",
      " create mode 100644 tryagain/about_me/CVD/vendor/font-awesome-4.7/fonts/FontAwesome.otf\n",
      " create mode 100644 tryagain/about_me/CVD/vendor/font-awesome-4.7/fonts/fontawesome-webfont.eot\n",
      " create mode 100644 tryagain/about_me/CVD/vendor/font-awesome-4.7/fonts/fontawesome-webfont.svg\n",
      " create mode 100644 tryagain/about_me/CVD/vendor/font-awesome-4.7/fonts/fontawesome-webfont.ttf\n",
      " create mode 100644 tryagain/about_me/CVD/vendor/font-awesome-4.7/fonts/fontawesome-webfont.woff\n",
      " create mode 100644 tryagain/about_me/CVD/vendor/font-awesome-4.7/fonts/fontawesome-webfont.woff2\n",
      " create mode 100644 tryagain/about_me/CVD/vendor/jquery/jquery.js\n",
      " create mode 100644 tryagain/about_me/CVD/vendor/jquery/jquery.min.js\n",
      " create mode 100644 tryagain/about_me/CVD/vendor/mdi-font/css/material-design-iconic-font.css\n",
      " create mode 100644 tryagain/about_me/CVD/vendor/mdi-font/css/material-design-iconic-font.min.css\n",
      " create mode 100644 tryagain/about_me/CVD/vendor/mdi-font/fonts/Material-Design-Iconic-Font.eot\n",
      " create mode 100644 tryagain/about_me/CVD/vendor/mdi-font/fonts/Material-Design-Iconic-Font.svg\n",
      " create mode 100644 tryagain/about_me/CVD/vendor/mdi-font/fonts/Material-Design-Iconic-Font.ttf\n",
      " create mode 100644 tryagain/about_me/CVD/vendor/mdi-font/fonts/Material-Design-Iconic-Font.woff\n",
      " create mode 100644 tryagain/about_me/CVD/vendor/mdi-font/fonts/Material-Design-Iconic-Font.woff2\n",
      " create mode 100644 tryagain/about_me/CVD/vendor/select2/select2.min.css\n",
      " create mode 100644 tryagain/about_me/CVD/vendor/select2/select2.min.js\n",
      " create mode 100644 tryagain/about_me/bmi/images/slider_child.png\n",
      " create mode 100644 tryagain/nirab/templates/C_V_D_prediction.html\n",
      " create mode 100644 tryagain/nirab/templates/C_V_D_prediction_copy.html\n",
      " create mode 100644 tryagain/nirab/templates/C_V_D_prediction_copy_2.html\n",
      " delete mode 100644 www.nhs.uk/_DataURI/data.image.svg.xml.2296c58231a09.txt\n",
      " delete mode 100644 www.nhs.uk/_DataURI/data.image.svg.xml.9e7938ac08def.txt\n",
      " delete mode 100644 www.nhs.uk/assets.nhs.uk/fonts/0811514e-6660-4043-92c1-23d0b8caaa2f.woff2\n",
      " delete mode 100644 www.nhs.uk/assets.nhs.uk/fonts/8c92eb68-ce37-4962-a9f4-5b47d336bd1c.woff2\n",
      " delete mode 100644 www.nhs.uk/assets.nhs.uk/fonts/FrutigerLTW01-55Roman.woff2\n",
      " delete mode 100644 www.nhs.uk/assets.nhs.uk/fonts/FrutigerLTW01-65Bold.woff2\n",
      " delete mode 100644 www.nhs.uk/assets.nhs.uk/fonts/nhsuk-fonts-1.1.0.css\n",
      " delete mode 100644 www.nhs.uk/assets.nhs.uk/scripts/cookie-consent.js\n",
      " delete mode 100644 www.nhs.uk/assets.nhs.uk/scripts/login.js\n",
      " delete mode 100644 www.nhs.uk/assets.nhs.uk/tools/bmi/child_lookup.json\n",
      " delete mode 100644 www.nhs.uk/assets.nhs.uk/tools/bmi/config.json\n",
      " delete mode 100644 www.nhs.uk/assets.nhs.uk/tools/bmi/css/bmi-desktop.css\n",
      " delete mode 100644 www.nhs.uk/assets.nhs.uk/tools/bmi/css/bmi-shared.css\n",
      " delete mode 100644 www.nhs.uk/assets.nhs.uk/tools/bmi/data.json\n",
      " delete mode 100644 www.nhs.uk/assets.nhs.uk/tools/bmi/images/alert_sml.png\n",
      " delete mode 100644 www.nhs.uk/assets.nhs.uk/tools/bmi/images/input_bg.png\n",
      " delete mode 100644 www.nhs.uk/assets.nhs.uk/tools/bmi/images/plus.png\n",
      " delete mode 100644 www.nhs.uk/assets.nhs.uk/tools/bmi/images/pointer.png\n",
      " delete mode 100644 www.nhs.uk/assets.nhs.uk/tools/bmi/images/slider_adult_1.png\n",
      " delete mode 100644 www.nhs.uk/assets.nhs.uk/tools/bmi/js/app.main.min.js\n",
      " delete mode 100644 www.nhs.uk/assets.nhs.uk/tools/bmi/js/inline_launcher.js\n",
      " delete mode 100644 www.nhs.uk/assets.nhs.uk/tools/bmi/templates/index copy.html\n",
      " delete mode 100644 www.nhs.uk/assets.nhs.uk/tools/bmi/templates/index.html\n",
      " delete mode 100644 www.nhs.uk/assets.nhs.uk/tools/bmi/vendor/jquery-3.2.1.min.js\n",
      " delete mode 100644 www.nhs.uk/www.nhs.uk/externalservices/surveyfeedapi/api/bannerfeed.json\n",
      " delete mode 100644 www.nhs.uk/www.nhs.uk/live-well/healthy-weight/bmi-calculator/index copy.html\n",
      " delete mode 100644 www.nhs.uk/www.nhs.uk/live-well/healthy-weight/bmi-calculator/index.html\n",
      " delete mode 100644 www.nhs.uk/www.nhs.uk/our-policies/cookies-policy/index.html\n",
      " delete mode 100644 www.nhs.uk/www.nhs.uk/static/nhsuk/css/main.55bab994dc3e.css\n",
      " delete mode 100644 www.nhs.uk/www.nhs.uk/static/nhsuk/js/main.25ecae37f6db.js\n"
     ]
    },
    {
     "name": "stderr",
     "output_type": "stream",
     "text": [
      "remote: \n",
      "remote: GitHub found 25 vulnerabilities on Nirab123456/learn_django's default branch (6 critical, 13 high, 5 moderate, 1 low). To find out more, visit:        \n",
      "remote:      https://github.com/Nirab123456/learn_django/security/dependabot        \n",
      "remote: \n",
      "To https://github.com/Nirab123456/learn_django.git\n",
      "   1f253ea..b285cc0  rifatul_islam_v5 -> rifatul_islam_v5\n"
     ]
    }
   ],
   "source": [
    "!git add .\n",
    "!git commit -m \"basic cvd page almost done a primary working model is lready ready\"\n",
    "!git push origin rifatul_islam_v5"
   ]
  },
  {
   "cell_type": "code",
   "execution_count": null,
   "metadata": {},
   "outputs": [],
   "source": [
    "!git status"
   ]
  },
  {
   "cell_type": "code",
   "execution_count": null,
   "metadata": {},
   "outputs": [],
   "source": [
    "!git add .\n"
   ]
  },
  {
   "cell_type": "code",
   "execution_count": null,
   "metadata": {},
   "outputs": [],
   "source": [
    "!git commit -m \" \""
   ]
  },
  {
   "cell_type": "code",
   "execution_count": null,
   "metadata": {},
   "outputs": [],
   "source": [
    "\n",
    "!git push origin Banglaocr"
   ]
  },
  {
   "cell_type": "code",
   "execution_count": 7,
   "metadata": {},
   "outputs": [
    {
     "name": "stderr",
     "output_type": "stream",
     "text": [
      "Switched to a new branch 'rifatul_islam_v5'\n"
     ]
    }
   ],
   "source": [
    "!git checkout -b rifatul_islam_v5"
   ]
  },
  {
   "cell_type": "code",
   "execution_count": null,
   "metadata": {},
   "outputs": [],
   "source": [
    "!git checkout Banglaocr_with_bootstrap5\n"
   ]
  },
  {
   "cell_type": "code",
   "execution_count": null,
   "metadata": {},
   "outputs": [],
   "source": [
    "!git push origin secondary\n"
   ]
  },
  {
   "cell_type": "code",
   "execution_count": null,
   "metadata": {},
   "outputs": [],
   "source": [
    "!git status"
   ]
  }
 ],
 "metadata": {
  "kernelspec": {
   "display_name": "tf",
   "language": "python",
   "name": "python3"
  },
  "language_info": {
   "codemirror_mode": {
    "name": "ipython",
    "version": 3
   },
   "file_extension": ".py",
   "mimetype": "text/x-python",
   "name": "python",
   "nbconvert_exporter": "python",
   "pygments_lexer": "ipython3",
   "version": "3.8.16"
  },
  "orig_nbformat": 4
 },
 "nbformat": 4,
 "nbformat_minor": 2
}
