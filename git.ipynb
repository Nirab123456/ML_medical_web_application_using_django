{
 "cells": [
  {
   "cell_type": "code",
   "execution_count": null,
   "metadata": {},
   "outputs": [],
   "source": [
    "!git pull origin Banglaocr\n",
    "\n"
   ]
  },
  {
   "cell_type": "code",
   "execution_count": 2,
   "metadata": {},
   "outputs": [
    {
     "name": "stderr",
     "output_type": "stream",
     "text": [
      "Switched to a new branch 'rifatul_islam_v5_refresh'\n"
     ]
    }
   ],
   "source": [
    "!git checkout -b rifatul_islam_v5_refresh"
   ]
  },
  {
   "cell_type": "code",
   "execution_count": 1,
   "metadata": {},
   "outputs": [
    {
     "name": "stderr",
     "output_type": "stream",
     "text": [
      "warning: in the working copy of 'git.ipynb', LF will be replaced by CRLF the next time Git touches it\n",
      "warning: in the working copy of 'mental_health_pred_E/men_ient.ipynb', LF will be replaced by CRLF the next time Git touches it\n"
     ]
    },
    {
     "name": "stdout",
     "output_type": "stream",
     "text": [
      "[rifatul_islam_v5_refresh cf9c366] Personality prediction from personal dairy using NLP started work on it created 2 django model for it after that i will work with the python code\n",
      " 20 files changed, 308 insertions(+), 33 deletions(-)\n",
      " create mode 100644 mental_health_pred_E/label_list.txt\n",
      " create mode 100644 mental_health_pred_E/men_ient.ipynb\n",
      " create mode 100644 tryagain/media/60700b0cc6cb40cebc3c4855b8ea08c2.pdf\n",
      " create mode 100644 tryagain/media/60700b0cc6cb40cebc3c4855b8ea08c2.txt\n",
      " create mode 100644 tryagain/media/9a58ed0183884a63a0f059ed79b9d0d0.pdf\n",
      " create mode 100644 tryagain/media/9a58ed0183884a63a0f059ed79b9d0d0.txt\n",
      " create mode 100644 tryagain/media/b45b1b9468b44783a0e62a32455c4059.pdf\n",
      " create mode 100644 tryagain/media/b45b1b9468b44783a0e62a32455c4059.txt\n",
      " create mode 100644 tryagain/media/ca19e789c46b478c8e91008e57120d37.pdf\n",
      " create mode 100644 tryagain/media/ca19e789c46b478c8e91008e57120d37.txt\n",
      " create mode 100644 tryagain/nirab/migrations/0047_mental_health_prediction_model.py\n",
      " create mode 100644 tryagain/nirab/migrations/0048_personal_diary.py\n",
      " create mode 100644 tryagain/nirab/migrations/__pycache__/0047_mental_health_prediction_model.cpython-38.pyc\n",
      " create mode 100644 tryagain/nirab/migrations/__pycache__/0048_personal_diary.cpython-38.pyc\n"
     ]
    },
    {
     "name": "stderr",
     "output_type": "stream",
     "text": [
      "remote: \n",
      "remote: GitHub found 25 vulnerabilities on Nirab123456/learn_django's default branch (6 critical, 13 high, 5 moderate, 1 low). To find out more, visit:        \n",
      "remote:      https://github.com/Nirab123456/learn_django/security/dependabot        \n",
      "remote: \n",
      "To https://github.com/Nirab123456/learn_django.git\n",
      "   888245f..cf9c366  rifatul_islam_v5_refresh -> rifatul_islam_v5_refresh\n"
     ]
    }
   ],
   "source": [
    "!git add .\n",
    "!git commit -m \"Personality prediction from personal dairy using NLP started work on it created 2 django model for it after that i will work with the python code\"\n",
    "!git push origin rifatul_islam_v5_refresh"
   ]
  },
  {
   "cell_type": "code",
   "execution_count": null,
   "metadata": {},
   "outputs": [],
   "source": [
    "!git status"
   ]
  },
  {
   "cell_type": "code",
   "execution_count": null,
   "metadata": {},
   "outputs": [],
   "source": [
    "!git add .\n"
   ]
  },
  {
   "cell_type": "code",
   "execution_count": null,
   "metadata": {},
   "outputs": [],
   "source": [
    "!git commit -m \" \""
   ]
  },
  {
   "cell_type": "code",
   "execution_count": null,
   "metadata": {},
   "outputs": [],
   "source": [
    "\n",
    "!git push origin Banglaocr"
   ]
  },
  {
   "cell_type": "code",
   "execution_count": 7,
   "metadata": {},
   "outputs": [
    {
     "name": "stderr",
     "output_type": "stream",
     "text": [
      "Switched to a new branch 'rifatul_islam_v5_change_theme'\n"
     ]
    }
   ],
   "source": []
  },
  {
   "cell_type": "code",
   "execution_count": null,
   "metadata": {},
   "outputs": [],
   "source": [
    "!git checkout Banglaocr_with_bootstrap5\n"
   ]
  },
  {
   "cell_type": "code",
   "execution_count": null,
   "metadata": {},
   "outputs": [],
   "source": [
    "!git push origin secondary\n"
   ]
  },
  {
   "cell_type": "code",
   "execution_count": null,
   "metadata": {},
   "outputs": [],
   "source": [
    "!git status"
   ]
  }
 ],
 "metadata": {
  "kernelspec": {
   "display_name": "tf",
   "language": "python",
   "name": "python3"
  },
  "language_info": {
   "codemirror_mode": {
    "name": "ipython",
    "version": 3
   },
   "file_extension": ".py",
   "mimetype": "text/x-python",
   "name": "python",
   "nbconvert_exporter": "python",
   "pygments_lexer": "ipython3",
   "version": "3.8.16"
  },
  "orig_nbformat": 4
 },
 "nbformat": 4,
 "nbformat_minor": 2
}
