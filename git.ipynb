{
 "cells": [
  {
   "cell_type": "code",
   "execution_count": null,
   "metadata": {},
   "outputs": [],
   "source": [
    "!git pull origin Banglaocr\n",
    "\n"
   ]
  },
  {
   "cell_type": "code",
   "execution_count": 1,
   "metadata": {},
   "outputs": [
    {
     "name": "stderr",
     "output_type": "stream",
     "text": [
      "warning: in the working copy of 'git.ipynb', LF will be replaced by CRLF the next time Git touches it\n",
      "warning: in the working copy of 'tryagain/MAIN_CSV_DATA/new_data.ipynb', LF will be replaced by CRLF the next time Git touches it\n"
     ]
    },
    {
     "name": "stdout",
     "output_type": "stream",
     "text": [
      "[rifatul_islam_v2 043b0e5] backend data has been prepared\n",
      " 19 files changed, 48413 insertions(+), 6 deletions(-)\n",
      " create mode 100644 tryagain/MAIN_CSV_DATA/new_data.ipynb\n",
      " create mode 100644 tryagain/MAIN_CSV_DATA/new_main_data/cleaned_django_generic_data.csv\n",
      " create mode 100644 tryagain/MAIN_CSV_DATA/new_main_data/cleaned_generic_df_main_with_answers.csv\n",
      " create mode 100644 tryagain/MAIN_CSV_DATA/new_main_data/cleaned_generic_df_main_with_answers_2.csv\n",
      " create mode 100644 tryagain/MAIN_CSV_DATA/new_main_data/cleaned_generic_df_main_with_answers_2_1.csv\n",
      " create mode 100644 tryagain/MAIN_CSV_DATA/new_main_data/cleaned_generic_df_main_with_answers_2_2.csv\n",
      " create mode 100644 tryagain/MAIN_CSV_DATA/new_main_data/cleaned_generic_df_main_with_answers_3.csv\n",
      " create mode 100644 tryagain/MAIN_CSV_DATA/new_main_data/cleaned_generic_df_main_with_answers_4.csv\n",
      " create mode 100644 tryagain/MAIN_CSV_DATA/new_main_data/results.csv\n",
      " create mode 100644 tryagain/MAIN_CSV_DATA/new_main_data/use_cases.csv\n",
      " rename tryagain/MAIN_CSV_DATA/{ => old_main_data}/cleaned_generic_df_main.csv (100%)\n",
      " rename tryagain/MAIN_CSV_DATA/{ => old_main_data}/contraindication.csv (100%)\n",
      " rename tryagain/MAIN_CSV_DATA/{ => old_main_data}/django.csv (100%)\n",
      " rename tryagain/MAIN_CSV_DATA/{ => old_main_data}/drug_class.csv (100%)\n",
      " rename tryagain/MAIN_CSV_DATA/{ => old_main_data}/side_effects.csv (100%)\n"
     ]
    },
    {
     "name": "stderr",
     "output_type": "stream",
     "text": [
      "remote: \n",
      "remote: GitHub found 25 vulnerabilities on Nirab123456/learn_django's default branch (6 critical, 13 high, 5 moderate, 1 low). To find out more, visit:        \n",
      "remote:      https://github.com/Nirab123456/learn_django/security/dependabot        \n",
      "remote: \n",
      "To https://github.com/Nirab123456/learn_django.git\n",
      "   47df847..043b0e5  rifatul_islam_v2 -> rifatul_islam_v2\n"
     ]
    }
   ],
   "source": [
    "!git add .\n",
    "!git commit -m \"backend data has been prepared\"\n",
    "!git push origin rifatul_islam_v2"
   ]
  },
  {
   "cell_type": "code",
   "execution_count": null,
   "metadata": {},
   "outputs": [],
   "source": [
    "!git status"
   ]
  },
  {
   "cell_type": "code",
   "execution_count": null,
   "metadata": {},
   "outputs": [],
   "source": [
    "!git add .\n"
   ]
  },
  {
   "cell_type": "code",
   "execution_count": null,
   "metadata": {},
   "outputs": [],
   "source": [
    "!git commit -m \" \""
   ]
  },
  {
   "cell_type": "code",
   "execution_count": null,
   "metadata": {},
   "outputs": [],
   "source": [
    "\n",
    "!git push origin Banglaocr"
   ]
  },
  {
   "cell_type": "code",
   "execution_count": 1,
   "metadata": {},
   "outputs": [
    {
     "name": "stderr",
     "output_type": "stream",
     "text": [
      "Switched to a new branch 'rifatul_islam_v2'\n"
     ]
    }
   ],
   "source": [
    "!git checkout -b rifatul_islam_v2"
   ]
  },
  {
   "cell_type": "code",
   "execution_count": null,
   "metadata": {},
   "outputs": [],
   "source": [
    "!git checkout Banglaocr_with_bootstrap5\n"
   ]
  },
  {
   "cell_type": "code",
   "execution_count": null,
   "metadata": {},
   "outputs": [],
   "source": [
    "!git push origin secondary\n"
   ]
  },
  {
   "cell_type": "code",
   "execution_count": null,
   "metadata": {},
   "outputs": [],
   "source": [
    "!git status"
   ]
  }
 ],
 "metadata": {
  "kernelspec": {
   "display_name": "tf",
   "language": "python",
   "name": "python3"
  },
  "language_info": {
   "codemirror_mode": {
    "name": "ipython",
    "version": 3
   },
   "file_extension": ".py",
   "mimetype": "text/x-python",
   "name": "python",
   "nbconvert_exporter": "python",
   "pygments_lexer": "ipython3",
   "version": "3.8.16"
  },
  "orig_nbformat": 4
 },
 "nbformat": 4,
 "nbformat_minor": 2
}
