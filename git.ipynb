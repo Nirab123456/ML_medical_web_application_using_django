{
 "cells": [
  {
   "cell_type": "code",
   "execution_count": null,
   "metadata": {},
   "outputs": [],
   "source": [
    "!git pull origin Banglaocr\n",
    "\n"
   ]
  },
  {
   "cell_type": "code",
   "execution_count": 1,
   "metadata": {},
   "outputs": [
    {
     "name": "stderr",
     "output_type": "stream",
     "text": [
      "warning: in the working copy of 'git.ipynb', LF will be replaced by CRLF the next time Git touches it\n"
     ]
    },
    {
     "name": "stdout",
     "output_type": "stream",
     "text": [
      "[rifatul_islam_V1_medicine_recomendation(beta) 8f15ec2] fixed some more bug implimented beta med_QUES_ANS_corrected_answer model (will work with multiple drug based chatbot)\n",
      " 13 files changed, 105 insertions(+), 7 deletions(-)\n",
      " create mode 100644 tryagain/nirab/migrations/0039_ques_ans.py\n",
      " create mode 100644 tryagain/nirab/migrations/0040_med_ques_ans_delete_ques_ans.py\n",
      " create mode 100644 tryagain/nirab/migrations/0041_med_ques_ans_corrected_answer.py\n",
      " create mode 100644 tryagain/nirab/migrations/__pycache__/0039_ques_ans.cpython-38.pyc\n",
      " create mode 100644 tryagain/nirab/migrations/__pycache__/0040_med_ques_ans_delete_ques_ans.cpython-38.pyc\n",
      " create mode 100644 tryagain/nirab/migrations/__pycache__/0041_med_ques_ans_corrected_answer.cpython-38.pyc\n"
     ]
    },
    {
     "name": "stderr",
     "output_type": "stream",
     "text": [
      "remote: \n",
      "remote: GitHub found 25 vulnerabilities on Nirab123456/learn_django's default branch (6 critical, 13 high, 5 moderate, 1 low). To find out more, visit:        \n",
      "remote:      https://github.com/Nirab123456/learn_django/security/dependabot        \n",
      "remote: \n",
      "To https://github.com/Nirab123456/learn_django.git\n",
      "   ac868bc..8f15ec2  rifatul_islam_V1_medicine_recomendation(beta) -> rifatul_islam_V1_medicine_recomendation(beta)\n"
     ]
    }
   ],
   "source": [
    "!git add .\n",
    "!git commit -m \"fixed some more bug implimented beta med_QUES_ANS_corrected_answer model (will work with multiple drug based chatbot)\"\n",
    "!git push origin rifatul_islam_V1_medicine_recomendation(beta)"
   ]
  },
  {
   "cell_type": "code",
   "execution_count": null,
   "metadata": {},
   "outputs": [],
   "source": [
    "!git status"
   ]
  },
  {
   "cell_type": "code",
   "execution_count": null,
   "metadata": {},
   "outputs": [],
   "source": [
    "!git add .\n"
   ]
  },
  {
   "cell_type": "code",
   "execution_count": null,
   "metadata": {},
   "outputs": [],
   "source": [
    "!git commit -m \" \""
   ]
  },
  {
   "cell_type": "code",
   "execution_count": null,
   "metadata": {},
   "outputs": [],
   "source": [
    "\n",
    "!git push origin Banglaocr"
   ]
  },
  {
   "cell_type": "code",
   "execution_count": null,
   "metadata": {},
   "outputs": [],
   "source": [
    "!git checkout -b rifatul_islam_V1_medicine_recomendation(beta)"
   ]
  },
  {
   "cell_type": "code",
   "execution_count": null,
   "metadata": {},
   "outputs": [],
   "source": [
    "!git checkout Banglaocr_with_bootstrap5\n"
   ]
  },
  {
   "cell_type": "code",
   "execution_count": null,
   "metadata": {},
   "outputs": [],
   "source": [
    "!git push origin secondary\n"
   ]
  },
  {
   "cell_type": "code",
   "execution_count": null,
   "metadata": {},
   "outputs": [],
   "source": [
    "!git status"
   ]
  }
 ],
 "metadata": {
  "kernelspec": {
   "display_name": "tf",
   "language": "python",
   "name": "python3"
  },
  "language_info": {
   "codemirror_mode": {
    "name": "ipython",
    "version": 3
   },
   "file_extension": ".py",
   "mimetype": "text/x-python",
   "name": "python",
   "nbconvert_exporter": "python",
   "pygments_lexer": "ipython3",
   "version": "3.8.16"
  },
  "orig_nbformat": 4
 },
 "nbformat": 4,
 "nbformat_minor": 2
}
