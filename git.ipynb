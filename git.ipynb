{
 "cells": [
  {
   "cell_type": "code",
   "execution_count": null,
   "metadata": {},
   "outputs": [],
   "source": [
    "!git pull origin Banglaocr\n",
    "\n"
   ]
  },
  {
   "cell_type": "code",
   "execution_count": 2,
   "metadata": {},
   "outputs": [
    {
     "name": "stderr",
     "output_type": "stream",
     "text": [
      "Switched to a new branch 'rifatul_islam_v5_refresh'\n"
     ]
    }
   ],
   "source": [
    "!git checkout -b rifatul_islam_v5_refresh"
   ]
  },
  {
   "cell_type": "code",
   "execution_count": 1,
   "metadata": {},
   "outputs": [
    {
     "name": "stderr",
     "output_type": "stream",
     "text": [
      "warning: in the working copy of 'git.ipynb', LF will be replaced by CRLF the next time Git touches it\n",
      "warning: in the working copy of 'tryagain/nirab/templates/trial.html', LF will be replaced by CRLF the next time Git touches it\n"
     ]
    },
    {
     "name": "stdout",
     "output_type": "stream",
     "text": [
      "[rifatul_islam_v5_refresh 441ae20] prersonal diery record saving record count showing and per day record limitaion added\n",
      " 90 files changed, 454 insertions(+), 375 deletions(-)\n",
      " delete mode 100644 tryagain/00860f513104430684357b2022a0fde5.txt\n",
      " delete mode 100644 tryagain/00860f513104430684357b2022a0fde5.txt_outt.png\n",
      " delete mode 100644 tryagain/0b672be0a388490bb62c83d2bfbd23f2.pdf\n",
      " delete mode 100644 tryagain/0b86be1b8dcb41bf9fc9c847353bc852.txt\n",
      " delete mode 100644 tryagain/0b86be1b8dcb41bf9fc9c847353bc852.txt_outt.png\n",
      " delete mode 100644 tryagain/11280504b03747a3bbb65fbe56f0196e.txt\n",
      " delete mode 100644 tryagain/11280504b03747a3bbb65fbe56f0196e.txt_outt.png\n",
      " delete mode 100644 tryagain/12cc2d24c5f6450c8ae4f2ab38774dc5.txt\n",
      " delete mode 100644 tryagain/12cc2d24c5f6450c8ae4f2ab38774dc5.txt_outt.png\n",
      " delete mode 100644 tryagain/13cbe183cf1f4950b8228fecab82fcd5.txt\n",
      " delete mode 100644 tryagain/1468109b778643f1b0dcc29b92ab7951.txt\n",
      " delete mode 100644 tryagain/1468109b778643f1b0dcc29b92ab7951.txt_outt.png\n",
      " delete mode 100644 tryagain/1bd23331552848c19f2561848ad76f54.txt\n",
      " delete mode 100644 tryagain/1bd23331552848c19f2561848ad76f54.txt_outt.png\n",
      " delete mode 100644 tryagain/1d2865101ce04e629d2930b5cb808177.txt\n",
      " delete mode 100644 tryagain/1f74a7aacc984e668684f444ee66f78e.txt\n",
      " delete mode 100644 tryagain/1f74a7aacc984e668684f444ee66f78e.txt_outt.png\n",
      " delete mode 100644 tryagain/24622f6e71734f579af43ebed8db9f82.txt\n",
      " delete mode 100644 tryagain/24622f6e71734f579af43ebed8db9f82.txt_outt.png\n",
      " delete mode 100644 tryagain/2b5d1afeeeca4cc0959c987e74678cf3.pdf\n",
      " delete mode 100644 tryagain/2f1aef30cfe247dca9db896bd83c3bfb.txt\n",
      " delete mode 100644 tryagain/2f1aef30cfe247dca9db896bd83c3bfb.txt_outt.png\n",
      " delete mode 100644 tryagain/300bfe985b5846139651193fa358f08d.pdf\n",
      " delete mode 100644 tryagain/300bfe985b5846139651193fa358f08d.txt\n",
      " delete mode 100644 tryagain/3027d4b6ce07401bb93c2cdb4cbb9ad8.txt\n",
      " delete mode 100644 tryagain/3027d4b6ce07401bb93c2cdb4cbb9ad8.txt_outt.png\n",
      " delete mode 100644 tryagain/3295287286b94ca2aead7f65a3fc0733.txt\n",
      " delete mode 100644 tryagain/3295287286b94ca2aead7f65a3fc0733.txt_outt.png\n",
      " delete mode 100644 tryagain/32b9a550403e44ccb385510fd916509e.txt\n",
      " delete mode 100644 tryagain/3dbb38996f5d44648ebc6cfc4e42c143.txt\n",
      " delete mode 100644 tryagain/459b9d073b2c4a84baf30ae5bf0afe2e.pdf\n",
      " delete mode 100644 tryagain/459b9d073b2c4a84baf30ae5bf0afe2e.txt\n",
      " delete mode 100644 tryagain/4c78cd1352b94bd0abddde6f006f9619.pdf\n",
      " delete mode 100644 tryagain/52f73560549a4d66aa62f67e4229d0a6.pdf\n",
      " delete mode 100644 tryagain/5635a61225da42179dc45015ebaee004.txt\n",
      " delete mode 100644 tryagain/5635a61225da42179dc45015ebaee004.txt_outt.png\n",
      " delete mode 100644 tryagain/5a76fa1f6b09407593fb2dd42c4ff904.txt\n",
      " delete mode 100644 tryagain/5d1af6ffaa304b9e9c16b378c2a5b34c.txt\n",
      " delete mode 100644 tryagain/5d1af6ffaa304b9e9c16b378c2a5b34c.txt_outt.png\n",
      " delete mode 100644 tryagain/6216570b224e4f1fac441e07b77ecbe6.txt\n",
      " delete mode 100644 tryagain/63a25bc31acb47658466d35438f7caca.txt\n",
      " delete mode 100644 tryagain/63a25bc31acb47658466d35438f7caca.txt_outt.png\n",
      " delete mode 100644 tryagain/6415eb5fcfb245eb836fcb9ab3dfe4bf.txt\n",
      " delete mode 100644 tryagain/6415eb5fcfb245eb836fcb9ab3dfe4bf.txt_outt.png\n",
      " delete mode 100644 tryagain/70cde9b1038b4bcf949c9c136e2c4e40.pdf\n",
      " delete mode 100644 tryagain/83d84cc60ba844328d78460b4ac0493e.txt\n",
      " delete mode 100644 tryagain/844a0ea5554a47bb974da5abe265d832.txt\n",
      " delete mode 100644 tryagain/844a0ea5554a47bb974da5abe265d832.txt_outt.png\n",
      " delete mode 100644 tryagain/8d11097c99054e0ca4e2d1282e965e8f.txt\n",
      " delete mode 100644 tryagain/8d11097c99054e0ca4e2d1282e965e8f.txt_outt.png\n",
      " delete mode 100644 tryagain/91066301358544958a0046f40af773e1.txt\n",
      " delete mode 100644 tryagain/91066301358544958a0046f40af773e1.txt_outt.png\n",
      " delete mode 100644 tryagain/97d2f88425bf43d38c3e20f855a35057.txt\n",
      " delete mode 100644 tryagain/97d2f88425bf43d38c3e20f855a35057.txt_outt.png\n",
      " delete mode 100644 tryagain/9907ae99cf354f66bbf7742024e07b84.pdf\n",
      " delete mode 100644 tryagain/991c4bde00df4682ae3fe890c8447044.txt\n",
      " delete mode 100644 tryagain/9925568a0531488b92392cea1c928b51.txt\n",
      " delete mode 100644 tryagain/9925568a0531488b92392cea1c928b51.txt_outt.png\n",
      " delete mode 100644 tryagain/9c82bddf119348d1a16d0cc685a1358e.txt\n",
      " delete mode 100644 tryagain/9d450db3447343619ceb7041a05de55e.txt\n",
      " delete mode 100644 tryagain/9d450db3447343619ceb7041a05de55e.txt_outt.png\n",
      " delete mode 100644 tryagain/a06ded04f468499aa5cdf72be765e3b6.txt\n",
      " delete mode 100644 tryagain/a06ded04f468499aa5cdf72be765e3b6.txt_outt.png\n",
      " delete mode 100644 tryagain/b747c6cb88f547c19dd71a886aaee038.txt\n",
      " delete mode 100644 tryagain/c145318b734a410a86a499bcd0108dfb.txt\n",
      " delete mode 100644 tryagain/c3c89ca61897417eaf4e3385645c8f42.txt\n",
      " delete mode 100644 tryagain/cb4aed8170214ef384100cbab318c36e.txt\n",
      " delete mode 100644 tryagain/cb4aed8170214ef384100cbab318c36e.txt_outt.png\n",
      " delete mode 100644 tryagain/d2da67f035d144e29c22ebfe57d78bb7.txt\n",
      " delete mode 100644 tryagain/e9e04ba5fe594509b2b964f8fdac61a3.txt\n",
      " delete mode 100644 tryagain/e9e04ba5fe594509b2b964f8fdac61a3.txt_outt.png\n",
      " delete mode 100644 tryagain/eca8f0c2a50642629b8be052d4eee61e.txt\n",
      " delete mode 100644 tryagain/f24c98cb76e1481aa6de3333b68adcfd.txt\n",
      " delete mode 100644 tryagain/f2c54c5f660c4cdeb468c09fea18e8dc.txt\n",
      " delete mode 100644 tryagain/f2c54c5f660c4cdeb468c09fea18e8dc.txt_outt.png\n",
      " delete mode 100644 tryagain/f9418ef20c294617a29bace1e01a3012.txt\n",
      " delete mode 100644 tryagain/fa5132ba800e4d9e93388f778b94cd5c.txt\n",
      " delete mode 100644 tryagain/fa5132ba800e4d9e93388f778b94cd5c.txt_outt.png\n",
      " delete mode 100644 tryagain/ffa245eae6d34ff394b55d328a923f28.txt\n",
      " delete mode 100644 tryagain/ffa245eae6d34ff394b55d328a923f28.txt_outt.png\n",
      " create mode 100644 tryagain/nirab/templates/personal_diery_entry.html\n"
     ]
    },
    {
     "name": "stderr",
     "output_type": "stream",
     "text": [
      "remote: \n",
      "remote: GitHub found 25 vulnerabilities on Nirab123456/learn_django's default branch (6 critical, 13 high, 5 moderate, 1 low). To find out more, visit:        \n",
      "remote:      https://github.com/Nirab123456/learn_django/security/dependabot        \n",
      "remote: \n",
      "To https://github.com/Nirab123456/learn_django.git\n",
      "   cf9c366..441ae20  rifatul_islam_v5_refresh -> rifatul_islam_v5_refresh\n"
     ]
    }
   ],
   "source": [
    "!git add .\n",
    "!git commit -m \"prersonal diery record saving record count showing and per day record limitaion added\"\n",
    "!git push origin rifatul_islam_v5_refresh"
   ]
  },
  {
   "cell_type": "code",
   "execution_count": null,
   "metadata": {},
   "outputs": [],
   "source": [
    "!git status"
   ]
  },
  {
   "cell_type": "code",
   "execution_count": null,
   "metadata": {},
   "outputs": [],
   "source": [
    "!git add .\n"
   ]
  },
  {
   "cell_type": "code",
   "execution_count": null,
   "metadata": {},
   "outputs": [],
   "source": [
    "!git commit -m \" \""
   ]
  },
  {
   "cell_type": "code",
   "execution_count": null,
   "metadata": {},
   "outputs": [],
   "source": [
    "\n",
    "!git push origin Banglaocr"
   ]
  },
  {
   "cell_type": "code",
   "execution_count": 7,
   "metadata": {},
   "outputs": [
    {
     "name": "stderr",
     "output_type": "stream",
     "text": [
      "Switched to a new branch 'rifatul_islam_v5_change_theme'\n"
     ]
    }
   ],
   "source": []
  },
  {
   "cell_type": "code",
   "execution_count": null,
   "metadata": {},
   "outputs": [],
   "source": [
    "!git checkout Banglaocr_with_bootstrap5\n"
   ]
  },
  {
   "cell_type": "code",
   "execution_count": null,
   "metadata": {},
   "outputs": [],
   "source": [
    "!git push origin secondary\n"
   ]
  },
  {
   "cell_type": "code",
   "execution_count": null,
   "metadata": {},
   "outputs": [],
   "source": [
    "!git status"
   ]
  }
 ],
 "metadata": {
  "kernelspec": {
   "display_name": "tf",
   "language": "python",
   "name": "python3"
  },
  "language_info": {
   "codemirror_mode": {
    "name": "ipython",
    "version": 3
   },
   "file_extension": ".py",
   "mimetype": "text/x-python",
   "name": "python",
   "nbconvert_exporter": "python",
   "pygments_lexer": "ipython3",
   "version": "3.8.16"
  },
  "orig_nbformat": 4
 },
 "nbformat": 4,
 "nbformat_minor": 2
}
