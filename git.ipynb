{
 "cells": [
  {
   "cell_type": "code",
   "execution_count": 15,
   "metadata": {},
   "outputs": [
    {
     "name": "stdout",
     "output_type": "stream",
     "text": [
      "warning: Cannot merge binary files: tryagain/nirab/__pycache__/forms.cpython-38.pyc (HEAD vs. 230bea0b5d22158309d287cb302f6bb9a4c7187c)\n",
      "Auto-merging tryagain/nirab/__pycache__/forms.cpython-38.pyc\n",
      "CONFLICT (content): Merge conflict in tryagain/nirab/__pycache__/forms.cpython-38.pyc\n",
      "warning: Cannot merge binary files: tryagain/nirab/__pycache__/urls.cpython-38.pyc (HEAD vs. 230bea0b5d22158309d287cb302f6bb9a4c7187c)\n",
      "Auto-merging tryagain/nirab/__pycache__/urls.cpython-38.pyc\n",
      "CONFLICT (content): Merge conflict in tryagain/nirab/__pycache__/urls.cpython-38.pyc\n",
      "warning: Cannot merge binary files: tryagain/nirab/__pycache__/views.cpython-38.pyc (HEAD vs. 230bea0b5d22158309d287cb302f6bb9a4c7187c)\n",
      "Auto-merging tryagain/nirab/__pycache__/views.cpython-38.pyc\n",
      "CONFLICT (content): Merge conflict in tryagain/nirab/__pycache__/views.cpython-38.pyc\n",
      "Automatic merge failed; fix conflicts and then commit the result.\n"
     ]
    },
    {
     "name": "stderr",
     "output_type": "stream",
     "text": [
      "From https://github.com/Nirab123456/learn_django\n",
      " * branch            Banglaocr  -> FETCH_HEAD\n",
      "   30e47a4..230bea0  Banglaocr  -> origin/Banglaocr\n"
     ]
    }
   ],
   "source": [
    "!git pull origin Banglaocr\n",
    "\n"
   ]
  },
  {
   "cell_type": "code",
   "execution_count": 1,
   "metadata": {},
   "outputs": [
    {
     "name": "stderr",
     "output_type": "stream",
     "text": [
      "warning: in the working copy of 'git.ipynb', LF will be replaced by CRLF the next time Git touches it\n"
     ]
    },
    {
     "name": "stdout",
     "output_type": "stream",
     "text": [
      "[Banglaocr_V2 fdc4dc7]  basic  ENG ocr to hand written done in backend and used ENG_OCR_HANDWRITTEN.html\n",
      " 143 files changed, 310 insertions(+), 1368 deletions(-)\n",
      " rename tryagain/{nirab/myfont => eng_handwritten}/0.png (100%)\n",
      " rename tryagain/{nirab/myfont => eng_handwritten}/1.png (100%)\n",
      " rename tryagain/{nirab/myfont => eng_handwritten}/2.png (100%)\n",
      " rename tryagain/{nirab/myfont => eng_handwritten}/3.png (100%)\n",
      " rename tryagain/{nirab/myfont => eng_handwritten}/4.png (100%)\n",
      " rename tryagain/{nirab/myfont => eng_handwritten}/5.png (100%)\n",
      " rename tryagain/{nirab/myfont => eng_handwritten}/6.png (100%)\n",
      " rename tryagain/{nirab/myfont => eng_handwritten}/7.png (100%)\n",
      " rename tryagain/{nirab/myfont => eng_handwritten}/8.png (100%)\n",
      " rename tryagain/{nirab/myfont => eng_handwritten}/9.png (100%)\n",
      " rename tryagain/{nirab/myfont => eng_handwritten}/a.png (100%)\n",
      " rename tryagain/{nirab/myfont => eng_handwritten}/aupper.png (100%)\n",
      " rename tryagain/{nirab/myfont => eng_handwritten}/b.png (100%)\n",
      " rename tryagain/{nirab/myfont => eng_handwritten}/bg.png (100%)\n",
      " rename tryagain/{nirab/myfont => eng_handwritten}/braketcl.png (100%)\n",
      " rename tryagain/{nirab/myfont => eng_handwritten}/braketop.png (100%)\n",
      " rename tryagain/{nirab/myfont => eng_handwritten}/bupper.png (100%)\n",
      " rename tryagain/{nirab/myfont => eng_handwritten}/c.png (100%)\n",
      " rename tryagain/{nirab/myfont => eng_handwritten}/comma.png (100%)\n",
      " rename tryagain/{nirab/myfont => eng_handwritten}/cupper.png (100%)\n",
      " rename tryagain/{nirab/myfont => eng_handwritten}/d.png (100%)\n",
      " rename tryagain/{nirab/myfont => eng_handwritten}/dupper.png (100%)\n",
      " rename tryagain/{nirab/myfont => eng_handwritten}/e.png (100%)\n",
      " rename tryagain/{nirab/myfont => eng_handwritten}/eupper.png (100%)\n",
      " rename tryagain/{nirab/myfont => eng_handwritten}/exclamation.png (100%)\n",
      " rename tryagain/{nirab/myfont => eng_handwritten}/f.png (100%)\n",
      " rename tryagain/{nirab/myfont => eng_handwritten}/fullstop.png (100%)\n",
      " rename tryagain/{nirab/myfont => eng_handwritten}/fupper.png (100%)\n",
      " rename tryagain/{nirab/myfont => eng_handwritten}/g.png (100%)\n",
      " rename tryagain/{nirab/myfont => eng_handwritten}/gupper.png (100%)\n",
      " rename tryagain/{nirab/myfont => eng_handwritten}/h.png (100%)\n",
      " rename tryagain/{nirab/myfont => eng_handwritten}/hiphen.png (100%)\n",
      " rename tryagain/{nirab/myfont => eng_handwritten}/hupper.png (100%)\n",
      " rename tryagain/{nirab/myfont => eng_handwritten}/i.png (100%)\n",
      " rename tryagain/{nirab/myfont => eng_handwritten}/iupper.png (100%)\n",
      " rename tryagain/{nirab/myfont => eng_handwritten}/j.png (100%)\n",
      " rename tryagain/{nirab/myfont => eng_handwritten}/jupper.png (100%)\n",
      " rename tryagain/{nirab/myfont => eng_handwritten}/k.png (100%)\n",
      " rename tryagain/{nirab/myfont => eng_handwritten}/kupper.png (100%)\n",
      " rename tryagain/{nirab/myfont => eng_handwritten}/l.png (100%)\n",
      " rename tryagain/{nirab/myfont => eng_handwritten}/lupper.png (100%)\n",
      " rename tryagain/{nirab/myfont => eng_handwritten}/m.png (100%)\n",
      " rename tryagain/{nirab/myfont => eng_handwritten}/mupper.png (100%)\n",
      " rename tryagain/{nirab/myfont => eng_handwritten}/n.png (100%)\n",
      " rename tryagain/{nirab/myfont => eng_handwritten}/nupper.png (100%)\n",
      " rename tryagain/{nirab/myfont => eng_handwritten}/o.png (100%)\n",
      " rename tryagain/{nirab/myfont => eng_handwritten}/oupper.png (100%)\n",
      " rename tryagain/{nirab/myfont => eng_handwritten}/p.png (100%)\n",
      " rename tryagain/{nirab/myfont => eng_handwritten}/pupper.png (100%)\n",
      " rename tryagain/{nirab/myfont => eng_handwritten}/q.png (100%)\n",
      " rename tryagain/{nirab/myfont => eng_handwritten}/question.png (100%)\n",
      " rename tryagain/{nirab/myfont => eng_handwritten}/qupper.png (100%)\n",
      " rename tryagain/{nirab/myfont => eng_handwritten}/r.png (100%)\n",
      " rename tryagain/{nirab/myfont => eng_handwritten}/rupper.png (100%)\n",
      " rename tryagain/{nirab/myfont => eng_handwritten}/s.png (100%)\n",
      " rename tryagain/{nirab/myfont => eng_handwritten}/space.png (100%)\n",
      " rename tryagain/{nirab/myfont => eng_handwritten}/supper.png (100%)\n",
      " rename tryagain/{nirab/myfont => eng_handwritten}/t.png (100%)\n",
      " rename tryagain/{nirab/myfont => eng_handwritten}/tupper.png (100%)\n",
      " rename tryagain/{nirab/myfont => eng_handwritten}/u.png (100%)\n",
      " rename tryagain/{nirab/myfont => eng_handwritten}/uupper.png (100%)\n",
      " rename tryagain/{nirab/myfont => eng_handwritten}/v.png (100%)\n",
      " rename tryagain/{nirab/myfont => eng_handwritten}/vupper.png (100%)\n",
      " rename tryagain/{nirab/myfont => eng_handwritten}/w.png (100%)\n",
      " rename tryagain/{nirab/myfont => eng_handwritten}/wupper.png (100%)\n",
      " rename tryagain/{nirab/myfont => eng_handwritten}/x.png (100%)\n",
      " rename tryagain/{nirab/myfont => eng_handwritten}/xupper.png (100%)\n",
      " rename tryagain/{nirab/myfont => eng_handwritten}/y.png (100%)\n",
      " rename tryagain/{nirab/myfont => eng_handwritten}/yupper.png (100%)\n",
      " rename tryagain/{nirab/myfont => eng_handwritten}/z.png (100%)\n",
      " rename tryagain/{nirab/myfont => eng_handwritten}/zupper.png (100%)\n",
      " delete mode 100644 tryagain/media/015a73cd-4b83-4bea-b5f9-93ff3bc43e0e.txt\n",
      " create mode 100644 tryagain/media/07631062-5e2c-4164-927e-c938c5f05f05.txt\n",
      " delete mode 100644 tryagain/media/07d42269-55eb-41e4-8898-f616f59d4b0e.txt\n",
      " delete mode 100644 tryagain/media/08b97c4e-ba6d-4a7a-95b9-a6d0abe9244f.txt\n",
      " delete mode 100644 tryagain/media/08d0c2bb-7c7f-4aeb-8363-fb42af3b7eae.txt\n",
      " delete mode 100644 tryagain/media/0cceee54-265b-45a6-8838-d8f2caa59adf.txt\n",
      " delete mode 100644 tryagain/media/1157fab3-504f-4bb9-a038-03d7d77105cc.txt\n",
      " delete mode 100644 tryagain/media/161fbbaa-b488-4365-bc1f-aa92c687923c.txt\n",
      " delete mode 100644 tryagain/media/16e9875d-72ac-4eb2-b2bc-cd1238beef77.txt\n",
      " delete mode 100644 tryagain/media/174c31e6-39b4-4c62-aeeb-023f28912ba7.txt\n",
      " delete mode 100644 tryagain/media/18a66d76-b003-432f-ad64-43797db00d86.txt\n",
      " delete mode 100644 tryagain/media/18f9750b-fffe-494f-8516-f6398327c5f4.txt\n",
      " delete mode 100644 tryagain/media/2139e4a1-a4a8-4cf0-b0fb-ceff57e7aa57.txt\n",
      " delete mode 100644 tryagain/media/2b82b23d-7cbb-417c-a877-2530444bc681.txt\n",
      " delete mode 100644 tryagain/media/2d30b9a4-2ebe-43f5-8dc5-8050ed367fbd.txt\n",
      " delete mode 100644 tryagain/media/3070d084-a73b-44e6-9d91-b42245704643.txt\n",
      " delete mode 100644 tryagain/media/314a507f-e64d-414a-9673-5d01088d02e4.txt\n",
      " delete mode 100644 tryagain/media/32e57a32-fe1c-4a47-9735-31f381d351a9.txt\n",
      " delete mode 100644 tryagain/media/3879b59e-d541-41f0-898a-d2b462e950a6.txt\n",
      " delete mode 100644 tryagain/media/39e2b14c-969d-4038-a965-f3158db3ba12.txt\n",
      " delete mode 100644 tryagain/media/3e052713-c09b-46c0-8005-02cd172306d9.txt\n",
      " delete mode 100644 tryagain/media/53072a82-711c-4b7c-8d94-c6c7816fb08c.txt\n",
      " delete mode 100644 tryagain/media/5340d380-8279-45df-a13c-81fa1a73a560.txt\n",
      " delete mode 100644 tryagain/media/546f81d3-f77b-4a0b-ac15-d4a9ab897c66.txt\n",
      " delete mode 100644 tryagain/media/55617f4f-af7c-4d6f-881a-b0ee7b3977b0.txt\n",
      " create mode 100644 tryagain/media/5e948d2a-4de3-44b8-9673-a7843b2bd817.pdf\n",
      " create mode 100644 tryagain/media/5e948d2a-4de3-44b8-9673-a7843b2bd817.txt\n",
      " delete mode 100644 tryagain/media/758a462f-96d5-4b00-bd74-99438da87b2d.txt\n",
      " delete mode 100644 tryagain/media/7d128bef-d049-4c0c-802b-2cf491b745fa.txt\n",
      " delete mode 100644 tryagain/media/8ca217bc-60e4-4865-a1e6-df6575e21f44.txt\n",
      " delete mode 100644 tryagain/media/941ff563-015c-42ac-af1c-c73f2f2a55be.txt\n",
      " delete mode 100644 tryagain/media/9681d641-f05c-4a0c-887c-7ae7a39dcc19.txt\n",
      " delete mode 100644 tryagain/media/af7fd386-8e1a-4293-893c-02ee5ab98b50.txt\n",
      " delete mode 100644 tryagain/media/b1443e24-37a5-4a4d-900a-b15c265b8735.txt\n",
      " delete mode 100644 tryagain/media/b28cc86c-b330-4b49-a150-740d3abeb0e8.txt\n",
      " delete mode 100644 tryagain/media/b3b29c52-a19b-4816-84ee-7bd51744e73b.txt\n",
      " delete mode 100644 tryagain/media/b43b0eed-5372-412a-ad9a-77b1f7f774af.txt\n",
      " delete mode 100644 tryagain/media/b56d1ea4-1f0b-49d0-a298-5beec2d42fdd.txt\n",
      " delete mode 100644 tryagain/media/b60d9d06-d884-4f45-8fd2-17c973e53dc7.txt\n",
      " delete mode 100644 tryagain/media/bd57d690-ffe1-4b5e-abda-50fc543c00c1.txt\n",
      " delete mode 100644 tryagain/media/c0fb1a30-a5b1-40a0-9fd8-6803a592d6c5.txt\n",
      " delete mode 100644 tryagain/media/c3b4effe-496a-49d6-b687-fc24ce08c07c.txt\n",
      " create mode 100644 tryagain/media/c8881c82-9d3d-41ff-ae6e-ff0bcc660545.txt\n",
      " delete mode 100644 tryagain/media/c8925cd2-abf5-4616-a23f-8bb7344ab527.txt\n",
      " delete mode 100644 tryagain/media/c967e90a-d19f-4d38-a9ac-b1490dd254f1.txt\n",
      " delete mode 100644 tryagain/media/cfe16930-fbae-42bd-b5fe-e03ad7b3e8d5.txt\n",
      " delete mode 100644 tryagain/media/dbd002e0-f64a-4b0c-a3c5-18663cfbee96.txt\n",
      " delete mode 100644 tryagain/media/dc50a0e0-7038-4305-b0e5-1e3f00b4facb.txt\n",
      " delete mode 100644 tryagain/media/dd000f23-2c07-4472-b3f7-74cde7fdd833.txt\n",
      " create mode 100644 tryagain/media/ddf17c2d-6edc-41ea-9694-42c2afabecfe.txt\n",
      " delete mode 100644 tryagain/media/e14ea62e-7514-4859-89d4-c0fccb392173.txt\n",
      " delete mode 100644 tryagain/media/e6f3098b-5154-4e15-bc0b-bc272c4688bb.txt\n",
      " delete mode 100644 tryagain/media/e898079e-3408-47fb-86b6-44883e77c3f2.txt\n",
      " delete mode 100644 tryagain/media/e92c1d27-63db-427b-aa59-617f03bbe784.txt\n",
      " delete mode 100644 tryagain/media/ea1dcffd-e622-4a2f-a40b-a3078c127124.txt\n",
      " delete mode 100644 tryagain/media/ea6be5cb-56dc-4fad-b2a2-ec0334475bee.txt\n",
      " delete mode 100644 tryagain/media/f231c1c2-4b1e-4b0d-b81e-0b2314d9de39.txt\n",
      " delete mode 100644 tryagain/media/f2f90006-c7be-4cc6-ba70-3bf7a0132cd7.txt\n",
      " delete mode 100644 tryagain/media/f408f76b-fe97-4532-82e2-84d9910b00d8.txt\n",
      " delete mode 100644 tryagain/media/f5fe570c-e22e-4985-9d2f-d32d51ffc14e.txt\n",
      " delete mode 100644 tryagain/media/fe062dd7-5fae-4f91-a4cd-92f6a9d34387.txt\n",
      " create mode 100644 tryagain/media/images/ENG_IMAGE.jpg\n",
      " delete mode 100644 tryagain/media/images/Screenshot_2023-06-26_133039.png\n",
      " create mode 100644 tryagain/nirab/__pycache__/ENG_HANDWRITTEN.cpython-38.pyc\n"
     ]
    },
    {
     "name": "stderr",
     "output_type": "stream",
     "text": [
      "To https://github.com/Nirab123456/learn_django.git\n",
      "   5c630b6..fdc4dc7  Banglaocr_V2 -> Banglaocr_V2\n"
     ]
    }
   ],
   "source": [
    "!git add .\n",
    "!git commit -m \" basic  ENG ocr to hand written done in backend and used ENG_OCR_HANDWRITTEN.html\"\n",
    "!git push origin Banglaocr_V2"
   ]
  },
  {
   "cell_type": "code",
   "execution_count": 16,
   "metadata": {},
   "outputs": [
    {
     "name": "stdout",
     "output_type": "stream",
     "text": [
      "On branch Banglaocr\n",
      "You have unmerged paths.\n",
      "  (fix conflicts and run \"git commit\")\n",
      "  (use \"git merge --abort\" to abort the merge)\n",
      "\n",
      "Changes to be committed:\n",
      "\tmodified:   git.ipynb\n",
      "\tnew file:   tryagain/media/053647d1-a547-4a3a-b4db-cea164157661.txt\n",
      "\tnew file:   tryagain/media/05811f1b-ff9b-41a7-b52c-5b1fb4dabff7.txt\n",
      "\tnew file:   tryagain/media/0cbbecc7-70db-475d-bed5-6b8d2649374c.txt\n",
      "\tnew file:   tryagain/media/164e6dac-7329-410c-a37d-ae2be828c735.txt\n",
      "\tnew file:   tryagain/media/1830f24e-76da-4b46-8558-077063287f04.txt\n",
      "\tnew file:   tryagain/media/2694f93c-baa1-4ddf-a2e7-bf1a9080e5bc.txt\n",
      "\tnew file:   tryagain/media/341fa3a9-cae1-43a6-9aa5-5e344bab2c5f.txt\n",
      "\tnew file:   tryagain/media/47bfa35c-3404-4d39-8008-182f61ad9ff0.txt\n",
      "\tnew file:   tryagain/media/525a835b-3ed8-4c99-84d9-5274c56b3fa2.txt\n",
      "\tnew file:   tryagain/media/55a012c6-7c00-4fbe-8aff-7dba39ae9615.txt\n",
      "\tnew file:   tryagain/media/715f4ee0-5c6c-4523-b237-8a886998bd0c.txt\n",
      "\tnew file:   tryagain/media/78bcd794-2628-48fb-8a4d-854e6494c6d1.txt\n",
      "\tnew file:   tryagain/media/7b039dae-7464-4bf2-b2ea-d37caf20d0b9.txt\n",
      "\tnew file:   tryagain/media/c5957ef6-554b-4149-a74d-d97382caf0a3.txt\n",
      "\tnew file:   tryagain/media/dd01525c-248f-4355-bbab-dcc6121ba7a9.txt\n",
      "\tnew file:   tryagain/media/images/bangla.jpg\n",
      "\tnew file:   tryagain/nirab/__pycache__/bangla_ocr.cpython-38.pyc\n",
      "\tnew file:   tryagain/nirab/bangla_ocr.ipynb\n",
      "\tnew file:   tryagain/nirab/bangla_ocr.py\n",
      "\tmodified:   tryagain/nirab/forms.py\n",
      "\tnew file:   tryagain/nirab/templates/bangla_ocr.html\n",
      "\tnew file:   tryagain/nirab/templates/bangla_ocr_result.html\n",
      "\tmodified:   tryagain/nirab/templates/navbar.html\n",
      "\tmodified:   tryagain/nirab/templates/user_profile.html\n",
      "\tmodified:   tryagain/nirab/urls.py\n",
      "\tmodified:   tryagain/nirab/views.py\n",
      "\n",
      "Unmerged paths:\n",
      "  (use \"git add <file>...\" to mark resolution)\n",
      "\tboth modified:   tryagain/nirab/__pycache__/forms.cpython-38.pyc\n",
      "\tboth modified:   tryagain/nirab/__pycache__/urls.cpython-38.pyc\n",
      "\tboth modified:   tryagain/nirab/__pycache__/views.cpython-38.pyc\n",
      "\n",
      "Changes not staged for commit:\n",
      "  (use \"git add <file>...\" to update what will be committed)\n",
      "  (use \"git restore <file>...\" to discard changes in working directory)\n",
      "\tmodified:   tryagain/nirab/__pycache__/bangla_ocr.cpython-38.pyc\n",
      "\n"
     ]
    }
   ],
   "source": [
    "!git status"
   ]
  },
  {
   "cell_type": "code",
   "execution_count": 12,
   "metadata": {},
   "outputs": [],
   "source": [
    "!git add .\n"
   ]
  },
  {
   "cell_type": "code",
   "execution_count": 13,
   "metadata": {},
   "outputs": [
    {
     "name": "stdout",
     "output_type": "stream",
     "text": [
      "On branch Banglaocr\n",
      "nothing to commit, working tree clean\n"
     ]
    }
   ],
   "source": [
    "!git commit -m \"new commit on bangla ocr\""
   ]
  },
  {
   "cell_type": "code",
   "execution_count": 14,
   "metadata": {},
   "outputs": [
    {
     "name": "stderr",
     "output_type": "stream",
     "text": [
      "To https://github.com/Nirab123456/learn_django.git\n",
      " ! [rejected]        Banglaocr -> Banglaocr (fetch first)\n",
      "error: failed to push some refs to 'https://github.com/Nirab123456/learn_django.git'\n",
      "hint: Updates were rejected because the remote contains work that you do\n",
      "hint: not have locally. This is usually caused by another repository pushing\n",
      "hint: to the same ref. You may want to first integrate the remote changes\n",
      "hint: (e.g., 'git pull ...') before pushing again.\n",
      "hint: See the 'Note about fast-forwards' in 'git push --help' for details.\n"
     ]
    }
   ],
   "source": [
    "\n",
    "!git push origin Banglaocr"
   ]
  },
  {
   "cell_type": "code",
   "execution_count": 2,
   "metadata": {},
   "outputs": [
    {
     "name": "stderr",
     "output_type": "stream",
     "text": [
      "Switched to a new branch 'Banglaocr_V2'\n"
     ]
    }
   ],
   "source": [
    "!git checkout -b Banglaocr_V2"
   ]
  },
  {
   "cell_type": "code",
   "execution_count": 1,
   "metadata": {},
   "outputs": [
    {
     "name": "stderr",
     "output_type": "stream",
     "text": [
      "error: pathspec 'Banglaocr_with_bootstrap5' did not match any file(s) known to git\n"
     ]
    }
   ],
   "source": [
    "!git checkout Banglaocr_with_bootstrap5\n"
   ]
  },
  {
   "cell_type": "code",
   "execution_count": 8,
   "metadata": {},
   "outputs": [
    {
     "name": "stderr",
     "output_type": "stream",
     "text": [
      "remote: \n",
      "remote: Create a pull request for 'secondary' on GitHub by visiting:        \n",
      "remote:      https://github.com/Nirab123456/learn_django/pull/new/secondary        \n",
      "remote: \n",
      "To https://github.com/Nirab123456/learn_django.git\n",
      " * [new branch]      secondary -> secondary\n"
     ]
    }
   ],
   "source": [
    "!git push origin secondary\n"
   ]
  },
  {
   "cell_type": "code",
   "execution_count": 11,
   "metadata": {},
   "outputs": [
    {
     "name": "stdout",
     "output_type": "stream",
     "text": [
      "On branch Banglaocr\n",
      "nothing to commit, working tree clean\n"
     ]
    }
   ],
   "source": [
    "!git status"
   ]
  }
 ],
 "metadata": {
  "kernelspec": {
   "display_name": "tf",
   "language": "python",
   "name": "python3"
  },
  "language_info": {
   "codemirror_mode": {
    "name": "ipython",
    "version": 3
   },
   "file_extension": ".py",
   "mimetype": "text/x-python",
   "name": "python",
   "nbconvert_exporter": "python",
   "pygments_lexer": "ipython3",
   "version": "3.8.16"
  },
  "orig_nbformat": 4
 },
 "nbformat": 4,
 "nbformat_minor": 2
}
