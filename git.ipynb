{
 "cells": [
  {
   "cell_type": "code",
   "execution_count": 15,
   "metadata": {},
   "outputs": [
    {
     "name": "stdout",
     "output_type": "stream",
     "text": [
      "warning: Cannot merge binary files: tryagain/nirab/__pycache__/forms.cpython-38.pyc (HEAD vs. 230bea0b5d22158309d287cb302f6bb9a4c7187c)\n",
      "Auto-merging tryagain/nirab/__pycache__/forms.cpython-38.pyc\n",
      "CONFLICT (content): Merge conflict in tryagain/nirab/__pycache__/forms.cpython-38.pyc\n",
      "warning: Cannot merge binary files: tryagain/nirab/__pycache__/urls.cpython-38.pyc (HEAD vs. 230bea0b5d22158309d287cb302f6bb9a4c7187c)\n",
      "Auto-merging tryagain/nirab/__pycache__/urls.cpython-38.pyc\n",
      "CONFLICT (content): Merge conflict in tryagain/nirab/__pycache__/urls.cpython-38.pyc\n",
      "warning: Cannot merge binary files: tryagain/nirab/__pycache__/views.cpython-38.pyc (HEAD vs. 230bea0b5d22158309d287cb302f6bb9a4c7187c)\n",
      "Auto-merging tryagain/nirab/__pycache__/views.cpython-38.pyc\n",
      "CONFLICT (content): Merge conflict in tryagain/nirab/__pycache__/views.cpython-38.pyc\n",
      "Automatic merge failed; fix conflicts and then commit the result.\n"
     ]
    },
    {
     "name": "stderr",
     "output_type": "stream",
     "text": [
      "From https://github.com/Nirab123456/learn_django\n",
      " * branch            Banglaocr  -> FETCH_HEAD\n",
      "   30e47a4..230bea0  Banglaocr  -> origin/Banglaocr\n"
     ]
    }
   ],
   "source": [
    "!git pull origin Banglaocr\n",
    "\n"
   ]
  },
  {
   "cell_type": "code",
   "execution_count": 3,
   "metadata": {},
   "outputs": [
    {
     "name": "stderr",
     "output_type": "stream",
     "text": [
      "warning: in the working copy of 'git.ipynb', LF will be replaced by CRLF the next time Git touches it\n",
      "warning: in the working copy of 'tryagain/assets/bootstrap/css/bootstrap.min.css', LF will be replaced by CRLF the next time Git touches it\n",
      "warning: in the working copy of 'tryagain/assets/bootstrap/js/bootstrap.min.js', LF will be replaced by CRLF the next time Git touches it\n",
      "warning: in the working copy of 'tryagain/assets/css/Articles-Badges-images.css', LF will be replaced by CRLF the next time Git touches it\n",
      "warning: in the working copy of 'tryagain/assets/css/Contact-Details-icons.css', LF will be replaced by CRLF the next time Git touches it\n",
      "warning: in the working copy of 'tryagain/nirab/templates/index.html', LF will be replaced by CRLF the next time Git touches it\n",
      "warning: in the working copy of 'tryagain/staticfiles/admin/css/autocomplete.css', LF will be replaced by CRLF the next time Git touches it\n",
      "warning: in the working copy of 'tryagain/staticfiles/admin/css/base.css', LF will be replaced by CRLF the next time Git touches it\n",
      "warning: in the working copy of 'tryagain/staticfiles/admin/css/changelists.css', LF will be replaced by CRLF the next time Git touches it\n",
      "warning: in the working copy of 'tryagain/staticfiles/admin/css/dark_mode.css', LF will be replaced by CRLF the next time Git touches it\n",
      "warning: in the working copy of 'tryagain/staticfiles/admin/css/dashboard.css', LF will be replaced by CRLF the next time Git touches it\n",
      "warning: in the working copy of 'tryagain/staticfiles/admin/css/forms.css', LF will be replaced by CRLF the next time Git touches it\n",
      "warning: in the working copy of 'tryagain/staticfiles/admin/css/login.css', LF will be replaced by CRLF the next time Git touches it\n",
      "warning: in the working copy of 'tryagain/staticfiles/admin/css/nav_sidebar.css', LF will be replaced by CRLF the next time Git touches it\n",
      "warning: in the working copy of 'tryagain/staticfiles/admin/css/responsive.css', LF will be replaced by CRLF the next time Git touches it\n",
      "warning: in the working copy of 'tryagain/staticfiles/admin/css/responsive_rtl.css', LF will be replaced by CRLF the next time Git touches it\n",
      "warning: in the working copy of 'tryagain/staticfiles/admin/css/rtl.css', LF will be replaced by CRLF the next time Git touches it\n",
      "warning: in the working copy of 'tryagain/staticfiles/admin/css/vendor/select2/LICENSE-SELECT2.md', LF will be replaced by CRLF the next time Git touches it\n",
      "warning: in the working copy of 'tryagain/staticfiles/admin/css/vendor/select2/select2.css', LF will be replaced by CRLF the next time Git touches it\n",
      "warning: in the working copy of 'tryagain/staticfiles/admin/css/vendor/select2/select2.min.css', LF will be replaced by CRLF the next time Git touches it\n",
      "warning: in the working copy of 'tryagain/staticfiles/admin/css/widgets.css', LF will be replaced by CRLF the next time Git touches it\n",
      "warning: in the working copy of 'tryagain/staticfiles/admin/img/LICENSE', LF will be replaced by CRLF the next time Git touches it\n",
      "warning: in the working copy of 'tryagain/staticfiles/admin/img/README.txt', LF will be replaced by CRLF the next time Git touches it\n",
      "warning: in the working copy of 'tryagain/staticfiles/admin/img/calendar-icons.svg', LF will be replaced by CRLF the next time Git touches it\n",
      "warning: in the working copy of 'tryagain/staticfiles/admin/img/icon-addlink.svg', LF will be replaced by CRLF the next time Git touches it\n",
      "warning: in the working copy of 'tryagain/staticfiles/admin/img/icon-alert.svg', LF will be replaced by CRLF the next time Git touches it\n",
      "warning: in the working copy of 'tryagain/staticfiles/admin/img/icon-calendar.svg', LF will be replaced by CRLF the next time Git touches it\n",
      "warning: in the working copy of 'tryagain/staticfiles/admin/img/icon-changelink.svg', LF will be replaced by CRLF the next time Git touches it\n",
      "warning: in the working copy of 'tryagain/staticfiles/admin/img/icon-clock.svg', LF will be replaced by CRLF the next time Git touches it\n",
      "warning: in the working copy of 'tryagain/staticfiles/admin/img/icon-deletelink.svg', LF will be replaced by CRLF the next time Git touches it\n",
      "warning: in the working copy of 'tryagain/staticfiles/admin/img/icon-no.svg', LF will be replaced by CRLF the next time Git touches it\n",
      "warning: in the working copy of 'tryagain/staticfiles/admin/img/icon-unknown-alt.svg', LF will be replaced by CRLF the next time Git touches it\n",
      "warning: in the working copy of 'tryagain/staticfiles/admin/img/icon-unknown.svg', LF will be replaced by CRLF the next time Git touches it\n",
      "warning: in the working copy of 'tryagain/staticfiles/admin/img/icon-viewlink.svg', LF will be replaced by CRLF the next time Git touches it\n",
      "warning: in the working copy of 'tryagain/staticfiles/admin/img/icon-yes.svg', LF will be replaced by CRLF the next time Git touches it\n",
      "warning: in the working copy of 'tryagain/staticfiles/admin/img/inline-delete.svg', LF will be replaced by CRLF the next time Git touches it\n",
      "warning: in the working copy of 'tryagain/staticfiles/admin/img/search.svg', LF will be replaced by CRLF the next time Git touches it\n",
      "warning: in the working copy of 'tryagain/staticfiles/admin/img/selector-icons.svg', LF will be replaced by CRLF the next time Git touches it\n",
      "warning: in the working copy of 'tryagain/staticfiles/admin/img/sorting-icons.svg', LF will be replaced by CRLF the next time Git touches it\n",
      "warning: in the working copy of 'tryagain/staticfiles/admin/img/tooltag-add.svg', LF will be replaced by CRLF the next time Git touches it\n",
      "warning: in the working copy of 'tryagain/staticfiles/admin/img/tooltag-arrowright.svg', LF will be replaced by CRLF the next time Git touches it\n",
      "warning: in the working copy of 'tryagain/staticfiles/admin/js/SelectBox.js', LF will be replaced by CRLF the next time Git touches it\n",
      "warning: in the working copy of 'tryagain/staticfiles/admin/js/SelectFilter2.js', LF will be replaced by CRLF the next time Git touches it\n",
      "warning: in the working copy of 'tryagain/staticfiles/admin/js/actions.js', LF will be replaced by CRLF the next time Git touches it\n",
      "warning: in the working copy of 'tryagain/staticfiles/admin/js/admin/DateTimeShortcuts.js', LF will be replaced by CRLF the next time Git touches it\n",
      "warning: in the working copy of 'tryagain/staticfiles/admin/js/admin/RelatedObjectLookups.js', LF will be replaced by CRLF the next time Git touches it\n",
      "warning: in the working copy of 'tryagain/staticfiles/admin/js/autocomplete.js', LF will be replaced by CRLF the next time Git touches it\n",
      "warning: in the working copy of 'tryagain/staticfiles/admin/js/calendar.js', LF will be replaced by CRLF the next time Git touches it\n",
      "warning: in the working copy of 'tryagain/staticfiles/admin/js/cancel.js', LF will be replaced by CRLF the next time Git touches it\n",
      "warning: in the working copy of 'tryagain/staticfiles/admin/js/change_form.js', LF will be replaced by CRLF the next time Git touches it\n",
      "warning: in the working copy of 'tryagain/staticfiles/admin/js/collapse.js', LF will be replaced by CRLF the next time Git touches it\n",
      "warning: in the working copy of 'tryagain/staticfiles/admin/js/core.js', LF will be replaced by CRLF the next time Git touches it\n",
      "warning: in the working copy of 'tryagain/staticfiles/admin/js/filters.js', LF will be replaced by CRLF the next time Git touches it\n",
      "warning: in the working copy of 'tryagain/staticfiles/admin/js/inlines.js', LF will be replaced by CRLF the next time Git touches it\n",
      "warning: in the working copy of 'tryagain/staticfiles/admin/js/jquery.init.js', LF will be replaced by CRLF the next time Git touches it\n",
      "warning: in the working copy of 'tryagain/staticfiles/admin/js/nav_sidebar.js', LF will be replaced by CRLF the next time Git touches it\n",
      "warning: in the working copy of 'tryagain/staticfiles/admin/js/popup_response.js', LF will be replaced by CRLF the next time Git touches it\n",
      "warning: in the working copy of 'tryagain/staticfiles/admin/js/prepopulate.js', LF will be replaced by CRLF the next time Git touches it\n",
      "warning: in the working copy of 'tryagain/staticfiles/admin/js/prepopulate_init.js', LF will be replaced by CRLF the next time Git touches it\n",
      "warning: in the working copy of 'tryagain/staticfiles/admin/js/theme.js', LF will be replaced by CRLF the next time Git touches it\n",
      "warning: in the working copy of 'tryagain/staticfiles/admin/js/urlify.js', LF will be replaced by CRLF the next time Git touches it\n",
      "warning: in the working copy of 'tryagain/staticfiles/admin/js/vendor/jquery/LICENSE.txt', LF will be replaced by CRLF the next time Git touches it\n",
      "warning: in the working copy of 'tryagain/staticfiles/admin/js/vendor/jquery/jquery.js', LF will be replaced by CRLF the next time Git touches it\n",
      "warning: in the working copy of 'tryagain/staticfiles/admin/js/vendor/jquery/jquery.min.js', LF will be replaced by CRLF the next time Git touches it\n",
      "warning: in the working copy of 'tryagain/staticfiles/admin/js/vendor/select2/LICENSE.md', LF will be replaced by CRLF the next time Git touches it\n",
      "warning: in the working copy of 'tryagain/staticfiles/admin/js/vendor/select2/i18n/af.js', LF will be replaced by CRLF the next time Git touches it\n",
      "warning: in the working copy of 'tryagain/staticfiles/admin/js/vendor/select2/i18n/ar.js', LF will be replaced by CRLF the next time Git touches it\n",
      "warning: in the working copy of 'tryagain/staticfiles/admin/js/vendor/select2/i18n/az.js', LF will be replaced by CRLF the next time Git touches it\n",
      "warning: in the working copy of 'tryagain/staticfiles/admin/js/vendor/select2/i18n/bg.js', LF will be replaced by CRLF the next time Git touches it\n",
      "warning: in the working copy of 'tryagain/staticfiles/admin/js/vendor/select2/i18n/bn.js', LF will be replaced by CRLF the next time Git touches it\n",
      "warning: in the working copy of 'tryagain/staticfiles/admin/js/vendor/select2/i18n/bs.js', LF will be replaced by CRLF the next time Git touches it\n",
      "warning: in the working copy of 'tryagain/staticfiles/admin/js/vendor/select2/i18n/ca.js', LF will be replaced by CRLF the next time Git touches it\n",
      "warning: in the working copy of 'tryagain/staticfiles/admin/js/vendor/select2/i18n/cs.js', LF will be replaced by CRLF the next time Git touches it\n",
      "warning: in the working copy of 'tryagain/staticfiles/admin/js/vendor/select2/i18n/da.js', LF will be replaced by CRLF the next time Git touches it\n",
      "warning: in the working copy of 'tryagain/staticfiles/admin/js/vendor/select2/i18n/de.js', LF will be replaced by CRLF the next time Git touches it\n",
      "warning: in the working copy of 'tryagain/staticfiles/admin/js/vendor/select2/i18n/dsb.js', LF will be replaced by CRLF the next time Git touches it\n",
      "warning: in the working copy of 'tryagain/staticfiles/admin/js/vendor/select2/i18n/el.js', LF will be replaced by CRLF the next time Git touches it\n",
      "warning: in the working copy of 'tryagain/staticfiles/admin/js/vendor/select2/i18n/en.js', LF will be replaced by CRLF the next time Git touches it\n",
      "warning: in the working copy of 'tryagain/staticfiles/admin/js/vendor/select2/i18n/es.js', LF will be replaced by CRLF the next time Git touches it\n",
      "warning: in the working copy of 'tryagain/staticfiles/admin/js/vendor/select2/i18n/et.js', LF will be replaced by CRLF the next time Git touches it\n",
      "warning: in the working copy of 'tryagain/staticfiles/admin/js/vendor/select2/i18n/eu.js', LF will be replaced by CRLF the next time Git touches it\n",
      "warning: in the working copy of 'tryagain/staticfiles/admin/js/vendor/select2/i18n/fa.js', LF will be replaced by CRLF the next time Git touches it\n",
      "warning: in the working copy of 'tryagain/staticfiles/admin/js/vendor/select2/i18n/fi.js', LF will be replaced by CRLF the next time Git touches it\n",
      "warning: in the working copy of 'tryagain/staticfiles/admin/js/vendor/select2/i18n/fr.js', LF will be replaced by CRLF the next time Git touches it\n",
      "warning: in the working copy of 'tryagain/staticfiles/admin/js/vendor/select2/i18n/gl.js', LF will be replaced by CRLF the next time Git touches it\n",
      "warning: in the working copy of 'tryagain/staticfiles/admin/js/vendor/select2/i18n/he.js', LF will be replaced by CRLF the next time Git touches it\n",
      "warning: in the working copy of 'tryagain/staticfiles/admin/js/vendor/select2/i18n/hi.js', LF will be replaced by CRLF the next time Git touches it\n",
      "warning: in the working copy of 'tryagain/staticfiles/admin/js/vendor/select2/i18n/hr.js', LF will be replaced by CRLF the next time Git touches it\n",
      "warning: in the working copy of 'tryagain/staticfiles/admin/js/vendor/select2/i18n/hsb.js', LF will be replaced by CRLF the next time Git touches it\n",
      "warning: in the working copy of 'tryagain/staticfiles/admin/js/vendor/select2/i18n/hu.js', LF will be replaced by CRLF the next time Git touches it\n",
      "warning: in the working copy of 'tryagain/staticfiles/admin/js/vendor/select2/i18n/hy.js', LF will be replaced by CRLF the next time Git touches it\n",
      "warning: in the working copy of 'tryagain/staticfiles/admin/js/vendor/select2/i18n/id.js', LF will be replaced by CRLF the next time Git touches it\n",
      "warning: in the working copy of 'tryagain/staticfiles/admin/js/vendor/select2/i18n/is.js', LF will be replaced by CRLF the next time Git touches it\n",
      "warning: in the working copy of 'tryagain/staticfiles/admin/js/vendor/select2/i18n/it.js', LF will be replaced by CRLF the next time Git touches it\n",
      "warning: in the working copy of 'tryagain/staticfiles/admin/js/vendor/select2/i18n/ja.js', LF will be replaced by CRLF the next time Git touches it\n",
      "warning: in the working copy of 'tryagain/staticfiles/admin/js/vendor/select2/i18n/ka.js', LF will be replaced by CRLF the next time Git touches it\n",
      "warning: in the working copy of 'tryagain/staticfiles/admin/js/vendor/select2/i18n/km.js', LF will be replaced by CRLF the next time Git touches it\n",
      "warning: in the working copy of 'tryagain/staticfiles/admin/js/vendor/select2/i18n/ko.js', LF will be replaced by CRLF the next time Git touches it\n",
      "warning: in the working copy of 'tryagain/staticfiles/admin/js/vendor/select2/i18n/lt.js', LF will be replaced by CRLF the next time Git touches it\n",
      "warning: in the working copy of 'tryagain/staticfiles/admin/js/vendor/select2/i18n/lv.js', LF will be replaced by CRLF the next time Git touches it\n",
      "warning: in the working copy of 'tryagain/staticfiles/admin/js/vendor/select2/i18n/mk.js', LF will be replaced by CRLF the next time Git touches it\n",
      "warning: in the working copy of 'tryagain/staticfiles/admin/js/vendor/select2/i18n/ms.js', LF will be replaced by CRLF the next time Git touches it\n",
      "warning: in the working copy of 'tryagain/staticfiles/admin/js/vendor/select2/i18n/nb.js', LF will be replaced by CRLF the next time Git touches it\n",
      "warning: in the working copy of 'tryagain/staticfiles/admin/js/vendor/select2/i18n/ne.js', LF will be replaced by CRLF the next time Git touches it\n",
      "warning: in the working copy of 'tryagain/staticfiles/admin/js/vendor/select2/i18n/nl.js', LF will be replaced by CRLF the next time Git touches it\n",
      "warning: in the working copy of 'tryagain/staticfiles/admin/js/vendor/select2/i18n/pl.js', LF will be replaced by CRLF the next time Git touches it\n",
      "warning: in the working copy of 'tryagain/staticfiles/admin/js/vendor/select2/i18n/ps.js', LF will be replaced by CRLF the next time Git touches it\n",
      "warning: in the working copy of 'tryagain/staticfiles/admin/js/vendor/select2/i18n/pt-BR.js', LF will be replaced by CRLF the next time Git touches it\n",
      "warning: in the working copy of 'tryagain/staticfiles/admin/js/vendor/select2/i18n/pt.js', LF will be replaced by CRLF the next time Git touches it\n",
      "warning: in the working copy of 'tryagain/staticfiles/admin/js/vendor/select2/i18n/ro.js', LF will be replaced by CRLF the next time Git touches it\n",
      "warning: in the working copy of 'tryagain/staticfiles/admin/js/vendor/select2/i18n/ru.js', LF will be replaced by CRLF the next time Git touches it\n",
      "warning: in the working copy of 'tryagain/staticfiles/admin/js/vendor/select2/i18n/sk.js', LF will be replaced by CRLF the next time Git touches it\n",
      "warning: in the working copy of 'tryagain/staticfiles/admin/js/vendor/select2/i18n/sl.js', LF will be replaced by CRLF the next time Git touches it\n",
      "warning: in the working copy of 'tryagain/staticfiles/admin/js/vendor/select2/i18n/sq.js', LF will be replaced by CRLF the next time Git touches it\n",
      "warning: in the working copy of 'tryagain/staticfiles/admin/js/vendor/select2/i18n/sr-Cyrl.js', LF will be replaced by CRLF the next time Git touches it\n",
      "warning: in the working copy of 'tryagain/staticfiles/admin/js/vendor/select2/i18n/sr.js', LF will be replaced by CRLF the next time Git touches it\n",
      "warning: in the working copy of 'tryagain/staticfiles/admin/js/vendor/select2/i18n/sv.js', LF will be replaced by CRLF the next time Git touches it\n",
      "warning: in the working copy of 'tryagain/staticfiles/admin/js/vendor/select2/i18n/th.js', LF will be replaced by CRLF the next time Git touches it\n",
      "warning: in the working copy of 'tryagain/staticfiles/admin/js/vendor/select2/i18n/tk.js', LF will be replaced by CRLF the next time Git touches it\n",
      "warning: in the working copy of 'tryagain/staticfiles/admin/js/vendor/select2/i18n/tr.js', LF will be replaced by CRLF the next time Git touches it\n",
      "warning: in the working copy of 'tryagain/staticfiles/admin/js/vendor/select2/i18n/uk.js', LF will be replaced by CRLF the next time Git touches it\n",
      "warning: in the working copy of 'tryagain/staticfiles/admin/js/vendor/select2/i18n/vi.js', LF will be replaced by CRLF the next time Git touches it\n",
      "warning: in the working copy of 'tryagain/staticfiles/admin/js/vendor/select2/i18n/zh-CN.js', LF will be replaced by CRLF the next time Git touches it\n",
      "warning: in the working copy of 'tryagain/staticfiles/admin/js/vendor/select2/i18n/zh-TW.js', LF will be replaced by CRLF the next time Git touches it\n",
      "warning: in the working copy of 'tryagain/staticfiles/admin/js/vendor/select2/select2.full.js', LF will be replaced by CRLF the next time Git touches it\n",
      "warning: in the working copy of 'tryagain/staticfiles/admin/js/vendor/select2/select2.full.min.js', LF will be replaced by CRLF the next time Git touches it\n",
      "warning: in the working copy of 'tryagain/staticfiles/admin/js/vendor/xregexp/LICENSE.txt', LF will be replaced by CRLF the next time Git touches it\n",
      "warning: in the working copy of 'tryagain/staticfiles/admin/js/vendor/xregexp/xregexp.js', LF will be replaced by CRLF the next time Git touches it\n",
      "warning: in the working copy of 'tryagain/staticfiles/admin/js/vendor/xregexp/xregexp.min.js', LF will be replaced by CRLF the next time Git touches it\n",
      "warning: in the working copy of 'tryagain/staticfiles/bootstrap/css/bootstrap.min.css', LF will be replaced by CRLF the next time Git touches it\n",
      "warning: in the working copy of 'tryagain/staticfiles/bootstrap/js/bootstrap.min.js', LF will be replaced by CRLF the next time Git touches it\n",
      "warning: in the working copy of 'tryagain/staticfiles/css/Articles-Badges-images.css', LF will be replaced by CRLF the next time Git touches it\n",
      "warning: in the working copy of 'tryagain/staticfiles/css/Contact-Details-icons.css', LF will be replaced by CRLF the next time Git touches it\n"
     ]
    },
    {
     "name": "stdout",
     "output_type": "stream",
     "text": [
      "[Banglaocr_with_bootstrap5 9f5c33a] Banglaocr_with_bootstrap5 initial commit\n",
      " 152 files changed, 31167 insertions(+), 111 deletions(-)\n",
      " create mode 100644 tryagain/assets/bootstrap/css/bootstrap.min.css\n",
      " create mode 100644 tryagain/assets/bootstrap/js/bootstrap.min.js\n",
      " create mode 100644 tryagain/assets/css/Articles-Badges-images.css\n",
      " create mode 100644 tryagain/assets/css/Contact-Details-icons.css\n",
      " create mode 100644 tryagain/media/21a46670-a2ab-4e1f-a320-657c5ca62c85.txt\n",
      " create mode 100644 tryagain/media/8ad0b37c-6bfb-4ddb-ad7c-4904535b5c40.txt\n",
      " create mode 100644 tryagain/media/a44223a5-756f-4f1e-a778-1c30aa42d61e.txt\n",
      " create mode 100644 tryagain/media/dc44916f-fa14-4651-b188-7cd2621cdaca.txt\n",
      " create mode 100644 tryagain/media/e86e1eaf-5cb7-4801-bae0-e1ede472faa9.txt\n",
      " create mode 100644 tryagain/media/fbd4fa5e-8074-4905-9124-bb3a7fa49800.txt\n",
      " delete mode 100644 tryagain/nirab/bangla_ocr.ipynb\n",
      " create mode 100644 tryagain/nirab/templates/index.html\n",
      " create mode 100644 tryagain/staticfiles/admin/css/autocomplete.css\n",
      " create mode 100644 tryagain/staticfiles/admin/css/base.css\n",
      " create mode 100644 tryagain/staticfiles/admin/css/changelists.css\n",
      " create mode 100644 tryagain/staticfiles/admin/css/dark_mode.css\n",
      " create mode 100644 tryagain/staticfiles/admin/css/dashboard.css\n",
      " create mode 100644 tryagain/staticfiles/admin/css/forms.css\n",
      " create mode 100644 tryagain/staticfiles/admin/css/login.css\n",
      " create mode 100644 tryagain/staticfiles/admin/css/nav_sidebar.css\n",
      " create mode 100644 tryagain/staticfiles/admin/css/responsive.css\n",
      " create mode 100644 tryagain/staticfiles/admin/css/responsive_rtl.css\n",
      " create mode 100644 tryagain/staticfiles/admin/css/rtl.css\n",
      " create mode 100644 tryagain/staticfiles/admin/css/vendor/select2/LICENSE-SELECT2.md\n",
      " create mode 100644 tryagain/staticfiles/admin/css/vendor/select2/select2.css\n",
      " create mode 100644 tryagain/staticfiles/admin/css/vendor/select2/select2.min.css\n",
      " create mode 100644 tryagain/staticfiles/admin/css/widgets.css\n",
      " create mode 100644 tryagain/staticfiles/admin/img/LICENSE\n",
      " create mode 100644 tryagain/staticfiles/admin/img/README.txt\n",
      " create mode 100644 tryagain/staticfiles/admin/img/calendar-icons.svg\n",
      " create mode 100644 tryagain/staticfiles/admin/img/gis/move_vertex_off.svg\n",
      " create mode 100644 tryagain/staticfiles/admin/img/gis/move_vertex_on.svg\n",
      " create mode 100644 tryagain/staticfiles/admin/img/icon-addlink.svg\n",
      " create mode 100644 tryagain/staticfiles/admin/img/icon-alert.svg\n",
      " create mode 100644 tryagain/staticfiles/admin/img/icon-calendar.svg\n",
      " create mode 100644 tryagain/staticfiles/admin/img/icon-changelink.svg\n",
      " create mode 100644 tryagain/staticfiles/admin/img/icon-clock.svg\n",
      " create mode 100644 tryagain/staticfiles/admin/img/icon-deletelink.svg\n",
      " create mode 100644 tryagain/staticfiles/admin/img/icon-no.svg\n",
      " create mode 100644 tryagain/staticfiles/admin/img/icon-unknown-alt.svg\n",
      " create mode 100644 tryagain/staticfiles/admin/img/icon-unknown.svg\n",
      " create mode 100644 tryagain/staticfiles/admin/img/icon-viewlink.svg\n",
      " create mode 100644 tryagain/staticfiles/admin/img/icon-yes.svg\n",
      " create mode 100644 tryagain/staticfiles/admin/img/inline-delete.svg\n",
      " create mode 100644 tryagain/staticfiles/admin/img/search.svg\n",
      " create mode 100644 tryagain/staticfiles/admin/img/selector-icons.svg\n",
      " create mode 100644 tryagain/staticfiles/admin/img/sorting-icons.svg\n",
      " create mode 100644 tryagain/staticfiles/admin/img/tooltag-add.svg\n",
      " create mode 100644 tryagain/staticfiles/admin/img/tooltag-arrowright.svg\n",
      " create mode 100644 tryagain/staticfiles/admin/js/SelectBox.js\n",
      " create mode 100644 tryagain/staticfiles/admin/js/SelectFilter2.js\n",
      " create mode 100644 tryagain/staticfiles/admin/js/actions.js\n",
      " create mode 100644 tryagain/staticfiles/admin/js/admin/DateTimeShortcuts.js\n",
      " create mode 100644 tryagain/staticfiles/admin/js/admin/RelatedObjectLookups.js\n",
      " create mode 100644 tryagain/staticfiles/admin/js/autocomplete.js\n",
      " create mode 100644 tryagain/staticfiles/admin/js/calendar.js\n",
      " create mode 100644 tryagain/staticfiles/admin/js/cancel.js\n",
      " create mode 100644 tryagain/staticfiles/admin/js/change_form.js\n",
      " create mode 100644 tryagain/staticfiles/admin/js/collapse.js\n",
      " create mode 100644 tryagain/staticfiles/admin/js/core.js\n",
      " create mode 100644 tryagain/staticfiles/admin/js/filters.js\n",
      " create mode 100644 tryagain/staticfiles/admin/js/inlines.js\n",
      " create mode 100644 tryagain/staticfiles/admin/js/jquery.init.js\n",
      " create mode 100644 tryagain/staticfiles/admin/js/nav_sidebar.js\n",
      " create mode 100644 tryagain/staticfiles/admin/js/popup_response.js\n",
      " create mode 100644 tryagain/staticfiles/admin/js/prepopulate.js\n",
      " create mode 100644 tryagain/staticfiles/admin/js/prepopulate_init.js\n",
      " create mode 100644 tryagain/staticfiles/admin/js/theme.js\n",
      " create mode 100644 tryagain/staticfiles/admin/js/urlify.js\n",
      " create mode 100644 tryagain/staticfiles/admin/js/vendor/jquery/LICENSE.txt\n",
      " create mode 100644 tryagain/staticfiles/admin/js/vendor/jquery/jquery.js\n",
      " create mode 100644 tryagain/staticfiles/admin/js/vendor/jquery/jquery.min.js\n",
      " create mode 100644 tryagain/staticfiles/admin/js/vendor/select2/LICENSE.md\n",
      " create mode 100644 tryagain/staticfiles/admin/js/vendor/select2/i18n/af.js\n",
      " create mode 100644 tryagain/staticfiles/admin/js/vendor/select2/i18n/ar.js\n",
      " create mode 100644 tryagain/staticfiles/admin/js/vendor/select2/i18n/az.js\n",
      " create mode 100644 tryagain/staticfiles/admin/js/vendor/select2/i18n/bg.js\n",
      " create mode 100644 tryagain/staticfiles/admin/js/vendor/select2/i18n/bn.js\n",
      " create mode 100644 tryagain/staticfiles/admin/js/vendor/select2/i18n/bs.js\n",
      " create mode 100644 tryagain/staticfiles/admin/js/vendor/select2/i18n/ca.js\n",
      " create mode 100644 tryagain/staticfiles/admin/js/vendor/select2/i18n/cs.js\n",
      " create mode 100644 tryagain/staticfiles/admin/js/vendor/select2/i18n/da.js\n",
      " create mode 100644 tryagain/staticfiles/admin/js/vendor/select2/i18n/de.js\n",
      " create mode 100644 tryagain/staticfiles/admin/js/vendor/select2/i18n/dsb.js\n",
      " create mode 100644 tryagain/staticfiles/admin/js/vendor/select2/i18n/el.js\n",
      " create mode 100644 tryagain/staticfiles/admin/js/vendor/select2/i18n/en.js\n",
      " create mode 100644 tryagain/staticfiles/admin/js/vendor/select2/i18n/es.js\n",
      " create mode 100644 tryagain/staticfiles/admin/js/vendor/select2/i18n/et.js\n",
      " create mode 100644 tryagain/staticfiles/admin/js/vendor/select2/i18n/eu.js\n",
      " create mode 100644 tryagain/staticfiles/admin/js/vendor/select2/i18n/fa.js\n",
      " create mode 100644 tryagain/staticfiles/admin/js/vendor/select2/i18n/fi.js\n",
      " create mode 100644 tryagain/staticfiles/admin/js/vendor/select2/i18n/fr.js\n",
      " create mode 100644 tryagain/staticfiles/admin/js/vendor/select2/i18n/gl.js\n",
      " create mode 100644 tryagain/staticfiles/admin/js/vendor/select2/i18n/he.js\n",
      " create mode 100644 tryagain/staticfiles/admin/js/vendor/select2/i18n/hi.js\n",
      " create mode 100644 tryagain/staticfiles/admin/js/vendor/select2/i18n/hr.js\n",
      " create mode 100644 tryagain/staticfiles/admin/js/vendor/select2/i18n/hsb.js\n",
      " create mode 100644 tryagain/staticfiles/admin/js/vendor/select2/i18n/hu.js\n",
      " create mode 100644 tryagain/staticfiles/admin/js/vendor/select2/i18n/hy.js\n",
      " create mode 100644 tryagain/staticfiles/admin/js/vendor/select2/i18n/id.js\n",
      " create mode 100644 tryagain/staticfiles/admin/js/vendor/select2/i18n/is.js\n",
      " create mode 100644 tryagain/staticfiles/admin/js/vendor/select2/i18n/it.js\n",
      " create mode 100644 tryagain/staticfiles/admin/js/vendor/select2/i18n/ja.js\n",
      " create mode 100644 tryagain/staticfiles/admin/js/vendor/select2/i18n/ka.js\n",
      " create mode 100644 tryagain/staticfiles/admin/js/vendor/select2/i18n/km.js\n",
      " create mode 100644 tryagain/staticfiles/admin/js/vendor/select2/i18n/ko.js\n",
      " create mode 100644 tryagain/staticfiles/admin/js/vendor/select2/i18n/lt.js\n",
      " create mode 100644 tryagain/staticfiles/admin/js/vendor/select2/i18n/lv.js\n",
      " create mode 100644 tryagain/staticfiles/admin/js/vendor/select2/i18n/mk.js\n",
      " create mode 100644 tryagain/staticfiles/admin/js/vendor/select2/i18n/ms.js\n",
      " create mode 100644 tryagain/staticfiles/admin/js/vendor/select2/i18n/nb.js\n",
      " create mode 100644 tryagain/staticfiles/admin/js/vendor/select2/i18n/ne.js\n",
      " create mode 100644 tryagain/staticfiles/admin/js/vendor/select2/i18n/nl.js\n",
      " create mode 100644 tryagain/staticfiles/admin/js/vendor/select2/i18n/pl.js\n",
      " create mode 100644 tryagain/staticfiles/admin/js/vendor/select2/i18n/ps.js\n",
      " create mode 100644 tryagain/staticfiles/admin/js/vendor/select2/i18n/pt-BR.js\n",
      " create mode 100644 tryagain/staticfiles/admin/js/vendor/select2/i18n/pt.js\n",
      " create mode 100644 tryagain/staticfiles/admin/js/vendor/select2/i18n/ro.js\n",
      " create mode 100644 tryagain/staticfiles/admin/js/vendor/select2/i18n/ru.js\n",
      " create mode 100644 tryagain/staticfiles/admin/js/vendor/select2/i18n/sk.js\n",
      " create mode 100644 tryagain/staticfiles/admin/js/vendor/select2/i18n/sl.js\n",
      " create mode 100644 tryagain/staticfiles/admin/js/vendor/select2/i18n/sq.js\n",
      " create mode 100644 tryagain/staticfiles/admin/js/vendor/select2/i18n/sr-Cyrl.js\n",
      " create mode 100644 tryagain/staticfiles/admin/js/vendor/select2/i18n/sr.js\n",
      " create mode 100644 tryagain/staticfiles/admin/js/vendor/select2/i18n/sv.js\n",
      " create mode 100644 tryagain/staticfiles/admin/js/vendor/select2/i18n/th.js\n",
      " create mode 100644 tryagain/staticfiles/admin/js/vendor/select2/i18n/tk.js\n",
      " create mode 100644 tryagain/staticfiles/admin/js/vendor/select2/i18n/tr.js\n",
      " create mode 100644 tryagain/staticfiles/admin/js/vendor/select2/i18n/uk.js\n",
      " create mode 100644 tryagain/staticfiles/admin/js/vendor/select2/i18n/vi.js\n",
      " create mode 100644 tryagain/staticfiles/admin/js/vendor/select2/i18n/zh-CN.js\n",
      " create mode 100644 tryagain/staticfiles/admin/js/vendor/select2/i18n/zh-TW.js\n",
      " create mode 100644 tryagain/staticfiles/admin/js/vendor/select2/select2.full.js\n",
      " create mode 100644 tryagain/staticfiles/admin/js/vendor/select2/select2.full.min.js\n",
      " create mode 100644 tryagain/staticfiles/admin/js/vendor/xregexp/LICENSE.txt\n",
      " create mode 100644 tryagain/staticfiles/admin/js/vendor/xregexp/xregexp.js\n",
      " create mode 100644 tryagain/staticfiles/admin/js/vendor/xregexp/xregexp.min.js\n",
      " create mode 100644 tryagain/staticfiles/bootstrap/css/bootstrap.min.css\n",
      " create mode 100644 tryagain/staticfiles/bootstrap/js/bootstrap.min.js\n",
      " create mode 100644 tryagain/staticfiles/css/Articles-Badges-images.css\n",
      " create mode 100644 tryagain/staticfiles/css/Contact-Details-icons.css\n"
     ]
    },
    {
     "name": "stderr",
     "output_type": "stream",
     "text": [
      "remote: \n",
      "remote: Create a pull request for 'Banglaocr_with_bootstrap5' on GitHub by visiting:        \n",
      "remote:      https://github.com/Nirab123456/learn_django/pull/new/Banglaocr_with_bootstrap5        \n",
      "remote: \n",
      "To https://github.com/Nirab123456/learn_django.git\n",
      " * [new branch]      Banglaocr_with_bootstrap5 -> Banglaocr_with_bootstrap5\n"
     ]
    }
   ],
   "source": [
    "!git add .\n",
    "!git commit -m \"usin Banglaocr_with_bootstrap5  (static files) index page designing will make a new send mail model\"\n",
    "!git push origin Banglaocr_with_bootstrap5"
   ]
  },
  {
   "cell_type": "code",
   "execution_count": 16,
   "metadata": {},
   "outputs": [
    {
     "name": "stdout",
     "output_type": "stream",
     "text": [
      "On branch Banglaocr\n",
      "You have unmerged paths.\n",
      "  (fix conflicts and run \"git commit\")\n",
      "  (use \"git merge --abort\" to abort the merge)\n",
      "\n",
      "Changes to be committed:\n",
      "\tmodified:   git.ipynb\n",
      "\tnew file:   tryagain/media/053647d1-a547-4a3a-b4db-cea164157661.txt\n",
      "\tnew file:   tryagain/media/05811f1b-ff9b-41a7-b52c-5b1fb4dabff7.txt\n",
      "\tnew file:   tryagain/media/0cbbecc7-70db-475d-bed5-6b8d2649374c.txt\n",
      "\tnew file:   tryagain/media/164e6dac-7329-410c-a37d-ae2be828c735.txt\n",
      "\tnew file:   tryagain/media/1830f24e-76da-4b46-8558-077063287f04.txt\n",
      "\tnew file:   tryagain/media/2694f93c-baa1-4ddf-a2e7-bf1a9080e5bc.txt\n",
      "\tnew file:   tryagain/media/341fa3a9-cae1-43a6-9aa5-5e344bab2c5f.txt\n",
      "\tnew file:   tryagain/media/47bfa35c-3404-4d39-8008-182f61ad9ff0.txt\n",
      "\tnew file:   tryagain/media/525a835b-3ed8-4c99-84d9-5274c56b3fa2.txt\n",
      "\tnew file:   tryagain/media/55a012c6-7c00-4fbe-8aff-7dba39ae9615.txt\n",
      "\tnew file:   tryagain/media/715f4ee0-5c6c-4523-b237-8a886998bd0c.txt\n",
      "\tnew file:   tryagain/media/78bcd794-2628-48fb-8a4d-854e6494c6d1.txt\n",
      "\tnew file:   tryagain/media/7b039dae-7464-4bf2-b2ea-d37caf20d0b9.txt\n",
      "\tnew file:   tryagain/media/c5957ef6-554b-4149-a74d-d97382caf0a3.txt\n",
      "\tnew file:   tryagain/media/dd01525c-248f-4355-bbab-dcc6121ba7a9.txt\n",
      "\tnew file:   tryagain/media/images/bangla.jpg\n",
      "\tnew file:   tryagain/nirab/__pycache__/bangla_ocr.cpython-38.pyc\n",
      "\tnew file:   tryagain/nirab/bangla_ocr.ipynb\n",
      "\tnew file:   tryagain/nirab/bangla_ocr.py\n",
      "\tmodified:   tryagain/nirab/forms.py\n",
      "\tnew file:   tryagain/nirab/templates/bangla_ocr.html\n",
      "\tnew file:   tryagain/nirab/templates/bangla_ocr_result.html\n",
      "\tmodified:   tryagain/nirab/templates/navbar.html\n",
      "\tmodified:   tryagain/nirab/templates/user_profile.html\n",
      "\tmodified:   tryagain/nirab/urls.py\n",
      "\tmodified:   tryagain/nirab/views.py\n",
      "\n",
      "Unmerged paths:\n",
      "  (use \"git add <file>...\" to mark resolution)\n",
      "\tboth modified:   tryagain/nirab/__pycache__/forms.cpython-38.pyc\n",
      "\tboth modified:   tryagain/nirab/__pycache__/urls.cpython-38.pyc\n",
      "\tboth modified:   tryagain/nirab/__pycache__/views.cpython-38.pyc\n",
      "\n",
      "Changes not staged for commit:\n",
      "  (use \"git add <file>...\" to update what will be committed)\n",
      "  (use \"git restore <file>...\" to discard changes in working directory)\n",
      "\tmodified:   tryagain/nirab/__pycache__/bangla_ocr.cpython-38.pyc\n",
      "\n"
     ]
    }
   ],
   "source": [
    "!git status"
   ]
  },
  {
   "cell_type": "code",
   "execution_count": 12,
   "metadata": {},
   "outputs": [],
   "source": [
    "!git add .\n"
   ]
  },
  {
   "cell_type": "code",
   "execution_count": 13,
   "metadata": {},
   "outputs": [
    {
     "name": "stdout",
     "output_type": "stream",
     "text": [
      "On branch Banglaocr\n",
      "nothing to commit, working tree clean\n"
     ]
    }
   ],
   "source": [
    "!git commit -m \"new commit on bangla ocr\""
   ]
  },
  {
   "cell_type": "code",
   "execution_count": 14,
   "metadata": {},
   "outputs": [
    {
     "name": "stderr",
     "output_type": "stream",
     "text": [
      "To https://github.com/Nirab123456/learn_django.git\n",
      " ! [rejected]        Banglaocr -> Banglaocr (fetch first)\n",
      "error: failed to push some refs to 'https://github.com/Nirab123456/learn_django.git'\n",
      "hint: Updates were rejected because the remote contains work that you do\n",
      "hint: not have locally. This is usually caused by another repository pushing\n",
      "hint: to the same ref. You may want to first integrate the remote changes\n",
      "hint: (e.g., 'git pull ...') before pushing again.\n",
      "hint: See the 'Note about fast-forwards' in 'git push --help' for details.\n"
     ]
    }
   ],
   "source": [
    "\n",
    "!git push origin Banglaocr"
   ]
  },
  {
   "cell_type": "code",
   "execution_count": 2,
   "metadata": {},
   "outputs": [
    {
     "name": "stderr",
     "output_type": "stream",
     "text": [
      "Switched to a new branch 'Banglaocr_with_bootstrap5'\n"
     ]
    }
   ],
   "source": [
    "!git checkout -b Banglaocr_with_bootstrap5"
   ]
  },
  {
   "cell_type": "code",
   "execution_count": 1,
   "metadata": {},
   "outputs": [
    {
     "name": "stderr",
     "output_type": "stream",
     "text": [
      "error: pathspec 'Banglaocr_with_bootstrap5' did not match any file(s) known to git\n"
     ]
    }
   ],
   "source": [
    "!git checkout Banglaocr_with_bootstrap5\n"
   ]
  },
  {
   "cell_type": "code",
   "execution_count": 8,
   "metadata": {},
   "outputs": [
    {
     "name": "stderr",
     "output_type": "stream",
     "text": [
      "remote: \n",
      "remote: Create a pull request for 'secondary' on GitHub by visiting:        \n",
      "remote:      https://github.com/Nirab123456/learn_django/pull/new/secondary        \n",
      "remote: \n",
      "To https://github.com/Nirab123456/learn_django.git\n",
      " * [new branch]      secondary -> secondary\n"
     ]
    }
   ],
   "source": [
    "!git push origin secondary\n"
   ]
  },
  {
   "cell_type": "code",
   "execution_count": 11,
   "metadata": {},
   "outputs": [
    {
     "name": "stdout",
     "output_type": "stream",
     "text": [
      "On branch Banglaocr\n",
      "nothing to commit, working tree clean\n"
     ]
    }
   ],
   "source": [
    "!git status"
   ]
  }
 ],
 "metadata": {
  "kernelspec": {
   "display_name": "tf",
   "language": "python",
   "name": "python3"
  },
  "language_info": {
   "codemirror_mode": {
    "name": "ipython",
    "version": 3
   },
   "file_extension": ".py",
   "mimetype": "text/x-python",
   "name": "python",
   "nbconvert_exporter": "python",
   "pygments_lexer": "ipython3",
   "version": "3.8.16"
  },
  "orig_nbformat": 4
 },
 "nbformat": 4,
 "nbformat_minor": 2
}
