{
 "cells": [
  {
   "cell_type": "code",
   "execution_count": 15,
   "metadata": {},
   "outputs": [
    {
     "name": "stdout",
     "output_type": "stream",
     "text": [
      "warning: Cannot merge binary files: tryagain/nirab/__pycache__/forms.cpython-38.pyc (HEAD vs. 230bea0b5d22158309d287cb302f6bb9a4c7187c)\n",
      "Auto-merging tryagain/nirab/__pycache__/forms.cpython-38.pyc\n",
      "CONFLICT (content): Merge conflict in tryagain/nirab/__pycache__/forms.cpython-38.pyc\n",
      "warning: Cannot merge binary files: tryagain/nirab/__pycache__/urls.cpython-38.pyc (HEAD vs. 230bea0b5d22158309d287cb302f6bb9a4c7187c)\n",
      "Auto-merging tryagain/nirab/__pycache__/urls.cpython-38.pyc\n",
      "CONFLICT (content): Merge conflict in tryagain/nirab/__pycache__/urls.cpython-38.pyc\n",
      "warning: Cannot merge binary files: tryagain/nirab/__pycache__/views.cpython-38.pyc (HEAD vs. 230bea0b5d22158309d287cb302f6bb9a4c7187c)\n",
      "Auto-merging tryagain/nirab/__pycache__/views.cpython-38.pyc\n",
      "CONFLICT (content): Merge conflict in tryagain/nirab/__pycache__/views.cpython-38.pyc\n",
      "Automatic merge failed; fix conflicts and then commit the result.\n"
     ]
    },
    {
     "name": "stderr",
     "output_type": "stream",
     "text": [
      "From https://github.com/Nirab123456/learn_django\n",
      " * branch            Banglaocr  -> FETCH_HEAD\n",
      "   30e47a4..230bea0  Banglaocr  -> origin/Banglaocr\n"
     ]
    }
   ],
   "source": [
    "!git pull origin Banglaocr\n",
    "\n"
   ]
  },
  {
   "cell_type": "code",
   "execution_count": 1,
   "metadata": {},
   "outputs": [
    {
     "name": "stderr",
     "output_type": "stream",
     "text": [
      "warning: in the working copy of 'git.ipynb', LF will be replaced by CRLF the next time Git touches it\n"
     ]
    },
    {
     "name": "stdout",
     "output_type": "stream",
     "text": [
      "[Banglaocr_V2 1632f49] able to make decision depending on which views has been pased to the template\n",
      " 48 files changed, 727 insertions(+), 137 deletions(-)\n",
      " create mode 100644 tryagain/media/07d42269-55eb-41e4-8898-f616f59d4b0e.txt\n",
      " create mode 100644 tryagain/media/08d0c2bb-7c7f-4aeb-8363-fb42af3b7eae.txt\n",
      " create mode 100644 tryagain/media/0cceee54-265b-45a6-8838-d8f2caa59adf.txt\n",
      " create mode 100644 tryagain/media/161fbbaa-b488-4365-bc1f-aa92c687923c.txt\n",
      " create mode 100644 tryagain/media/16e9875d-72ac-4eb2-b2bc-cd1238beef77.txt\n",
      " create mode 100644 tryagain/media/174c31e6-39b4-4c62-aeeb-023f28912ba7.txt\n",
      " create mode 100644 tryagain/media/2d30b9a4-2ebe-43f5-8dc5-8050ed367fbd.txt\n",
      " create mode 100644 tryagain/media/3070d084-a73b-44e6-9d91-b42245704643.txt\n",
      " create mode 100644 tryagain/media/314a507f-e64d-414a-9673-5d01088d02e4.txt\n",
      " create mode 100644 tryagain/media/39e2b14c-969d-4038-a965-f3158db3ba12.txt\n",
      " create mode 100644 tryagain/media/3e052713-c09b-46c0-8005-02cd172306d9.txt\n",
      " create mode 100644 tryagain/media/5340d380-8279-45df-a13c-81fa1a73a560.txt\n",
      " create mode 100644 tryagain/media/55617f4f-af7c-4d6f-881a-b0ee7b3977b0.txt\n",
      " create mode 100644 tryagain/media/7d128bef-d049-4c0c-802b-2cf491b745fa.txt\n",
      " create mode 100644 tryagain/media/8ca217bc-60e4-4865-a1e6-df6575e21f44.txt\n",
      " create mode 100644 tryagain/media/941ff563-015c-42ac-af1c-c73f2f2a55be.txt\n",
      " create mode 100644 tryagain/media/af7fd386-8e1a-4293-893c-02ee5ab98b50.txt\n",
      " create mode 100644 tryagain/media/b28cc86c-b330-4b49-a150-740d3abeb0e8.txt\n",
      " create mode 100644 tryagain/media/b43b0eed-5372-412a-ad9a-77b1f7f774af.txt\n",
      " create mode 100644 tryagain/media/bd57d690-ffe1-4b5e-abda-50fc543c00c1.txt\n",
      " create mode 100644 tryagain/media/c3b4effe-496a-49d6-b687-fc24ce08c07c.txt\n",
      " create mode 100644 tryagain/media/c8925cd2-abf5-4616-a23f-8bb7344ab527.txt\n",
      " create mode 100644 tryagain/media/cfe16930-fbae-42bd-b5fe-e03ad7b3e8d5.txt\n",
      " create mode 100644 tryagain/media/dd000f23-2c07-4472-b3f7-74cde7fdd833.txt\n",
      " create mode 100644 tryagain/media/e6f3098b-5154-4e15-bc0b-bc272c4688bb.txt\n",
      " create mode 100644 tryagain/media/e898079e-3408-47fb-86b6-44883e77c3f2.txt\n",
      " create mode 100644 tryagain/media/e92c1d27-63db-427b-aa59-617f03bbe784.txt\n",
      " create mode 100644 tryagain/media/f231c1c2-4b1e-4b0d-b81e-0b2314d9de39.txt\n",
      " create mode 100644 tryagain/media/f2f90006-c7be-4cc6-ba70-3bf7a0132cd7.txt\n",
      " create mode 100644 tryagain/media/f408f76b-fe97-4532-82e2-84d9910b00d8.txt\n",
      " create mode 100644 tryagain/media/f5fe570c-e22e-4985-9d2f-d32d51ffc14e.txt\n",
      " create mode 100644 tryagain/media/images/bangla_Om4sEE2.jpg\n",
      " create mode 100644 tryagain/media/images/profile/IMG_0898.jpeg\n",
      " create mode 100644 tryagain/nirab/__pycache__/eng_ocr.cpython-38.pyc\n",
      " create mode 100644 tryagain/nirab/eng_ocr.py\n",
      " delete mode 100644 tryagain/nirab/english_text_hand_image.py\n",
      " create mode 100644 tryagain/nirab/templates/OCR.html\n",
      " create mode 100644 tryagain/nirab/templates/add_image.html\n",
      " delete mode 100644 tryagain/nirab/templates/bangla_ocr_result.html\n"
     ]
    },
    {
     "name": "stderr",
     "output_type": "stream",
     "text": [
      "To https://github.com/Nirab123456/learn_django.git\n",
      "   191423f..1632f49  Banglaocr_V2 -> Banglaocr_V2\n"
     ]
    }
   ],
   "source": [
    "!git add .\n",
    "!git commit -m \"able to make decision depending on which views has been pased to the template\"\n",
    "!git push origin Banglaocr_V2"
   ]
  },
  {
   "cell_type": "code",
   "execution_count": 16,
   "metadata": {},
   "outputs": [
    {
     "name": "stdout",
     "output_type": "stream",
     "text": [
      "On branch Banglaocr\n",
      "You have unmerged paths.\n",
      "  (fix conflicts and run \"git commit\")\n",
      "  (use \"git merge --abort\" to abort the merge)\n",
      "\n",
      "Changes to be committed:\n",
      "\tmodified:   git.ipynb\n",
      "\tnew file:   tryagain/media/053647d1-a547-4a3a-b4db-cea164157661.txt\n",
      "\tnew file:   tryagain/media/05811f1b-ff9b-41a7-b52c-5b1fb4dabff7.txt\n",
      "\tnew file:   tryagain/media/0cbbecc7-70db-475d-bed5-6b8d2649374c.txt\n",
      "\tnew file:   tryagain/media/164e6dac-7329-410c-a37d-ae2be828c735.txt\n",
      "\tnew file:   tryagain/media/1830f24e-76da-4b46-8558-077063287f04.txt\n",
      "\tnew file:   tryagain/media/2694f93c-baa1-4ddf-a2e7-bf1a9080e5bc.txt\n",
      "\tnew file:   tryagain/media/341fa3a9-cae1-43a6-9aa5-5e344bab2c5f.txt\n",
      "\tnew file:   tryagain/media/47bfa35c-3404-4d39-8008-182f61ad9ff0.txt\n",
      "\tnew file:   tryagain/media/525a835b-3ed8-4c99-84d9-5274c56b3fa2.txt\n",
      "\tnew file:   tryagain/media/55a012c6-7c00-4fbe-8aff-7dba39ae9615.txt\n",
      "\tnew file:   tryagain/media/715f4ee0-5c6c-4523-b237-8a886998bd0c.txt\n",
      "\tnew file:   tryagain/media/78bcd794-2628-48fb-8a4d-854e6494c6d1.txt\n",
      "\tnew file:   tryagain/media/7b039dae-7464-4bf2-b2ea-d37caf20d0b9.txt\n",
      "\tnew file:   tryagain/media/c5957ef6-554b-4149-a74d-d97382caf0a3.txt\n",
      "\tnew file:   tryagain/media/dd01525c-248f-4355-bbab-dcc6121ba7a9.txt\n",
      "\tnew file:   tryagain/media/images/bangla.jpg\n",
      "\tnew file:   tryagain/nirab/__pycache__/bangla_ocr.cpython-38.pyc\n",
      "\tnew file:   tryagain/nirab/bangla_ocr.ipynb\n",
      "\tnew file:   tryagain/nirab/bangla_ocr.py\n",
      "\tmodified:   tryagain/nirab/forms.py\n",
      "\tnew file:   tryagain/nirab/templates/bangla_ocr.html\n",
      "\tnew file:   tryagain/nirab/templates/bangla_ocr_result.html\n",
      "\tmodified:   tryagain/nirab/templates/navbar.html\n",
      "\tmodified:   tryagain/nirab/templates/user_profile.html\n",
      "\tmodified:   tryagain/nirab/urls.py\n",
      "\tmodified:   tryagain/nirab/views.py\n",
      "\n",
      "Unmerged paths:\n",
      "  (use \"git add <file>...\" to mark resolution)\n",
      "\tboth modified:   tryagain/nirab/__pycache__/forms.cpython-38.pyc\n",
      "\tboth modified:   tryagain/nirab/__pycache__/urls.cpython-38.pyc\n",
      "\tboth modified:   tryagain/nirab/__pycache__/views.cpython-38.pyc\n",
      "\n",
      "Changes not staged for commit:\n",
      "  (use \"git add <file>...\" to update what will be committed)\n",
      "  (use \"git restore <file>...\" to discard changes in working directory)\n",
      "\tmodified:   tryagain/nirab/__pycache__/bangla_ocr.cpython-38.pyc\n",
      "\n"
     ]
    }
   ],
   "source": [
    "!git status"
   ]
  },
  {
   "cell_type": "code",
   "execution_count": 12,
   "metadata": {},
   "outputs": [],
   "source": [
    "!git add .\n"
   ]
  },
  {
   "cell_type": "code",
   "execution_count": 13,
   "metadata": {},
   "outputs": [
    {
     "name": "stdout",
     "output_type": "stream",
     "text": [
      "On branch Banglaocr\n",
      "nothing to commit, working tree clean\n"
     ]
    }
   ],
   "source": [
    "!git commit -m \"new commit on bangla ocr\""
   ]
  },
  {
   "cell_type": "code",
   "execution_count": 14,
   "metadata": {},
   "outputs": [
    {
     "name": "stderr",
     "output_type": "stream",
     "text": [
      "To https://github.com/Nirab123456/learn_django.git\n",
      " ! [rejected]        Banglaocr -> Banglaocr (fetch first)\n",
      "error: failed to push some refs to 'https://github.com/Nirab123456/learn_django.git'\n",
      "hint: Updates were rejected because the remote contains work that you do\n",
      "hint: not have locally. This is usually caused by another repository pushing\n",
      "hint: to the same ref. You may want to first integrate the remote changes\n",
      "hint: (e.g., 'git pull ...') before pushing again.\n",
      "hint: See the 'Note about fast-forwards' in 'git push --help' for details.\n"
     ]
    }
   ],
   "source": [
    "\n",
    "!git push origin Banglaocr"
   ]
  },
  {
   "cell_type": "code",
   "execution_count": 2,
   "metadata": {},
   "outputs": [
    {
     "name": "stderr",
     "output_type": "stream",
     "text": [
      "Switched to a new branch 'Banglaocr_V2'\n"
     ]
    }
   ],
   "source": [
    "!git checkout -b Banglaocr_V2"
   ]
  },
  {
   "cell_type": "code",
   "execution_count": 1,
   "metadata": {},
   "outputs": [
    {
     "name": "stderr",
     "output_type": "stream",
     "text": [
      "error: pathspec 'Banglaocr_with_bootstrap5' did not match any file(s) known to git\n"
     ]
    }
   ],
   "source": [
    "!git checkout Banglaocr_with_bootstrap5\n"
   ]
  },
  {
   "cell_type": "code",
   "execution_count": 8,
   "metadata": {},
   "outputs": [
    {
     "name": "stderr",
     "output_type": "stream",
     "text": [
      "remote: \n",
      "remote: Create a pull request for 'secondary' on GitHub by visiting:        \n",
      "remote:      https://github.com/Nirab123456/learn_django/pull/new/secondary        \n",
      "remote: \n",
      "To https://github.com/Nirab123456/learn_django.git\n",
      " * [new branch]      secondary -> secondary\n"
     ]
    }
   ],
   "source": [
    "!git push origin secondary\n"
   ]
  },
  {
   "cell_type": "code",
   "execution_count": 11,
   "metadata": {},
   "outputs": [
    {
     "name": "stdout",
     "output_type": "stream",
     "text": [
      "On branch Banglaocr\n",
      "nothing to commit, working tree clean\n"
     ]
    }
   ],
   "source": [
    "!git status"
   ]
  }
 ],
 "metadata": {
  "kernelspec": {
   "display_name": "tf",
   "language": "python",
   "name": "python3"
  },
  "language_info": {
   "codemirror_mode": {
    "name": "ipython",
    "version": 3
   },
   "file_extension": ".py",
   "mimetype": "text/x-python",
   "name": "python",
   "nbconvert_exporter": "python",
   "pygments_lexer": "ipython3",
   "version": "3.8.16"
  },
  "orig_nbformat": 4
 },
 "nbformat": 4,
 "nbformat_minor": 2
}
