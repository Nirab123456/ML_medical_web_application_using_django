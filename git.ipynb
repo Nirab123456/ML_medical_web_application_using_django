{
 "cells": [
  {
   "cell_type": "code",
   "execution_count": null,
   "metadata": {},
   "outputs": [],
   "source": [
    "!git pull origin Banglaocr\n",
    "\n"
   ]
  },
  {
   "cell_type": "code",
   "execution_count": 1,
   "metadata": {},
   "outputs": [
    {
     "name": "stderr",
     "output_type": "stream",
     "text": [
      "warning: in the working copy of 'git.ipynb', LF will be replaced by CRLF the next time Git touches it\n",
      "warning: in the working copy of 'tryagain/nirab/templates/trial.html', LF will be replaced by CRLF the next time Git touches it\n"
     ]
    },
    {
     "name": "stdout",
     "output_type": "stream",
     "text": [
      "[rifatul_islam_v5_change_theme f9aacc6] bangla ocr is orking properly in the new taplate page\n",
      " 57 files changed, 2884 insertions(+), 236 deletions(-)\n",
      " create mode 100644 tryagain/main_template/css/rotating_border_animated_buttons.css\n",
      " create mode 100644 tryagain/main_template/images/topics/bangla_ocr_result.jpg\n",
      " create mode 100644 tryagain/main_template/images/topics/bangla_ocr_result_1.jpg\n",
      " create mode 100644 tryagain/media/007fdd0a-7072-4552-8a4d-4655ecc8bcd2.txt\n",
      " create mode 100644 tryagain/media/02591430-34cd-45d9-9c2f-a40a9bd708b9.txt\n",
      " create mode 100644 tryagain/media/10c139e4-3a93-463c-a102-8cfcf2e3601b.txt\n",
      " create mode 100644 tryagain/media/112ab808-1a34-4ed4-ae8a-76b5b6f44e37.txt\n",
      " create mode 100644 tryagain/media/19f76d56-ed80-4585-bd78-e10086a0825e.txt\n",
      " create mode 100644 tryagain/media/1b18035d-cce7-4691-af81-4ca7b8a10602.txt\n",
      " create mode 100644 tryagain/media/249c8e31-5959-47ec-b307-f000dce03b19.txt\n",
      " create mode 100644 tryagain/media/2dbb9fc6-a8e8-4fba-a7de-0af661e3b5b4.txt\n",
      " create mode 100644 tryagain/media/3840b144-15ec-4eb9-822a-f7f738c35a3a.txt\n",
      " create mode 100644 tryagain/media/3a76bf84-dcb3-430c-9ace-0d42d1320bf3.txt\n",
      " create mode 100644 tryagain/media/4a934350-16dd-4f68-aa86-e17b0a61b3f0.txt\n",
      " create mode 100644 tryagain/media/508343cc-f162-45be-a1b8-479613579cb8.txt\n",
      " create mode 100644 tryagain/media/587eb12d-b756-416f-bc0d-0ac78540b3ea.txt\n",
      " create mode 100644 tryagain/media/5a2ee998-b16e-4051-b36b-cdf0216956be.txt\n",
      " create mode 100644 tryagain/media/5d011013-f34e-4e35-8114-1313f4401df4.txt\n",
      " create mode 100644 tryagain/media/6c8c2714-22eb-4951-9ebb-ab2afcde8e5f.txt\n",
      " create mode 100644 tryagain/media/7c6d0ffd-1838-49b1-87fe-2e7c74d1a1e1.txt\n",
      " create mode 100644 tryagain/media/7ddecfea-6659-4bbb-b6f9-3fd2822e7c0f.txt\n",
      " create mode 100644 tryagain/media/7ecb2916-6066-4f5b-88c2-d0fc25517374.txt\n",
      " create mode 100644 tryagain/media/87020509-c59b-4247-b592-830dbfab8f05.txt\n",
      " create mode 100644 tryagain/media/8ca3f917-19c3-4eef-83d2-dc24e44b3212.txt\n",
      " create mode 100644 tryagain/media/8cc51d35-7e1d-4862-a8a2-96fc712cdf3b.txt\n",
      " create mode 100644 tryagain/media/8faf70ec-5495-4ffc-beda-2152e00397e3.txt\n",
      " create mode 100644 tryagain/media/982ec83f-3f01-4fe3-b37e-f110905a5bd5.txt\n",
      " create mode 100644 tryagain/media/a8f3849f-5fa2-4035-9450-60b0747e4198.txt\n",
      " create mode 100644 tryagain/media/b15af8a0-b24e-46b4-9218-8b846392d63c.txt\n",
      " create mode 100644 tryagain/media/b8c87964-a2da-42cc-a57c-846e602716b1.txt\n",
      " create mode 100644 tryagain/media/b98e5081-8287-4955-8a22-da9907107a57.txt\n",
      " create mode 100644 tryagain/media/bac8e160-3975-42c6-80b6-814a0d159741.txt\n",
      " create mode 100644 tryagain/media/c9efd525-7d2a-4c7d-a2a5-ff7217d3baef.txt\n",
      " create mode 100644 tryagain/media/cd7c2825-7365-47cd-81a1-7b6bba52da3a.txt\n",
      " create mode 100644 tryagain/media/da1fd00c-fc06-44c8-9767-1272ed4c4ed7.txt\n",
      " create mode 100644 tryagain/media/da33c81e-7aad-4d6d-861d-23c7ef688c7d.txt\n",
      " create mode 100644 tryagain/media/db264ce6-25d6-4351-94c6-5fb79a9d551d.txt\n",
      " create mode 100644 tryagain/media/dbe7216c-c9df-4c6b-803d-3528fb7b65d3.txt\n",
      " create mode 100644 tryagain/media/e1479b8a-2f96-417d-bf57-c0c610f6e61c.txt\n",
      " create mode 100644 tryagain/media/e9f86b3e-eb48-4f17-8579-66d8aa38adae.txt\n",
      " create mode 100644 tryagain/media/eb29c1b4-b474-4253-9241-81dae3f540d2.txt\n",
      " create mode 100644 tryagain/media/ec844454-6a59-489b-9eb5-8a32153b4fdd.txt\n",
      " create mode 100644 tryagain/media/f046ed88-28a3-423b-98d8-34134d2721d7.txt\n",
      " create mode 100644 tryagain/media/f10e1e5b-5a7f-41f5-b911-0c1a4c41bd36.txt\n",
      " create mode 100644 tryagain/media/f41b846e-fe51-45d5-9960-639e5b6a9a57.txt\n",
      " create mode 100644 tryagain/media/f9c0f425-4492-4a66-9922-5e2e831d38f9.txt\n",
      " create mode 100644 tryagain/media/fe5fe363-360c-4241-be7c-14e0395547dc.txt\n",
      " create mode 100644 tryagain/media/images/full_handwritten_demo.png\n",
      " delete mode 100644 tryagain/media/images/hw1.png\n",
      " create mode 100644 tryagain/nirab/bangla_ocr copy.py\n"
     ]
    },
    {
     "name": "stderr",
     "output_type": "stream",
     "text": [
      "remote: \n",
      "remote: GitHub found 25 vulnerabilities on Nirab123456/learn_django's default branch (6 critical, 13 high, 5 moderate, 1 low). To find out more, visit:        \n",
      "remote:      https://github.com/Nirab123456/learn_django/security/dependabot        \n",
      "remote: \n",
      "To https://github.com/Nirab123456/learn_django.git\n",
      "   aab22ce..f9aacc6  rifatul_islam_v5_change_theme -> rifatul_islam_v5_change_theme\n"
     ]
    }
   ],
   "source": [
    "!git add .\n",
    "!git commit -m \"bangla ocr is orking properly in the new taplate page\"\n",
    "!git push origin rifatul_islam_v5_change_theme"
   ]
  },
  {
   "cell_type": "code",
   "execution_count": null,
   "metadata": {},
   "outputs": [],
   "source": [
    "!git status"
   ]
  },
  {
   "cell_type": "code",
   "execution_count": null,
   "metadata": {},
   "outputs": [],
   "source": [
    "!git add .\n"
   ]
  },
  {
   "cell_type": "code",
   "execution_count": null,
   "metadata": {},
   "outputs": [],
   "source": [
    "!git commit -m \" \""
   ]
  },
  {
   "cell_type": "code",
   "execution_count": null,
   "metadata": {},
   "outputs": [],
   "source": [
    "\n",
    "!git push origin Banglaocr"
   ]
  },
  {
   "cell_type": "code",
   "execution_count": 7,
   "metadata": {},
   "outputs": [
    {
     "name": "stderr",
     "output_type": "stream",
     "text": [
      "Switched to a new branch 'rifatul_islam_v5_change_theme'\n"
     ]
    }
   ],
   "source": [
    "!git checkout -b rifatul_islam_v5_change_theme"
   ]
  },
  {
   "cell_type": "code",
   "execution_count": null,
   "metadata": {},
   "outputs": [],
   "source": [
    "!git checkout Banglaocr_with_bootstrap5\n"
   ]
  },
  {
   "cell_type": "code",
   "execution_count": null,
   "metadata": {},
   "outputs": [],
   "source": [
    "!git push origin secondary\n"
   ]
  },
  {
   "cell_type": "code",
   "execution_count": null,
   "metadata": {},
   "outputs": [],
   "source": [
    "!git status"
   ]
  }
 ],
 "metadata": {
  "kernelspec": {
   "display_name": "tf",
   "language": "python",
   "name": "python3"
  },
  "language_info": {
   "codemirror_mode": {
    "name": "ipython",
    "version": 3
   },
   "file_extension": ".py",
   "mimetype": "text/x-python",
   "name": "python",
   "nbconvert_exporter": "python",
   "pygments_lexer": "ipython3",
   "version": "3.8.16"
  },
  "orig_nbformat": 4
 },
 "nbformat": 4,
 "nbformat_minor": 2
}
