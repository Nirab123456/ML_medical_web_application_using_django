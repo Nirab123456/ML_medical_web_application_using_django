{
 "cells": [
  {
   "cell_type": "code",
   "execution_count": 2,
   "metadata": {},
   "outputs": [
    {
     "name": "stderr",
     "output_type": "stream",
     "text": [
      "warning: in the working copy of 'git.ipynb', LF will be replaced by CRLF the next time Git touches it\n"
     ]
    },
    {
     "name": "stdout",
     "output_type": "stream",
     "text": [
      "[Banglaocr_sub c8aead8] Banglaocr_sub created i can upload and get image link and can work inside add_image function get_ocr function is not working(due to update image url each time)\n",
      " 12 files changed, 114 insertions(+), 118 deletions(-)\n",
      " create mode 100644 tryagain/media/images/1_S5dPJkJ.png\n",
      " create mode 100644 tryagain/nirab/templates/bangla_ocr.html\n",
      " create mode 100644 tryagain/nirab/templates/bangla_ocr_result.html\n"
     ]
    },
    {
     "name": "stderr",
     "output_type": "stream",
     "text": [
      "remote: \n",
      "remote: Create a pull request for 'Banglaocr_sub' on GitHub by visiting:        \n",
      "remote:      https://github.com/Nirab123456/learn_django/pull/new/Banglaocr_sub        \n",
      "remote: \n",
      "To https://github.com/Nirab123456/learn_django.git\n",
      " * [new branch]      Banglaocr_sub -> Banglaocr_sub\n"
     ]
    }
   ],
   "source": [
    "!git add .\n",
    "!git commit -m \"Banglaocr_sub created i can upload and get image link and can work inside add_image function get_ocr function is not working(due to update image url each time)\"\n",
    "!git push origin Banglaocr_sub"
   ]
  },
  {
   "cell_type": "code",
   "execution_count": 1,
   "metadata": {},
   "outputs": [
    {
     "name": "stderr",
     "output_type": "stream",
     "text": [
      "Switched to a new branch 'Banglaocr_sub'\n"
     ]
    }
   ],
   "source": [
    "!git checkout -b Banglaocr_sub"
   ]
  },
  {
   "cell_type": "code",
   "execution_count": 6,
   "metadata": {},
   "outputs": [
    {
     "name": "stderr",
     "output_type": "stream",
     "text": [
      "Already on 'third'\n"
     ]
    }
   ],
   "source": [
    "!git checkout third\n"
   ]
  },
  {
   "cell_type": "code",
   "execution_count": 8,
   "metadata": {},
   "outputs": [
    {
     "name": "stderr",
     "output_type": "stream",
     "text": [
      "remote: \n",
      "remote: Create a pull request for 'secondary' on GitHub by visiting:        \n",
      "remote:      https://github.com/Nirab123456/learn_django/pull/new/secondary        \n",
      "remote: \n",
      "To https://github.com/Nirab123456/learn_django.git\n",
      " * [new branch]      secondary -> secondary\n"
     ]
    }
   ],
   "source": [
    "!git push origin secondary\n"
   ]
  },
  {
   "cell_type": "code",
   "execution_count": 3,
   "metadata": {},
   "outputs": [
    {
     "name": "stdout",
     "output_type": "stream",
     "text": [
      "On branch secondary\n",
      "nothing to commit, working tree clean\n"
     ]
    }
   ],
   "source": [
    "!git status"
   ]
  }
 ],
 "metadata": {
  "kernelspec": {
   "display_name": "tf",
   "language": "python",
   "name": "python3"
  },
  "language_info": {
   "codemirror_mode": {
    "name": "ipython",
    "version": 3
   },
   "file_extension": ".py",
   "mimetype": "text/x-python",
   "name": "python",
   "nbconvert_exporter": "python",
   "pygments_lexer": "ipython3",
   "version": "3.8.16"
  },
  "orig_nbformat": 4
 },
 "nbformat": 4,
 "nbformat_minor": 2
}
