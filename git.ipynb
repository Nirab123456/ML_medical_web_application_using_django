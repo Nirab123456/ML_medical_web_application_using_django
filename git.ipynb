{
 "cells": [
  {
   "cell_type": "code",
   "execution_count": null,
   "metadata": {},
   "outputs": [],
   "source": [
    "!git pull origin Banglaocr\n",
    "\n"
   ]
  },
  {
   "cell_type": "code",
   "execution_count": 1,
   "metadata": {},
   "outputs": [
    {
     "name": "stderr",
     "output_type": "stream",
     "text": [
      "warning: in the working copy of 'git.ipynb', LF will be replaced by CRLF the next time Git touches it\n"
     ]
    },
    {
     "name": "stdout",
     "output_type": "stream",
     "text": [
      "[rifatul_islam_v5_change_theme 2e3b813] bsic html css fixed of all the functions (except text to handwritten all working like a cherm)\n",
      " 25 files changed, 272 insertions(+), 189 deletions(-)\n",
      " create mode 100644 tryagain/media/02e4876b-078b-4d96-990a-0cf87019a0bd.txt\n",
      " create mode 100644 tryagain/media/2236a716-9853-459b-b354-0d8ac12d4147.pdf\n",
      " create mode 100644 tryagain/media/2236a716-9853-459b-b354-0d8ac12d4147.txt\n",
      " create mode 100644 tryagain/media/2d6b1caf-76c0-4c9c-941c-a979fee33b20.txt\n",
      " create mode 100644 tryagain/media/589bfb84-9ee7-4bed-8bf5-24c7ffdf4492.pdf\n",
      " create mode 100644 tryagain/media/589bfb84-9ee7-4bed-8bf5-24c7ffdf4492.txt\n",
      " create mode 100644 tryagain/media/5cb150e1-2034-45b1-90c0-6b4997b46b9a.txt\n",
      " create mode 100644 tryagain/media/7663954d-1896-4713-bc6c-6599b7a6e3d7.pdf\n",
      " create mode 100644 tryagain/media/7663954d-1896-4713-bc6c-6599b7a6e3d7.txt\n",
      " create mode 100644 tryagain/media/94303664-9bdc-4768-a913-e4c8a7fc79f5.pdf\n",
      " create mode 100644 tryagain/media/94303664-9bdc-4768-a913-e4c8a7fc79f5.txt\n",
      " create mode 100644 tryagain/media/9ac9eac2-61e5-41dc-a361-8352950bc0b1.pdf\n",
      " create mode 100644 tryagain/media/9ac9eac2-61e5-41dc-a361-8352950bc0b1.txt\n",
      " create mode 100644 tryagain/media/c36ece1c-f75d-4a40-ae1e-067838e809f0.pdf\n",
      " create mode 100644 tryagain/media/c36ece1c-f75d-4a40-ae1e-067838e809f0.txt\n",
      " create mode 100644 tryagain/media/c83e50a7-43da-4693-bebf-ae9c08cfcda5.pdf\n",
      " create mode 100644 tryagain/media/c83e50a7-43da-4693-bebf-ae9c08cfcda5.txt\n",
      " create mode 100644 tryagain/media/e46c37aa-afc5-4dcf-b947-2598234d3098.txt\n",
      " create mode 100644 tryagain/media/images/eng_sample.png\n",
      " delete mode 100644 tryagain/media/images/f5c23396-5e1c-4046-ade8-9856b3c6605c-1.png\n"
     ]
    },
    {
     "name": "stderr",
     "output_type": "stream",
     "text": [
      "remote: \n",
      "remote: GitHub found 25 vulnerabilities on Nirab123456/learn_django's default branch (6 critical, 13 high, 5 moderate, 1 low). To find out more, visit:        \n",
      "remote:      https://github.com/Nirab123456/learn_django/security/dependabot        \n",
      "remote: \n",
      "To https://github.com/Nirab123456/learn_django.git\n",
      "   0357ac0..2e3b813  rifatul_islam_v5_change_theme -> rifatul_islam_v5_change_theme\n"
     ]
    }
   ],
   "source": [
    "!git add .\n",
    "!git commit -m \"bsic html css fixed of all the functions (except text to handwritten all working like a cherm)\"\n",
    "!git push origin rifatul_islam_v5_change_theme"
   ]
  },
  {
   "cell_type": "code",
   "execution_count": null,
   "metadata": {},
   "outputs": [],
   "source": [
    "!git status"
   ]
  },
  {
   "cell_type": "code",
   "execution_count": null,
   "metadata": {},
   "outputs": [],
   "source": [
    "!git add .\n"
   ]
  },
  {
   "cell_type": "code",
   "execution_count": null,
   "metadata": {},
   "outputs": [],
   "source": [
    "!git commit -m \" \""
   ]
  },
  {
   "cell_type": "code",
   "execution_count": null,
   "metadata": {},
   "outputs": [],
   "source": [
    "\n",
    "!git push origin Banglaocr"
   ]
  },
  {
   "cell_type": "code",
   "execution_count": 7,
   "metadata": {},
   "outputs": [
    {
     "name": "stderr",
     "output_type": "stream",
     "text": [
      "Switched to a new branch 'rifatul_islam_v5_change_theme'\n"
     ]
    }
   ],
   "source": [
    "!git checkout -b rifatul_islam_v5_change_theme"
   ]
  },
  {
   "cell_type": "code",
   "execution_count": null,
   "metadata": {},
   "outputs": [],
   "source": [
    "!git checkout Banglaocr_with_bootstrap5\n"
   ]
  },
  {
   "cell_type": "code",
   "execution_count": null,
   "metadata": {},
   "outputs": [],
   "source": [
    "!git push origin secondary\n"
   ]
  },
  {
   "cell_type": "code",
   "execution_count": null,
   "metadata": {},
   "outputs": [],
   "source": [
    "!git status"
   ]
  }
 ],
 "metadata": {
  "kernelspec": {
   "display_name": "tf",
   "language": "python",
   "name": "python3"
  },
  "language_info": {
   "codemirror_mode": {
    "name": "ipython",
    "version": 3
   },
   "file_extension": ".py",
   "mimetype": "text/x-python",
   "name": "python",
   "nbconvert_exporter": "python",
   "pygments_lexer": "ipython3",
   "version": "3.8.16"
  },
  "orig_nbformat": 4
 },
 "nbformat": 4,
 "nbformat_minor": 2
}
