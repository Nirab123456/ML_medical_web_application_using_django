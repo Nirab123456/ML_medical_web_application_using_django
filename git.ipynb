{
 "cells": [
  {
   "cell_type": "code",
   "execution_count": null,
   "metadata": {},
   "outputs": [],
   "source": [
    "!git pull origin Banglaocr\n",
    "\n"
   ]
  },
  {
   "cell_type": "code",
   "execution_count": 1,
   "metadata": {},
   "outputs": [
    {
     "name": "stderr",
     "output_type": "stream",
     "text": [
      "warning: in the working copy of 'git.ipynb', LF will be replaced by CRLF the next time Git touches it\n",
      "warning: in the working copy of 'tryagain/nirab/scrap.ipynb', LF will be replaced by CRLF the next time Git touches it\n",
      "warning: in the working copy of 'tryagain/nirab/templates/search_results.html', LF will be replaced by CRLF the next time Git touches it\n",
      "warning: in the working copy of 'tryagain/nirab/BACKUP/search_results.html', LF will be replaced by CRLF the next time Git touches it\n",
      "warning: in the working copy of 'tryagain/nirab/templates/search_results copy 2.html', LF will be replaced by CRLF the next time Git touches it\n"
     ]
    },
    {
     "name": "stdout",
     "output_type": "stream",
     "text": [
      "[rifatul_islam_v3 f6f1a98] after a long time wstarted working with page object\n",
      " 22 files changed, 802 insertions(+), 107 deletions(-)\n",
      " create mode 100644 tryagain/media/17b2f54c-7c3a-48c4-9fd6-c9cde21fbe4c.pdf\n",
      " create mode 100644 tryagain/media/17b2f54c-7c3a-48c4-9fd6-c9cde21fbe4c.txt\n",
      " create mode 100644 tryagain/media/96a91121-3cd0-4f7c-9716-dbe12697b7a9.txt\n",
      " create mode 100644 tryagain/media/a5b991d7-77f8-4c00-a86b-25b9b8f14bba.pdf\n",
      " create mode 100644 tryagain/media/a5b991d7-77f8-4c00-a86b-25b9b8f14bba.txt\n",
      " create mode 100644 tryagain/media/ac7d1144-3647-4e22-8691-2deb5d401d71.pdf\n",
      " create mode 100644 tryagain/media/ac7d1144-3647-4e22-8691-2deb5d401d71.txt\n",
      " create mode 100644 tryagain/media/b0f0c374-cdf3-467f-98a5-1900a8ad5975.pdf\n",
      " create mode 100644 tryagain/media/b0f0c374-cdf3-467f-98a5-1900a8ad5975.txt\n",
      " create mode 100644 tryagain/media/d6c2f967-2d98-4f0a-a236-c9a0c0f02a64.pdf\n",
      " create mode 100644 tryagain/media/d6c2f967-2d98-4f0a-a236-c9a0c0f02a64.txt\n",
      " create mode 100644 tryagain/media/images/ENG_IMAGE_2lZKzLn.jpg\n",
      " delete mode 100644 tryagain/media/images/visa.jpg\n",
      " create mode 100644 tryagain/nirab/BACKUP/search_results.html\n",
      " create mode 100644 tryagain/nirab/__pycache__/med_search.cpython-38.pyc\n",
      " create mode 100644 tryagain/nirab/med_search.py\n",
      " create mode 100644 tryagain/nirab/templates/search_results copy 2.html\n"
     ]
    },
    {
     "name": "stderr",
     "output_type": "stream",
     "text": [
      "remote: \n",
      "remote: GitHub found 25 vulnerabilities on Nirab123456/learn_django's default branch (6 critical, 13 high, 5 moderate, 1 low). To find out more, visit:        \n",
      "remote:      https://github.com/Nirab123456/learn_django/security/dependabot        \n",
      "remote: \n",
      "To https://github.com/Nirab123456/learn_django.git\n",
      "   0999722..f6f1a98  rifatul_islam_v3 -> rifatul_islam_v3\n"
     ]
    }
   ],
   "source": [
    "!git add .\n",
    "!git commit -m \"after a long time wstarted working with page object\"\n",
    "!git push origin rifatul_islam_v3"
   ]
  },
  {
   "cell_type": "code",
   "execution_count": null,
   "metadata": {},
   "outputs": [],
   "source": [
    "!git status"
   ]
  },
  {
   "cell_type": "code",
   "execution_count": null,
   "metadata": {},
   "outputs": [],
   "source": [
    "!git add .\n"
   ]
  },
  {
   "cell_type": "code",
   "execution_count": null,
   "metadata": {},
   "outputs": [],
   "source": [
    "!git commit -m \" \""
   ]
  },
  {
   "cell_type": "code",
   "execution_count": null,
   "metadata": {},
   "outputs": [],
   "source": [
    "\n",
    "!git push origin Banglaocr"
   ]
  },
  {
   "cell_type": "code",
   "execution_count": 1,
   "metadata": {},
   "outputs": [
    {
     "name": "stderr",
     "output_type": "stream",
     "text": [
      "Switched to a new branch 'rifatul_islam_v3'\n"
     ]
    }
   ],
   "source": [
    "!git checkout -b rifatul_islam_v3"
   ]
  },
  {
   "cell_type": "code",
   "execution_count": null,
   "metadata": {},
   "outputs": [],
   "source": [
    "!git checkout Banglaocr_with_bootstrap5\n"
   ]
  },
  {
   "cell_type": "code",
   "execution_count": null,
   "metadata": {},
   "outputs": [],
   "source": [
    "!git push origin secondary\n"
   ]
  },
  {
   "cell_type": "code",
   "execution_count": null,
   "metadata": {},
   "outputs": [],
   "source": [
    "!git status"
   ]
  }
 ],
 "metadata": {
  "kernelspec": {
   "display_name": "tf",
   "language": "python",
   "name": "python3"
  },
  "language_info": {
   "codemirror_mode": {
    "name": "ipython",
    "version": 3
   },
   "file_extension": ".py",
   "mimetype": "text/x-python",
   "name": "python",
   "nbconvert_exporter": "python",
   "pygments_lexer": "ipython3",
   "version": "3.8.16"
  },
  "orig_nbformat": 4
 },
 "nbformat": 4,
 "nbformat_minor": 2
}
