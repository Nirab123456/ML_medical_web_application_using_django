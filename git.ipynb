{
 "cells": [
  {
   "cell_type": "code",
   "execution_count": null,
   "metadata": {},
   "outputs": [],
   "source": [
    "!git pull origin Banglaocr\n",
    "\n"
   ]
  },
  {
   "cell_type": "code",
   "execution_count": 1,
   "metadata": {},
   "outputs": [
    {
     "name": "stderr",
     "output_type": "stream",
     "text": [
      "warning: in the working copy of 'git.ipynb', LF will be replaced by CRLF the next time Git touches it\n",
      "warning: in the working copy of 'cardio_vascular/cvd_2020.ipynb', LF will be replaced by CRLF the next time Git touches it\n",
      "warning: in the working copy of 'cardio_vascular/evalute_model.ipynb', LF will be replaced by CRLF the next time Git touches it\n",
      "warning: in the working copy of 'cardio_vascular/heart-disease-exploratory-data-analysis.ipynb', LF will be replaced by CRLF the next time Git touches it\n",
      "warning: in the working copy of 'cardio_vascular/intro_cvd_torch.ipynb', LF will be replaced by CRLF the next time Git touches it\n",
      "warning: in the working copy of 'www.nhs.uk/assets.nhs.uk/fonts/nhsuk-fonts-1.1.0.css', LF will be replaced by CRLF the next time Git touches it\n",
      "warning: in the working copy of 'www.nhs.uk/assets.nhs.uk/scripts/cookie-consent.js', LF will be replaced by CRLF the next time Git touches it\n",
      "warning: in the working copy of 'www.nhs.uk/assets.nhs.uk/scripts/login.js', LF will be replaced by CRLF the next time Git touches it\n",
      "warning: in the working copy of 'www.nhs.uk/www.nhs.uk/live-well/healthy-weight/bmi-calculator/index.html', LF will be replaced by CRLF the next time Git touches it\n",
      "warning: in the working copy of 'www.nhs.uk/www.nhs.uk/our-policies/cookies-policy/index.html', LF will be replaced by CRLF the next time Git touches it\n",
      "warning: in the working copy of 'www.nhs.uk/www.nhs.uk/static/nhsuk/css/main.55bab994dc3e.css', LF will be replaced by CRLF the next time Git touches it\n",
      "warning: in the working copy of 'www.nhs.uk/www.nhs.uk/static/nhsuk/js/main.25ecae37f6db.js', LF will be replaced by CRLF the next time Git touches it\n"
     ]
    },
    {
     "name": "stdout",
     "output_type": "stream",
     "text": [
      "[rifatul_islam_v5 b58a477] model(1-15(15 included)) produced and  other hand primary cleening done of bmi calculator\n",
      " 42 files changed, 681542 insertions(+), 6 deletions(-)\n",
      " create mode 100644 cardio_vascular/.vscode/settings.json\n",
      " create mode 100644 cardio_vascular/age_catagory_list.txt\n",
      " create mode 100644 cardio_vascular/cvd_2020.ipynb\n",
      " create mode 100644 cardio_vascular/encoder.pkl\n",
      " create mode 100644 cardio_vascular/evalute_model.ipynb\n",
      " create mode 100644 cardio_vascular/heart-disease-exploratory-data-analysis.ipynb\n",
      " create mode 100644 cardio_vascular/heart_2020_cleaned.csv\n",
      " create mode 100644 cardio_vascular/intro_cvd_torch.ipynb\n",
      " create mode 100644 cardio_vascular/model_epoch15.pt\n",
      " create mode 100644 cardio_vascular/numaric_data.csv\n",
      " create mode 100644 cardio_vascular/output.png\n",
      " create mode 100644 cardio_vascular/runs/Aug11_01-50-02_rifat/events.out.tfevents.1691697002.rifat.17860.1\n",
      " create mode 100644 www.nhs.uk/_DataURI/data.image.svg.xml.2296c58231a09.txt\n",
      " create mode 100644 www.nhs.uk/_DataURI/data.image.svg.xml.9e7938ac08def.txt\n",
      " create mode 100644 www.nhs.uk/assets.nhs.uk/fonts/0811514e-6660-4043-92c1-23d0b8caaa2f.woff2\n",
      " create mode 100644 www.nhs.uk/assets.nhs.uk/fonts/8c92eb68-ce37-4962-a9f4-5b47d336bd1c.woff2\n",
      " create mode 100644 www.nhs.uk/assets.nhs.uk/fonts/FrutigerLTW01-55Roman.woff2\n",
      " create mode 100644 www.nhs.uk/assets.nhs.uk/fonts/FrutigerLTW01-65Bold.woff2\n",
      " create mode 100644 www.nhs.uk/assets.nhs.uk/fonts/nhsuk-fonts-1.1.0.css\n",
      " create mode 100644 www.nhs.uk/assets.nhs.uk/scripts/cookie-consent.js\n",
      " create mode 100644 www.nhs.uk/assets.nhs.uk/scripts/login.js\n",
      " create mode 100644 www.nhs.uk/assets.nhs.uk/tools/bmi/child_lookup.json\n",
      " create mode 100644 www.nhs.uk/assets.nhs.uk/tools/bmi/config.json\n",
      " create mode 100644 www.nhs.uk/assets.nhs.uk/tools/bmi/css/bmi-desktop.css\n",
      " create mode 100644 www.nhs.uk/assets.nhs.uk/tools/bmi/css/bmi-shared.css\n",
      " create mode 100644 www.nhs.uk/assets.nhs.uk/tools/bmi/data.json\n",
      " create mode 100644 www.nhs.uk/assets.nhs.uk/tools/bmi/images/alert_sml.png\n",
      " create mode 100644 www.nhs.uk/assets.nhs.uk/tools/bmi/images/input_bg.png\n",
      " create mode 100644 www.nhs.uk/assets.nhs.uk/tools/bmi/images/plus.png\n",
      " create mode 100644 www.nhs.uk/assets.nhs.uk/tools/bmi/images/pointer.png\n",
      " create mode 100644 www.nhs.uk/assets.nhs.uk/tools/bmi/images/slider_adult_1.png\n",
      " create mode 100644 www.nhs.uk/assets.nhs.uk/tools/bmi/js/app.main.min.js\n",
      " create mode 100644 www.nhs.uk/assets.nhs.uk/tools/bmi/js/inline_launcher.js\n",
      " create mode 100644 www.nhs.uk/assets.nhs.uk/tools/bmi/templates/index copy.html\n",
      " create mode 100644 www.nhs.uk/assets.nhs.uk/tools/bmi/templates/index.html\n",
      " create mode 100644 www.nhs.uk/assets.nhs.uk/tools/bmi/vendor/jquery-3.2.1.min.js\n",
      " create mode 100644 www.nhs.uk/www.nhs.uk/externalservices/surveyfeedapi/api/bannerfeed.json\n",
      " create mode 100644 www.nhs.uk/www.nhs.uk/live-well/healthy-weight/bmi-calculator/index.html\n",
      " create mode 100644 www.nhs.uk/www.nhs.uk/our-policies/cookies-policy/index.html\n",
      " create mode 100644 www.nhs.uk/www.nhs.uk/static/nhsuk/css/main.55bab994dc3e.css\n",
      " create mode 100644 www.nhs.uk/www.nhs.uk/static/nhsuk/js/main.25ecae37f6db.js\n"
     ]
    },
    {
     "name": "stderr",
     "output_type": "stream",
     "text": [
      "remote: \n",
      "remote: GitHub found 25 vulnerabilities on Nirab123456/learn_django's default branch (6 critical, 13 high, 5 moderate, 1 low). To find out more, visit:        \n",
      "remote:      https://github.com/Nirab123456/learn_django/security/dependabot        \n",
      "remote: \n",
      "To https://github.com/Nirab123456/learn_django.git\n",
      "   22a338f..b58a477  rifatul_islam_v5 -> rifatul_islam_v5\n"
     ]
    }
   ],
   "source": [
    "!git add .\n",
    "!git commit -m \"model(1-15(15 included)) produced and  other hand primary cleening done of bmi calculator\"\n",
    "!git push origin rifatul_islam_v5"
   ]
  },
  {
   "cell_type": "code",
   "execution_count": null,
   "metadata": {},
   "outputs": [],
   "source": [
    "!git status"
   ]
  },
  {
   "cell_type": "code",
   "execution_count": null,
   "metadata": {},
   "outputs": [],
   "source": [
    "!git add .\n"
   ]
  },
  {
   "cell_type": "code",
   "execution_count": null,
   "metadata": {},
   "outputs": [],
   "source": [
    "!git commit -m \" \""
   ]
  },
  {
   "cell_type": "code",
   "execution_count": null,
   "metadata": {},
   "outputs": [],
   "source": [
    "\n",
    "!git push origin Banglaocr"
   ]
  },
  {
   "cell_type": "code",
   "execution_count": 7,
   "metadata": {},
   "outputs": [
    {
     "name": "stderr",
     "output_type": "stream",
     "text": [
      "Switched to a new branch 'rifatul_islam_v5'\n"
     ]
    }
   ],
   "source": [
    "!git checkout -b rifatul_islam_v5"
   ]
  },
  {
   "cell_type": "code",
   "execution_count": null,
   "metadata": {},
   "outputs": [],
   "source": [
    "!git checkout Banglaocr_with_bootstrap5\n"
   ]
  },
  {
   "cell_type": "code",
   "execution_count": null,
   "metadata": {},
   "outputs": [],
   "source": [
    "!git push origin secondary\n"
   ]
  },
  {
   "cell_type": "code",
   "execution_count": null,
   "metadata": {},
   "outputs": [],
   "source": [
    "!git status"
   ]
  }
 ],
 "metadata": {
  "kernelspec": {
   "display_name": "tf",
   "language": "python",
   "name": "python3"
  },
  "language_info": {
   "codemirror_mode": {
    "name": "ipython",
    "version": 3
   },
   "file_extension": ".py",
   "mimetype": "text/x-python",
   "name": "python",
   "nbconvert_exporter": "python",
   "pygments_lexer": "ipython3",
   "version": "3.8.16"
  },
  "orig_nbformat": 4
 },
 "nbformat": 4,
 "nbformat_minor": 2
}
