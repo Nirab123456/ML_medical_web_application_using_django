{
 "cells": [
  {
   "cell_type": "code",
   "execution_count": 3,
   "metadata": {},
   "outputs": [
    {
     "name": "stderr",
     "output_type": "stream",
     "text": [
      "warning: in the working copy of 'git.ipynb', LF will be replaced by CRLF the next time Git touches it\n"
     ]
    },
    {
     "name": "stdout",
     "output_type": "stream",
     "text": [
      "[main ce02b2b] compleate project\n",
      " 19 files changed, 278 insertions(+), 39 deletions(-)\n",
      " create mode 100644 dcrm/website/migrations/0001_initial.py\n",
      " create mode 100644 dcrm/website/migrations/0002_record_address_record_city_record_country_and_more.py\n",
      " create mode 100644 dcrm/website/migrations/__pycache__/0001_initial.cpython-38.pyc\n",
      " create mode 100644 dcrm/website/migrations/__pycache__/0002_record_address_record_city_record_country_and_more.cpython-38.pyc\n",
      " create mode 100644 dcrm/website/templates/record.html\n",
      " create mode 100644 dcrm/website/templates/update_record.html\n"
     ]
    },
    {
     "name": "stderr",
     "output_type": "stream",
     "text": [
      "To https://github.com/Nirab123456/learn_django.git\n",
      "   97ecb6d..ce02b2b  main -> main\n"
     ]
    }
   ],
   "source": [
    "!git add .\n",
    "!git commit -m \"compleate project \"\n",
    "!git push "
   ]
  }
 ],
 "metadata": {
  "kernelspec": {
   "display_name": "tf",
   "language": "python",
   "name": "python3"
  },
  "language_info": {
   "codemirror_mode": {
    "name": "ipython",
    "version": 3
   },
   "file_extension": ".py",
   "mimetype": "text/x-python",
   "name": "python",
   "nbconvert_exporter": "python",
   "pygments_lexer": "ipython3",
   "version": "3.8.16"
  },
  "orig_nbformat": 4
 },
 "nbformat": 4,
 "nbformat_minor": 2
}
