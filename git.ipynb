{
 "cells": [
  {
   "cell_type": "code",
   "execution_count": null,
   "metadata": {},
   "outputs": [],
   "source": [
    "!git pull origin Banglaocr\n",
    "\n"
   ]
  },
  {
   "cell_type": "code",
   "execution_count": null,
   "metadata": {},
   "outputs": [
    {
     "name": "stderr",
     "output_type": "stream",
     "text": [
      "warning: in the working copy of 'git.ipynb', LF will be replaced by CRLF the next time Git touches it\n",
      "warning: in the working copy of 'tryagain/nirab/templates/search_generic_main.html', LF will be replaced by CRLF the next time Git touches it\n",
      "warning: in the working copy of 'tryagain/nirab/templates/search_main.html', LF will be replaced by CRLF the next time Git touches it\n",
      "warning: in the working copy of 'tryagain/nirab/templates/search_results_main.html', LF will be replaced by CRLF the next time Git touches it\n",
      "warning: in the working copy of 'tryagain/nirab/templates/social_media_Page.html', LF will be replaced by CRLF the next time Git touches it\n"
     ]
    },
    {
     "name": "stdout",
     "output_type": "stream",
     "text": [
      "[rifatul_islam_v5 22a338f] almost all console.log and print() removed\n",
      " 25 files changed, 60 insertions(+), 294 deletions(-)\n",
      " create mode 100644 tryagain/media/a96e2926-5fcf-400c-b2e0-2c6eb1d876d3.txt\n",
      " create mode 100644 tryagain/media/affc82aa-c6b0-40db-8fac-5f03586b4d09.txt\n",
      " delete mode 100644 tryagain/media/images/ENG_IMAGE_2lZKzLn.jpg\n",
      " create mode 100644 tryagain/media/images/bangla_mdZypZV.jpg\n",
      " delete mode 100644 tryagain/nirab/templates/presciption_classification.html\n"
     ]
    },
    {
     "name": "stderr",
     "output_type": "stream",
     "text": [
      "remote: \n",
      "remote: GitHub found 25 vulnerabilities on Nirab123456/learn_django's default branch (6 critical, 13 high, 5 moderate, 1 low). To find out more, visit:        \n",
      "remote:      https://github.com/Nirab123456/learn_django/security/dependabot        \n",
      "remote: \n",
      "To https://github.com/Nirab123456/learn_django.git\n",
      "   76d6db5..22a338f  rifatul_islam_v5 -> rifatul_islam_v5\n"
     ]
    }
   ],
   "source": [
    "!git add .\n",
    "!git commit -m \"model produced and  other hand primary cleening done of bmi calculator\"\n",
    "!git push origin rifatul_islam_v5"
   ]
  },
  {
   "cell_type": "code",
   "execution_count": null,
   "metadata": {},
   "outputs": [],
   "source": [
    "!git status"
   ]
  },
  {
   "cell_type": "code",
   "execution_count": null,
   "metadata": {},
   "outputs": [],
   "source": [
    "!git add .\n"
   ]
  },
  {
   "cell_type": "code",
   "execution_count": null,
   "metadata": {},
   "outputs": [],
   "source": [
    "!git commit -m \" \""
   ]
  },
  {
   "cell_type": "code",
   "execution_count": null,
   "metadata": {},
   "outputs": [],
   "source": [
    "\n",
    "!git push origin Banglaocr"
   ]
  },
  {
   "cell_type": "code",
   "execution_count": 7,
   "metadata": {},
   "outputs": [
    {
     "name": "stderr",
     "output_type": "stream",
     "text": [
      "Switched to a new branch 'rifatul_islam_v5'\n"
     ]
    }
   ],
   "source": [
    "!git checkout -b rifatul_islam_v5"
   ]
  },
  {
   "cell_type": "code",
   "execution_count": null,
   "metadata": {},
   "outputs": [],
   "source": [
    "!git checkout Banglaocr_with_bootstrap5\n"
   ]
  },
  {
   "cell_type": "code",
   "execution_count": null,
   "metadata": {},
   "outputs": [],
   "source": [
    "!git push origin secondary\n"
   ]
  },
  {
   "cell_type": "code",
   "execution_count": null,
   "metadata": {},
   "outputs": [],
   "source": [
    "!git status"
   ]
  }
 ],
 "metadata": {
  "kernelspec": {
   "display_name": "tf",
   "language": "python",
   "name": "python3"
  },
  "language_info": {
   "codemirror_mode": {
    "name": "ipython",
    "version": 3
   },
   "file_extension": ".py",
   "mimetype": "text/x-python",
   "name": "python",
   "nbconvert_exporter": "python",
   "pygments_lexer": "ipython3",
   "version": "3.8.16"
  },
  "orig_nbformat": 4
 },
 "nbformat": 4,
 "nbformat_minor": 2
}
