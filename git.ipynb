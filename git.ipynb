{
 "cells": [
  {
   "cell_type": "code",
   "execution_count": null,
   "metadata": {},
   "outputs": [],
   "source": [
    "!git pull origin Banglaocr\n",
    "\n"
   ]
  },
  {
   "cell_type": "code",
   "execution_count": 1,
   "metadata": {},
   "outputs": [
    {
     "name": "stderr",
     "output_type": "stream",
     "text": [
      "warning: in the working copy of 'git.ipynb', LF will be replaced by CRLF the next time Git touches it\n",
      "warning: in the working copy of 'tryagain/about_me/css/pricing_tables.css', LF will be replaced by CRLF the next time Git touches it\n"
     ]
    },
    {
     "name": "stdout",
     "output_type": "stream",
     "text": [
      "[rifatul_islam_v2 627973e] basic testing of the branch done looks fine start working on this branch(presciption classification)\n",
      " 9 files changed, 397 insertions(+), 15 deletions(-)\n",
      " create mode 100644 tryagain/media/09baeab1-72f3-4196-a4a7-a1322d1112aa.txt\n",
      " create mode 100644 tryagain/media/29ea05e0-c233-4fd5-b7db-2eded5b5e935.txt\n",
      " create mode 100644 tryagain/media/79100ecf-9f26-4b19-b977-7b41f14b380b.pdf\n",
      " create mode 100644 tryagain/media/79100ecf-9f26-4b19-b977-7b41f14b380b.txt\n",
      " create mode 100644 tryagain/media/7a47f164-ea92-4e2d-bf90-abf67510e197.txt\n",
      " create mode 100644 tryagain/media/images/ENG_IMAGE.jpg\n",
      " delete mode 100644 tryagain/media/images/IMG_1247.jpeg\n"
     ]
    },
    {
     "name": "stderr",
     "output_type": "stream",
     "text": [
      "remote: \n",
      "remote: GitHub found 25 vulnerabilities on Nirab123456/learn_django's default branch (6 critical, 13 high, 5 moderate, 1 low). To find out more, visit:        \n",
      "remote:      https://github.com/Nirab123456/learn_django/security/dependabot        \n",
      "remote: \n",
      "To https://github.com/Nirab123456/learn_django.git\n",
      "   2fdd20f..627973e  rifatul_islam_v2 -> rifatul_islam_v2\n"
     ]
    }
   ],
   "source": [
    "!git add .\n",
    "!git commit -m \"presciption classification bug fixed\"\n",
    "!git push origin rifatul_islam_v2"
   ]
  },
  {
   "cell_type": "code",
   "execution_count": null,
   "metadata": {},
   "outputs": [],
   "source": [
    "!git status"
   ]
  },
  {
   "cell_type": "code",
   "execution_count": null,
   "metadata": {},
   "outputs": [],
   "source": [
    "!git add .\n"
   ]
  },
  {
   "cell_type": "code",
   "execution_count": null,
   "metadata": {},
   "outputs": [],
   "source": [
    "!git commit -m \" \""
   ]
  },
  {
   "cell_type": "code",
   "execution_count": null,
   "metadata": {},
   "outputs": [],
   "source": [
    "\n",
    "!git push origin Banglaocr"
   ]
  },
  {
   "cell_type": "code",
   "execution_count": 1,
   "metadata": {},
   "outputs": [
    {
     "name": "stderr",
     "output_type": "stream",
     "text": [
      "Switched to a new branch 'rifatul_islam_v2'\n"
     ]
    }
   ],
   "source": [
    "!git checkout -b rifatul_islam_v2"
   ]
  },
  {
   "cell_type": "code",
   "execution_count": null,
   "metadata": {},
   "outputs": [],
   "source": [
    "!git checkout Banglaocr_with_bootstrap5\n"
   ]
  },
  {
   "cell_type": "code",
   "execution_count": null,
   "metadata": {},
   "outputs": [],
   "source": [
    "!git push origin secondary\n"
   ]
  },
  {
   "cell_type": "code",
   "execution_count": null,
   "metadata": {},
   "outputs": [],
   "source": [
    "!git status"
   ]
  }
 ],
 "metadata": {
  "kernelspec": {
   "display_name": "tf",
   "language": "python",
   "name": "python3"
  },
  "language_info": {
   "codemirror_mode": {
    "name": "ipython",
    "version": 3
   },
   "file_extension": ".py",
   "mimetype": "text/x-python",
   "name": "python",
   "nbconvert_exporter": "python",
   "pygments_lexer": "ipython3",
   "version": "3.8.16"
  },
  "orig_nbformat": 4
 },
 "nbformat": 4,
 "nbformat_minor": 2
}
