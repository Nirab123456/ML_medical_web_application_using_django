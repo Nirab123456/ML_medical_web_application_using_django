{
 "cells": [
  {
   "cell_type": "code",
   "execution_count": null,
   "metadata": {},
   "outputs": [],
   "source": [
    "!git pull origin Banglaocr\n",
    "\n"
   ]
  },
  {
   "cell_type": "code",
   "execution_count": 3,
   "metadata": {},
   "outputs": [
    {
     "name": "stderr",
     "output_type": "stream",
     "text": [
      "warning: in the working copy of 'cardio_vascular/evalute_model.ipynb', LF will be replaced by CRLF the next time Git touches it\n",
      "warning: in the working copy of 'cardio_vascular/intro_cvd_torch.ipynb', LF will be replaced by CRLF the next time Git touches it\n",
      "warning: in the working copy of 'git.ipynb', LF will be replaced by CRLF the next time Git touches it\n"
     ]
    },
    {
     "name": "stdout",
     "output_type": "stream",
     "text": [
      "[rifatul_islam_v5 055746e] geting proper geting all the values in python file\n",
      " 38 files changed, 623 insertions(+), 205 deletions(-)\n",
      " create mode 100644 cardio_vascular/models_cvd/model_epoch1.pt\n",
      " create mode 100644 cardio_vascular/models_cvd/model_epoch10.pt\n",
      " create mode 100644 cardio_vascular/models_cvd/model_epoch11.pt\n",
      " create mode 100644 cardio_vascular/models_cvd/model_epoch12.pt\n",
      " create mode 100644 cardio_vascular/models_cvd/model_epoch13.pt\n",
      " create mode 100644 cardio_vascular/models_cvd/model_epoch14.pt\n",
      " create mode 100644 cardio_vascular/models_cvd/model_epoch15.pt\n",
      " create mode 100644 cardio_vascular/models_cvd/model_epoch16.pt\n",
      " create mode 100644 cardio_vascular/models_cvd/model_epoch17.pt\n",
      " create mode 100644 cardio_vascular/models_cvd/model_epoch18.pt\n",
      " create mode 100644 cardio_vascular/models_cvd/model_epoch2.pt\n",
      " create mode 100644 cardio_vascular/models_cvd/model_epoch3.pt\n",
      " create mode 100644 cardio_vascular/models_cvd/model_epoch4.pt\n",
      " create mode 100644 cardio_vascular/models_cvd/model_epoch5.pt\n",
      " create mode 100644 cardio_vascular/models_cvd/model_epoch6.pt\n",
      " create mode 100644 cardio_vascular/models_cvd/model_epoch7.pt\n",
      " create mode 100644 cardio_vascular/models_cvd/model_epoch8.pt\n",
      " create mode 100644 cardio_vascular/models_cvd/model_epoch9.pt\n",
      " rename cardio_vascular/{ => models_cvd/models_V2}/model_epoch1.pt (100%)\n",
      " rename cardio_vascular/{ => models_cvd/models_V2}/model_epoch2.pt (100%)\n",
      " rename cardio_vascular/{ => models_cvd/models_V2}/model_epoch3.pt (100%)\n",
      " rename cardio_vascular/{ => models_cvd/models_V2}/model_epoch4.pt (100%)\n",
      " rename cardio_vascular/{ => models_cvd/models_V2}/model_epoch5.pt (100%)\n",
      " rename cardio_vascular/{ => models_cvd/models_V2}/model_epoch6.pt (100%)\n",
      " rename cardio_vascular/{ => models_cvd/models_V2}/model_epoch7.pt (100%)\n",
      " rename cardio_vascular/{ => models_cvd/models_V2}/model_epoch8.pt (100%)\n",
      " create mode 100644 cardio_vascular/runs/Aug12_20-06-12_rifat/events.out.tfevents.1691849172.rifat.16092.4\n",
      " create mode 100644 tryagain/nirab/C_V_D_prediction.py\n",
      " create mode 100644 tryagain/nirab/__pycache__/C_V_D_prediction.cpython-38.pyc\n"
     ]
    },
    {
     "name": "stderr",
     "output_type": "stream",
     "text": [
      "remote: \n",
      "remote: GitHub found 25 vulnerabilities on Nirab123456/learn_django's default branch (6 critical, 13 high, 5 moderate, 1 low). To find out more, visit:        \n",
      "remote:      https://github.com/Nirab123456/learn_django/security/dependabot        \n",
      "remote: \n",
      "To https://github.com/Nirab123456/learn_django.git\n",
      "   b735f69..055746e  rifatul_islam_v5 -> rifatul_islam_v5\n"
     ]
    }
   ],
   "source": [
    "!git add .\n",
    "!git commit -m \"geting proper geting all the values in python file\"\n",
    "!git push origin rifatul_islam_v5"
   ]
  },
  {
   "cell_type": "code",
   "execution_count": null,
   "metadata": {},
   "outputs": [],
   "source": [
    "!git status"
   ]
  },
  {
   "cell_type": "code",
   "execution_count": null,
   "metadata": {},
   "outputs": [],
   "source": [
    "!git add .\n"
   ]
  },
  {
   "cell_type": "code",
   "execution_count": null,
   "metadata": {},
   "outputs": [],
   "source": [
    "!git commit -m \" \""
   ]
  },
  {
   "cell_type": "code",
   "execution_count": null,
   "metadata": {},
   "outputs": [],
   "source": [
    "\n",
    "!git push origin Banglaocr"
   ]
  },
  {
   "cell_type": "code",
   "execution_count": 7,
   "metadata": {},
   "outputs": [
    {
     "name": "stderr",
     "output_type": "stream",
     "text": [
      "Switched to a new branch 'rifatul_islam_v5'\n"
     ]
    }
   ],
   "source": [
    "!git checkout -b rifatul_islam_v5"
   ]
  },
  {
   "cell_type": "code",
   "execution_count": null,
   "metadata": {},
   "outputs": [],
   "source": [
    "!git checkout Banglaocr_with_bootstrap5\n"
   ]
  },
  {
   "cell_type": "code",
   "execution_count": null,
   "metadata": {},
   "outputs": [],
   "source": [
    "!git push origin secondary\n"
   ]
  },
  {
   "cell_type": "code",
   "execution_count": null,
   "metadata": {},
   "outputs": [],
   "source": [
    "!git status"
   ]
  }
 ],
 "metadata": {
  "kernelspec": {
   "display_name": "tf",
   "language": "python",
   "name": "python3"
  },
  "language_info": {
   "codemirror_mode": {
    "name": "ipython",
    "version": 3
   },
   "file_extension": ".py",
   "mimetype": "text/x-python",
   "name": "python",
   "nbconvert_exporter": "python",
   "pygments_lexer": "ipython3",
   "version": "3.8.16"
  },
  "orig_nbformat": 4
 },
 "nbformat": 4,
 "nbformat_minor": 2
}
