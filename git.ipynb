{
 "cells": [
  {
   "cell_type": "code",
   "execution_count": null,
   "metadata": {},
   "outputs": [],
   "source": [
    "!git pull origin Banglaocr\n",
    "\n"
   ]
  },
  {
   "cell_type": "code",
   "execution_count": 11,
   "metadata": {},
   "outputs": [
    {
     "name": "stderr",
     "output_type": "stream",
     "text": [
      "warning: in the working copy of 'cardio_vascular/evalute_model.ipynb', LF will be replaced by CRLF the next time Git touches it\n",
      "warning: in the working copy of 'cardio_vascular/intro_cvd_torch.ipynb', LF will be replaced by CRLF the next time Git touches it\n",
      "warning: in the working copy of 'git.ipynb', LF will be replaced by CRLF the next time Git touches it\n",
      "warning: in the working copy of 'tryagain/main_template/js/jquery.sticky.js', LF will be replaced by CRLF the next time Git touches it\n"
     ]
    },
    {
     "name": "stdout",
     "output_type": "stream",
     "text": [
      "[rifatul_islam_v5_change_theme 8832493] compleate for today  and will work tomorrow to compleate new home page\n",
      " 32 files changed, 1155 insertions(+), 2467 deletions(-)\n",
      " create mode 100644 cardio_vascular/model_epoch12.pt\n",
      " create mode 100644 cardio_vascular/model_epoch13.pt\n",
      " create mode 100644 cardio_vascular/model_epoch14.pt\n",
      " create mode 100644 cardio_vascular/model_epoch15.pt\n",
      " create mode 100644 cardio_vascular/model_epoch16.pt\n",
      " create mode 100644 cardio_vascular/model_epoch17.pt\n",
      " create mode 100644 cardio_vascular/model_epoch18.pt\n",
      " create mode 100644 cardio_vascular/model_epoch19.pt\n",
      " create mode 100644 tryagain/main_template/images/OCR.png\n",
      " create mode 100644 tryagain/main_template/images/businesswoman-using-tablet-analysis-graph-company-finance-strategy-statistics-success-concept-planning-future-office-room.jpg\n",
      " create mode 100644 tryagain/main_template/images/heatlt_care.jpg\n",
      " create mode 100644 tryagain/main_template/images/topics/cvd_prediction_1.png\n",
      " create mode 100644 tryagain/main_template/images/topics/drug_details.png\n",
      " create mode 100644 tryagain/main_template/images/topics/drug_find.png\n",
      " create mode 100644 tryagain/main_template/images/topics/eng_sample.png\n",
      " create mode 100644 tryagain/main_template/images/topics/generic_search.png\n",
      " create mode 100644 tryagain/main_template/images/topics/model_result.jpg\n",
      " create mode 100644 tryagain/main_template/images/topics/presciption_classification.jpg\n",
      " create mode 100644 tryagain/main_template/images/topics/presciption_classification_1.png\n",
      " create mode 100644 tryagain/main_template/images/topics/smple_bangla.png\n",
      " create mode 100644 tryagain/media/d8d186f7-211e-4416-a5ba-07c7ee7c662e.txt\n",
      " create mode 100644 tryagain/media/dd59db1d-4296-4667-a5ce-3e066b42b235.txt\n",
      " delete mode 100644 tryagain/media/images/bangla_mdZypZV.jpg\n",
      " create mode 100644 tryagain/media/images/eng_sample.png\n",
      " create mode 100644 tryagain/nirab/templates/backup/index_new.html\n",
      " create mode 100644 tryagain/nirab/templates/new_login_reg.html\n",
      " create mode 100644 tryagain/nirab/templates/new_main_nav_bar.html\n"
     ]
    },
    {
     "name": "stderr",
     "output_type": "stream",
     "text": [
      "remote: \n",
      "remote: GitHub found 25 vulnerabilities on Nirab123456/learn_django's default branch (6 critical, 13 high, 5 moderate, 1 low). To find out more, visit:        \n",
      "remote:      https://github.com/Nirab123456/learn_django/security/dependabot        \n",
      "remote: \n",
      "To https://github.com/Nirab123456/learn_django.git\n",
      "   976269e..8832493  rifatul_islam_v5_change_theme -> rifatul_islam_v5_change_theme\n"
     ]
    }
   ],
   "source": [
    "!git add .\n",
    "!git commit -m \"compleate for today  and will work tomorrow to compleate new home page \"\n",
    "!git push origin rifatul_islam_v5_change_theme"
   ]
  },
  {
   "cell_type": "code",
   "execution_count": null,
   "metadata": {},
   "outputs": [],
   "source": [
    "!git status"
   ]
  },
  {
   "cell_type": "code",
   "execution_count": null,
   "metadata": {},
   "outputs": [],
   "source": [
    "!git add .\n"
   ]
  },
  {
   "cell_type": "code",
   "execution_count": null,
   "metadata": {},
   "outputs": [],
   "source": [
    "!git commit -m \" \""
   ]
  },
  {
   "cell_type": "code",
   "execution_count": null,
   "metadata": {},
   "outputs": [],
   "source": [
    "\n",
    "!git push origin Banglaocr"
   ]
  },
  {
   "cell_type": "code",
   "execution_count": 7,
   "metadata": {},
   "outputs": [
    {
     "name": "stderr",
     "output_type": "stream",
     "text": [
      "Switched to a new branch 'rifatul_islam_v5_change_theme'\n"
     ]
    }
   ],
   "source": [
    "!git checkout -b rifatul_islam_v5_change_theme"
   ]
  },
  {
   "cell_type": "code",
   "execution_count": null,
   "metadata": {},
   "outputs": [],
   "source": [
    "!git checkout Banglaocr_with_bootstrap5\n"
   ]
  },
  {
   "cell_type": "code",
   "execution_count": null,
   "metadata": {},
   "outputs": [],
   "source": [
    "!git push origin secondary\n"
   ]
  },
  {
   "cell_type": "code",
   "execution_count": null,
   "metadata": {},
   "outputs": [],
   "source": [
    "!git status"
   ]
  }
 ],
 "metadata": {
  "kernelspec": {
   "display_name": "tf",
   "language": "python",
   "name": "python3"
  },
  "language_info": {
   "codemirror_mode": {
    "name": "ipython",
    "version": 3
   },
   "file_extension": ".py",
   "mimetype": "text/x-python",
   "name": "python",
   "nbconvert_exporter": "python",
   "pygments_lexer": "ipython3",
   "version": "3.8.16"
  },
  "orig_nbformat": 4
 },
 "nbformat": 4,
 "nbformat_minor": 2
}
