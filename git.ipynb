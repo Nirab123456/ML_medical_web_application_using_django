{
 "cells": [
  {
   "cell_type": "code",
   "execution_count": 1,
   "metadata": {},
   "outputs": [
    {
     "name": "stdout",
     "output_type": "stream",
     "text": [
      "[main (root-commit) 7ad4d46] app setup\n",
      " 29 files changed, 238 insertions(+)\n",
      " create mode 100644 dcrm/dcrm/__init__.py\n",
      " create mode 100644 dcrm/dcrm/__pycache__/__init__.cpython-310.pyc\n",
      " create mode 100644 dcrm/dcrm/__pycache__/__init__.cpython-38.pyc\n",
      " create mode 100644 dcrm/dcrm/__pycache__/settings.cpython-310.pyc\n",
      " create mode 100644 dcrm/dcrm/__pycache__/settings.cpython-38.pyc\n",
      " create mode 100644 dcrm/dcrm/__pycache__/urls.cpython-38.pyc\n",
      " create mode 100644 dcrm/dcrm/__pycache__/wsgi.cpython-38.pyc\n",
      " create mode 100644 dcrm/dcrm/asgi.py\n",
      " create mode 100644 dcrm/dcrm/mydb.py\n",
      " create mode 100644 dcrm/dcrm/settings.py\n",
      " create mode 100644 dcrm/dcrm/urls.py\n",
      " create mode 100644 dcrm/dcrm/wsgi.py\n",
      " create mode 100644 dcrm/manage.py\n",
      " create mode 100644 dcrm/website/__init__.py\n",
      " create mode 100644 dcrm/website/__pycache__/__init__.cpython-38.pyc\n",
      " create mode 100644 dcrm/website/__pycache__/admin.cpython-38.pyc\n",
      " create mode 100644 dcrm/website/__pycache__/apps.cpython-38.pyc\n",
      " create mode 100644 dcrm/website/__pycache__/models.cpython-38.pyc\n",
      " create mode 100644 dcrm/website/admin.py\n",
      " create mode 100644 dcrm/website/apps.py\n",
      " create mode 100644 dcrm/website/migrations/__init__.py\n",
      " create mode 100644 dcrm/website/migrations/__pycache__/__init__.cpython-38.pyc\n",
      " create mode 100644 dcrm/website/models.py\n",
      " create mode 100644 dcrm/website/tests.py\n",
      " create mode 100644 dcrm/website/views.py\n",
      " create mode 100644 git.ipynb\n",
      " create mode 100644 ss/Screenshot 2023-06-28 082206.jpg\n",
      " create mode 100644 ss/Screenshot 2023-06-28 082229.jpg\n",
      " create mode 100644 ss/Screenshot 2023-06-28 082329.jpg\n"
     ]
    },
    {
     "name": "stderr",
     "output_type": "stream",
     "text": [
      "To https://github.com/Nirab123456/learn_django.git\n",
      " * [new branch]      main -> main\n"
     ]
    }
   ],
   "source": [
    "!git add .\n",
    "!git commit -m \"app setup \"\n",
    "!git push "
   ]
  }
 ],
 "metadata": {
  "kernelspec": {
   "display_name": "tf",
   "language": "python",
   "name": "python3"
  },
  "language_info": {
   "codemirror_mode": {
    "name": "ipython",
    "version": 3
   },
   "file_extension": ".py",
   "mimetype": "text/x-python",
   "name": "python",
   "nbconvert_exporter": "python",
   "pygments_lexer": "ipython3",
   "version": "3.8.16"
  },
  "orig_nbformat": 4
 },
 "nbformat": 4,
 "nbformat_minor": 2
}
