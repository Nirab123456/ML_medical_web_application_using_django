{
 "cells": [
  {
   "cell_type": "code",
   "execution_count": 1,
   "metadata": {},
   "outputs": [
    {
     "name": "stderr",
     "output_type": "stream",
     "text": [
      "warning: in the working copy of 'git.ipynb', LF will be replaced by CRLF the next time Git touches it\n"
     ]
    },
    {
     "name": "stdout",
     "output_type": "stream",
     "text": [
      "[secondary 4deb396] 7/2/2023 yesterdy i was too much sick so i could not do anything\n",
      " 14 files changed, 121 insertions(+), 47 deletions(-)\n",
      " create mode 100644 tryagain/nirab/migrations/0003_event_mannager_alter_eventvenue_website.py\n",
      " create mode 100644 tryagain/nirab/migrations/0004_alter_event_mannager.py\n",
      " create mode 100644 tryagain/nirab/migrations/0005_eventvenue_venue_manager.py\n",
      " create mode 100644 tryagain/nirab/migrations/__pycache__/0003_event_mannager_alter_eventvenue_website.cpython-38.pyc\n",
      " create mode 100644 tryagain/nirab/migrations/__pycache__/0004_alter_event_mannager.cpython-38.pyc\n",
      " create mode 100644 tryagain/nirab/migrations/__pycache__/0005_eventvenue_venue_manager.cpython-38.pyc\n"
     ]
    },
    {
     "name": "stderr",
     "output_type": "stream",
     "text": [
      "To https://github.com/Nirab123456/learn_django.git\n",
      "   2b5d4e3..4deb396  secondary -> secondary\n"
     ]
    }
   ],
   "source": [
    "!git add .\n",
    "!git commit -m \"7/2/2023 yesterdy i was too much sick so i could not do anything\"\n",
    "!git push origin secondary"
   ]
  },
  {
   "cell_type": "code",
   "execution_count": 6,
   "metadata": {},
   "outputs": [
    {
     "name": "stdout",
     "output_type": "stream",
     "text": [
      "  main\n",
      "* secondary\n"
     ]
    }
   ],
   "source": [
    "!git branch "
   ]
  },
  {
   "cell_type": "code",
   "execution_count": 7,
   "metadata": {},
   "outputs": [
    {
     "name": "stderr",
     "output_type": "stream",
     "text": [
      "Already on 'secondary'\n"
     ]
    }
   ],
   "source": [
    "!git checkout secondary\n"
   ]
  },
  {
   "cell_type": "code",
   "execution_count": 8,
   "metadata": {},
   "outputs": [
    {
     "name": "stderr",
     "output_type": "stream",
     "text": [
      "remote: \n",
      "remote: Create a pull request for 'secondary' on GitHub by visiting:        \n",
      "remote:      https://github.com/Nirab123456/learn_django/pull/new/secondary        \n",
      "remote: \n",
      "To https://github.com/Nirab123456/learn_django.git\n",
      " * [new branch]      secondary -> secondary\n"
     ]
    }
   ],
   "source": [
    "!git push origin secondary\n"
   ]
  },
  {
   "cell_type": "code",
   "execution_count": 3,
   "metadata": {},
   "outputs": [
    {
     "name": "stdout",
     "output_type": "stream",
     "text": [
      "On branch secondary\n",
      "nothing to commit, working tree clean\n"
     ]
    }
   ],
   "source": [
    "!git status"
   ]
  }
 ],
 "metadata": {
  "kernelspec": {
   "display_name": "tf",
   "language": "python",
   "name": "python3"
  },
  "language_info": {
   "codemirror_mode": {
    "name": "ipython",
    "version": 3
   },
   "file_extension": ".py",
   "mimetype": "text/x-python",
   "name": "python",
   "nbconvert_exporter": "python",
   "pygments_lexer": "ipython3",
   "version": "3.8.16"
  },
  "orig_nbformat": 4
 },
 "nbformat": 4,
 "nbformat_minor": 2
}
