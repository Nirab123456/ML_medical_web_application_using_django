{
 "cells": [
  {
   "cell_type": "code",
   "execution_count": null,
   "metadata": {},
   "outputs": [],
   "source": [
    "!git pull origin Banglaocr\n",
    "\n"
   ]
  },
  {
   "cell_type": "code",
   "execution_count": 2,
   "metadata": {},
   "outputs": [
    {
     "name": "stderr",
     "output_type": "stream",
     "text": [
      "warning: in the working copy of 'git.ipynb', LF will be replaced by CRLF the next time Git touches it\n",
      "warning: in the working copy of 'tryagain/.idea/inspectionProfiles/profiles_settings.xml', LF will be replaced by CRLF the next time Git touches it\n",
      "warning: in the working copy of 'tryagain/MAIN_CSV_DATA/combine_results.ipynb', LF will be replaced by CRLF the next time Git touches it\n",
      "warning: in the working copy of 'tryagain/MAIN_CSV_DATA/custom.ipynb', LF will be replaced by CRLF the next time Git touches it\n",
      "warning: in the working copy of 'tryagain/MAIN_CSV_DATA/custom/custom_1.sdf', LF will be replaced by CRLF the next time Git touches it\n",
      "warning: in the working copy of 'tryagain/MAIN_CSV_DATA/custom/custom_code/raw.ipynb', LF will be replaced by CRLF the next time Git touches it\n",
      "warning: in the working copy of 'tryagain/MAIN_CSV_DATA/custom/custom_code/raw_2.ipynb', LF will be replaced by CRLF the next time Git touches it\n",
      "warning: in the working copy of 'tryagain/MAIN_CSV_DATA/new_data.ipynb', LF will be replaced by CRLF the next time Git touches it\n",
      "warning: in the working copy of 'tryagain/about_me/bootstrap/css/bootstrap.min.css', LF will be replaced by CRLF the next time Git touches it\n",
      "warning: in the working copy of 'tryagain/about_me/css/pikaday.min.css', LF will be replaced by CRLF the next time Git touches it\n",
      "warning: in the working copy of 'tryagain/about_me/css/pricing_tables.css', LF will be replaced by CRLF the next time Git touches it\n",
      "warning: in the working copy of 'tryagain/about_me/fonts/ionicons.min.css', LF will be replaced by CRLF the next time Git touches it\n",
      "warning: in the working copy of 'tryagain/about_me/fonts/ionicons.svg', LF will be replaced by CRLF the next time Git touches it\n",
      "warning: in the working copy of 'tryagain/nirab/templates/add_or_update_record.html', LF will be replaced by CRLF the next time Git touches it\n",
      "warning: in the working copy of 'tryagain/nirab/templates/base_apps_NAV.html', LF will be replaced by CRLF the next time Git touches it\n",
      "warning: in the working copy of 'tryagain/nirab/templates/base_dash_NAV.html', LF will be replaced by CRLF the next time Git touches it\n",
      "warning: in the working copy of 'tryagain/nirab/templates/change_password.html', LF will be replaced by CRLF the next time Git touches it\n",
      "warning: in the working copy of 'tryagain/nirab/templates/hire_me.html', LF will be replaced by CRLF the next time Git touches it\n",
      "warning: in the working copy of 'tryagain/nirab/templates/medication.html', LF will be replaced by CRLF the next time Git touches it\n",
      "warning: in the working copy of 'tryagain/nirab/templates/projects.html', LF will be replaced by CRLF the next time Git touches it\n",
      "warning: in the working copy of 'tryagain/nirab/templates/social_media_Page.html', LF will be replaced by CRLF the next time Git touches it\n",
      "warning: in the working copy of 'scrap_bootstrao_studio/assets/bootstrap/css/bootstrap.min.css', LF will be replaced by CRLF the next time Git touches it\n",
      "warning: in the working copy of 'scrap_bootstrao_studio/assets/bootstrap/js/bootstrap.min.js', LF will be replaced by CRLF the next time Git touches it\n",
      "warning: in the working copy of 'scrap_bootstrao_studio/assets/css/full_search.css', LF will be replaced by CRLF the next time Git touches it\n",
      "warning: in the working copy of 'scrap_bootstrao_studio/index.html', LF will be replaced by CRLF the next time Git touches it\n",
      "warning: in the working copy of 'scrap_bootstrao_studio/search.html', LF will be replaced by CRLF the next time Git touches it\n",
      "warning: in the working copy of 'tryagain/MAIN_CSV_DATA/search-data.ipynb', LF will be replaced by CRLF the next time Git touches it\n",
      "warning: in the working copy of 'tryagain/about_me/css/full_search.css', LF will be replaced by CRLF the next time Git touches it\n",
      "warning: in the working copy of 'tryagain/nirab/BACKUP/medication.html', LF will be replaced by CRLF the next time Git touches it\n",
      "warning: in the working copy of 'tryagain/nirab/scrap.ipynb', LF will be replaced by CRLF the next time Git touches it\n",
      "warning: in the working copy of 'tryagain/nirab/templates/search copy.html', LF will be replaced by CRLF the next time Git touches it\n",
      "warning: in the working copy of 'tryagain/nirab/templates/search.html', LF will be replaced by CRLF the next time Git touches it\n"
     ]
    },
    {
     "name": "stdout",
     "output_type": "stream",
     "text": [
      "[rifatul_islam_v3 bfc8a06] 1st commit in this branch previous v2 branch had some ishues\n",
      " 29 files changed, 4085 insertions(+), 346 deletions(-)\n",
      " create mode 100644 scrap_bootstrao_studio/assets/bootstrap/css/bootstrap.min.css\n",
      " create mode 100644 scrap_bootstrao_studio/assets/bootstrap/js/bootstrap.min.js\n",
      " create mode 100644 scrap_bootstrao_studio/assets/css/full_search.css\n",
      " create mode 100644 scrap_bootstrao_studio/assets/img/bg-img-01.jpg\n",
      " create mode 100644 scrap_bootstrao_studio/index.html\n",
      " create mode 100644 scrap_bootstrao_studio/search.html\n",
      " create mode 100644 tryagain/MAIN_CSV_DATA/dosage_forms_list.txt\n",
      " create mode 100644 tryagain/MAIN_CSV_DATA/search-data.ipynb\n",
      " create mode 100644 tryagain/about_me/css/full_search.css\n",
      " create mode 100644 tryagain/about_me/css/search.css\n",
      " create mode 100644 tryagain/about_me/img/bg-img-01.jpg\n",
      " create mode 100644 tryagain/about_me/js/medicine_search.js\n",
      " create mode 100644 tryagain/media/37c04c22-ab8d-4a34-b71d-3d47203e352e.txt\n",
      " create mode 100644 tryagain/media/57ed1430-8fb6-4ffc-b0e3-18e45deb21f3.txt\n",
      " create mode 100644 tryagain/media/6226eae1-8491-49f8-a497-55d357534e08.txt\n",
      " create mode 100644 tryagain/media/images/visa.jpg\n",
      " create mode 100644 tryagain/nirab/BACKUP/medication.html\n",
      " create mode 100644 tryagain/nirab/scrap.ipynb\n",
      " create mode 100644 tryagain/nirab/templates/search copy.html\n",
      " create mode 100644 tryagain/nirab/templates/search.html\n"
     ]
    },
    {
     "name": "stderr",
     "output_type": "stream",
     "text": [
      "remote: \n",
      "remote: Create a pull request for 'rifatul_islam_v3' on GitHub by visiting:        \n",
      "remote:      https://github.com/Nirab123456/learn_django/pull/new/rifatul_islam_v3        \n",
      "remote: \n",
      "remote: GitHub found 25 vulnerabilities on Nirab123456/learn_django's default branch (6 critical, 13 high, 5 moderate, 1 low). To find out more, visit:        \n",
      "remote:      https://github.com/Nirab123456/learn_django/security/dependabot        \n",
      "remote: \n",
      "To https://github.com/Nirab123456/learn_django.git\n",
      " * [new branch]      rifatul_islam_v3 -> rifatul_islam_v3\n"
     ]
    }
   ],
   "source": [
    "!git add .\n",
    "!git commit -m \"1st commit in this branch previous v2 branch had some ishues\"\n",
    "!git push origin rifatul_islam_v3"
   ]
  },
  {
   "cell_type": "code",
   "execution_count": null,
   "metadata": {},
   "outputs": [],
   "source": [
    "!git status"
   ]
  },
  {
   "cell_type": "code",
   "execution_count": null,
   "metadata": {},
   "outputs": [],
   "source": [
    "!git add .\n"
   ]
  },
  {
   "cell_type": "code",
   "execution_count": null,
   "metadata": {},
   "outputs": [],
   "source": [
    "!git commit -m \" \""
   ]
  },
  {
   "cell_type": "code",
   "execution_count": null,
   "metadata": {},
   "outputs": [],
   "source": [
    "\n",
    "!git push origin Banglaocr"
   ]
  },
  {
   "cell_type": "code",
   "execution_count": 1,
   "metadata": {},
   "outputs": [
    {
     "name": "stderr",
     "output_type": "stream",
     "text": [
      "Switched to a new branch 'rifatul_islam_v3'\n"
     ]
    }
   ],
   "source": [
    "!git checkout -b rifatul_islam_v3"
   ]
  },
  {
   "cell_type": "code",
   "execution_count": null,
   "metadata": {},
   "outputs": [],
   "source": [
    "!git checkout Banglaocr_with_bootstrap5\n"
   ]
  },
  {
   "cell_type": "code",
   "execution_count": null,
   "metadata": {},
   "outputs": [],
   "source": [
    "!git push origin secondary\n"
   ]
  },
  {
   "cell_type": "code",
   "execution_count": null,
   "metadata": {},
   "outputs": [],
   "source": [
    "!git status"
   ]
  }
 ],
 "metadata": {
  "kernelspec": {
   "display_name": "tf",
   "language": "python",
   "name": "python3"
  },
  "language_info": {
   "codemirror_mode": {
    "name": "ipython",
    "version": 3
   },
   "file_extension": ".py",
   "mimetype": "text/x-python",
   "name": "python",
   "nbconvert_exporter": "python",
   "pygments_lexer": "ipython3",
   "version": "3.8.16"
  },
  "orig_nbformat": 4
 },
 "nbformat": 4,
 "nbformat_minor": 2
}
