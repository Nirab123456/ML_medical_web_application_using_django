{
 "cells": [
  {
   "cell_type": "code",
   "execution_count": null,
   "metadata": {},
   "outputs": [],
   "source": [
    "!git pull origin Banglaocr\n",
    "\n"
   ]
  },
  {
   "cell_type": "code",
   "execution_count": 2,
   "metadata": {},
   "outputs": [
    {
     "name": "stderr",
     "output_type": "stream",
     "text": [
      "Switched to a new branch 'rifatul_islam_v5_refresh'\n"
     ]
    }
   ],
   "source": [
    "!git checkout -b rifatul_islam_v5_refresh"
   ]
  },
  {
   "cell_type": "code",
   "execution_count": 1,
   "metadata": {},
   "outputs": [
    {
     "name": "stderr",
     "output_type": "stream",
     "text": [
      "warning: in the working copy of 'git.ipynb', LF will be replaced by CRLF the next time Git touches it\n"
     ]
    },
    {
     "name": "stdout",
     "output_type": "stream",
     "text": [
      "[rifatul_islam_v5_refresh 6df91eb] both med search and med details working properly and previous bugs fixed\n",
      " 6 files changed, 21 insertions(+), 25 deletions(-)\n",
      " rename tryagain/nirab/templates/{brand_generic_drug_search.html => brand_drug_search_form.html} (100%)\n",
      " rename tryagain/nirab/templates/{generic.html => generic_drug_search_form.html} (100%)\n"
     ]
    },
    {
     "name": "stderr",
     "output_type": "stream",
     "text": [
      "remote: \n",
      "remote: GitHub found 25 vulnerabilities on Nirab123456/learn_django's default branch (6 critical, 13 high, 5 moderate, 1 low). To find out more, visit:        \n",
      "remote:      https://github.com/Nirab123456/learn_django/security/dependabot        \n",
      "remote: \n",
      "To https://github.com/Nirab123456/learn_django.git\n",
      "   fa3c35a..6df91eb  rifatul_islam_v5_refresh -> rifatul_islam_v5_refresh\n"
     ]
    }
   ],
   "source": [
    "!git add .\n",
    "!git commit -m \"both med search and med details working properly and previous bugs fixed \"\n",
    "!git push origin rifatul_islam_v5_refresh"
   ]
  },
  {
   "cell_type": "code",
   "execution_count": null,
   "metadata": {},
   "outputs": [],
   "source": [
    "!git status"
   ]
  },
  {
   "cell_type": "code",
   "execution_count": null,
   "metadata": {},
   "outputs": [],
   "source": [
    "!git add .\n"
   ]
  },
  {
   "cell_type": "code",
   "execution_count": null,
   "metadata": {},
   "outputs": [],
   "source": [
    "!git commit -m \" \""
   ]
  },
  {
   "cell_type": "code",
   "execution_count": null,
   "metadata": {},
   "outputs": [],
   "source": [
    "\n",
    "!git push origin Banglaocr"
   ]
  },
  {
   "cell_type": "code",
   "execution_count": 7,
   "metadata": {},
   "outputs": [
    {
     "name": "stderr",
     "output_type": "stream",
     "text": [
      "Switched to a new branch 'rifatul_islam_v5_change_theme'\n"
     ]
    }
   ],
   "source": []
  },
  {
   "cell_type": "code",
   "execution_count": null,
   "metadata": {},
   "outputs": [],
   "source": [
    "!git checkout Banglaocr_with_bootstrap5\n"
   ]
  },
  {
   "cell_type": "code",
   "execution_count": null,
   "metadata": {},
   "outputs": [],
   "source": [
    "!git push origin secondary\n"
   ]
  },
  {
   "cell_type": "code",
   "execution_count": null,
   "metadata": {},
   "outputs": [],
   "source": [
    "!git status"
   ]
  }
 ],
 "metadata": {
  "kernelspec": {
   "display_name": "tf",
   "language": "python",
   "name": "python3"
  },
  "language_info": {
   "codemirror_mode": {
    "name": "ipython",
    "version": 3
   },
   "file_extension": ".py",
   "mimetype": "text/x-python",
   "name": "python",
   "nbconvert_exporter": "python",
   "pygments_lexer": "ipython3",
   "version": "3.8.16"
  },
  "orig_nbformat": 4
 },
 "nbformat": 4,
 "nbformat_minor": 2
}
