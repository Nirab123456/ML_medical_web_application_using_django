{
 "cells": [
  {
   "cell_type": "code",
   "execution_count": 1,
   "metadata": {},
   "outputs": [
    {
     "name": "stderr",
     "output_type": "stream",
     "text": [
      "warning: in the working copy of 'git.ipynb', LF will be replaced by CRLF the next time Git touches it\n"
     ]
    },
    {
     "name": "stdout",
     "output_type": "stream",
     "text": [
      "[Banglaocr_sub 1e56066] almost functional bangla ocr\n",
      " 16 files changed, 140 insertions(+), 14 deletions(-)\n",
      " create mode 100644 tryagain/media/053647d1-a547-4a3a-b4db-cea164157661.txt\n",
      " create mode 100644 tryagain/media/05811f1b-ff9b-41a7-b52c-5b1fb4dabff7.txt\n",
      " create mode 100644 tryagain/media/0cbbecc7-70db-475d-bed5-6b8d2649374c.txt\n",
      " create mode 100644 tryagain/media/341fa3a9-cae1-43a6-9aa5-5e344bab2c5f.txt\n",
      " create mode 100644 tryagain/media/47bfa35c-3404-4d39-8008-182f61ad9ff0.txt\n",
      " create mode 100644 tryagain/media/78bcd794-2628-48fb-8a4d-854e6494c6d1.txt\n",
      " create mode 100644 tryagain/media/7b039dae-7464-4bf2-b2ea-d37caf20d0b9.txt\n",
      " create mode 100644 tryagain/media/c5957ef6-554b-4149-a74d-d97382caf0a3.txt\n"
     ]
    },
    {
     "name": "stderr",
     "output_type": "stream",
     "text": [
      "To https://github.com/Nirab123456/learn_django.git\n",
      "   fce0607..1e56066  Banglaocr_sub -> Banglaocr_sub\n"
     ]
    }
   ],
   "source": [
    "!git add .\n",
    "!git commit -m \"almost functional bangla ocr\"\n",
    "!git push origin Banglaocr_sub"
   ]
  },
  {
   "cell_type": "code",
   "execution_count": 2,
   "metadata": {},
   "outputs": [
    {
     "name": "stderr",
     "output_type": "stream",
     "text": [
      "fatal: a branch named 'Banglaocr' already exists\n"
     ]
    }
   ],
   "source": [
    "!git checkout -b Banglaocr"
   ]
  },
  {
   "cell_type": "code",
   "execution_count": 3,
   "metadata": {},
   "outputs": [
    {
     "name": "stderr",
     "output_type": "stream",
     "text": [
      "error: Your local changes to the following files would be overwritten by checkout:\n",
      "\ttryagain/media/images/bangla.jpg\n",
      "Please commit your changes or stash them before you switch branches.\n",
      "Aborting\n"
     ]
    }
   ],
   "source": [
    "!git checkout Banglaocr\n"
   ]
  },
  {
   "cell_type": "code",
   "execution_count": 8,
   "metadata": {},
   "outputs": [
    {
     "name": "stderr",
     "output_type": "stream",
     "text": [
      "remote: \n",
      "remote: Create a pull request for 'secondary' on GitHub by visiting:        \n",
      "remote:      https://github.com/Nirab123456/learn_django/pull/new/secondary        \n",
      "remote: \n",
      "To https://github.com/Nirab123456/learn_django.git\n",
      " * [new branch]      secondary -> secondary\n"
     ]
    }
   ],
   "source": [
    "!git push origin secondary\n"
   ]
  },
  {
   "cell_type": "code",
   "execution_count": 3,
   "metadata": {},
   "outputs": [
    {
     "name": "stdout",
     "output_type": "stream",
     "text": [
      "On branch secondary\n",
      "nothing to commit, working tree clean\n"
     ]
    }
   ],
   "source": [
    "!git status"
   ]
  }
 ],
 "metadata": {
  "kernelspec": {
   "display_name": "tf",
   "language": "python",
   "name": "python3"
  },
  "language_info": {
   "codemirror_mode": {
    "name": "ipython",
    "version": 3
   },
   "file_extension": ".py",
   "mimetype": "text/x-python",
   "name": "python",
   "nbconvert_exporter": "python",
   "pygments_lexer": "ipython3",
   "version": "3.8.16"
  },
  "orig_nbformat": 4
 },
 "nbformat": 4,
 "nbformat_minor": 2
}
