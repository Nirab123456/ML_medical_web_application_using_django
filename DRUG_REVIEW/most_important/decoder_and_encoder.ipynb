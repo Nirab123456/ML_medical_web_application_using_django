{
 "cells": [
  {
   "cell_type": "code",
   "execution_count": 9,
   "metadata": {},
   "outputs": [
    {
     "name": "stdout",
     "output_type": "stream",
     "text": [
      "Original drugName: afatinib\n",
      "Original condition: 74</span> users found this comment helpful.\n"
     ]
    }
   ],
   "source": [
    "import json\n",
    "\n",
    "# Load the drugName mapping from the JSON file\n",
    "with open('drugName_mapping.json', 'r') as f:\n",
    "    drugName_mapping = json.load(f)\n",
    "\n",
    "# Load the condition mapping from the JSON file\n",
    "with open('condition_mapping.json', 'r') as f:\n",
    "    condition_mapping = json.load(f)\n",
    "\n",
    "# Example: Decode an encoded value back to the original word\n",
    "encoded_value = 10\n",
    "\n",
    "# Reverse lookup using the mapping dictionaries\n",
    "original_drugName = next((key for key, value in drugName_mapping.items() if value == encoded_value), None)\n",
    "original_condition = next((key for key, value in condition_mapping.items() if value == encoded_value), None)\n",
    "\n",
    "print(\"Original drugName:\", original_drugName)\n",
    "print(\"Original condition:\", original_condition)\n"
   ]
  }
 ],
 "metadata": {
  "kernelspec": {
   "display_name": "tf",
   "language": "python",
   "name": "python3"
  },
  "language_info": {
   "codemirror_mode": {
    "name": "ipython",
    "version": 3
   },
   "file_extension": ".py",
   "mimetype": "text/x-python",
   "name": "python",
   "nbconvert_exporter": "python",
   "pygments_lexer": "ipython3",
   "version": "3.8.16"
  },
  "orig_nbformat": 4
 },
 "nbformat": 4,
 "nbformat_minor": 2
}
