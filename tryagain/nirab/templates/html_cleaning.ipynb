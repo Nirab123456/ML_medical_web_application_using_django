{
 "cells": [
  {
   "cell_type": "code",
   "execution_count": 5,
   "metadata": {},
   "outputs": [],
   "source": [
    "import re\n",
    "\n",
    "\n",
    "# Read the HTML file\n",
    "html_file_path = \"C:/tamplates_pre/templatemo_590_topic_listing/templatemo_590_topic_listing/index_new.html\"\n",
    "with open(html_file_path, 'r') as html_file:\n",
    "    html_content = html_file.read()\n",
    "\n",
    "import re\n",
    "\n",
    "pattern = r'\"([^\"]+\\.(?:js|css|jpg|jpeg|png))\"'\n",
    "matches = re.findall(pattern, html_content)\n",
    "converted_content = html_content\n",
    "\n",
    "for match in matches:\n",
    "    original_reference = match\n",
    "    converted_reference = \"{% main_template \\'\" + original_reference + \"\\' %}\"\n",
    "    converted_content = converted_content.replace(original_reference, converted_reference)\n",
    "\n",
    "with open('modified_file.html', 'w') as file:\n",
    "    file.write(converted_content)\n"
   ]
  }
 ],
 "metadata": {
  "kernelspec": {
   "display_name": "tf",
   "language": "python",
   "name": "python3"
  },
  "language_info": {
   "codemirror_mode": {
    "name": "ipython",
    "version": 3
   },
   "file_extension": ".py",
   "mimetype": "text/x-python",
   "name": "python",
   "nbconvert_exporter": "python",
   "pygments_lexer": "ipython3",
   "version": "3.8.16"
  },
  "orig_nbformat": 4
 },
 "nbformat": 4,
 "nbformat_minor": 2
}
