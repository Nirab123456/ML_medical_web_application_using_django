{
 "cells": [
  {
   "cell_type": "code",
   "execution_count": 5,
   "metadata": {},
   "outputs": [],
   "source": [
    "import re\n",
    "\n",
    "\n",
    "# Read the HTML file\n",
    "html_file_path = \"C:/tamplates_pre/templatemo_590_topic_listing/templatemo_590_topic_listing/index_new.html\"\n",
    "with open(html_file_path, 'r') as html_file:\n",
    "    html_content = html_file.read()\n",
    "\n",
    "import re\n",
    "\n",
    "pattern = r'\"([^\"]+\\.(?:js|css|jpg|jpeg|png))\"'\n",
    "matches = re.findall(pattern, html_content)\n",
    "converted_content = html_content\n",
    "\n",
    "for match in matches:\n",
    "    original_reference = match\n",
    "    converted_reference = \"{% main_template \\'\" + original_reference + \"\\' %}\"\n",
    "    converted_content = converted_content.replace(original_reference, converted_reference)\n",
    "\n",
    "with open('modified_file.html', 'w') as file:\n",
    "    file.write(converted_content)\n"
   ]
  },
  {
   "cell_type": "code",
   "execution_count": 3,
   "metadata": {},
   "outputs": [
    {
     "name": "stdout",
     "output_type": "stream",
     "text": [
      "{'item1': {'id': 1, 'value': 10}, 'item2': {'id': 2, 'value': 20}, 'item3': {'id': 1, 'value': 30}, 'id': 0}\n"
     ]
    }
   ],
   "source": [
    "# Example existing dictionary\n",
    "my_dictionary = {\n",
    "    'item1': {'id': 1, 'value': 10},\n",
    "    'item2': {'id': 2, 'value': 20},\n",
    "    'item3': {'id': 1, 'value': 30},\n",
    "}\n",
    "\n",
    "new_id = 0  # Replace with the desired ID value\n",
    "\n",
    "my_dictionary['id'] = new_id\n",
    "\n",
    "print(my_dictionary)\n"
   ]
  },
  {
   "cell_type": "code",
   "execution_count": 4,
   "metadata": {},
   "outputs": [
    {
     "data": {
      "text/plain": [
       "{'item1': {'id': 1, 'value': 10},\n",
       " 'item2': {'id': 2, 'value': 20},\n",
       " 'item3': {'id': 1, 'value': 30},\n",
       " 'id': 0}"
      ]
     },
     "execution_count": 4,
     "metadata": {},
     "output_type": "execute_result"
    }
   ],
   "source": [
    "my_dictionary"
   ]
  }
 ],
 "metadata": {
  "kernelspec": {
   "display_name": "tf",
   "language": "python",
   "name": "python3"
  },
  "language_info": {
   "codemirror_mode": {
    "name": "ipython",
    "version": 3
   },
   "file_extension": ".py",
   "mimetype": "text/x-python",
   "name": "python",
   "nbconvert_exporter": "python",
   "pygments_lexer": "ipython3",
   "version": "3.8.16"
  },
  "orig_nbformat": 4
 },
 "nbformat": 4,
 "nbformat_minor": 2
}
