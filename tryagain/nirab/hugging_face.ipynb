{
 "cells": [
  {
   "cell_type": "code",
   "execution_count": 2,
   "metadata": {},
   "outputs": [
    {
     "name": "stderr",
     "output_type": "stream",
     "text": [
      "Downloading (…)okenizer_config.json: 100%|██████████| 373/373 [00:00<?, ?B/s] \n",
      "Downloading (…)solve/main/vocab.txt: 100%|██████████| 232k/232k [00:00<00:00, 524kB/s]\n",
      "Downloading (…)/main/tokenizer.json: 100%|██████████| 711k/711k [00:00<00:00, 819kB/s]\n",
      "Downloading (…)cial_tokens_map.json: 100%|██████████| 125/125 [00:00<00:00, 62.5kB/s]\n",
      "Downloading (…)lve/main/config.json: 100%|██████████| 5.00k/5.00k [00:00<00:00, 2.50MB/s]\n",
      "Downloading model.safetensors: 100%|██████████| 266M/266M [00:29<00:00, 9.07MB/s]\n"
     ]
    }
   ],
   "source": [
    "# Load model directly\n",
    "from transformers import AutoTokenizer, AutoModelForTokenClassification\n",
    "\n",
    "tokenizer = AutoTokenizer.from_pretrained(\"d4data/biomedical-ner-all\")\n",
    "model = AutoModelForTokenClassification.from_pretrained(\"d4data/biomedical-ner-all\")\n",
    "\n"
   ]
  },
  {
   "cell_type": "code",
   "execution_count": 10,
   "metadata": {},
   "outputs": [
    {
     "data": {
      "text/plain": [
       "[{'entity_group': 'Medication',\n",
       "  'score': 0.9752177,\n",
       "  'word': 'drugs',\n",
       "  'start': 0,\n",
       "  'end': 5},\n",
       " {'entity_group': 'Disease_disorder',\n",
       "  'score': 0.9525168,\n",
       "  'word': 'osteoarthritis',\n",
       "  'start': 10,\n",
       "  'end': 24}]"
      ]
     },
     "execution_count": 10,
     "metadata": {},
     "output_type": "execute_result"
    }
   ],
   "source": [
    "from transformers import pipeline\n",
    "from transformers import AutoTokenizer, AutoModelForTokenClassification\n",
    "\n",
    "tokenizer = AutoTokenizer.from_pretrained(\"d4data/biomedical-ner-all\")\n",
    "model = AutoModelForTokenClassification.from_pretrained(\"d4data/biomedical-ner-all\")\n",
    "\n",
    "pipe = pipeline(\"ner\", model=model, tokenizer=tokenizer, aggregation_strategy=\"simple\") # pass device=0 if using gpu\n",
    "device = 0 \n",
    "pipe(\"\"\"f'{drug_class_string}'\"\"\")\n"
   ]
  },
  {
   "cell_type": "code",
   "execution_count": 13,
   "metadata": {},
   "outputs": [
    {
     "data": {
      "text/plain": [
       "[{'entity_group': 'Medication',\n",
       "  'score': 0.924808,\n",
       "  'word': 'proton pump inhibitor',\n",
       "  'start': 0,\n",
       "  'end': 21}]"
      ]
     },
     "execution_count": 13,
     "metadata": {},
     "output_type": "execute_result"
    }
   ],
   "source": [
    "pipe(\"\"\"proton pump inhibitor\"\"\")"
   ]
  },
  {
   "cell_type": "markdown",
   "metadata": {},
   "source": [
    "NO DISORDER FOUND"
   ]
  },
  {
   "cell_type": "code",
   "execution_count": 14,
   "metadata": {},
   "outputs": [
    {
     "data": {
      "text/plain": [
       "[{'entity_group': 'Medication',\n",
       "  'score': 0.9752177,\n",
       "  'word': 'drugs',\n",
       "  'start': 0,\n",
       "  'end': 5},\n",
       " {'entity_group': 'Disease_disorder',\n",
       "  'score': 0.9525168,\n",
       "  'word': 'osteoarthritis',\n",
       "  'start': 10,\n",
       "  'end': 24}]"
      ]
     },
     "execution_count": 14,
     "metadata": {},
     "output_type": "execute_result"
    }
   ],
   "source": [
    "pipe(\"\"\"drugs for osteoarthritis\"\"\")"
   ]
  },
  {
   "cell_type": "markdown",
   "metadata": {},
   "source": [
    "DISORDER:osteoarthritis"
   ]
  },
  {
   "cell_type": "code",
   "execution_count": 15,
   "metadata": {},
   "outputs": [
    {
     "data": {
      "text/plain": [
       "[{'entity_group': 'Disease_disorder',\n",
       "  'score': 0.99514914,\n",
       "  'word': 'rheumatoid arthritis',\n",
       "  'start': 15,\n",
       "  'end': 35}]"
      ]
     },
     "execution_count": 15,
     "metadata": {},
     "output_type": "execute_result"
    }
   ],
   "source": [
    "pipe(\"\"\"drugs used for rheumatoid arthritis\"\"\")"
   ]
  },
  {
   "cell_type": "markdown",
   "metadata": {},
   "source": [
    "DISORDER:rheumatoid arthritis"
   ]
  },
  {
   "cell_type": "code",
   "execution_count": 16,
   "metadata": {},
   "outputs": [
    {
     "data": {
      "text/plain": [
       "[{'entity_group': 'Detailed_description',\n",
       "  'score': 0.9971529,\n",
       "  'word': 'specific',\n",
       "  'start': 0,\n",
       "  'end': 8},\n",
       " {'entity_group': 'Diagnostic_procedure',\n",
       "  'score': 0.95283985,\n",
       "  'word': 'combined vitamin preparations',\n",
       "  'start': 9,\n",
       "  'end': 38}]"
      ]
     },
     "execution_count": 16,
     "metadata": {},
     "output_type": "execute_result"
    }
   ],
   "source": [
    "pipe(\"\"\"specific combined vitamin preparations\"\"\")"
   ]
  },
  {
   "cell_type": "code",
   "execution_count": 27,
   "metadata": {},
   "outputs": [
    {
     "data": {
      "text/plain": [
       "[{'entity_group': 'Medication',\n",
       "  'score': 0.9879331,\n",
       "  'word': 'an',\n",
       "  'start': 0,\n",
       "  'end': 2},\n",
       " {'entity_group': 'Medication',\n",
       "  'score': 0.5260159,\n",
       "  'word': '##xi',\n",
       "  'start': 2,\n",
       "  'end': 4},\n",
       " {'entity_group': 'Medication',\n",
       "  'score': 0.9288424,\n",
       "  'word': '##ol',\n",
       "  'start': 4,\n",
       "  'end': 6},\n",
       " {'entity_group': 'Medication',\n",
       "  'score': 0.53677696,\n",
       "  'word': '##ytics',\n",
       "  'start': 6,\n",
       "  'end': 11},\n",
       " {'entity_group': 'Medication',\n",
       "  'score': 0.99413115,\n",
       "  'word': 'anti - depressant drugs',\n",
       "  'start': 16,\n",
       "  'end': 37}]"
      ]
     },
     "execution_count": 27,
     "metadata": {},
     "output_type": "execute_result"
    }
   ],
   "source": [
    "pipe(\"\"\"anxiolytics and anti-depressant drugs\"\"\")"
   ]
  },
  {
   "cell_type": "markdown",
   "metadata": {},
   "source": [
    "new presciption"
   ]
  },
  {
   "cell_type": "code",
   "execution_count": 29,
   "metadata": {},
   "outputs": [
    {
     "data": {
      "text/plain": [
       "[{'entity_group': 'Medication',\n",
       "  'score': 0.8990637,\n",
       "  'word': 'leukotriene receptor antagonist',\n",
       "  'start': 0,\n",
       "  'end': 31}]"
      ]
     },
     "execution_count": 29,
     "metadata": {},
     "output_type": "execute_result"
    }
   ],
   "source": [
    "pipe(\"\"\"leukotriene receptor antagonists\"\"\")"
   ]
  },
  {
   "cell_type": "code",
   "execution_count": 30,
   "metadata": {},
   "outputs": [
    {
     "data": {
      "text/plain": [
       "[{'entity_group': 'Therapeutic_procedure',\n",
       "  'score': 0.90327454,\n",
       "  'word': 'bronchodilator',\n",
       "  'start': 0,\n",
       "  'end': 14}]"
      ]
     },
     "execution_count": 30,
     "metadata": {},
     "output_type": "execute_result"
    }
   ],
   "source": [
    "pipe(\"\"\"bronchodilator\"\"\")"
   ]
  },
  {
   "cell_type": "code",
   "execution_count": 31,
   "metadata": {},
   "outputs": [
    {
     "data": {
      "text/plain": [
       "[{'entity_group': 'Detailed_description',\n",
       "  'score': 0.99062216,\n",
       "  'word': 'second generation',\n",
       "  'start': 0,\n",
       "  'end': 17},\n",
       " {'entity_group': 'Medication',\n",
       "  'score': 0.91270816,\n",
       "  'word': 'cephalosporins',\n",
       "  'start': 18,\n",
       "  'end': 32}]"
      ]
     },
     "execution_count": 31,
     "metadata": {},
     "output_type": "execute_result"
    }
   ],
   "source": [
    "pipe(\"\"\"second generation cephalosporins\"\"\")"
   ]
  },
  {
   "cell_type": "code",
   "execution_count": 32,
   "metadata": {},
   "outputs": [
    {
     "data": {
      "text/plain": [
       "[{'entity_group': 'Medication',\n",
       "  'score': 0.9997986,\n",
       "  'word': 'g',\n",
       "  'start': 0,\n",
       "  'end': 1},\n",
       " {'entity_group': 'Medication',\n",
       "  'score': 0.9985061,\n",
       "  'word': '##lu',\n",
       "  'start': 1,\n",
       "  'end': 3},\n",
       " {'entity_group': 'Medication',\n",
       "  'score': 0.97534615,\n",
       "  'word': '##co',\n",
       "  'start': 3,\n",
       "  'end': 5},\n",
       " {'entity_group': 'Medication',\n",
       "  'score': 0.83766466,\n",
       "  'word': '##corticoids',\n",
       "  'start': 5,\n",
       "  'end': 15}]"
      ]
     },
     "execution_count": 32,
     "metadata": {},
     "output_type": "execute_result"
    }
   ],
   "source": [
    "pipe(\"\"\"glucocorticoids\"\"\")"
   ]
  },
  {
   "cell_type": "code",
   "execution_count": 35,
   "metadata": {},
   "outputs": [
    {
     "data": {
      "text/plain": [
       "[{'entity_group': 'Sign_symptom',\n",
       "  'score': 0.99967563,\n",
       "  'word': 'adverse reactions',\n",
       "  'start': 27,\n",
       "  'end': 44},\n",
       " {'entity_group': 'Detailed_description',\n",
       "  'score': 0.99989593,\n",
       "  'word': 'local',\n",
       "  'start': 59,\n",
       "  'end': 64},\n",
       " {'entity_group': 'Sign_symptom',\n",
       "  'score': 0.9321515,\n",
       "  'word': 'skin reactions',\n",
       "  'start': 65,\n",
       "  'end': 79},\n",
       " {'entity_group': 'Sign_symptom',\n",
       "  'score': 0.9865435,\n",
       "  'word': 'drying',\n",
       "  'start': 85,\n",
       "  'end': 91},\n",
       " {'entity_group': 'Sign_symptom',\n",
       "  'score': 0.973125,\n",
       "  'word': 'fl',\n",
       "  'start': 95,\n",
       "  'end': 97},\n",
       " {'entity_group': 'Diagnostic_procedure',\n",
       "  'score': 0.5989356,\n",
       "  'word': 'site',\n",
       "  'start': 181,\n",
       "  'end': 185}]"
      ]
     },
     "execution_count": 35,
     "metadata": {},
     "output_type": "execute_result"
    }
   ],
   "source": [
    "pipe(\"\"\" the following most common adverse reactions (&lt;1%) were local skin reactions like drying or flaking of the skin; burning or tingling, erythema; pigmentation changes, application site reactions including signs and symptoms of inflammation. \"\"\")"
   ]
  },
  {
   "cell_type": "markdown",
   "metadata": {},
   "source": [
    "Sign_symptom\n",
    "Medication\n",
    "Therapeutic_procedure\n",
    "Disease_disorder"
   ]
  },
  {
   "cell_type": "code",
   "execution_count": null,
   "metadata": {},
   "outputs": [],
   "source": [
    "pipe(\"\"\"anxiolytics and anti-depressant drugs\"\"\")"
   ]
  },
  {
   "cell_type": "code",
   "execution_count": null,
   "metadata": {},
   "outputs": [],
   "source": []
  },
  {
   "cell_type": "code",
   "execution_count": 24,
   "metadata": {},
   "outputs": [
    {
     "ename": "AttributeError",
     "evalue": "'NoneType' object has no attribute 'replace'",
     "output_type": "error",
     "traceback": [
      "\u001b[1;31m---------------------------------------------------------------------------\u001b[0m",
      "\u001b[1;31mAttributeError\u001b[0m                            Traceback (most recent call last)",
      "\u001b[1;32md:\\learn_django\\tryagain\\nirab\\hugging_face.ipynb Cell 11\u001b[0m in \u001b[0;36m<cell line: 8>\u001b[1;34m()\u001b[0m\n\u001b[0;32m      <a href='vscode-notebook-cell:/d%3A/learn_django/tryagain/nirab/hugging_face.ipynb#X25sZmlsZQ%3D%3D?line=3'>4</a>\u001b[0m section \u001b[39m=\u001b[39m wikipedia\u001b[39m.\u001b[39mWikipediaPage(\u001b[39m'\u001b[39m\u001b[39manti-epileptic drugs\u001b[39m\u001b[39m'\u001b[39m)\u001b[39m.\u001b[39msection(\u001b[39m'\u001b[39m\u001b[39mPlot\u001b[39m\u001b[39m'\u001b[39m)\n\u001b[0;32m      <a href='vscode-notebook-cell:/d%3A/learn_django/tryagain/nirab/hugging_face.ipynb#X25sZmlsZQ%3D%3D?line=5'>6</a>\u001b[0m \u001b[39m# that will return fairly clean text, but the next line of code\u001b[39;00m\n\u001b[0;32m      <a href='vscode-notebook-cell:/d%3A/learn_django/tryagain/nirab/hugging_face.ipynb#X25sZmlsZQ%3D%3D?line=6'>7</a>\u001b[0m \u001b[39m# will help clean that up.\u001b[39;00m\n\u001b[1;32m----> <a href='vscode-notebook-cell:/d%3A/learn_django/tryagain/nirab/hugging_face.ipynb#X25sZmlsZQ%3D%3D?line=7'>8</a>\u001b[0m section \u001b[39m=\u001b[39m section\u001b[39m.\u001b[39;49mreplace(\u001b[39m'\u001b[39m\u001b[39m\\n\u001b[39;00m\u001b[39m'\u001b[39m,\u001b[39m'\u001b[39m\u001b[39m'\u001b[39m)\u001b[39m.\u001b[39mreplace(\u001b[39m\"\u001b[39m\u001b[39m\\'\u001b[39;00m\u001b[39m\"\u001b[39m,\u001b[39m\"\u001b[39m\u001b[39m\"\u001b[39m)\n",
      "\u001b[1;31mAttributeError\u001b[0m: 'NoneType' object has no attribute 'replace'"
     ]
    }
   ],
   "source": [
    "import wikipedia\n",
    "wikipedia.set_lang(\"en\")\n",
    "wikipedia.summary(\"anti-epileptic drugs\")"
   ]
  },
  {
   "cell_type": "code",
   "execution_count": null,
   "metadata": {},
   "outputs": [],
   "source": []
  },
  {
   "cell_type": "code",
   "execution_count": null,
   "metadata": {},
   "outputs": [],
   "source": []
  },
  {
   "cell_type": "code",
   "execution_count": 21,
   "metadata": {},
   "outputs": [
    {
     "data": {
      "text/plain": [
       "[{'entity_group': 'Diagnostic_procedure',\n",
       "  'score': 0.9548766,\n",
       "  'word': 'minerals in',\n",
       "  'start': 0,\n",
       "  'end': 11},\n",
       " {'entity_group': 'Diagnostic_procedure',\n",
       "  'score': 0.85220265,\n",
       "  'word': 'bone formation',\n",
       "  'start': 12,\n",
       "  'end': 26}]"
      ]
     },
     "execution_count": 21,
     "metadata": {},
     "output_type": "execute_result"
    }
   ],
   "source": [
    "pipe(\"\"\"minerals in bone formation\"\"\")"
   ]
  },
  {
   "cell_type": "code",
   "execution_count": null,
   "metadata": {},
   "outputs": [],
   "source": []
  }
 ],
 "metadata": {
  "kernelspec": {
   "display_name": "tf",
   "language": "python",
   "name": "python3"
  },
  "language_info": {
   "codemirror_mode": {
    "name": "ipython",
    "version": 3
   },
   "file_extension": ".py",
   "mimetype": "text/x-python",
   "name": "python",
   "nbconvert_exporter": "python",
   "pygments_lexer": "ipython3",
   "version": "3.8.16"
  },
  "orig_nbformat": 4
 },
 "nbformat": 4,
 "nbformat_minor": 2
}
