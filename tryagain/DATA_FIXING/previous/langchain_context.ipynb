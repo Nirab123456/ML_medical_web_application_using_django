{
 "cells": [
  {
   "cell_type": "code",
   "execution_count": 1,
   "metadata": {},
   "outputs": [
    {
     "name": "stderr",
     "output_type": "stream",
     "text": [
      "c:\\Users\\rifat\\miniconda3\\envs\\tf\\lib\\site-packages\\tqdm\\auto.py:21: TqdmWarning: IProgress not found. Please update jupyter and ipywidgets. See https://ipywidgets.readthedocs.io/en/stable/user_install.html\n",
      "  from .autonotebook import tqdm as notebook_tqdm\n"
     ]
    },
    {
     "name": "stdout",
     "output_type": "stream",
     "text": [
      "(Document(page_content='as most undesirable effects are based on post-marketing spontaneous reporting, precise frequency estimation is not possible. no adverse reactions to ultracarbon are known to occur if taken in the recommended dosage to treat the diarrhoea. after very high doses as those taken in intoxications, constipation and intestinal obstruction (mechanical ileus) may occur in individual cases; this can be prevented by administering saline laxatives (eg, sodium sulfate). as medicinal charcoal is excreted in unchanged form, the stools turn black (discoloured faeces) after intake of ultracarbon tablets.', metadata={'source': '0'}), 1.9118952751159668)\n",
      "(Document(page_content='as most undesirable effects are based on post-marketing spontaneous reporting, precise frequency estimation is not possible. no adverse reactions to ultracarbon are known to occur if taken in the recommended dosage to treat the diarrhoea. after very high doses as those taken in intoxications, constipation and intestinal obstruction (mechanical ileus) may occur in individual cases; this can be prevented by administering saline laxatives (eg, sodium sulfate). as medicinal charcoal is excreted in unchanged form, the stools turn black (discoloured faeces) after intake of ultracarbon tablets.', metadata={'source': '0'}), 1.0835676193237305)\n",
      "(Document(page_content='as most undesirable effects are based on post-marketing spontaneous reporting, precise frequency estimation is not possible. no adverse reactions to ultracarbon are known to occur if taken in the recommended dosage to treat the diarrhoea. after very high doses as those taken in intoxications, constipation and intestinal obstruction (mechanical ileus) may occur in individual cases; this can be prevented by administering saline laxatives (eg, sodium sulfate). as medicinal charcoal is excreted in unchanged form, the stools turn black (discoloured faeces) after intake of ultracarbon tablets.', metadata={'source': '0'}), 1.5557397603988647)\n",
      "(Document(page_content='as most undesirable effects are based on post-marketing spontaneous reporting, precise frequency estimation is not possible. no adverse reactions to ultracarbon are known to occur if taken in the recommended dosage to treat the diarrhoea. after very high doses as those taken in intoxications, constipation and intestinal obstruction (mechanical ileus) may occur in individual cases; this can be prevented by administering saline laxatives (eg, sodium sulfate). as medicinal charcoal is excreted in unchanged form, the stools turn black (discoloured faeces) after intake of ultracarbon tablets.', metadata={'source': '0'}), 1.9118952751159668)\n",
      "(Document(page_content='as most undesirable effects are based on post-marketing spontaneous reporting, precise frequency estimation is not possible. no adverse reactions to ultracarbon are known to occur if taken in the recommended dosage to treat the diarrhoea. after very high doses as those taken in intoxications, constipation and intestinal obstruction (mechanical ileus) may occur in individual cases; this can be prevented by administering saline laxatives (eg, sodium sulfate). as medicinal charcoal is excreted in unchanged form, the stools turn black (discoloured faeces) after intake of ultracarbon tablets.', metadata={'source': '0'}), 1.9118952751159668)\n"
     ]
    }
   ],
   "source": [
    "from langchain.text_splitter import CharacterTextSplitter\n",
    "from langchain.vectorstores import Chroma\n",
    "from langchain.embeddings import SentenceTransformerEmbeddings \n",
    "\n",
    "embeddings = SentenceTransformerEmbeddings()\n",
    "\n",
    "with open(\"nirab.txt\") as f:\n",
    "    book = f.read()\n",
    "\n",
    "text_splitter = CharacterTextSplitter(chunk_size=1000, chunk_overlap=0)\n",
    "texts = text_splitter.split_text(book)\n",
    "docsearch = Chroma.from_texts(\n",
    "    texts, embeddings, metadatas=[{\"source\": str(i)} for i in range(len(texts))]\n",
    ")\n",
    "\n",
    "while True:\n",
    "    query = input(\"Type your search:\")\n",
    "    docs = docsearch.similarity_search_with_score(query, k=1)\n",
    "    for doc in docs:\n",
    "        print(doc)\n"
   ]
  }
 ],
 "metadata": {
  "kernelspec": {
   "display_name": "tf",
   "language": "python",
   "name": "python3"
  },
  "language_info": {
   "codemirror_mode": {
    "name": "ipython",
    "version": 3
   },
   "file_extension": ".py",
   "mimetype": "text/x-python",
   "name": "python",
   "nbconvert_exporter": "python",
   "pygments_lexer": "ipython3",
   "version": "3.8.16"
  },
  "orig_nbformat": 4
 },
 "nbformat": 4,
 "nbformat_minor": 2
}
