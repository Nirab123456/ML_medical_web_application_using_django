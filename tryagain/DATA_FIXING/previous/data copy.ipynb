{
 "cells": [
  {
   "cell_type": "code",
   "execution_count": 1,
   "metadata": {},
   "outputs": [
    {
     "name": "stderr",
     "output_type": "stream",
     "text": [
      "c:\\Users\\rifat\\miniconda3\\envs\\tf\\lib\\site-packages\\tqdm\\auto.py:21: TqdmWarning: IProgress not found. Please update jupyter and ipywidgets. See https://ipywidgets.readthedocs.io/en/stable/user_install.html\n",
      "  from .autonotebook import tqdm as notebook_tqdm\n"
     ]
    }
   ],
   "source": [
    "from transformers import pipeline\n",
    "import pandas as pd\n"
   ]
  },
  {
   "cell_type": "code",
   "execution_count": 2,
   "metadata": {},
   "outputs": [
    {
     "name": "stderr",
     "output_type": "stream",
     "text": [
      "Downloading (…)lve/main/config.json: 100%|██████████| 540/540 [00:00<00:00, 270kB/s]\n",
      "Downloading model.safetensors: 100%|██████████| 1.34G/1.34G [05:00<00:00, 4.46MB/s]\n",
      "Downloading (…)okenizer_config.json: 100%|██████████| 19.0/19.0 [00:00<00:00, 11.5kB/s]\n",
      "Downloading (…)solve/main/vocab.txt: 100%|██████████| 232k/232k [00:00<00:00, 923kB/s]\n",
      "Downloading (…)in/added_tokens.json: 100%|██████████| 2.00/2.00 [00:00<00:00, 1.00kB/s]\n",
      "Downloading (…)cial_tokens_map.json: 100%|██████████| 112/112 [00:00<00:00, 56.0kB/s]\n"
     ]
    }
   ],
   "source": [
    "tqa = pipeline(task=\"question-answering\",model='deepset/bert-large-uncased-whole-word-masking-squad2',device=0)"
   ]
  },
  {
   "cell_type": "code",
   "execution_count": 8,
   "metadata": {},
   "outputs": [
    {
     "data": {
      "text/plain": [
       "{'score': 0.006990956142544746,\n",
       " 'start': 133,\n",
       " 'end': 196,\n",
       " 'answer': 'hematological indices, headache, neurological reaction, fatigue'}"
      ]
     },
     "execution_count": 8,
     "metadata": {},
     "output_type": "execute_result"
    }
   ],
   "source": [
    "question = \"classify the medical terms\"\n",
    "\n",
    "\n",
    "\n",
    "context= ' rash, gastrointestinal disturbance, rise in bilirubin and liver-related enzymes, increase in blood urea and creatinine, decrease in hematological indices, headache, neurological reaction, fatigue. '\n",
    "tqa(question = question, context = context)\n",
    "## {'answer': 'İstanbul', 'end': 39, 'score': 0.953, 'start': 31}\n"
   ]
  },
  {
   "cell_type": "code",
   "execution_count": 11,
   "metadata": {},
   "outputs": [
    {
     "data": {
      "text/plain": [
       "{'score': 0.011087026447057724,\n",
       " 'start': 334,\n",
       " 'end': 360,\n",
       " 'answer': 'gastrointestinal disorders'}"
      ]
     },
     "execution_count": 11,
     "metadata": {},
     "output_type": "execute_result"
    }
   ],
   "source": [
    "question = \"classify the adverse reaction terms\"\n",
    "\n",
    "\n",
    "context=' the most common adverse reaction with adalimumab was injection site reactions (erythema and/or itching, hemorrhage, pain or swelling). the most common adverse reactions leading to discontinuation of adalimumab in rheumatoid arthritis were clinical flare reaction, rash and pneumonia.  other adverse reactions of adalimumab includes- gastrointestinal disorders: diverticulitis, large bowel perforations including perforations associated with diverticulitis and appendiceal perforations associated with appendicitis, pancreatitis.  general disorders and administration site conditions: pyrexia. hepato-biliary disorders: liver failure, hepatitis. immune system disorders: sarcoidosis. neoplasms benign, malignant and unspecified (including cysts and polyps): merkel cell carcinoma (neuroendocrine carcinoma of the skin). nervous system disorders: demyelinating disorders (e.g., optic neuritis, guillain-barr syndrome). cerebrovascular accident respiratory disorders: interstitial lung disease, including pulmonary fibrosis. pulmonary embolism skin reactions: stevens johnson syndrome, cutaneous vasculitis, erythema multiforme, new or worsening psoriasis (all sub-types including pustular and palmoplantar), alopecia. vascular disorders: systemic vasculitis, deep vein thrombosis.'\n",
    "\n",
    "tqa(question = question, context = context)\n",
    "## {'answer': 'İstanbul', 'end': 39, 'score': 0.953, 'start': 31}\n"
   ]
  },
  {
   "cell_type": "code",
   "execution_count": 14,
   "metadata": {},
   "outputs": [
    {
     "data": {
      "text/plain": [
       "{'score': 0.0006718520307913423,\n",
       " 'start': 117,\n",
       " 'end': 133,\n",
       " 'answer': 'pain or swelling'}"
      ]
     },
     "execution_count": 14,
     "metadata": {},
     "output_type": "execute_result"
    }
   ],
   "source": [
    "question = \"classify the pain\"\n",
    "\n",
    "\n",
    "context=' the most common adverse reaction with adalimumab was injection site reactions (erythema and/or itching, hemorrhage, pain or swelling). the most common adverse reactions leading to discontinuation of adalimumab in rheumatoid arthritis were clinical flare reaction, rash and pneumonia.  other adverse reactions of adalimumab includes- gastrointestinal disorders: diverticulitis, large bowel perforations including perforations associated with diverticulitis and appendiceal perforations associated with appendicitis, pancreatitis.  general disorders and administration site conditions: pyrexia. hepato-biliary disorders: liver failure, hepatitis. immune system disorders: sarcoidosis. neoplasms benign, malignant and unspecified (including cysts and polyps): merkel cell carcinoma (neuroendocrine carcinoma of the skin). nervous system disorders: demyelinating disorders (e.g., optic neuritis, guillain-barr syndrome). cerebrovascular accident respiratory disorders: interstitial lung disease, including pulmonary fibrosis. pulmonary embolism skin reactions: stevens johnson syndrome, cutaneous vasculitis, erythema multiforme, new or worsening psoriasis (all sub-types including pustular and palmoplantar), alopecia. vascular disorders: systemic vasculitis, deep vein thrombosis.'\n",
    "\n",
    "tqa(question = question, context = context)\n",
    "## {'answer': 'İstanbul', 'end': 39, 'score': 0.953, 'start': 31}\n"
   ]
  },
  {
   "cell_type": "code",
   "execution_count": 16,
   "metadata": {},
   "outputs": [
    {
     "data": {
      "text/plain": [
       "{'score': 0.006990956142544746,\n",
       " 'start': 133,\n",
       " 'end': 196,\n",
       " 'answer': 'hematological indices, headache, neurological reaction, fatigue'}"
      ]
     },
     "execution_count": 16,
     "metadata": {},
     "output_type": "execute_result"
    }
   ],
   "source": [
    "question = \"classify the medical terms\"\n",
    "\n",
    "\n",
    "context =' rash, gastrointestinal disturbance, rise in bilirubin and liver-related enzymes, increase in blood urea and creatinine, decrease in hematological indices, headache, neurological reaction, fatigue. '\n",
    "\n",
    "tqa(question = question, context = context)\n",
    "## {'answer': 'İstanbul', 'end': 39, 'score': 0.953, 'start': 31}\n"
   ]
  },
  {
   "cell_type": "code",
   "execution_count": 21,
   "metadata": {},
   "outputs": [
    {
     "data": {
      "text/plain": [
       "{'score': 0.05679663270711899,\n",
       " 'start': 1,\n",
       " 'end': 44,\n",
       " 'answer': 'antiarrhythmic agents, diuretic agents &amp'}"
      ]
     },
     "execution_count": 21,
     "metadata": {},
     "output_type": "execute_result"
    }
   ],
   "source": [
    "\n",
    "question = \"what are the interactions?\"\n",
    "\n",
    "\n",
    "\n",
    "\n",
    "context=' antiarrhythmic agents, diuretic agents &amp; corticosteroids. '\n",
    "\n",
    "\n",
    "tqa(question = question, context = context)\n",
    "## {'answer': 'İstanbul', 'end': 39, 'score': 0.953, 'start': 31}"
   ]
  },
  {
   "cell_type": "code",
   "execution_count": 4,
   "metadata": {},
   "outputs": [
    {
     "data": {
      "text/plain": [
       "{'score': 0.03927464410662651,\n",
       " 'start': 85,\n",
       " 'end': 99,\n",
       " 'answer': 'hyper,elevated'}"
      ]
     },
     "execution_count": 4,
     "metadata": {},
     "output_type": "execute_result"
    }
   ],
   "source": [
    "question = \"adverse reactions?\"\n",
    "\n",
    "\n",
    "\n",
    "context= 'mild,greater than 1,abdominal,less than 1 %,bleeding,kidney,increase,liver,increased,hyper,elevated'\n",
    "tqa(question = question, context = context)\n",
    "## {'answer': 'İstanbul', 'end': 39, 'score': 0.953, 'start': 31}\n"
   ]
  },
  {
   "cell_type": "code",
   "execution_count": null,
   "metadata": {},
   "outputs": [],
   "source": [
    "\n",
    "table=pd.read_csv(\"side_effects.csv\")"
   ]
  },
  {
   "cell_type": "code",
   "execution_count": null,
   "metadata": {},
   "outputs": [],
   "source": [
    "table = table.astype(str)\n"
   ]
  },
  {
   "cell_type": "code",
   "execution_count": null,
   "metadata": {},
   "outputs": [],
   "source": [
    "query = \"what are the side effects of ashokarista?\"\n",
    "print(tqa(table=table,query=query)[\"answer\"])"
   ]
  }
 ],
 "metadata": {
  "kernelspec": {
   "display_name": "tf",
   "language": "python",
   "name": "python3"
  },
  "language_info": {
   "codemirror_mode": {
    "name": "ipython",
    "version": 3
   },
   "file_extension": ".py",
   "mimetype": "text/x-python",
   "name": "python",
   "nbconvert_exporter": "python",
   "pygments_lexer": "ipython3",
   "version": "3.8.16"
  },
  "orig_nbformat": 4
 },
 "nbformat": 4,
 "nbformat_minor": 2
}
