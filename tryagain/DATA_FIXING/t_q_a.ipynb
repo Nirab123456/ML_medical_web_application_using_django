{
 "cells": [
  {
   "cell_type": "code",
   "execution_count": null,
   "metadata": {},
   "outputs": [],
   "source": []
  },
  {
   "cell_type": "code",
   "execution_count": 12,
   "metadata": {},
   "outputs": [
    {
     "name": "stdout",
     "output_type": "stream",
     "text": [
      "Paracetamol/acetaminophen is one of the most popular and most commonly used analgesic and antipyretic drugs around the world, available without a prescription, both in mono- and multi-component preparations. It is the drug of choice in patients that cannot be treated with non-steroidal anti-inflammatory drugs (NSAID), such as people with bronchial asthma, peptic ulcer disease, hemophilia, salicylate-sensitized people, children under 12 years of age, pregnant or breastfeeding women. It is recommended as a first-line treatment of pain associated with osteoarthritis. The mechanism of action is complex and includes the effects of both the peripheral (COX inhibition), and central (COX, serotonergic descending neuronal pathway, L-arginine/NO pathway, cannabinoid system) antinociception processes and \"redox\" mechanism. Paracetamol is well tolerated drug and produces few side effects from the gastrointestinal tract, however, despite that, every year, has seen a steadily increasing number of registered cases of paracetamol-induced liver intoxication all over the world. Given the growing problem of the safety of acetaminophen is questioned the validity of the sale of the drug without a prescription. This work, in conjunction with the latest reports on the mechanism of action of paracetamol, trying to point out that it is not a panacea devoid of side effects, and indeed, especially when is taken regularly and in large doses (> 4 g/day), there is a risk of serious side effects.\n"
     ]
    }
   ],
   "source": [
    "with open ('main_data/para.txt', 'r') as f:\n",
    "    para = f.read()\n",
    "    print(para)"
   ]
  },
  {
   "cell_type": "code",
   "execution_count": 3,
   "metadata": {},
   "outputs": [
    {
     "data": {
      "text/plain": [
       "'Paracetamol/acetaminophen is one of the most popular and most commonly used analgesic and antipyretic drugs around the world, available without a prescription, both in mono- and multi-component preparations. It is the drug of choice in patients that cannot be treated with non-steroidal anti-inflammatory drugs (NSAID), such as people with bronchial asthma, peptic ulcer disease, hemophilia, salicylate-sensitized people, children under 12 years of age, pregnant or breastfeeding women. It is recommended as a first-line treatment of pain associated with osteoarthritis. The mechanism of action is complex and includes the effects of both the peripheral (COX inhibition), and central (COX, serotonergic descending neuronal pathway, L-arginine/NO pathway, cannabinoid system) antinociception processes and \"redox\" mechanism. Paracetamol is well tolerated drug and produces few side effects from the gastrointestinal tract, however, despite that, every year, has seen a steadily increasing number of registered cases of paracetamol-induced liver intoxication all over the world. Given the growing problem of the safety of acetaminophen is questioned the validity of the sale of the drug without a prescription. This work, in conjunction with the latest reports on the mechanism of action of paracetamol, trying to point out that it is not a panacea devoid of side effects, and indeed, especially when is taken regularly and in large doses (> 4 g/day), there is a risk of serious side effects.'"
      ]
     },
     "execution_count": 3,
     "metadata": {},
     "output_type": "execute_result"
    }
   ],
   "source": [
    "para"
   ]
  },
  {
   "cell_type": "code",
   "execution_count": 11,
   "metadata": {},
   "outputs": [],
   "source": [
    "from transformers import pipeline\n",
    "tqa = pipeline(task=\"question-answering\",model='deepset/bert-large-uncased-whole-word-masking-squad2',device=0)\n"
   ]
  },
  {
   "cell_type": "code",
   "execution_count": 9,
   "metadata": {},
   "outputs": [
    {
     "data": {
      "text/plain": [
       "{'score': 0.12699894607067108,\n",
       " 'start': 1438,\n",
       " 'end': 1447,\n",
       " 'answer': '> 4 g/day'}"
      ]
     },
     "execution_count": 9,
     "metadata": {},
     "output_type": "execute_result"
    }
   ],
   "source": [
    "data = tqa(question=\"what is the maximum dose of Paracetamol?\",context=para)\n",
    "data"
   ]
  },
  {
   "cell_type": "code",
   "execution_count": 10,
   "metadata": {},
   "outputs": [
    {
     "data": {
      "text/plain": [
       "{'score': 0.27760374546051025,\n",
       " 'start': 1469,\n",
       " 'end': 1489,\n",
       " 'answer': 'serious side effects'}"
      ]
     },
     "execution_count": 10,
     "metadata": {},
     "output_type": "execute_result"
    }
   ],
   "source": [
    "data = tqa(question=\" what are the  safety concern of Paracetamol ?\",context=para)\n",
    "data"
   ]
  },
  {
   "cell_type": "code",
   "execution_count": null,
   "metadata": {},
   "outputs": [],
   "source": []
  },
  {
   "cell_type": "code",
   "execution_count": null,
   "metadata": {},
   "outputs": [],
   "source": []
  },
  {
   "cell_type": "code",
   "execution_count": null,
   "metadata": {},
   "outputs": [],
   "source": []
  },
  {
   "cell_type": "code",
   "execution_count": null,
   "metadata": {},
   "outputs": [],
   "source": []
  },
  {
   "cell_type": "code",
   "execution_count": null,
   "metadata": {},
   "outputs": [],
   "source": [
    "from transformers import pipeline\n",
    "tqa = pipeline(task=\"question-answering\",model='deepset/bert-large-uncased-whole-word-masking-squad2',device=0)\n",
    "cleaned_df_1 = cleaned_df_1.astype(str).apply(lambda x: x.str.lower())\n",
    "cleaned_df_1 = cleaned_df_1.assign(contraindication_result='')\n",
    "\n",
    "for i in range(0, len(cleaned_df_1)):\n",
    "    context = cleaned_df_1['contraindications_description'][i]\n",
    "    question = \"what are the contraindications?\"\n",
    "    result = tqa(question=question, context=context)\n",
    "    cleaned_df_1['contraindication_result'][i] = result['answer']"
   ]
  }
 ],
 "metadata": {
  "kernelspec": {
   "display_name": "tf",
   "language": "python",
   "name": "python3"
  },
  "language_info": {
   "codemirror_mode": {
    "name": "ipython",
    "version": 3
   },
   "file_extension": ".py",
   "mimetype": "text/x-python",
   "name": "python",
   "nbconvert_exporter": "python",
   "pygments_lexer": "ipython3",
   "version": "3.8.16"
  },
  "orig_nbformat": 4
 },
 "nbformat": 4,
 "nbformat_minor": 2
}
