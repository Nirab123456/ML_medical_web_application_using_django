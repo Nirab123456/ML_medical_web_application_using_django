{
 "cells": [
  {
   "cell_type": "code",
   "execution_count": 1,
   "metadata": {},
   "outputs": [],
   "source": [
    "import pandas as pd\n",
    "df = pd.read_csv('new_data/djang_main_contradiction_2.csv')"
   ]
  },
  {
   "cell_type": "code",
   "execution_count": 3,
   "metadata": {},
   "outputs": [
    {
     "data": {
      "text/plain": [
       "945"
      ]
     },
     "execution_count": 3,
     "metadata": {},
     "output_type": "execute_result"
    }
   ],
   "source": [
    "len(df['generic_name'].unique())"
   ]
  },
  {
   "cell_type": "code",
   "execution_count": 4,
   "metadata": {},
   "outputs": [
    {
     "data": {
      "text/html": [
       "<div>\n",
       "<style scoped>\n",
       "    .dataframe tbody tr th:only-of-type {\n",
       "        vertical-align: middle;\n",
       "    }\n",
       "\n",
       "    .dataframe tbody tr th {\n",
       "        vertical-align: top;\n",
       "    }\n",
       "\n",
       "    .dataframe thead th {\n",
       "        text-align: right;\n",
       "    }\n",
       "</style>\n",
       "<table border=\"1\" class=\"dataframe\">\n",
       "  <thead>\n",
       "    <tr style=\"text-align: right;\">\n",
       "      <th></th>\n",
       "      <th>group</th>\n",
       "      <th>indication</th>\n",
       "      <th>score</th>\n",
       "      <th>contraindications_description</th>\n",
       "      <th>generic_name</th>\n",
       "      <th>contraindication_result</th>\n",
       "    </tr>\n",
       "  </thead>\n",
       "  <tbody>\n",
       "    <tr>\n",
       "      <th>0</th>\n",
       "      <td>contradicted drug</td>\n",
       "      <td>toad</td>\n",
       "      <td>0.999795</td>\n",
       "      <td>adalimumab should not be administered to patie...</td>\n",
       "      <td>adalimumab</td>\n",
       "      <td>hypersensitivity toadalimumab or any of its co...</td>\n",
       "    </tr>\n",
       "    <tr>\n",
       "      <th>1</th>\n",
       "      <td>contradicted drug</td>\n",
       "      <td>acyclovircream</td>\n",
       "      <td>0.995183</td>\n",
       "      <td>acyclovircream is contraindicated in patients ...</td>\n",
       "      <td>acyclovir (topical)</td>\n",
       "      <td>hypersensitivity</td>\n",
       "    </tr>\n",
       "    <tr>\n",
       "      <th>2</th>\n",
       "      <td>contradicted drug</td>\n",
       "      <td>aciclov</td>\n",
       "      <td>0.721879</td>\n",
       "      <td>aciclovir is contraindicated in patients known...</td>\n",
       "      <td>acyclovir (oral)</td>\n",
       "      <td>hypersensitive to aciclovir</td>\n",
       "    </tr>\n",
       "    <tr>\n",
       "      <th>3</th>\n",
       "      <td>contradicted drug</td>\n",
       "      <td>acyclovir</td>\n",
       "      <td>0.997753</td>\n",
       "      <td>acyclovir is contraindicated in patients known...</td>\n",
       "      <td>acyclovir (ophthalmic)</td>\n",
       "      <td>acyclovir or valacyclovir</td>\n",
       "    </tr>\n",
       "    <tr>\n",
       "      <th>4</th>\n",
       "      <td>contradicted drug</td>\n",
       "      <td>acyclovir</td>\n",
       "      <td>0.996755</td>\n",
       "      <td>acyclovir is contraindicated in patients known...</td>\n",
       "      <td>acyclovir (ophthalmic)</td>\n",
       "      <td>acyclovir or valacyclovir</td>\n",
       "    </tr>\n",
       "    <tr>\n",
       "      <th>...</th>\n",
       "      <td>...</td>\n",
       "      <td>...</td>\n",
       "      <td>...</td>\n",
       "      <td>...</td>\n",
       "      <td>...</td>\n",
       "      <td>...</td>\n",
       "    </tr>\n",
       "    <tr>\n",
       "      <th>2762</th>\n",
       "      <td>contradicted disease</td>\n",
       "      <td>hepatitis b</td>\n",
       "      <td>0.996997</td>\n",
       "      <td>hypersensitivity; abnormally low neutrophil co...</td>\n",
       "      <td>zidovudine</td>\n",
       "      <td>concomitant use with interferon alfa</td>\n",
       "    </tr>\n",
       "    <tr>\n",
       "      <th>2763</th>\n",
       "      <td>contradicted disease</td>\n",
       "      <td>c virus</td>\n",
       "      <td>0.996205</td>\n",
       "      <td>hypersensitivity; abnormally low neutrophil co...</td>\n",
       "      <td>zidovudine</td>\n",
       "      <td>concomitant use with interferon alfa</td>\n",
       "    </tr>\n",
       "    <tr>\n",
       "      <th>2764</th>\n",
       "      <td>contradicted drug</td>\n",
       "      <td>zaleplon</td>\n",
       "      <td>0.905175</td>\n",
       "      <td>zaleplon is contraindicated in patients with k...</td>\n",
       "      <td>zaleplon</td>\n",
       "      <td>hypersensitivity to any of its components</td>\n",
       "    </tr>\n",
       "    <tr>\n",
       "      <th>2765</th>\n",
       "      <td>contradicted disease</td>\n",
       "      <td>renal</td>\n",
       "      <td>0.859308</td>\n",
       "      <td>zafirlukast should not be given to patients wh...</td>\n",
       "      <td>zafirlukast</td>\n",
       "      <td>patients with a history of moderate or severe ...</td>\n",
       "    </tr>\n",
       "    <tr>\n",
       "      <th>2766</th>\n",
       "      <td>contradicted disease</td>\n",
       "      <td>hepatitis</td>\n",
       "      <td>0.999703</td>\n",
       "      <td>zafirlukast should not be given to patients wh...</td>\n",
       "      <td>zafirlukast</td>\n",
       "      <td>patients with a history of moderate or severe ...</td>\n",
       "    </tr>\n",
       "  </tbody>\n",
       "</table>\n",
       "<p>2767 rows × 6 columns</p>\n",
       "</div>"
      ],
      "text/plain": [
       "                     group      indication     score  \\\n",
       "0        contradicted drug            toad  0.999795   \n",
       "1        contradicted drug  acyclovircream  0.995183   \n",
       "2        contradicted drug         aciclov  0.721879   \n",
       "3        contradicted drug       acyclovir  0.997753   \n",
       "4        contradicted drug       acyclovir  0.996755   \n",
       "...                    ...             ...       ...   \n",
       "2762  contradicted disease     hepatitis b  0.996997   \n",
       "2763  contradicted disease         c virus  0.996205   \n",
       "2764     contradicted drug        zaleplon  0.905175   \n",
       "2765  contradicted disease           renal  0.859308   \n",
       "2766  contradicted disease       hepatitis  0.999703   \n",
       "\n",
       "                          contraindications_description  \\\n",
       "0     adalimumab should not be administered to patie...   \n",
       "1     acyclovircream is contraindicated in patients ...   \n",
       "2     aciclovir is contraindicated in patients known...   \n",
       "3     acyclovir is contraindicated in patients known...   \n",
       "4     acyclovir is contraindicated in patients known...   \n",
       "...                                                 ...   \n",
       "2762  hypersensitivity; abnormally low neutrophil co...   \n",
       "2763  hypersensitivity; abnormally low neutrophil co...   \n",
       "2764  zaleplon is contraindicated in patients with k...   \n",
       "2765  zafirlukast should not be given to patients wh...   \n",
       "2766  zafirlukast should not be given to patients wh...   \n",
       "\n",
       "                generic_name  \\\n",
       "0                 adalimumab   \n",
       "1        acyclovir (topical)   \n",
       "2           acyclovir (oral)   \n",
       "3     acyclovir (ophthalmic)   \n",
       "4     acyclovir (ophthalmic)   \n",
       "...                      ...   \n",
       "2762              zidovudine   \n",
       "2763              zidovudine   \n",
       "2764                zaleplon   \n",
       "2765             zafirlukast   \n",
       "2766             zafirlukast   \n",
       "\n",
       "                                contraindication_result  \n",
       "0     hypersensitivity toadalimumab or any of its co...  \n",
       "1                                      hypersensitivity  \n",
       "2                           hypersensitive to aciclovir  \n",
       "3                             acyclovir or valacyclovir  \n",
       "4                             acyclovir or valacyclovir  \n",
       "...                                                 ...  \n",
       "2762               concomitant use with interferon alfa  \n",
       "2763               concomitant use with interferon alfa  \n",
       "2764          hypersensitivity to any of its components  \n",
       "2765  patients with a history of moderate or severe ...  \n",
       "2766  patients with a history of moderate or severe ...  \n",
       "\n",
       "[2767 rows x 6 columns]"
      ]
     },
     "execution_count": 4,
     "metadata": {},
     "output_type": "execute_result"
    }
   ],
   "source": [
    "df"
   ]
  },
  {
   "cell_type": "code",
   "execution_count": 6,
   "metadata": {},
   "outputs": [
    {
     "name": "stderr",
     "output_type": "stream",
     "text": [
      "A matching Triton is not available, some optimizations will not be enabled.\n",
      "Error caught was: No module named 'triton'\n"
     ]
    }
   ],
   "source": [
    "from transformers import pipeline, set_seed\n",
    "from transformers import BioGptTokenizer, BioGptForCausalLM\n",
    "model = BioGptForCausalLM.from_pretrained(\"microsoft/biogpt\")\n",
    "tokenizer = BioGptTokenizer.from_pretrained(\"microsoft/biogpt\")\n",
    "generator = pipeline('text-generation', model=model, tokenizer=tokenizer)\n",
    "set_seed(42)\n",
    "\n"
   ]
  },
  {
   "cell_type": "code",
   "execution_count": 12,
   "metadata": {},
   "outputs": [
    {
     "data": {
      "text/plain": [
       "[{'generated_text': 'what are inflammatory and degenerative disorders of articular cartilage, they can be effectively treated with low-dose continuous intravenous or intra-articular steroid injections.'},\n",
       " {'generated_text': 'what are inflammatory and degenerative disorders of the intervertebral discs?'},\n",
       " {'generated_text': 'what are inflammatory and degenerative disorders of the stomach?'},\n",
       " {'generated_text': 'what are inflammatory and degenerative disorders.'},\n",
       " {'generated_text': 'what are inflammatory and degenerative disorders characterized by abnormal or insufficient bone remodeling.'}]"
      ]
     },
     "execution_count": 12,
     "metadata": {},
     "output_type": "execute_result"
    }
   ],
   "source": [
    "generator(\"what are inflammatory and degenerative disorders\", max_length=50, num_return_sequences=5, do_sample=True, top_k=50, top_p=0.95, temperature=1.0)"
   ]
  },
  {
   "cell_type": "code",
   "execution_count": null,
   "metadata": {},
   "outputs": [],
   "source": []
  }
 ],
 "metadata": {
  "kernelspec": {
   "display_name": "tf",
   "language": "python",
   "name": "python3"
  },
  "language_info": {
   "codemirror_mode": {
    "name": "ipython",
    "version": 3
   },
   "file_extension": ".py",
   "mimetype": "text/x-python",
   "name": "python",
   "nbconvert_exporter": "python",
   "pygments_lexer": "ipython3",
   "version": "3.8.16"
  },
  "orig_nbformat": 4
 },
 "nbformat": 4,
 "nbformat_minor": 2
}
