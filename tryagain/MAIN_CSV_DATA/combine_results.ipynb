{
 "cells": [
  {
   "cell_type": "code",
   "execution_count": 7,
   "metadata": {},
   "outputs": [],
   "source": [
    "import pandas as pd \n",
    "df_1 = pd.read_csv('custom/final_1.csv')\n",
    "df_1=df_1.drop(['rating'],axis=1)\n",
    "df_2 = pd.read_csv('custom/final_2.csv')\n",
    "df_3 = pd.read_csv('custom/final_3.csv')\n",
    "#concatinate\n",
    "combined_df = pd.concat([df_1,df_2,df_3],axis=0,ignore_index=True)"
   ]
  },
  {
   "cell_type": "code",
   "execution_count": 9,
   "metadata": {},
   "outputs": [],
   "source": [
    "combined_df.to_csv('custom/combined_results.csv', index=False)\n",
    "# Remove duplicate rows based on all columns\n",
    "combined_df = combined_df.drop_duplicates()"
   ]
  },
  {
   "cell_type": "code",
   "execution_count": 24,
   "metadata": {},
   "outputs": [],
   "source": [
    "keywords_to_remove = ['hyper']\n",
    "# Filter the DataFrame to exclude rows containing any of the specified keywords in 'use_cases'\n",
    "filtered_df = filtered_df[~filtered_df['cases'].isin(keywords_to_remove)]\n"
   ]
  },
  {
   "cell_type": "code",
   "execution_count": 27,
   "metadata": {},
   "outputs": [],
   "source": [
    "filtered_df.to_csv('custom/filtered_combined_results.csv', index=False)"
   ]
  },
  {
   "cell_type": "code",
   "execution_count": 52,
   "metadata": {},
   "outputs": [],
   "source": [
    "filtered_df = pd.read_csv('custom/filtered_combined_results.csv')"
   ]
  },
  {
   "cell_type": "code",
   "execution_count": 708,
   "metadata": {},
   "outputs": [
    {
     "data": {
      "text/html": [
       "<div>\n",
       "<style scoped>\n",
       "    .dataframe tbody tr th:only-of-type {\n",
       "        vertical-align: middle;\n",
       "    }\n",
       "\n",
       "    .dataframe tbody tr th {\n",
       "        vertical-align: top;\n",
       "    }\n",
       "\n",
       "    .dataframe thead th {\n",
       "        text-align: right;\n",
       "    }\n",
       "</style>\n",
       "<table border=\"1\" class=\"dataframe\">\n",
       "  <thead>\n",
       "    <tr style=\"text-align: right;\">\n",
       "      <th></th>\n",
       "      <th>Value</th>\n",
       "      <th>Count</th>\n",
       "    </tr>\n",
       "  </thead>\n",
       "  <tbody>\n",
       "    <tr>\n",
       "      <th>0</th>\n",
       "      <td>infection</td>\n",
       "      <td>136</td>\n",
       "    </tr>\n",
       "    <tr>\n",
       "      <th>1</th>\n",
       "      <td>arthritis</td>\n",
       "      <td>113</td>\n",
       "    </tr>\n",
       "    <tr>\n",
       "      <th>2</th>\n",
       "      <td>skin</td>\n",
       "      <td>103</td>\n",
       "    </tr>\n",
       "    <tr>\n",
       "      <th>3</th>\n",
       "      <td>lymphoma</td>\n",
       "      <td>81</td>\n",
       "    </tr>\n",
       "    <tr>\n",
       "      <th>4</th>\n",
       "      <td>hypertension</td>\n",
       "      <td>74</td>\n",
       "    </tr>\n",
       "    <tr>\n",
       "      <th>5</th>\n",
       "      <td>anxiety</td>\n",
       "      <td>66</td>\n",
       "    </tr>\n",
       "    <tr>\n",
       "      <th>6</th>\n",
       "      <td>diabetes</td>\n",
       "      <td>50</td>\n",
       "    </tr>\n",
       "    <tr>\n",
       "      <th>7</th>\n",
       "      <td>pain</td>\n",
       "      <td>48</td>\n",
       "    </tr>\n",
       "    <tr>\n",
       "      <th>8</th>\n",
       "      <td>heart diseases</td>\n",
       "      <td>36</td>\n",
       "    </tr>\n",
       "    <tr>\n",
       "      <th>9</th>\n",
       "      <td>ulcer</td>\n",
       "      <td>33</td>\n",
       "    </tr>\n",
       "    <tr>\n",
       "      <th>10</th>\n",
       "      <td>cold-cough-fever</td>\n",
       "      <td>33</td>\n",
       "    </tr>\n",
       "    <tr>\n",
       "      <th>11</th>\n",
       "      <td>gastroenteritis</td>\n",
       "      <td>33</td>\n",
       "    </tr>\n",
       "    <tr>\n",
       "      <th>12</th>\n",
       "      <td>nervous system</td>\n",
       "      <td>31</td>\n",
       "    </tr>\n",
       "    <tr>\n",
       "      <th>13</th>\n",
       "      <td>conjunctivitis</td>\n",
       "      <td>30</td>\n",
       "    </tr>\n",
       "    <tr>\n",
       "      <th>14</th>\n",
       "      <td>asthma</td>\n",
       "      <td>29</td>\n",
       "    </tr>\n",
       "    <tr>\n",
       "      <th>15</th>\n",
       "      <td>muscular</td>\n",
       "      <td>28</td>\n",
       "    </tr>\n",
       "    <tr>\n",
       "      <th>16</th>\n",
       "      <td>kidney disease</td>\n",
       "      <td>25</td>\n",
       "    </tr>\n",
       "    <tr>\n",
       "      <th>17</th>\n",
       "      <td>nausea</td>\n",
       "      <td>24</td>\n",
       "    </tr>\n",
       "    <tr>\n",
       "      <th>18</th>\n",
       "      <td>inflammation</td>\n",
       "      <td>24</td>\n",
       "    </tr>\n",
       "    <tr>\n",
       "      <th>19</th>\n",
       "      <td>specific urinary</td>\n",
       "      <td>20</td>\n",
       "    </tr>\n",
       "    <tr>\n",
       "      <th>20</th>\n",
       "      <td>crohn's disease</td>\n",
       "      <td>19</td>\n",
       "    </tr>\n",
       "    <tr>\n",
       "      <th>21</th>\n",
       "      <td>hepatitis</td>\n",
       "      <td>18</td>\n",
       "    </tr>\n",
       "    <tr>\n",
       "      <th>22</th>\n",
       "      <td>migraine</td>\n",
       "      <td>18</td>\n",
       "    </tr>\n",
       "    <tr>\n",
       "      <th>23</th>\n",
       "      <td>seizure</td>\n",
       "      <td>18</td>\n",
       "    </tr>\n",
       "    <tr>\n",
       "      <th>24</th>\n",
       "      <td>bacterial</td>\n",
       "      <td>17</td>\n",
       "    </tr>\n",
       "    <tr>\n",
       "      <th>25</th>\n",
       "      <td>constipation</td>\n",
       "      <td>17</td>\n",
       "    </tr>\n",
       "    <tr>\n",
       "      <th>26</th>\n",
       "      <td>mental</td>\n",
       "      <td>17</td>\n",
       "    </tr>\n",
       "    <tr>\n",
       "      <th>27</th>\n",
       "      <td>lung</td>\n",
       "      <td>15</td>\n",
       "    </tr>\n",
       "    <tr>\n",
       "      <th>28</th>\n",
       "      <td>cholesterol</td>\n",
       "      <td>15</td>\n",
       "    </tr>\n",
       "    <tr>\n",
       "      <th>29</th>\n",
       "      <td>bipolar disorder</td>\n",
       "      <td>15</td>\n",
       "    </tr>\n",
       "    <tr>\n",
       "      <th>30</th>\n",
       "      <td>neurosis</td>\n",
       "      <td>15</td>\n",
       "    </tr>\n",
       "    <tr>\n",
       "      <th>31</th>\n",
       "      <td>edema</td>\n",
       "      <td>15</td>\n",
       "    </tr>\n",
       "    <tr>\n",
       "      <th>32</th>\n",
       "      <td>allergic</td>\n",
       "      <td>14</td>\n",
       "    </tr>\n",
       "    <tr>\n",
       "      <th>33</th>\n",
       "      <td>candidiasis</td>\n",
       "      <td>14</td>\n",
       "    </tr>\n",
       "    <tr>\n",
       "      <th>34</th>\n",
       "      <td>glaucoma</td>\n",
       "      <td>14</td>\n",
       "    </tr>\n",
       "    <tr>\n",
       "      <th>35</th>\n",
       "      <td>thrombosis</td>\n",
       "      <td>13</td>\n",
       "    </tr>\n",
       "    <tr>\n",
       "      <th>36</th>\n",
       "      <td>leukemia</td>\n",
       "      <td>13</td>\n",
       "    </tr>\n",
       "    <tr>\n",
       "      <th>37</th>\n",
       "      <td>headache</td>\n",
       "      <td>12</td>\n",
       "    </tr>\n",
       "    <tr>\n",
       "      <th>38</th>\n",
       "      <td>schizophrenia</td>\n",
       "      <td>12</td>\n",
       "    </tr>\n",
       "    <tr>\n",
       "      <th>39</th>\n",
       "      <td>acne</td>\n",
       "      <td>12</td>\n",
       "    </tr>\n",
       "  </tbody>\n",
       "</table>\n",
       "</div>"
      ],
      "text/plain": [
       "               Value  Count\n",
       "0          infection    136\n",
       "1          arthritis    113\n",
       "2               skin    103\n",
       "3           lymphoma     81\n",
       "4       hypertension     74\n",
       "5            anxiety     66\n",
       "6           diabetes     50\n",
       "7               pain     48\n",
       "8     heart diseases     36\n",
       "9              ulcer     33\n",
       "10  cold-cough-fever     33\n",
       "11   gastroenteritis     33\n",
       "12    nervous system     31\n",
       "13    conjunctivitis     30\n",
       "14            asthma     29\n",
       "15          muscular     28\n",
       "16    kidney disease     25\n",
       "17            nausea     24\n",
       "18      inflammation     24\n",
       "19  specific urinary     20\n",
       "20   crohn's disease     19\n",
       "21         hepatitis     18\n",
       "22          migraine     18\n",
       "23           seizure     18\n",
       "24         bacterial     17\n",
       "25      constipation     17\n",
       "26            mental     17\n",
       "27              lung     15\n",
       "28       cholesterol     15\n",
       "29  bipolar disorder     15\n",
       "30          neurosis     15\n",
       "31             edema     15\n",
       "32          allergic     14\n",
       "33       candidiasis     14\n",
       "34          glaucoma     14\n",
       "35        thrombosis     13\n",
       "36          leukemia     13\n",
       "37          headache     12\n",
       "38     schizophrenia     12\n",
       "39              acne     12"
      ]
     },
     "execution_count": 708,
     "metadata": {},
     "output_type": "execute_result"
    }
   ],
   "source": [
    "value_counts = filtered_df['head'].value_counts()\n",
    "# Get the top 10 unique values and their respective counts\n",
    "top_10_values = value_counts.head(40)\n",
    "# Create a new DataFrame with the top 10 values and their counts\n",
    "top_10_df = pd.DataFrame({'Value': top_10_values.index, 'Count': top_10_values.values})\n",
    "top_10_df"
   ]
  },
  {
   "cell_type": "code",
   "execution_count": 327,
   "metadata": {},
   "outputs": [
    {
     "data": {
      "text/plain": [
       "1094"
      ]
     },
     "execution_count": 327,
     "metadata": {},
     "output_type": "execute_result"
    }
   ],
   "source": [
    "sumup = top_10_df['Count'].sum()\n",
    "sumup"
   ]
  },
  {
   "cell_type": "code",
   "execution_count": 54,
   "metadata": {},
   "outputs": [
    {
     "data": {
      "text/plain": [
       "958"
      ]
     },
     "execution_count": 54,
     "metadata": {},
     "output_type": "execute_result"
    }
   ],
   "source": [
    "len(filtered_df['generic_name'].unique())"
   ]
  },
  {
   "cell_type": "code",
   "execution_count": 55,
   "metadata": {},
   "outputs": [],
   "source": [
    "filtered_df['cases'] = filtered_df['cases'].replace(r'\\bcance\\b', 'cancer', regex=True)\n"
   ]
  },
  {
   "cell_type": "code",
   "execution_count": 56,
   "metadata": {},
   "outputs": [
    {
     "data": {
      "text/plain": [
       "992"
      ]
     },
     "execution_count": 56,
     "metadata": {},
     "output_type": "execute_result"
    }
   ],
   "source": [
    "len(filtered_df['cases'].unique())"
   ]
  },
  {
   "cell_type": "code",
   "execution_count": 57,
   "metadata": {},
   "outputs": [],
   "source": [
    "filtered_df['head']=filtered_df['cases']\n",
    "filtered_df['singular_case']=filtered_df['cases']"
   ]
  },
  {
   "cell_type": "code",
   "execution_count": 65,
   "metadata": {},
   "outputs": [],
   "source": [
    "def update_cases(row):\n",
    "    if 'diabetic' in row['cases'].lower():\n",
    "        row['head'] = 'diabetic'\n",
    "    return row\n",
    "\n",
    "# Apply the function to the \"cases\" column and update it\n",
    "filtered_df = filtered_df.apply(update_cases, axis=1)\n"
   ]
  },
  {
   "cell_type": "code",
   "execution_count": 63,
   "metadata": {},
   "outputs": [],
   "source": [
    "filtered_df.to_csv('custom/combined_custom/final_result_1.csv', index=False)"
   ]
  },
  {
   "cell_type": "code",
   "execution_count": 78,
   "metadata": {},
   "outputs": [],
   "source": [
    "import re\n",
    "\n",
    "def update_cases(row):\n",
    "    # Regular expression pattern to match variations of the word \"arthritis\"\n",
    "    arthritis_pattern = re.compile(r'.*headache.*', re.IGNORECASE)\n",
    "    \n",
    "    if arthritis_pattern.search(row['cases']):\n",
    "        row['head'] = 'headache'\n",
    "    return row\n",
    "\n",
    "# Apply the function to the \"cases\" column and update it\n",
    "filtered_df = filtered_df.apply(update_cases, axis=1)\n"
   ]
  },
  {
   "cell_type": "code",
   "execution_count": 762,
   "metadata": {},
   "outputs": [],
   "source": [
    "import re\n",
    "\n",
    "# Define the dictionary of patterns to find and their corresponding replacements\n",
    "replacement_dict = {\n",
    "    # r'\\btype 1 diabetes\\b': 'diabetes insipidus',\n",
    "    # r'\\btype 1\\b': 'diabetes insipidus',\n",
    "    r\"\\btract\\b\": \"respiratory tract\",\n",
    "\n",
    "\n",
    "    # Add more patterns and their replacements as needed\n",
    "}\n",
    "\n",
    "# Use the replace() method with the dictionary\n",
    "filtered_df = filtered_df.replace(replacement_dict, regex=True)\n"
   ]
  },
  {
   "cell_type": "code",
   "execution_count": 602,
   "metadata": {},
   "outputs": [],
   "source": [
    "# import re\n",
    "\n",
    "# def update_cases(row):\n",
    "#     # Regular expression pattern to match variations of the word \"arthritis\"\n",
    "#     arthritis_pattern = re.compile(r'.*fever.*', re.IGNORECASE)\n",
    "    \n",
    "#     if arthritis_pattern.search(row['head']):\n",
    "#         row['head'] = \"cold-cough-fever\"\n",
    "#     return row\n",
    "\n",
    "# # Apply the function to the \"cases\" column and update it\n",
    "# filtered_df = filtered_df.apply(update_cases, axis=1)\n"
   ]
  },
  {
   "cell_type": "code",
   "execution_count": 770,
   "metadata": {},
   "outputs": [],
   "source": [
    "import re\n",
    "\n",
    "def update_cases(row):\n",
    "    # Regular expression pattern to match variations of the word \"arthritis\"\n",
    "    arthritis_pattern = re.compile(r\".*tract.*\", re.IGNORECASE)\n",
    "    \n",
    "    if arthritis_pattern.search(row['head']):\n",
    "        row['head'] = \"respiratory tract\"\n",
    "        \n",
    "    return row\n",
    "\n",
    "# Apply the function to the \"cases\" column and update it\n",
    "filtered_df = filtered_df.apply(update_cases, axis=1)\n"
   ]
  },
  {
   "cell_type": "code",
   "execution_count": 237,
   "metadata": {},
   "outputs": [],
   "source": [
    "# filter_df =pd.read_csv('custom/combined_custom/final_result_5.csv')"
   ]
  },
  {
   "cell_type": "code",
   "execution_count": 772,
   "metadata": {},
   "outputs": [],
   "source": [
    "filtered_df.to_csv('custom/combined_custom/final_result_9.csv', index=False)"
   ]
  },
  {
   "cell_type": "code",
   "execution_count": 773,
   "metadata": {},
   "outputs": [],
   "source": [
    "unique_cases_list = filtered_df['head'].unique()\n",
    "\n",
    "with open('unique_head_list_3.txt', 'w') as f:\n",
    "    for item in unique_cases_list:\n",
    "        f.write(\"%s\\n\" % item)"
   ]
  },
  {
   "cell_type": "code",
   "execution_count": 448,
   "metadata": {},
   "outputs": [
    {
     "data": {
      "text/html": [
       "<div>\n",
       "<style scoped>\n",
       "    .dataframe tbody tr th:only-of-type {\n",
       "        vertical-align: middle;\n",
       "    }\n",
       "\n",
       "    .dataframe tbody tr th {\n",
       "        vertical-align: top;\n",
       "    }\n",
       "\n",
       "    .dataframe thead th {\n",
       "        text-align: right;\n",
       "    }\n",
       "</style>\n",
       "<table border=\"1\" class=\"dataframe\">\n",
       "  <thead>\n",
       "    <tr style=\"text-align: right;\">\n",
       "      <th></th>\n",
       "      <th>generic_name</th>\n",
       "      <th>cases</th>\n",
       "      <th>head</th>\n",
       "      <th>singular_case</th>\n",
       "    </tr>\n",
       "  </thead>\n",
       "  <tbody>\n",
       "    <tr>\n",
       "      <th>0</th>\n",
       "      <td>acarbose</td>\n",
       "      <td>diabetes, diabetes mellitus</td>\n",
       "      <td>diabetes</td>\n",
       "      <td>diabetes, diabetes mellitus</td>\n",
       "    </tr>\n",
       "    <tr>\n",
       "      <th>1</th>\n",
       "      <td>acetazolamide</td>\n",
       "      <td>edema</td>\n",
       "      <td>edema</td>\n",
       "      <td>edema</td>\n",
       "    </tr>\n",
       "    <tr>\n",
       "      <th>2</th>\n",
       "      <td>acetazolamide</td>\n",
       "      <td>epilepsy</td>\n",
       "      <td>epilepsy</td>\n",
       "      <td>epilepsy</td>\n",
       "    </tr>\n",
       "    <tr>\n",
       "      <th>3</th>\n",
       "      <td>acetazolamide</td>\n",
       "      <td>glaucoma</td>\n",
       "      <td>glaucoma</td>\n",
       "      <td>glaucoma</td>\n",
       "    </tr>\n",
       "    <tr>\n",
       "      <th>4</th>\n",
       "      <td>acetazolamide</td>\n",
       "      <td>hydrocephalus</td>\n",
       "      <td>hydrocephalus</td>\n",
       "      <td>hydrocephalus</td>\n",
       "    </tr>\n",
       "    <tr>\n",
       "      <th>...</th>\n",
       "      <td>...</td>\n",
       "      <td>...</td>\n",
       "      <td>...</td>\n",
       "      <td>...</td>\n",
       "    </tr>\n",
       "    <tr>\n",
       "      <th>2294</th>\n",
       "      <td>zoledronic acid [for hypercalcemia]</td>\n",
       "      <td>malignancy</td>\n",
       "      <td>malignancy</td>\n",
       "      <td>malignancy</td>\n",
       "    </tr>\n",
       "    <tr>\n",
       "      <th>2295</th>\n",
       "      <td>zinc sulfate monohydrate</td>\n",
       "      <td>losing conditions</td>\n",
       "      <td>losing conditions</td>\n",
       "      <td>losing conditions</td>\n",
       "    </tr>\n",
       "    <tr>\n",
       "      <th>2296</th>\n",
       "      <td>zinc oxide + virgin castor oil</td>\n",
       "      <td>rash</td>\n",
       "      <td>rash</td>\n",
       "      <td>rash</td>\n",
       "    </tr>\n",
       "    <tr>\n",
       "      <th>2297</th>\n",
       "      <td>zinc oxide + benzyl alcohol + benzyl benzoate ...</td>\n",
       "      <td>rash</td>\n",
       "      <td>rash</td>\n",
       "      <td>rash</td>\n",
       "    </tr>\n",
       "    <tr>\n",
       "      <th>2298</th>\n",
       "      <td>zafirlukast</td>\n",
       "      <td>asthma</td>\n",
       "      <td>asthma</td>\n",
       "      <td>asthma</td>\n",
       "    </tr>\n",
       "  </tbody>\n",
       "</table>\n",
       "<p>2299 rows × 4 columns</p>\n",
       "</div>"
      ],
      "text/plain": [
       "                                           generic_name  \\\n",
       "0                                              acarbose   \n",
       "1                                         acetazolamide   \n",
       "2                                         acetazolamide   \n",
       "3                                         acetazolamide   \n",
       "4                                         acetazolamide   \n",
       "...                                                 ...   \n",
       "2294                zoledronic acid [for hypercalcemia]   \n",
       "2295                           zinc sulfate monohydrate   \n",
       "2296                     zinc oxide + virgin castor oil   \n",
       "2297  zinc oxide + benzyl alcohol + benzyl benzoate ...   \n",
       "2298                                        zafirlukast   \n",
       "\n",
       "                            cases               head  \\\n",
       "0     diabetes, diabetes mellitus           diabetes   \n",
       "1                           edema              edema   \n",
       "2                        epilepsy           epilepsy   \n",
       "3                        glaucoma           glaucoma   \n",
       "4                   hydrocephalus      hydrocephalus   \n",
       "...                           ...                ...   \n",
       "2294                   malignancy         malignancy   \n",
       "2295            losing conditions  losing conditions   \n",
       "2296                         rash               rash   \n",
       "2297                         rash               rash   \n",
       "2298                       asthma             asthma   \n",
       "\n",
       "                    singular_case  \n",
       "0     diabetes, diabetes mellitus  \n",
       "1                           edema  \n",
       "2                        epilepsy  \n",
       "3                        glaucoma  \n",
       "4                   hydrocephalus  \n",
       "...                           ...  \n",
       "2294                   malignancy  \n",
       "2295            losing conditions  \n",
       "2296                         rash  \n",
       "2297                         rash  \n",
       "2298                       asthma  \n",
       "\n",
       "[2299 rows x 4 columns]"
      ]
     },
     "execution_count": 448,
     "metadata": {},
     "output_type": "execute_result"
    }
   ],
   "source": [
    "filtered_df"
   ]
  },
  {
   "cell_type": "markdown",
   "metadata": {},
   "source": [
    "fix ishue"
   ]
  },
  {
   "cell_type": "code",
   "execution_count": 617,
   "metadata": {},
   "outputs": [],
   "source": [
    "first_filtered_df = pd.read_csv('custom/filtered_combined_results.csv')"
   ]
  },
  {
   "cell_type": "code",
   "execution_count": 774,
   "metadata": {},
   "outputs": [
    {
     "data": {
      "text/html": [
       "<div>\n",
       "<style scoped>\n",
       "    .dataframe tbody tr th:only-of-type {\n",
       "        vertical-align: middle;\n",
       "    }\n",
       "\n",
       "    .dataframe tbody tr th {\n",
       "        vertical-align: top;\n",
       "    }\n",
       "\n",
       "    .dataframe thead th {\n",
       "        text-align: right;\n",
       "    }\n",
       "</style>\n",
       "<table border=\"1\" class=\"dataframe\">\n",
       "  <thead>\n",
       "    <tr style=\"text-align: right;\">\n",
       "      <th></th>\n",
       "      <th>generic_name</th>\n",
       "      <th>cases</th>\n",
       "    </tr>\n",
       "  </thead>\n",
       "  <tbody>\n",
       "    <tr>\n",
       "      <th>0</th>\n",
       "      <td>acarbose</td>\n",
       "      <td>diabetes, type 2</td>\n",
       "    </tr>\n",
       "    <tr>\n",
       "      <th>1</th>\n",
       "      <td>acetazolamide</td>\n",
       "      <td>edema</td>\n",
       "    </tr>\n",
       "    <tr>\n",
       "      <th>2</th>\n",
       "      <td>acetazolamide</td>\n",
       "      <td>epilepsy</td>\n",
       "    </tr>\n",
       "    <tr>\n",
       "      <th>3</th>\n",
       "      <td>acetazolamide</td>\n",
       "      <td>glaucoma</td>\n",
       "    </tr>\n",
       "    <tr>\n",
       "      <th>4</th>\n",
       "      <td>acetazolamide</td>\n",
       "      <td>hydrocephalus</td>\n",
       "    </tr>\n",
       "    <tr>\n",
       "      <th>...</th>\n",
       "      <td>...</td>\n",
       "      <td>...</td>\n",
       "    </tr>\n",
       "    <tr>\n",
       "      <th>2294</th>\n",
       "      <td>zoledronic acid [for hypercalcemia]</td>\n",
       "      <td>malignancy</td>\n",
       "    </tr>\n",
       "    <tr>\n",
       "      <th>2295</th>\n",
       "      <td>zinc sulfate monohydrate</td>\n",
       "      <td>losing conditions</td>\n",
       "    </tr>\n",
       "    <tr>\n",
       "      <th>2296</th>\n",
       "      <td>zinc oxide + virgin castor oil</td>\n",
       "      <td>rash</td>\n",
       "    </tr>\n",
       "    <tr>\n",
       "      <th>2297</th>\n",
       "      <td>zinc oxide + benzyl alcohol + benzyl benzoate ...</td>\n",
       "      <td>rash</td>\n",
       "    </tr>\n",
       "    <tr>\n",
       "      <th>2298</th>\n",
       "      <td>zafirlukast</td>\n",
       "      <td>asthma</td>\n",
       "    </tr>\n",
       "  </tbody>\n",
       "</table>\n",
       "<p>2299 rows × 2 columns</p>\n",
       "</div>"
      ],
      "text/plain": [
       "                                           generic_name              cases\n",
       "0                                              acarbose   diabetes, type 2\n",
       "1                                         acetazolamide              edema\n",
       "2                                         acetazolamide           epilepsy\n",
       "3                                         acetazolamide           glaucoma\n",
       "4                                         acetazolamide      hydrocephalus\n",
       "...                                                 ...                ...\n",
       "2294                zoledronic acid [for hypercalcemia]         malignancy\n",
       "2295                           zinc sulfate monohydrate  losing conditions\n",
       "2296                     zinc oxide + virgin castor oil               rash\n",
       "2297  zinc oxide + benzyl alcohol + benzyl benzoate ...               rash\n",
       "2298                                        zafirlukast             asthma\n",
       "\n",
       "[2299 rows x 2 columns]"
      ]
     },
     "execution_count": 774,
     "metadata": {},
     "output_type": "execute_result"
    }
   ],
   "source": [
    "first_filtered_df"
   ]
  },
  {
   "cell_type": "code",
   "execution_count": 776,
   "metadata": {},
   "outputs": [],
   "source": [
    "filtered_df\n",
    "#copy generic_name collum from first_filtered_df as main_generic_name\n",
    "filtered_df['main_generic_name'] = first_filtered_df['generic_name']"
   ]
  },
  {
   "cell_type": "code",
   "execution_count": 778,
   "metadata": {},
   "outputs": [],
   "source": [
    "filtered_df.to_csv('django_new_drug_clas_beta.csv', index=False)"
   ]
  },
  {
   "cell_type": "code",
   "execution_count": 785,
   "metadata": {},
   "outputs": [],
   "source": [
    "filtered_df= pd.read_csv('django_new_drug_clas_beta.csv')"
   ]
  },
  {
   "cell_type": "code",
   "execution_count": 797,
   "metadata": {},
   "outputs": [],
   "source": [
    "drop_collum_names = ['singular_case']\n",
    "filtered_df.drop(drop_collum_names, axis=1, inplace=True)"
   ]
  },
  {
   "cell_type": "code",
   "execution_count": 799,
   "metadata": {},
   "outputs": [],
   "source": [
    "filtered_df.to_csv('django_presciption_class_1.csv', index=False)"
   ]
  },
  {
   "cell_type": "code",
   "execution_count": 801,
   "metadata": {},
   "outputs": [],
   "source": [
    "filtered_df = pd.read_csv('django_presciption_class_1.csv')"
   ]
  },
  {
   "cell_type": "code",
   "execution_count": 802,
   "metadata": {},
   "outputs": [
    {
     "data": {
      "text/html": [
       "<div>\n",
       "<style scoped>\n",
       "    .dataframe tbody tr th:only-of-type {\n",
       "        vertical-align: middle;\n",
       "    }\n",
       "\n",
       "    .dataframe tbody tr th {\n",
       "        vertical-align: top;\n",
       "    }\n",
       "\n",
       "    .dataframe thead th {\n",
       "        text-align: right;\n",
       "    }\n",
       "</style>\n",
       "<table border=\"1\" class=\"dataframe\">\n",
       "  <thead>\n",
       "    <tr style=\"text-align: right;\">\n",
       "      <th></th>\n",
       "      <th>generic_name</th>\n",
       "      <th>cases</th>\n",
       "      <th>head</th>\n",
       "    </tr>\n",
       "  </thead>\n",
       "  <tbody>\n",
       "    <tr>\n",
       "      <th>0</th>\n",
       "      <td>acarbose</td>\n",
       "      <td>diabetes, diabetes mellitus</td>\n",
       "      <td>diabetes</td>\n",
       "    </tr>\n",
       "    <tr>\n",
       "      <th>1</th>\n",
       "      <td>acetazolamide</td>\n",
       "      <td>edema</td>\n",
       "      <td>edema</td>\n",
       "    </tr>\n",
       "    <tr>\n",
       "      <th>2</th>\n",
       "      <td>acetazolamide</td>\n",
       "      <td>epilepsy</td>\n",
       "      <td>epilepsy</td>\n",
       "    </tr>\n",
       "    <tr>\n",
       "      <th>3</th>\n",
       "      <td>acetazolamide</td>\n",
       "      <td>glaucoma</td>\n",
       "      <td>glaucoma</td>\n",
       "    </tr>\n",
       "    <tr>\n",
       "      <th>4</th>\n",
       "      <td>acetazolamide</td>\n",
       "      <td>hydrocephalus</td>\n",
       "      <td>hydrocephalus</td>\n",
       "    </tr>\n",
       "    <tr>\n",
       "      <th>...</th>\n",
       "      <td>...</td>\n",
       "      <td>...</td>\n",
       "      <td>...</td>\n",
       "    </tr>\n",
       "    <tr>\n",
       "      <th>2294</th>\n",
       "      <td>zoledronic acid [for hypercalcemia]</td>\n",
       "      <td>malignancy</td>\n",
       "      <td>malignancy</td>\n",
       "    </tr>\n",
       "    <tr>\n",
       "      <th>2295</th>\n",
       "      <td>zinc sulfate monohydrate</td>\n",
       "      <td>losing conditions</td>\n",
       "      <td>losing conditions</td>\n",
       "    </tr>\n",
       "    <tr>\n",
       "      <th>2296</th>\n",
       "      <td>zinc oxide + virgin castor oil</td>\n",
       "      <td>rash</td>\n",
       "      <td>rash</td>\n",
       "    </tr>\n",
       "    <tr>\n",
       "      <th>2297</th>\n",
       "      <td>zinc oxide + benzyl alcohol + benzyl benzoate ...</td>\n",
       "      <td>rash</td>\n",
       "      <td>rash</td>\n",
       "    </tr>\n",
       "    <tr>\n",
       "      <th>2298</th>\n",
       "      <td>zafirlukast</td>\n",
       "      <td>asthma</td>\n",
       "      <td>asthma</td>\n",
       "    </tr>\n",
       "  </tbody>\n",
       "</table>\n",
       "<p>2299 rows × 3 columns</p>\n",
       "</div>"
      ],
      "text/plain": [
       "                                           generic_name  \\\n",
       "0                                              acarbose   \n",
       "1                                         acetazolamide   \n",
       "2                                         acetazolamide   \n",
       "3                                         acetazolamide   \n",
       "4                                         acetazolamide   \n",
       "...                                                 ...   \n",
       "2294                zoledronic acid [for hypercalcemia]   \n",
       "2295                           zinc sulfate monohydrate   \n",
       "2296                     zinc oxide + virgin castor oil   \n",
       "2297  zinc oxide + benzyl alcohol + benzyl benzoate ...   \n",
       "2298                                        zafirlukast   \n",
       "\n",
       "                            cases               head  \n",
       "0     diabetes, diabetes mellitus           diabetes  \n",
       "1                           edema              edema  \n",
       "2                        epilepsy           epilepsy  \n",
       "3                        glaucoma           glaucoma  \n",
       "4                   hydrocephalus      hydrocephalus  \n",
       "...                           ...                ...  \n",
       "2294                   malignancy         malignancy  \n",
       "2295            losing conditions  losing conditions  \n",
       "2296                         rash               rash  \n",
       "2297                         rash               rash  \n",
       "2298                       asthma             asthma  \n",
       "\n",
       "[2299 rows x 3 columns]"
      ]
     },
     "execution_count": 802,
     "metadata": {},
     "output_type": "execute_result"
    }
   ],
   "source": [
    "filtered_df"
   ]
  },
  {
   "cell_type": "code",
   "execution_count": 805,
   "metadata": {},
   "outputs": [
    {
     "data": {
      "text/plain": [
       "958"
      ]
     },
     "execution_count": 805,
     "metadata": {},
     "output_type": "execute_result"
    }
   ],
   "source": [
    "len(filtered_df['generic_name'].unique())"
   ]
  },
  {
   "cell_type": "code",
   "execution_count": 804,
   "metadata": {},
   "outputs": [
    {
     "data": {
      "text/plain": [
       "362"
      ]
     },
     "execution_count": 804,
     "metadata": {},
     "output_type": "execute_result"
    }
   ],
   "source": [
    "len(filtered_df['cases'].unique())-len(filtered_df['head'].unique())"
   ]
  },
  {
   "cell_type": "code",
   "execution_count": null,
   "metadata": {},
   "outputs": [],
   "source": []
  },
  {
   "cell_type": "code",
   "execution_count": 789,
   "metadata": {},
   "outputs": [],
   "source": [
    "# Count the number of matches in the same row\n",
    "matches = filtered_df['generic_name'].eq(filtered_df['generic_name']).sum()\n"
   ]
  },
  {
   "cell_type": "code",
   "execution_count": 790,
   "metadata": {},
   "outputs": [
    {
     "data": {
      "text/plain": [
       "2299"
      ]
     },
     "execution_count": 790,
     "metadata": {},
     "output_type": "execute_result"
    }
   ],
   "source": [
    "matches"
   ]
  }
 ],
 "metadata": {
  "kernelspec": {
   "display_name": "tf",
   "language": "python",
   "name": "python3"
  },
  "language_info": {
   "codemirror_mode": {
    "name": "ipython",
    "version": 3
   },
   "file_extension": ".py",
   "mimetype": "text/x-python",
   "name": "python",
   "nbconvert_exporter": "python",
   "pygments_lexer": "ipython3",
   "version": "3.8.16"
  },
  "orig_nbformat": 4
 },
 "nbformat": 4,
 "nbformat_minor": 2
}
