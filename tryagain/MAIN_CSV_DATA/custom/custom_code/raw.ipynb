{
 "cells": [
  {
   "cell_type": "code",
   "execution_count": 16,
   "metadata": {},
   "outputs": [],
   "source": [
    "import pandas as pd \n",
    "\n",
    "\n",
    "\n",
    "\n",
    "\n",
    "new_raw_df = pd.read_csv('raw_file/drugsComTrain_raw.csv')\n",
    "new_raw_df=new_raw_df.astype('str').astype(str).apply(lambda x: x.str.lower())"
   ]
  },
  {
   "cell_type": "code",
   "execution_count": 17,
   "metadata": {},
   "outputs": [
    {
     "data": {
      "text/plain": [
       "3436"
      ]
     },
     "execution_count": 17,
     "metadata": {},
     "output_type": "execute_result"
    }
   ],
   "source": [
    "len(new_raw_df['drugName'].unique())"
   ]
  },
  {
   "cell_type": "code",
   "execution_count": 18,
   "metadata": {},
   "outputs": [],
   "source": [
    "current_main_data = pd.read_csv('current_main_data(changeable)/selected_questions.csv')"
   ]
  },
  {
   "cell_type": "code",
   "execution_count": 19,
   "metadata": {},
   "outputs": [
    {
     "data": {
      "text/plain": [
       "1711"
      ]
     },
     "execution_count": 19,
     "metadata": {},
     "output_type": "execute_result"
    }
   ],
   "source": [
    "len(current_main_data['generic_name'].unique())"
   ]
  },
  {
   "cell_type": "code",
   "execution_count": 20,
   "metadata": {},
   "outputs": [],
   "source": [
    "current_generic = current_main_data['generic_name'].unique()\n",
    "new_generic= new_raw_df['drugName'].unique()\n"
   ]
  },
  {
   "cell_type": "code",
   "execution_count": 21,
   "metadata": {},
   "outputs": [
    {
     "data": {
      "text/plain": [
       "array(['adalimumab', 'acyclovir + hydrocortisone', 'acyclovir (topical)',\n",
       "       ..., 'zidovudine', 'zaleplon', 'zafirlukast'], dtype=object)"
      ]
     },
     "execution_count": 21,
     "metadata": {},
     "output_type": "execute_result"
    }
   ],
   "source": [
    "current_generic"
   ]
  },
  {
   "cell_type": "code",
   "execution_count": 22,
   "metadata": {},
   "outputs": [
    {
     "data": {
      "text/plain": [
       "array(['valsartan', 'guanfacine', 'lybrel', ..., 'mavik', 'aldomet',\n",
       "       'grifulvin v'], dtype=object)"
      ]
     },
     "execution_count": 22,
     "metadata": {},
     "output_type": "execute_result"
    }
   ],
   "source": [
    "new_generic"
   ]
  },
  {
   "cell_type": "code",
   "execution_count": 23,
   "metadata": {},
   "outputs": [],
   "source": [
    "\n",
    "# common generic names list\n",
    "common_generic = list(set(current_generic) & set(new_generic))\n"
   ]
  },
  {
   "cell_type": "code",
   "execution_count": 21,
   "metadata": {},
   "outputs": [
    {
     "data": {
      "text/html": [
       "<div>\n",
       "<style scoped>\n",
       "    .dataframe tbody tr th:only-of-type {\n",
       "        vertical-align: middle;\n",
       "    }\n",
       "\n",
       "    .dataframe tbody tr th {\n",
       "        vertical-align: top;\n",
       "    }\n",
       "\n",
       "    .dataframe thead th {\n",
       "        text-align: right;\n",
       "    }\n",
       "</style>\n",
       "<table border=\"1\" class=\"dataframe\">\n",
       "  <thead>\n",
       "    <tr style=\"text-align: right;\">\n",
       "      <th></th>\n",
       "      <th>uniqueID</th>\n",
       "      <th>drugName</th>\n",
       "      <th>condition</th>\n",
       "      <th>review</th>\n",
       "      <th>rating</th>\n",
       "      <th>date</th>\n",
       "      <th>usefulCount</th>\n",
       "    </tr>\n",
       "  </thead>\n",
       "  <tbody>\n",
       "    <tr>\n",
       "      <th>0</th>\n",
       "      <td>206461</td>\n",
       "      <td>valsartan</td>\n",
       "      <td>left ventricular dysfunction</td>\n",
       "      <td>\"it has no side effect, i take it in combinati...</td>\n",
       "      <td>9</td>\n",
       "      <td>20-may-12</td>\n",
       "      <td>27</td>\n",
       "    </tr>\n",
       "    <tr>\n",
       "      <th>1</th>\n",
       "      <td>95260</td>\n",
       "      <td>guanfacine</td>\n",
       "      <td>adhd</td>\n",
       "      <td>\"my son is halfway through his fourth week of ...</td>\n",
       "      <td>8</td>\n",
       "      <td>27-apr-10</td>\n",
       "      <td>192</td>\n",
       "    </tr>\n",
       "    <tr>\n",
       "      <th>2</th>\n",
       "      <td>92703</td>\n",
       "      <td>lybrel</td>\n",
       "      <td>birth control</td>\n",
       "      <td>\"i used to take another oral contraceptive, wh...</td>\n",
       "      <td>5</td>\n",
       "      <td>14-dec-09</td>\n",
       "      <td>17</td>\n",
       "    </tr>\n",
       "    <tr>\n",
       "      <th>3</th>\n",
       "      <td>138000</td>\n",
       "      <td>ortho evra</td>\n",
       "      <td>birth control</td>\n",
       "      <td>\"this is my first time using any form of birth...</td>\n",
       "      <td>8</td>\n",
       "      <td>3-nov-15</td>\n",
       "      <td>10</td>\n",
       "    </tr>\n",
       "    <tr>\n",
       "      <th>4</th>\n",
       "      <td>35696</td>\n",
       "      <td>buprenorphine / naloxone</td>\n",
       "      <td>opiate dependence</td>\n",
       "      <td>\"suboxone has completely turned my life around...</td>\n",
       "      <td>9</td>\n",
       "      <td>27-nov-16</td>\n",
       "      <td>37</td>\n",
       "    </tr>\n",
       "    <tr>\n",
       "      <th>...</th>\n",
       "      <td>...</td>\n",
       "      <td>...</td>\n",
       "      <td>...</td>\n",
       "      <td>...</td>\n",
       "      <td>...</td>\n",
       "      <td>...</td>\n",
       "      <td>...</td>\n",
       "    </tr>\n",
       "    <tr>\n",
       "      <th>161292</th>\n",
       "      <td>191035</td>\n",
       "      <td>campral</td>\n",
       "      <td>alcohol dependence</td>\n",
       "      <td>\"i wrote my first report in mid-october of 201...</td>\n",
       "      <td>10</td>\n",
       "      <td>31-may-15</td>\n",
       "      <td>125</td>\n",
       "    </tr>\n",
       "    <tr>\n",
       "      <th>161293</th>\n",
       "      <td>127085</td>\n",
       "      <td>metoclopramide</td>\n",
       "      <td>nausea/vomiting</td>\n",
       "      <td>\"i was given this in iv before surgey. i immed...</td>\n",
       "      <td>1</td>\n",
       "      <td>1-nov-11</td>\n",
       "      <td>34</td>\n",
       "    </tr>\n",
       "    <tr>\n",
       "      <th>161294</th>\n",
       "      <td>187382</td>\n",
       "      <td>orencia</td>\n",
       "      <td>rheumatoid arthritis</td>\n",
       "      <td>\"limited improvement after 4 months, developed...</td>\n",
       "      <td>2</td>\n",
       "      <td>15-mar-14</td>\n",
       "      <td>35</td>\n",
       "    </tr>\n",
       "    <tr>\n",
       "      <th>161295</th>\n",
       "      <td>47128</td>\n",
       "      <td>thyroid desiccated</td>\n",
       "      <td>underactive thyroid</td>\n",
       "      <td>\"i&amp;#039;ve been on thyroid medication 49 years...</td>\n",
       "      <td>10</td>\n",
       "      <td>19-sep-15</td>\n",
       "      <td>79</td>\n",
       "    </tr>\n",
       "    <tr>\n",
       "      <th>161296</th>\n",
       "      <td>215220</td>\n",
       "      <td>lubiprostone</td>\n",
       "      <td>constipation, chronic</td>\n",
       "      <td>\"i&amp;#039;ve had chronic constipation all my adu...</td>\n",
       "      <td>9</td>\n",
       "      <td>13-dec-14</td>\n",
       "      <td>116</td>\n",
       "    </tr>\n",
       "  </tbody>\n",
       "</table>\n",
       "<p>161297 rows × 7 columns</p>\n",
       "</div>"
      ],
      "text/plain": [
       "       uniqueID                  drugName                     condition  \\\n",
       "0        206461                 valsartan  left ventricular dysfunction   \n",
       "1         95260                guanfacine                          adhd   \n",
       "2         92703                    lybrel                 birth control   \n",
       "3        138000                ortho evra                 birth control   \n",
       "4         35696  buprenorphine / naloxone             opiate dependence   \n",
       "...         ...                       ...                           ...   \n",
       "161292   191035                   campral            alcohol dependence   \n",
       "161293   127085            metoclopramide               nausea/vomiting   \n",
       "161294   187382                   orencia          rheumatoid arthritis   \n",
       "161295    47128        thyroid desiccated           underactive thyroid   \n",
       "161296   215220              lubiprostone         constipation, chronic   \n",
       "\n",
       "                                                   review rating       date  \\\n",
       "0       \"it has no side effect, i take it in combinati...      9  20-may-12   \n",
       "1       \"my son is halfway through his fourth week of ...      8  27-apr-10   \n",
       "2       \"i used to take another oral contraceptive, wh...      5  14-dec-09   \n",
       "3       \"this is my first time using any form of birth...      8   3-nov-15   \n",
       "4       \"suboxone has completely turned my life around...      9  27-nov-16   \n",
       "...                                                   ...    ...        ...   \n",
       "161292  \"i wrote my first report in mid-october of 201...     10  31-may-15   \n",
       "161293  \"i was given this in iv before surgey. i immed...      1   1-nov-11   \n",
       "161294  \"limited improvement after 4 months, developed...      2  15-mar-14   \n",
       "161295  \"i&#039;ve been on thyroid medication 49 years...     10  19-sep-15   \n",
       "161296  \"i&#039;ve had chronic constipation all my adu...      9  13-dec-14   \n",
       "\n",
       "       usefulCount  \n",
       "0               27  \n",
       "1              192  \n",
       "2               17  \n",
       "3               10  \n",
       "4               37  \n",
       "...            ...  \n",
       "161292         125  \n",
       "161293          34  \n",
       "161294          35  \n",
       "161295          79  \n",
       "161296         116  \n",
       "\n",
       "[161297 rows x 7 columns]"
      ]
     },
     "execution_count": 21,
     "metadata": {},
     "output_type": "execute_result"
    }
   ],
   "source": [
    "new_raw_df"
   ]
  },
  {
   "cell_type": "code",
   "execution_count": 24,
   "metadata": {},
   "outputs": [
    {
     "data": {
      "text/html": [
       "<div>\n",
       "<style scoped>\n",
       "    .dataframe tbody tr th:only-of-type {\n",
       "        vertical-align: middle;\n",
       "    }\n",
       "\n",
       "    .dataframe tbody tr th {\n",
       "        vertical-align: top;\n",
       "    }\n",
       "\n",
       "    .dataframe thead th {\n",
       "        text-align: right;\n",
       "    }\n",
       "</style>\n",
       "<table border=\"1\" class=\"dataframe\">\n",
       "  <thead>\n",
       "    <tr style=\"text-align: right;\">\n",
       "      <th></th>\n",
       "      <th>uniqueID</th>\n",
       "      <th>drugName</th>\n",
       "      <th>condition</th>\n",
       "      <th>review</th>\n",
       "      <th>rating</th>\n",
       "      <th>date</th>\n",
       "      <th>usefulCount</th>\n",
       "    </tr>\n",
       "  </thead>\n",
       "  <tbody>\n",
       "    <tr>\n",
       "      <th>0</th>\n",
       "      <td>206461</td>\n",
       "      <td>valsartan</td>\n",
       "      <td>left ventricular dysfunction</td>\n",
       "      <td>\"it has no side effect, i take it in combinati...</td>\n",
       "      <td>9</td>\n",
       "      <td>20-may-12</td>\n",
       "      <td>27</td>\n",
       "    </tr>\n",
       "    <tr>\n",
       "      <th>6</th>\n",
       "      <td>165907</td>\n",
       "      <td>levonorgestrel</td>\n",
       "      <td>emergency contraception</td>\n",
       "      <td>\"he pulled out, but he cummed a bit in me. i t...</td>\n",
       "      <td>1</td>\n",
       "      <td>7-mar-17</td>\n",
       "      <td>5</td>\n",
       "    </tr>\n",
       "    <tr>\n",
       "      <th>7</th>\n",
       "      <td>102654</td>\n",
       "      <td>aripiprazole</td>\n",
       "      <td>bipolar disorde</td>\n",
       "      <td>\"abilify changed my life. there is hope. i was...</td>\n",
       "      <td>10</td>\n",
       "      <td>14-mar-15</td>\n",
       "      <td>32</td>\n",
       "    </tr>\n",
       "    <tr>\n",
       "      <th>10</th>\n",
       "      <td>29607</td>\n",
       "      <td>topiramate</td>\n",
       "      <td>migraine prevention</td>\n",
       "      <td>\"i have been on this medication almost two wee...</td>\n",
       "      <td>9</td>\n",
       "      <td>1-jan-15</td>\n",
       "      <td>19</td>\n",
       "    </tr>\n",
       "    <tr>\n",
       "      <th>15</th>\n",
       "      <td>81890</td>\n",
       "      <td>liraglutide</td>\n",
       "      <td>obesity</td>\n",
       "      <td>\"i have been taking saxenda since july 2016.  ...</td>\n",
       "      <td>9</td>\n",
       "      <td>19-jan-17</td>\n",
       "      <td>20</td>\n",
       "    </tr>\n",
       "  </tbody>\n",
       "</table>\n",
       "</div>"
      ],
      "text/plain": [
       "   uniqueID        drugName                     condition  \\\n",
       "0    206461       valsartan  left ventricular dysfunction   \n",
       "6    165907  levonorgestrel       emergency contraception   \n",
       "7    102654    aripiprazole               bipolar disorde   \n",
       "10    29607      topiramate           migraine prevention   \n",
       "15    81890     liraglutide                       obesity   \n",
       "\n",
       "                                               review rating       date  \\\n",
       "0   \"it has no side effect, i take it in combinati...      9  20-may-12   \n",
       "6   \"he pulled out, but he cummed a bit in me. i t...      1   7-mar-17   \n",
       "7   \"abilify changed my life. there is hope. i was...     10  14-mar-15   \n",
       "10  \"i have been on this medication almost two wee...      9   1-jan-15   \n",
       "15  \"i have been taking saxenda since july 2016.  ...      9  19-jan-17   \n",
       "\n",
       "   usefulCount  \n",
       "0           27  \n",
       "6            5  \n",
       "7           32  \n",
       "10          19  \n",
       "15          20  "
      ]
     },
     "execution_count": 24,
     "metadata": {},
     "output_type": "execute_result"
    }
   ],
   "source": [
    "#extract the rows from new df using common_generic\n",
    "common_generic_df = new_raw_df[new_raw_df['drugName'].isin(common_generic)]\n",
    "common_generic_df.head()\n"
   ]
  },
  {
   "cell_type": "code",
   "execution_count": 27,
   "metadata": {},
   "outputs": [
    {
     "data": {
      "text/plain": [
       "514"
      ]
     },
     "execution_count": 27,
     "metadata": {},
     "output_type": "execute_result"
    }
   ],
   "source": [
    "len(common_generic_df['condition'].unique())"
   ]
  },
  {
   "cell_type": "code",
   "execution_count": 33,
   "metadata": {},
   "outputs": [],
   "source": [
    "selected_collum = ['drugName', 'condition', 'rating', 'usefulCount']\n",
    "new_common_df = common_generic_df[selected_collum]\n",
    "#rename columns\n",
    "new_common_df = new_common_df.rename(columns={'drugName': 'generic_name', 'condition': 'cases', 'rating': 'rating', 'usefulCount': 'useful_count'})"
   ]
  },
  {
   "cell_type": "code",
   "execution_count": 35,
   "metadata": {},
   "outputs": [],
   "source": [
    "new_common_df.to_csv('custom/common_1.csv', index=False)"
   ]
  },
  {
   "cell_type": "code",
   "execution_count": 37,
   "metadata": {},
   "outputs": [
    {
     "data": {
      "text/plain": [
       "'9'"
      ]
     },
     "execution_count": 37,
     "metadata": {},
     "output_type": "execute_result"
    }
   ],
   "source": [
    "new_common_df['rating'].max()"
   ]
  },
  {
   "cell_type": "code",
   "execution_count": 40,
   "metadata": {},
   "outputs": [],
   "source": [
    "value_counts_series = new_common_df['cases'].value_counts()\n"
   ]
  },
  {
   "cell_type": "code",
   "execution_count": 42,
   "metadata": {},
   "outputs": [],
   "source": [
    "value_counts_series.to_json('value_counts_series.json')"
   ]
  },
  {
   "cell_type": "code",
   "execution_count": 45,
   "metadata": {},
   "outputs": [
    {
     "name": "stdout",
     "output_type": "stream",
     "text": [
      "       generic_name                 cases rating useful_count\n",
      "1104      tadalafil  erectile dysfunction      9           75\n",
      "1197     vardenafil  erectile dysfunction      1           41\n",
      "1398      tadalafil  erectile dysfunction     10           29\n",
      "1564      tadalafil  erectile dysfunction     10           52\n",
      "2243       avanafil  erectile dysfunction     10           52\n",
      "...             ...                   ...    ...          ...\n",
      "158849   vardenafil  erectile dysfunction     10           89\n",
      "158934    tadalafil  erectile dysfunction      9           28\n",
      "159233    tadalafil  erectile dysfunction      9            3\n",
      "161254    tadalafil  erectile dysfunction     10           20\n",
      "161282    tadalafil  erectile dysfunction      9           36\n",
      "\n",
      "[384 rows x 4 columns]\n"
     ]
    }
   ],
   "source": [
    "\n",
    "# Let's say you want to check the number of rows for the unique value 2:\n",
    "unique_value = 'erectile dysfunction'\n",
    "rows_with_unique_value = new_common_df[new_common_df['cases'] == unique_value]\n",
    "\n",
    "print(rows_with_unique_value)\n"
   ]
  },
  {
   "cell_type": "code",
   "execution_count": 48,
   "metadata": {},
   "outputs": [],
   "source": [
    "generic_name_list = new_common_df['generic_name'].unique().tolist()"
   ]
  },
  {
   "cell_type": "code",
   "execution_count": 46,
   "metadata": {},
   "outputs": [
    {
     "data": {
      "text/html": [
       "<div>\n",
       "<style scoped>\n",
       "    .dataframe tbody tr th:only-of-type {\n",
       "        vertical-align: middle;\n",
       "    }\n",
       "\n",
       "    .dataframe tbody tr th {\n",
       "        vertical-align: top;\n",
       "    }\n",
       "\n",
       "    .dataframe thead th {\n",
       "        text-align: right;\n",
       "    }\n",
       "</style>\n",
       "<table border=\"1\" class=\"dataframe\">\n",
       "  <thead>\n",
       "    <tr style=\"text-align: right;\">\n",
       "      <th></th>\n",
       "      <th>Condition</th>\n",
       "      <th>Drug</th>\n",
       "      <th>EaseOfUse</th>\n",
       "      <th>Effective</th>\n",
       "      <th>Form</th>\n",
       "      <th>Indication</th>\n",
       "      <th>Price</th>\n",
       "      <th>Reviews</th>\n",
       "      <th>Satisfaction</th>\n",
       "      <th>Type</th>\n",
       "    </tr>\n",
       "  </thead>\n",
       "  <tbody>\n",
       "    <tr>\n",
       "      <th>0</th>\n",
       "      <td>Acute Bacterial Sinusitis</td>\n",
       "      <td>Amoxicillin</td>\n",
       "      <td>3.852353</td>\n",
       "      <td>3.655882</td>\n",
       "      <td>Capsule</td>\n",
       "      <td>On Label</td>\n",
       "      <td>12.590000</td>\n",
       "      <td>86.294118</td>\n",
       "      <td>3.197647</td>\n",
       "      <td>RX</td>\n",
       "    </tr>\n",
       "    <tr>\n",
       "      <th>1</th>\n",
       "      <td>Acute Bacterial Sinusitis</td>\n",
       "      <td>Amoxicillin-Pot Clavulanate</td>\n",
       "      <td>3.470000</td>\n",
       "      <td>3.290000</td>\n",
       "      <td>Liquid (Drink)</td>\n",
       "      <td>Off Label</td>\n",
       "      <td>287.370000</td>\n",
       "      <td>43.000000</td>\n",
       "      <td>2.590000</td>\n",
       "      <td>RX</td>\n",
       "    </tr>\n",
       "    <tr>\n",
       "      <th>2</th>\n",
       "      <td>Acute Bacterial Sinusitis</td>\n",
       "      <td>Amoxicillin-Pot Clavulanate</td>\n",
       "      <td>3.121429</td>\n",
       "      <td>2.962857</td>\n",
       "      <td>Tablet</td>\n",
       "      <td>On Label</td>\n",
       "      <td>70.608571</td>\n",
       "      <td>267.285714</td>\n",
       "      <td>2.248571</td>\n",
       "      <td>RX</td>\n",
       "    </tr>\n",
       "    <tr>\n",
       "      <th>3</th>\n",
       "      <td>Acute Bacterial Sinusitis</td>\n",
       "      <td>Ampicillin</td>\n",
       "      <td>2.000000</td>\n",
       "      <td>3.000000</td>\n",
       "      <td>Capsule</td>\n",
       "      <td>On Label</td>\n",
       "      <td>12.590000</td>\n",
       "      <td>1.000000</td>\n",
       "      <td>1.000000</td>\n",
       "      <td>RX</td>\n",
       "    </tr>\n",
       "    <tr>\n",
       "      <th>4</th>\n",
       "      <td>Acute Bacterial Sinusitis</td>\n",
       "      <td>Ampicillin</td>\n",
       "      <td>3.250000</td>\n",
       "      <td>3.000000</td>\n",
       "      <td>Tablet</td>\n",
       "      <td>On Label</td>\n",
       "      <td>125.240000</td>\n",
       "      <td>15.000000</td>\n",
       "      <td>3.000000</td>\n",
       "      <td>RX</td>\n",
       "    </tr>\n",
       "  </tbody>\n",
       "</table>\n",
       "</div>"
      ],
      "text/plain": [
       "                   Condition                         Drug  EaseOfUse  \\\n",
       "0  Acute Bacterial Sinusitis                  Amoxicillin   3.852353   \n",
       "1  Acute Bacterial Sinusitis  Amoxicillin-Pot Clavulanate   3.470000   \n",
       "2  Acute Bacterial Sinusitis  Amoxicillin-Pot Clavulanate   3.121429   \n",
       "3  Acute Bacterial Sinusitis                   Ampicillin   2.000000   \n",
       "4  Acute Bacterial Sinusitis                   Ampicillin   3.250000   \n",
       "\n",
       "   Effective            Form Indication       Price     Reviews  Satisfaction  \\\n",
       "0   3.655882         Capsule   On Label   12.590000   86.294118      3.197647   \n",
       "1   3.290000  Liquid (Drink)  Off Label  287.370000   43.000000      2.590000   \n",
       "2   2.962857          Tablet   On Label   70.608571  267.285714      2.248571   \n",
       "3   3.000000         Capsule   On Label   12.590000    1.000000      1.000000   \n",
       "4   3.000000          Tablet   On Label  125.240000   15.000000      3.000000   \n",
       "\n",
       "  Type  \n",
       "0   RX  \n",
       "1   RX  \n",
       "2   RX  \n",
       "3   RX  \n",
       "4   RX  "
      ]
     },
     "execution_count": 46,
     "metadata": {},
     "output_type": "execute_result"
    }
   ],
   "source": [
    "import pandas as pd \n",
    "\n",
    "disease_drug_df = pd.read_csv('raw_file/Drug_clean.csv')\n",
    "disease_drug_df.head()"
   ]
  },
  {
   "cell_type": "code",
   "execution_count": 2,
   "metadata": {},
   "outputs": [
    {
     "data": {
      "text/plain": [
       "37"
      ]
     },
     "execution_count": 2,
     "metadata": {},
     "output_type": "execute_result"
    }
   ],
   "source": [
    "len(disease_drug_df['Condition'].unique())"
   ]
  },
  {
   "cell_type": "code",
   "execution_count": 47,
   "metadata": {},
   "outputs": [
    {
     "data": {
      "text/plain": [
       "470"
      ]
     },
     "execution_count": 47,
     "metadata": {},
     "output_type": "execute_result"
    }
   ],
   "source": [
    "len(disease_drug_df['Drug'].unique())"
   ]
  },
  {
   "cell_type": "code",
   "execution_count": 15,
   "metadata": {},
   "outputs": [
    {
     "data": {
      "text/plain": [
       "5.0"
      ]
     },
     "execution_count": 15,
     "metadata": {},
     "output_type": "execute_result"
    }
   ],
   "source": [
    "disease_drug_df['Satisfaction'].max()"
   ]
  },
  {
   "cell_type": "code",
   "execution_count": 50,
   "metadata": {},
   "outputs": [],
   "source": [
    "disease_drug_df=disease_drug_df.astype('str').astype(str).apply(lambda x: x.str.lower())\n"
   ]
  },
  {
   "cell_type": "code",
   "execution_count": 52,
   "metadata": {},
   "outputs": [],
   "source": [
    "new_generic_name_list = disease_drug_df['Drug'].unique().tolist()"
   ]
  },
  {
   "cell_type": "code",
   "execution_count": 53,
   "metadata": {},
   "outputs": [],
   "source": [
    "# common generic names list\n",
    "common_generic_current = list(set(new_generic_name_list) & set(generic_name_list))\n"
   ]
  },
  {
   "cell_type": "code",
   "execution_count": 55,
   "metadata": {},
   "outputs": [
    {
     "data": {
      "text/plain": [
       "88"
      ]
     },
     "execution_count": 55,
     "metadata": {},
     "output_type": "execute_result"
    }
   ],
   "source": [
    "len(common_generic_current)"
   ]
  }
 ],
 "metadata": {
  "kernelspec": {
   "display_name": "tf",
   "language": "python",
   "name": "python3"
  },
  "language_info": {
   "codemirror_mode": {
    "name": "ipython",
    "version": 3
   },
   "file_extension": ".py",
   "mimetype": "text/x-python",
   "name": "python",
   "nbconvert_exporter": "python",
   "pygments_lexer": "ipython3",
   "version": "3.8.16"
  },
  "orig_nbformat": 4
 },
 "nbformat": 4,
 "nbformat_minor": 2
}
