{
 "cells": [
  {
   "cell_type": "code",
   "execution_count": 1,
   "metadata": {},
   "outputs": [
    {
     "name": "stderr",
     "output_type": "stream",
     "text": [
      "c:\\Users\\rifat\\miniconda3\\envs\\tf\\lib\\site-packages\\tqdm\\auto.py:21: TqdmWarning: IProgress not found. Please update jupyter and ipywidgets. See https://ipywidgets.readthedocs.io/en/stable/user_install.html\n",
      "  from .autonotebook import tqdm as notebook_tqdm\n"
     ]
    },
    {
     "name": "stdout",
     "output_type": "stream",
     "text": [
      "Predicted Label for class admiration: 0.0029\n",
      "Predicted Label for class amusement: 0.0019\n",
      "Predicted Label for class anger: 0.0005\n",
      "Predicted Label for class annoyance: 0.0012\n",
      "Predicted Label for class approval: 0.0087\n",
      "Predicted Label for class caring: 0.0044\n",
      "Predicted Label for class confusion: 0.0417\n",
      "Predicted Label for class curiosity: 0.0021\n",
      "Predicted Label for class desire: 0.0012\n",
      "Predicted Label for class disappointment: 0.0012\n",
      "Predicted Label for class disapproval: 0.0021\n",
      "Predicted Label for class disgust: 0.0001\n",
      "Predicted Label for class embarrassment: 0.0005\n",
      "Predicted Label for class excitement: 0.0084\n",
      "Predicted Label for class fear: 0.0010\n",
      "Predicted Label for class gratitude: 0.0041\n",
      "Predicted Label for class grief: 0.0004\n",
      "Predicted Label for class joy: 0.8775\n",
      "Predicted Label for class love: 0.0032\n",
      "Predicted Label for class nervousness: 0.0032\n",
      "Predicted Label for class optimism: 0.0112\n",
      "Predicted Label for class pride: 0.0013\n",
      "Predicted Label for class realization: 0.0053\n",
      "Predicted Label for class relief: 0.0088\n",
      "Predicted Label for class remorse: 0.0008\n",
      "Predicted Label for class sadness: 0.0010\n",
      "Predicted Label for class surprise: 0.0018\n",
      "Predicted Label for class neutral: 0.0033\n"
     ]
    }
   ],
   "source": [
    "from transformers import AutoTokenizer, AutoModelForSequenceClassification\n",
    "import torch\n",
    "import torch.nn.functional as F\n",
    "\n",
    "# Load tokenizer and model\n",
    "tokenizer = AutoTokenizer.from_pretrained(\"SamLowe/roberta-base-go_emotions\")\n",
    "model = AutoModelForSequenceClassification.from_pretrained(\"SamLowe/roberta-base-go_emotions\")\n",
    "\n",
    "# Prepare input text\n",
    "input_text = \"I feel really happy right now, but i do not know how long it will stay.\"\n",
    "inputs = tokenizer(input_text, return_tensors=\"pt\")\n",
    "\n",
    "# Move to GPU (if available)\n",
    "device = torch.device(\"cuda\") if torch.cuda.is_available() else torch.device(\"cpu\")\n",
    "model.to(device)\n",
    "inputs.to(device)\n",
    "\n",
    "# Inference\n",
    "with torch.no_grad():\n",
    "    outputs = model(**inputs)\n",
    "\n",
    "logits = outputs.logits\n",
    "\n",
    "# Interpret Results\n",
    "probabilities = F.softmax(logits, dim=1)\n",
    "\n",
    "label_list = []\n",
    "# Print predicted labels and probabilities for each class\n",
    "for i, label_id in enumerate(probabilities[0]):\n",
    "    label = model.config.id2label[i]\n",
    "    print(f\"Predicted Label for class {label}: {label_id:.4f}\")\n",
    "    label_list.append(label)\n"
   ]
  },
  {
   "cell_type": "code",
   "execution_count": 7,
   "metadata": {},
   "outputs": [
    {
     "name": "stdout",
     "output_type": "stream",
     "text": [
      "Predicted Label for class admiration: 0.0029\n",
      "Predicted Label for class amusement: 0.0019\n",
      "Predicted Label for class anger: 0.0005\n",
      "Predicted Label for class annoyance: 0.0012\n",
      "Predicted Label for class approval: 0.0087\n",
      "Predicted Label for class caring: 0.0044\n",
      "Predicted Label for class confusion: 0.0417\n",
      "Predicted Label for class curiosity: 0.0021\n",
      "Predicted Label for class desire: 0.0012\n",
      "Predicted Label for class disappointment: 0.0012\n",
      "Predicted Label for class disapproval: 0.0021\n",
      "Predicted Label for class disgust: 0.0001\n",
      "Predicted Label for class embarrassment: 0.0005\n",
      "Predicted Label for class excitement: 0.0084\n",
      "Predicted Label for class fear: 0.0010\n",
      "Predicted Label for class gratitude: 0.0041\n",
      "Predicted Label for class grief: 0.0004\n",
      "Predicted Label for class joy: 0.8775\n",
      "Predicted Label for class love: 0.0032\n",
      "Predicted Label for class nervousness: 0.0032\n",
      "Predicted Label for class optimism: 0.0112\n",
      "Predicted Label for class pride: 0.0013\n",
      "Predicted Label for class realization: 0.0053\n",
      "Predicted Label for class relief: 0.0088\n",
      "Predicted Label for class remorse: 0.0008\n",
      "Predicted Label for class sadness: 0.0010\n",
      "Predicted Label for class surprise: 0.0018\n",
      "Predicted Label for class neutral: 0.0033\n",
      "{'admiration': 0.0029312577098608017, 'amusement': 0.0019441070035099983, 'anger': 0.0005122554721310735, 'annoyance': 0.0011759537737816572, 'approval': 0.00865204818546772, 'caring': 0.004411551635712385, 'confusion': 0.041748397052288055, 'curiosity': 0.0020646280609071255, 'desire': 0.0012376572703942657, 'disappointment': 0.0012350798351690173, 'disapproval': 0.0021275272592902184, 'disgust': 0.0001292380184167996, 'embarrassment': 0.000454455817816779, 'excitement': 0.008403121493756771, 'fear': 0.0010415214346721768, 'gratitude': 0.004051554016768932, 'grief': 0.0004012061981484294, 'joy': 0.877517580986023, 'love': 0.003183622844517231, 'nervousness': 0.003162353066727519, 'optimism': 0.011224080808460712, 'pride': 0.001346325152553618, 'realization': 0.00534832663834095, 'relief': 0.00882116798311472, 'remorse': 0.0007564172265119851, 'sadness': 0.0009913910180330276, 'surprise': 0.001800857251510024, 'neutral': 0.003326233709231019}\n"
     ]
    }
   ],
   "source": [
    "from transformers import AutoTokenizer, AutoModelForSequenceClassification\n",
    "import torch\n",
    "import torch.nn.functional as F\n",
    "\n",
    "# Load tokenizer and model\n",
    "tokenizer = AutoTokenizer.from_pretrained(\"SamLowe/roberta-base-go_emotions\")\n",
    "model = AutoModelForSequenceClassification.from_pretrained(\"SamLowe/roberta-base-go_emotions\")\n",
    "\n",
    "# Prepare input text\n",
    "input_text = \"I feel really happy right now, but i do not know how long it will stay.\"\n",
    "inputs = tokenizer(input_text, return_tensors=\"pt\")\n",
    "\n",
    "# Move to GPU (if available)\n",
    "device = torch.device(\"cuda\") if torch.cuda.is_available() else torch.device(\"cpu\")\n",
    "model.to(device)\n",
    "inputs.to(device)\n",
    "\n",
    "# Inference\n",
    "with torch.no_grad():\n",
    "    outputs = model(**inputs)\n",
    "logits = outputs.logits\n",
    "# Interpret Results\n",
    "probabilities = F.softmax(logits, dim=1)\n",
    "predictions_dict = {}\n",
    "# Print predicted labels and probabilities for each class\n",
    "for i, label_id in enumerate(probabilities[0]):\n",
    "    label = model.config.id2label[i]\n",
    "    prediction_value = label_id.item()  # Convert tensor to float\n",
    "    print(f\"Predicted Label for class {label}: {prediction_value:.4f}\")\n",
    "    predictions_dict[label] = prediction_value\n",
    "\n",
    "# Now you have a dictionary 'predictions_dict' with labels as keys and prediction values as values\n",
    "print(predictions_dict)\n"
   ]
  },
  {
   "cell_type": "code",
   "execution_count": 9,
   "metadata": {},
   "outputs": [
    {
     "name": "stdout",
     "output_type": "stream",
     "text": [
      "{'admiration': 0.005862515419721603, 'amusement': 0.0038882140070199966, 'anger': 0.001024510944262147, 'annoyance': 0.0023519075475633144, 'approval': 0.01730409637093544, 'caring': 0.00882310327142477, 'confusion': 0.08349679410457611, 'curiosity': 0.004129256121814251, 'desire': 0.0024753145407885313, 'disappointment': 0.0024701596703380346, 'disapproval': 0.004255054518580437, 'disgust': 0.0002584760368335992, 'embarrassment': 0.000908911635633558, 'excitement': 0.016806242987513542, 'fear': 0.0020830428693443537, 'gratitude': 0.008103108033537865, 'grief': 0.0008024123962968588, 'joy': 1.755035161972046, 'love': 0.006367245689034462, 'nervousness': 0.006324706133455038, 'optimism': 0.022448161616921425, 'pride': 0.002692650305107236, 'realization': 0.0106966532766819, 'relief': 0.01764233596622944, 'remorse': 0.0015128344530239701, 'sadness': 0.0019827820360660553, 'surprise': 0.003601714503020048, 'neutral': 0.006652467418462038}\n"
     ]
    }
   ],
   "source": [
    "predictions_dict\n",
    "prediction_dict_2 = predictions_dict.copy()\n",
    "combined_dict = {}\n",
    "for key in predictions_dict:\n",
    "    combined_dict[key] = predictions_dict[key] + prediction_dict_2.get(key, 0)\n",
    "\n",
    "print(combined_dict)"
   ]
  },
  {
   "cell_type": "code",
   "execution_count": 11,
   "metadata": {},
   "outputs": [
    {
     "name": "stdout",
     "output_type": "stream",
     "text": [
      "{'admiration': 0.0029312577098608017, 'amusement': 0.001944107003509998, 'anger': 0.0005122554721310735, 'annoyance': 0.0011759537737816572, 'approval': 0.00865204818546772, 'caring': 0.004411551635712385, 'confusion': 0.041748397052288055, 'curiosity': 0.0020646280609071255, 'desire': 0.0012376572703942657, 'disappointment': 0.0012350798351690173, 'disapproval': 0.0021275272592902184, 'disgust': 0.0001292380184167996, 'embarrassment': 0.000454455817816779, 'excitement': 0.008403121493756771, 'fear': 0.0010415214346721768, 'gratitude': 0.004051554016768932, 'grief': 0.0004012061981484294, 'joy': 0.8775175809860228, 'love': 0.003183622844517231, 'nervousness': 0.003162353066727519, 'optimism': 0.011224080808460712, 'pride': 0.001346325152553618, 'realization': 0.00534832663834095, 'relief': 0.00882116798311472, 'remorse': 0.000756417226511985, 'sadness': 0.0009913910180330276, 'surprise': 0.001800857251510024, 'neutral': 0.003326233709231019}\n"
     ]
    }
   ],
   "source": [
    "weight_dict1 = 0.3\n",
    "weight_dict2 = 0.7\n",
    "\n",
    "combined_dict2 = {}\n",
    "\n",
    "for key in predictions_dict:\n",
    "    weighted_value = (weight_dict1 * predictions_dict[key]) + (weight_dict2 * prediction_dict_2.get(key, 0))\n",
    "    combined_dict2[key] = weighted_value\n",
    "\n",
    "print(combined_dict2)"
   ]
  },
  {
   "cell_type": "code",
   "execution_count": 10,
   "metadata": {},
   "outputs": [
    {
     "data": {
      "text/plain": [
       "{'admiration': 0.005862515419721603,\n",
       " 'amusement': 0.0038882140070199966,\n",
       " 'anger': 0.001024510944262147,\n",
       " 'annoyance': 0.0023519075475633144,\n",
       " 'approval': 0.01730409637093544,\n",
       " 'caring': 0.00882310327142477,\n",
       " 'confusion': 0.08349679410457611,\n",
       " 'curiosity': 0.004129256121814251,\n",
       " 'desire': 0.0024753145407885313,\n",
       " 'disappointment': 0.0024701596703380346,\n",
       " 'disapproval': 0.004255054518580437,\n",
       " 'disgust': 0.0002584760368335992,\n",
       " 'embarrassment': 0.000908911635633558,\n",
       " 'excitement': 0.016806242987513542,\n",
       " 'fear': 0.0020830428693443537,\n",
       " 'gratitude': 0.008103108033537865,\n",
       " 'grief': 0.0008024123962968588,\n",
       " 'joy': 1.755035161972046,\n",
       " 'love': 0.006367245689034462,\n",
       " 'nervousness': 0.006324706133455038,\n",
       " 'optimism': 0.022448161616921425,\n",
       " 'pride': 0.002692650305107236,\n",
       " 'realization': 0.0106966532766819,\n",
       " 'relief': 0.01764233596622944,\n",
       " 'remorse': 0.0015128344530239701,\n",
       " 'sadness': 0.0019827820360660553,\n",
       " 'surprise': 0.003601714503020048,\n",
       " 'neutral': 0.006652467418462038}"
      ]
     },
     "execution_count": 10,
     "metadata": {},
     "output_type": "execute_result"
    }
   ],
   "source": [
    "combined_dict"
   ]
  },
  {
   "cell_type": "code",
   "execution_count": 4,
   "metadata": {},
   "outputs": [
    {
     "data": {
      "text/plain": [
       "['admiration',\n",
       " 'amusement',\n",
       " 'anger',\n",
       " 'annoyance',\n",
       " 'approval',\n",
       " 'caring',\n",
       " 'confusion',\n",
       " 'curiosity',\n",
       " 'desire',\n",
       " 'disappointment',\n",
       " 'disapproval',\n",
       " 'disgust',\n",
       " 'embarrassment',\n",
       " 'excitement',\n",
       " 'fear',\n",
       " 'gratitude',\n",
       " 'grief',\n",
       " 'joy',\n",
       " 'love',\n",
       " 'nervousness',\n",
       " 'optimism',\n",
       " 'pride',\n",
       " 'realization',\n",
       " 'relief',\n",
       " 'remorse',\n",
       " 'sadness',\n",
       " 'surprise',\n",
       " 'neutral']"
      ]
     },
     "execution_count": 4,
     "metadata": {},
     "output_type": "execute_result"
    }
   ],
   "source": [
    "label_list"
   ]
  },
  {
   "cell_type": "code",
   "execution_count": 3,
   "metadata": {},
   "outputs": [],
   "source": [
    "label_list\n",
    "\n",
    "with open('label_list.txt', 'w') as f:\n",
    "    for item in label_list:\n",
    "        f.write(\"%s\\n\" % item)"
   ]
  }
 ],
 "metadata": {
  "kernelspec": {
   "display_name": "tf",
   "language": "python",
   "name": "python3"
  },
  "language_info": {
   "codemirror_mode": {
    "name": "ipython",
    "version": 3
   },
   "file_extension": ".py",
   "mimetype": "text/x-python",
   "name": "python",
   "nbconvert_exporter": "python",
   "pygments_lexer": "ipython3",
   "version": "3.8.16"
  },
  "orig_nbformat": 4
 },
 "nbformat": 4,
 "nbformat_minor": 2
}
