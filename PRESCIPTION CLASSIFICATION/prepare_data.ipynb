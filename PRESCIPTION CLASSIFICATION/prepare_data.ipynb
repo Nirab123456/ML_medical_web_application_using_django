{
 "cells": [
  {
   "cell_type": "code",
   "execution_count": 1,
   "metadata": {},
   "outputs": [],
   "source": [
    "import pandas as pd \n",
    "\n",
    "df = pd.read_csv('django_usp_drug_classification.csv')"
   ]
  },
  {
   "cell_type": "code",
   "execution_count": 3,
   "metadata": {},
   "outputs": [],
   "source": [
    "df = df.applymap(lambda x: str(x).lower())"
   ]
  },
  {
   "cell_type": "code",
   "execution_count": 9,
   "metadata": {},
   "outputs": [],
   "source": [
    "df = df.rename(columns={'drug_example': 'generic_name'})\n"
   ]
  },
  {
   "cell_type": "code",
   "execution_count": 10,
   "metadata": {},
   "outputs": [
    {
     "data": {
      "text/html": [
       "<div>\n",
       "<style scoped>\n",
       "    .dataframe tbody tr th:only-of-type {\n",
       "        vertical-align: middle;\n",
       "    }\n",
       "\n",
       "    .dataframe tbody tr th {\n",
       "        vertical-align: top;\n",
       "    }\n",
       "\n",
       "    .dataframe thead th {\n",
       "        text-align: right;\n",
       "    }\n",
       "</style>\n",
       "<table border=\"1\" class=\"dataframe\">\n",
       "  <thead>\n",
       "    <tr style=\"text-align: right;\">\n",
       "      <th></th>\n",
       "      <th>usp_category</th>\n",
       "      <th>usp_class</th>\n",
       "      <th>usp_drug</th>\n",
       "      <th>generic_name</th>\n",
       "    </tr>\n",
       "  </thead>\n",
       "  <tbody>\n",
       "    <tr>\n",
       "      <th>0</th>\n",
       "      <td>analgesics</td>\n",
       "      <td>nonsteroidal anti-inflammatory drugs</td>\n",
       "      <td>celecoxib</td>\n",
       "      <td>celecoxib</td>\n",
       "    </tr>\n",
       "    <tr>\n",
       "      <th>1</th>\n",
       "      <td>analgesics</td>\n",
       "      <td>nonsteroidal anti-inflammatory drugs</td>\n",
       "      <td>diclofenac</td>\n",
       "      <td>diclofenac potassium</td>\n",
       "    </tr>\n",
       "    <tr>\n",
       "      <th>2</th>\n",
       "      <td>analgesics</td>\n",
       "      <td>nonsteroidal anti-inflammatory drugs</td>\n",
       "      <td>diclofenac</td>\n",
       "      <td>diclofenac sodium</td>\n",
       "    </tr>\n",
       "    <tr>\n",
       "      <th>3</th>\n",
       "      <td>analgesics</td>\n",
       "      <td>nonsteroidal anti-inflammatory drugs</td>\n",
       "      <td>etodolac</td>\n",
       "      <td>etodolac</td>\n",
       "    </tr>\n",
       "    <tr>\n",
       "      <th>4</th>\n",
       "      <td>analgesics</td>\n",
       "      <td>nonsteroidal anti-inflammatory drugs</td>\n",
       "      <td>flurbiprofen</td>\n",
       "      <td>flurbiprofen</td>\n",
       "    </tr>\n",
       "    <tr>\n",
       "      <th>...</th>\n",
       "      <td>...</td>\n",
       "      <td>...</td>\n",
       "      <td>...</td>\n",
       "      <td>...</td>\n",
       "    </tr>\n",
       "    <tr>\n",
       "      <th>485</th>\n",
       "      <td>therapeutic nutrients/minerals/electrolytes</td>\n",
       "      <td>electrolyte/mineral replacement</td>\n",
       "      <td>magnesium</td>\n",
       "      <td>magnesium oxide</td>\n",
       "    </tr>\n",
       "    <tr>\n",
       "      <th>486</th>\n",
       "      <td>therapeutic nutrients/minerals/electrolytes</td>\n",
       "      <td>electrolyte/mineral replacement</td>\n",
       "      <td>magnesium</td>\n",
       "      <td>magnesium sulfate</td>\n",
       "    </tr>\n",
       "    <tr>\n",
       "      <th>487</th>\n",
       "      <td>therapeutic nutrients/minerals/electrolytes</td>\n",
       "      <td>electrolyte/mineral replacement</td>\n",
       "      <td>potassium</td>\n",
       "      <td>potassium chloride</td>\n",
       "    </tr>\n",
       "    <tr>\n",
       "      <th>488</th>\n",
       "      <td>therapeutic nutrients/minerals/electrolytes</td>\n",
       "      <td>electrolyte/mineral replacement</td>\n",
       "      <td>potassium</td>\n",
       "      <td>potassium citrate</td>\n",
       "    </tr>\n",
       "    <tr>\n",
       "      <th>489</th>\n",
       "      <td>therapeutic nutrients/minerals/electrolytes</td>\n",
       "      <td>electrolyte/mineral replacement</td>\n",
       "      <td>sodium</td>\n",
       "      <td>sodium bicarbonate</td>\n",
       "    </tr>\n",
       "  </tbody>\n",
       "</table>\n",
       "<p>490 rows × 4 columns</p>\n",
       "</div>"
      ],
      "text/plain": [
       "                                    usp_category  \\\n",
       "0                                     analgesics   \n",
       "1                                     analgesics   \n",
       "2                                     analgesics   \n",
       "3                                     analgesics   \n",
       "4                                     analgesics   \n",
       "..                                           ...   \n",
       "485  therapeutic nutrients/minerals/electrolytes   \n",
       "486  therapeutic nutrients/minerals/electrolytes   \n",
       "487  therapeutic nutrients/minerals/electrolytes   \n",
       "488  therapeutic nutrients/minerals/electrolytes   \n",
       "489  therapeutic nutrients/minerals/electrolytes   \n",
       "\n",
       "                                usp_class      usp_drug          generic_name  \n",
       "0    nonsteroidal anti-inflammatory drugs     celecoxib             celecoxib  \n",
       "1    nonsteroidal anti-inflammatory drugs    diclofenac  diclofenac potassium  \n",
       "2    nonsteroidal anti-inflammatory drugs    diclofenac     diclofenac sodium  \n",
       "3    nonsteroidal anti-inflammatory drugs      etodolac              etodolac  \n",
       "4    nonsteroidal anti-inflammatory drugs  flurbiprofen          flurbiprofen  \n",
       "..                                    ...           ...                   ...  \n",
       "485       electrolyte/mineral replacement     magnesium       magnesium oxide  \n",
       "486       electrolyte/mineral replacement     magnesium     magnesium sulfate  \n",
       "487       electrolyte/mineral replacement     potassium    potassium chloride  \n",
       "488       electrolyte/mineral replacement     potassium     potassium citrate  \n",
       "489       electrolyte/mineral replacement        sodium    sodium bicarbonate  \n",
       "\n",
       "[490 rows x 4 columns]"
      ]
     },
     "execution_count": 10,
     "metadata": {},
     "output_type": "execute_result"
    }
   ],
   "source": [
    "df"
   ]
  },
  {
   "cell_type": "code",
   "execution_count": 11,
   "metadata": {},
   "outputs": [],
   "source": [
    "df.to_csv('django_usp_drug_classification.csv', index=False)"
   ]
  },
  {
   "cell_type": "code",
   "execution_count": 5,
   "metadata": {},
   "outputs": [
    {
     "data": {
      "text/plain": [
       "125"
      ]
     },
     "execution_count": 5,
     "metadata": {},
     "output_type": "execute_result"
    }
   ],
   "source": [
    "len(df['usp_class'].unique())"
   ]
  },
  {
   "cell_type": "code",
   "execution_count": 7,
   "metadata": {},
   "outputs": [],
   "source": [
    "#save to txt file\n",
    "usp_class_list = df['usp_class'].unique().tolist()\n",
    "with open('usp_class_list.txt', 'w') as f:\n",
    "    for item in usp_class_list:\n",
    "        f.write(\"%s\\n\" % item)"
   ]
  }
 ],
 "metadata": {
  "kernelspec": {
   "display_name": "tf",
   "language": "python",
   "name": "python3"
  },
  "language_info": {
   "codemirror_mode": {
    "name": "ipython",
    "version": 3
   },
   "file_extension": ".py",
   "mimetype": "text/x-python",
   "name": "python",
   "nbconvert_exporter": "python",
   "pygments_lexer": "ipython3",
   "version": "3.8.16"
  },
  "orig_nbformat": 4
 },
 "nbformat": 4,
 "nbformat_minor": 2
}
